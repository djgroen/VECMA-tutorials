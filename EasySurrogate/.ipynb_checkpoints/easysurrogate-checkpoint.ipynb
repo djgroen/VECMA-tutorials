{
 "cells": [
  {
   "cell_type": "markdown",
   "id": "fc5c35d8",
   "metadata": {},
   "source": [
    "# Using EasyVVUQ to generate training data for a forward-UQ  Machine-Learning surrogate\n",
    "\n",
    "Let's start with some definitions:\n",
    "\n",
    "* Forward uncertainty propagation: computing the output distribution of a computational model, given *assumed* probability density functions for the input parameters of the model (see image below). \n",
    "\n",
    "* [EasyVVUQ](https://github.com/UCL-CCS/EasyVVUQ) is VECMA's forward uncertainty propagation toolkit.\n",
    "\n",
    "* Forward surrogate model: an approximation of the input-output map, which can be evaluated at a fraction of the cost of the computational model. \n",
    "\n",
    "* [EasySurrogate](https://github.com/wedeling/EasySurrogate) is VECMA's surrogate modelling toolkit.\n",
    "\n",
    "![](images/forward.png)\n",
    "\n",
    "### Goal \n",
    "\n",
    "Use EasyVVUQ to generate supervised (input parameter, code output) training data on which to train a machine-learning (ML) type of surrogate model. In addition we will\n",
    "\n",
    "* Review some theory behind the sparse-grid methods of EasyVVUQ a ML-method of EasySurrogate.\n",
    "* Spend some time on when you might use ML for building surrogate models.\n",
    "\n",
    "## Installation\n",
    "\n",
    "* EasyVVUQ: via git clone or `pip install easyvvuq`\n",
    "\n",
    "* EasySurrogate: via git clone or `pip install easysurrogate`"
   ]
  },
  {
   "cell_type": "code",
   "execution_count": 31,
   "id": "8863a990",
   "metadata": {},
   "outputs": [],
   "source": [
    "#!pip install easyvvuq"
   ]
  },
  {
   "cell_type": "markdown",
   "id": "b3d8bc45",
   "metadata": {},
   "source": [
    "## Sparse-grid UQ in theory\n",
    "\n",
    "### Making a interpolation-based surrogate with 1 uncertain input parameter"
   ]
  },
  {
   "cell_type": "markdown",
   "id": "1176dd32",
   "metadata": {},
   "source": [
    "\n",
    "Let $f^{(1)}(x)$ be a one-dimensional function. We aim to create an interpolation of $f^{(1)}$, denoted by\n",
    "\n",
    "\\begin{align}\n",
    " I^{(l)}f^{(1)}(x) = \\sum_{i=1}^{m_l} f(x_{i}^{(l)})a^{(l)}_i(x).\n",
    " \\label{eq:sc1d}\n",
    "\\end{align}\n",
    "\n",
    "Here, $l$ is the so-called *level* of the interpolant. It is an index which links to a **one-dimensional** set of collocation points $\\{x^{l}_i\\}$, for $i=1,\\cdots, m_l$. We can select these points from different families, typically they'll be the abscissas of some quadrature rule. For instance, a Clenshaw-Curtis (CC) rule can generate different collocation points in $[0,1]$ such that\n",
    "\n",
    "* Level 1: $x^{(1)}_i \\in \\{0.5\\}$,\n",
    "* Level 2: $x^{(2)}_i \\in \\{0.0, 0.5, 1.0\\}$,\n",
    "* Level 3: $x^{(3)}_i \\in \\{0.0, 0.146, 0.5, 0.854, 1.0\\}$.\n",
    "\n",
    "Note that here, the higher level collocation point sets include all points from previous levels. When this is the case, we say that the quadrature rule is **nested**. This leads to efficient sampling plans in higher dimensions, but nestedness is not a strict requirement for sparse grid interpolation or integration. This does lead to 1D quadrature rules which increase exponentially, such that the number of points is given by\n",
    "\n",
    "\\begin{align}\n",
    " m_l = \n",
    " \\begin{cases}\n",
    "  2^{l-1} + 1 & l > 1 \\\\\n",
    "  1 & l = 1\n",
    " \\end{cases}  \n",
    "\\end{align}\n",
    "\n",
    "Finally, the $a^{(l)}_i(x)$ are the basis functions used for interpolation. In the case of the **Stochastic Collocation** (SC) method, these are often (although not necessarily) the Lagrange interpolation polynomials, given by\n",
    "\n",
    "\\begin{align}\n",
    "a^{(l)}_i(x) = \\prod_{\\substack{1\\leq j \\leq m_l \\\\ j \\neq i}} \\frac{x - x_j}{x_i - x_j}\n",
    "\\end{align}\n",
    "\n",
    "A property of the Lagrange polynomial associated with the i-th collocation point is that $a^{(l)}_i(x_i) = 1$ at this point, and $a^{(l)}_i(x_j) = 0$ at all other collocation points $x_j$. The interpolation $I^{(l)}f^{(1)}$ will therefore exactly reproduce the code outputs $f^{(1)}(x_i)$ at the collocation points $x_i$.\n",
    "\n",
    "Let us define the following difference formulas for interpolation in 1D:\n",
    "\n",
    "\\begin{align}\n",
    " \\Delta^{(l)} f^{(1)} := I^{(l)}f^{(1)} - I^{(l-1)}f^{(1)}\\quad\\mathrm{where}\\quad\n",
    " I^{(0)}f^{(1)}:=0.\n",
    " \\label{eq:Delta1d}\n",
    "\\end{align}\n",
    "\n",
    "That is, $ \\Delta^{(l)} f^{(1)}$ is just the difference between the interpolations at successive levels. These difference formulas are often used in both sparse-grid interpolation (and quadrature), see the figure below.\n",
    "\n",
    "![](images/fig1.png)\n",
    "\n",
    "\n",
    "When interpolating a level $l-1$ interpolant using a level $l$ interpolating we retrieve the former, i.e.\n",
    "\n",
    "\\begin{align}\n",
    " I^{(l)}\\left(I^{(l-1)}f^{(l)}\\right) = I^{(l-1)}f^{(l)}.\n",
    "\\end{align}\n",
    "\n",
    "\n",
    "Thus, a lower level interpolant can be exactly interpolated by a higher level interpolant (which is true for both nested and non-nested collocation points), see Figure below:\n",
    "\n",
    "![](images/fig2.png)\n",
    "*The blue solid line is the exact 1D function $f^{(1)}$. The red striped line is a (non-nested) level $l$ interpolant. The green striped line is a lower-level $l-1$ counterpart, constructed from function evaluations at  the green star symbols.. If we evaluate the level $l-1$ interpolant at the level $l$ collocation, we obtain the blue squares. Clearly, if these function values are used to construct a level $l$ interpolant of $I^{(l-1)}f^{(1)}$, which would be $I^{(l)}\\left(I^{(l-1)}f^{(1)}\\right)$, we just retrieve $I^{(l-1)}f^{(1)}$.*\n",
    "\n",
    "We can therefore write the difference formula as\n",
    "\n",
    "\\begin{align}\n",
    " \\Delta^{(l)}f^{(1)} = I^{(l)}f^{(1)} - I^{(l)}\\left(I^{(l-1)}f^{(1)}\\right) = \\sum_{i = 1}^{m_l}f(x^{(l)}_i)a^{(l)}_i - \\sum_{i=1}^{m_l}I^{(l-1)}f^{(1)}(x^{(l)}_i)a^{(l)}_i = \\nonumber\\\\\n",
    " \\sum_{i=1}^{m_l}\\left[f(x^{(l)}_i) - I^{(l-1)}f^{(1)}(x^{(l)}_i)\\right]a^{(l)}_i = \\sum_{i=1}^{m_l}s^{(l)}_ia^{(l)}_i.\n",
    " \\label{eq:diff0}\n",
    "\\end{align}\n",
    "\n",
    "Here, $w^{(l)}_i:=f(x^{(l)}_i) - I^{(l-1)}f^{(1)}(x^{(l)}_i)$ is the **hierarchical surplus**, defined as the difference between the code output at a collocation point $x^{(l)}_i$ at level $l$, minus the level $l-1$ polynomial approximation of the code output at the same location. This can be thought of as a local measure of the accuracy of the interpolation. Furthermore, we can also write the interpolation $I^{(l)}f^{(1)}(x)$ in terms of the difference formulas, in which case the $a^{l}_i$ basis function will form a hierarchical basis as\n",
    "\n",
    "\\begin{align}\n",
    " I^{(L)}f^{(1)} = \\sum_{l=1}^L \\Delta^{(l)}f^{(1)} = \\sum_{l=1}^L\\sum_{i=1}^{m_l}w^{(l)}_i a^{(l)}_i\n",
    " \\label{eq:diff1}\n",
    "\\end{align}\n",
    "\n",
    "Hence, to obtain a level $L$ interpolant, we can just create a telescopic sum of the difference formulas, which is the first equality above. The second equality is obtained by simply plugging in the formula for $\\Delta^{(l)}f^{(1)}$, and it shows that the $a^{(l)}_i$ form a hierarchical basis due to summation over $l$, which increases the number collocation point $m_l$ at every new level. This is also sketched in the Figure below, which assumes linear basis functions for simplicity.\n",
    "\n",
    "![](images/fig3.png)\n",
    "*Top left is a standard linear (finite-element) basis, with below it a corresponding linear interpolant. Top right displays a linear hierarchical basis. Below it we show a series of 3 hierarchical interpolants ($L=1,2$ and $3$) and the hierarchical surplus coefficients $w^{(l)}_i$ used in their construction. Figure recreated from*\n",
    "\n",
    "**Why should we care?**\n",
    "\n",
    "The formula above is the same as $I^{(l)}f^{(1)}$ in the beginning, as both are 1D interpolation formulas, only written differently, so why should we complicate things with a hierarchical notation? \n",
    "\n",
    "One advantage of adopting the hierarchical notation is that it naturally allows for **refinement**, i.e. adding more points to an existing sampling plan, by adding another level. If we select a nested quadrature rule, adding another level means we only have to evaluate the (expensive) code at a relatively small number of *new* points, the other points are quaranteed to be present in one or more of the previous levels, see the CC example at the beginning of this section.\n",
    "\n",
    "In the case more than one uncertain input, sampling plans are create using **tensor products of 1D collocation points**. Here, **a hierarchical construction leads to a sparse sampling plan**, with much less code evaluations compared to \"standard\" sampling plans.\n",
    "\n",
    "![](images/drawing.png)"
   ]
  },
  {
   "cell_type": "markdown",
   "id": "349030a3",
   "metadata": {},
   "source": [
    "## Sparse-grid UQ in practice\n",
    "\n",
    "### Model description\n",
    "\n",
    "Let's review the basic model. It is a simulation of a vertical deflection of a round metal \n",
    "tube suspended on each end in response to a force applied at certain point ```a``` along its length. \n",
    "Our goal is to determine the influence of the input parameters on the vertical deflection at point ```a```.\n",
    "\n",
    "The usage of the application is:\n",
    "\n",
    "```beam <input_file>```\n",
    "\n",
    "It outputs calculated displacements to a file called `output.json`. Its content will look like \n",
    "\n",
    "```{'g1': x, 'g2': y, 'g3': y}```\n",
    "\n",
    "In order to produce statistically significant results, EasyVVUQ needs to run a number of model evaluations\n",
    " appropriately selecting input arguments from a given sample parameter space. \n",
    " Once selected, input parameters need to be transformed into a format understandable by the application. \n",
    "Our application takes a single file as an input and the transformation may be based on a single template file,\n",
    "called `beam.template`, with the following content:\n",
    "\n",
    "```{\"outfile\": \"$outfile\", \"F\": $F, \"L\": $L, \"a\": $a, \"D\": $D, \"d\": $d, \"E\": $E}```\n",
    "\n",
    "The template will be used to generate files called `input.json` that will be the input to each run of beam.\n",
    "All placeholders (signified by the $ delimeter) will be replaced by concrete values from the sample parameter space. \n",
    "\n",
    "<img src=\"images/simply_supported_beam.png\" width=\"500\" height=\"300\" />\n",
    "\n",
    "The tube has an inner and outer diameter\n",
    "\n",
    "<img src=\"images/tube-diameters.png\" width=\"200\" height=\"100\" />\n",
    "\n",
    "The parameters are self explanatory, and the model is just a simple analytical function, which can be found [here](https://openturns.github.io/openturns/latest/usecases/use_case_deflection_tube.html)."
   ]
  },
  {
   "cell_type": "code",
   "execution_count": 32,
   "id": "9f443ca5",
   "metadata": {},
   "outputs": [],
   "source": [
    "import os\n",
    "import numpy as np\n",
    "import easyvvuq as uq\n",
    "import chaospy as cp\n",
    "import matplotlib.pyplot as plt\n",
    "from easyvvuq.actions import CreateRunDirectory, Encode, Decode, ExecuteLocal, Actions"
   ]
  },
  {
   "cell_type": "code",
   "execution_count": 33,
   "id": "48fa6a80",
   "metadata": {},
   "outputs": [],
   "source": [
    "# the directory in which the code samples will be stored\n",
    "WORK_DIR = '/tmp'"
   ]
  },
  {
   "cell_type": "code",
   "execution_count": 34,
   "id": "c985a8ef",
   "metadata": {},
   "outputs": [],
   "source": [
    "# specify the parameters\n",
    "params = {\n",
    "    \"F\": {\"type\": \"float\", \"default\": 1.0}, \n",
    "    \"L\": {\"type\": \"float\", \"default\": 1.5}, \n",
    "    \"a\": {\"type\": \"float\", \"min\": 0.7, \"max\": 1.2, \"default\": 1.0}, \n",
    "    \"D\": {\"type\": \"float\", \"min\": 0.75, \"max\": 0.85, \"default\": 0.8},\n",
    "    \"d\": {\"type\": \"float\", \"default\": 0.1},\n",
    "    \"E\": {\"type\": \"float\", \"default\": 200000},\n",
    "    \"outfile\": {\"type\": \"string\", \"default\": \"output.json\"}\n",
    "}"
   ]
  },
  {
   "cell_type": "markdown",
   "id": "aa0a57a9",
   "metadata": {},
   "source": [
    "Below we create the encoder and decoder objects that are capable of reading the input and output files that are described above."
   ]
  },
  {
   "cell_type": "code",
   "execution_count": 35,
   "id": "5676e2bf",
   "metadata": {},
   "outputs": [],
   "source": [
    "encoder = uq.encoders.GenericEncoder(template_fname='beam.template', delimiter='$', target_filename='input.json')\n",
    "decoder = uq.decoders.JSONDecoder(target_filename='output.json', output_columns=['g1'])"
   ]
  },
  {
   "cell_type": "markdown",
   "id": "d9df6eb3",
   "metadata": {},
   "source": [
    "As our model is a toy problem, we can execute it locally:"
   ]
  },
  {
   "cell_type": "code",
   "execution_count": 36,
   "id": "c731cd33",
   "metadata": {},
   "outputs": [],
   "source": [
    "execute = ExecuteLocal('{}/beam input.json'.format(os.getcwd()))"
   ]
  },
  {
   "cell_type": "markdown",
   "id": "bd5c9100",
   "metadata": {},
   "source": [
    "However, in many cases the model will be too expensive for local executing. In this case the VECMA tools [QCG-PilotJob](https://github.com/vecma-project/QCG-PilotJob) or [FabSim3](https://github.com/djgroen/FabSim3) can be used in combination with EasyVVUQ to submit the ensemble to HPC resources."
   ]
  },
  {
   "cell_type": "markdown",
   "id": "63870fd6",
   "metadata": {},
   "source": [
    "Now we are combine all actions we want to execute into an Actions object."
   ]
  },
  {
   "cell_type": "code",
   "execution_count": 37,
   "id": "a89c653d",
   "metadata": {},
   "outputs": [],
   "source": [
    "actions = Actions(CreateRunDirectory(root=WORK_DIR, flatten=True), Encode(encoder), execute, Decode(decoder))"
   ]
  },
  {
   "cell_type": "markdown",
   "id": "b2784891",
   "metadata": {},
   "source": [
    "An EasyVVUQ campaign is created, and the parameters and actions are supplied to it."
   ]
  },
  {
   "cell_type": "code",
   "execution_count": 38,
   "id": "a57db561",
   "metadata": {},
   "outputs": [],
   "source": [
    "campaign = uq.Campaign(name='beam_SC', params=params, actions=actions)"
   ]
  },
  {
   "cell_type": "markdown",
   "id": "a1251687",
   "metadata": {},
   "source": [
    "We simply copy the input distributions from [here](https://openturns.github.io/openturns/latest/usecases/use_case_deflection_tube.html):\n",
    "\n",
    "\n",
    "* F: Normal(1,0.1)\n",
    "* L: Normal(1.5,0.01)\n",
    "* a: Uniform(0.7,1.2)\n",
    "* D: Triangular(0.75,0.8,0.85)\n",
    "* d: Triangular(0.09,0.1,0.11)\n",
    "* E: Normal(200000,2000)"
   ]
  },
  {
   "cell_type": "markdown",
   "id": "3553479a",
   "metadata": {},
   "source": [
    "Let's start with just 2 inputs, and visualize the sparse grid. "
   ]
  },
  {
   "cell_type": "code",
   "execution_count": 39,
   "id": "253f00bb",
   "metadata": {},
   "outputs": [],
   "source": [
    "# specify the input distributions of the parameters that we which to vary\n",
    "vary = {\n",
    "    \"F\": cp.Normal(1, 0.1),\n",
    "    \"L\": cp.Normal(1.5, 0.01),\n",
    "    \"a\": cp.Uniform(0.7, 1.2),\n",
    "    \"D\": cp.Triangle(0.75, 0.8, 0.85),\n",
    "    \"d\": cp.Triangle(0.09, 0.1, 0.11),\n",
    "    \"E\": cp.Normal(200000, 2000)\n",
    "}"
   ]
  },
  {
   "cell_type": "markdown",
   "id": "40979e91",
   "metadata": {},
   "source": [
    "Here we select the (sparse) Stochastic Collocation sampler. Increase the `polynomial_order` of the sampler object below to create sparse grids with more levels. Also compare this to a standard non-sparse sampling plan by setting `sparse=False`."
   ]
  },
  {
   "cell_type": "code",
   "execution_count": 40,
   "id": "cd7cc44d",
   "metadata": {},
   "outputs": [
    {
     "name": "stdout",
     "output_type": "stream",
     "text": [
      "Number of sampling points = 1\n"
     ]
    },
    {
     "data": {
      "image/png": "[encoded data removed]",
      "text/plain": [
       "<Figure size 432x288 with 1 Axes>"
      ]
     },
     "metadata": {
      "needs_background": "light"
     },
     "output_type": "display_data"
    }
   ],
   "source": [
    "sampler = uq.sampling.SCSampler(vary=vary, polynomial_order=1, quadrature_rule='C', growth=True, sparse=True)\n",
    "campaign.set_sampler(sampler)\n",
    "\n",
    "# plot the sampling plan of the (first) two input dimensions\n",
    "fig = plt.figure()\n",
    "ax = fig.add_subplot(111, xlabel='x_1', ylabel='x_2')\n",
    "# the xi_d array contains the N x d sampling points, with N being the number of points and d the number of inputs\n",
    "ax.plot(sampler.xi_d[:,0], sampler.xi_d[:, 1], 'ro')\n",
    "# print the number of points to screen\n",
    "print(\"Number of sampling points = %d\" % sampler.n_samples)"
   ]
  },
  {
   "cell_type": "markdown",
   "id": "97c4d977",
   "metadata": {},
   "source": [
    "The command below executes the ensemble and collects the results from the output files."
   ]
  },
  {
   "cell_type": "code",
   "execution_count": 41,
   "id": "3f11bba0",
   "metadata": {},
   "outputs": [
    {
     "name": "stdout",
     "output_type": "stream",
     "text": [
      "Number of sampling points = 13\n"
     ]
    },
    {
     "name": "stderr",
     "output_type": "stream",
     "text": [
      "100%|██████████| 13/13 [00:00<00:00, 19.68it/s]\n"
     ]
    },
    {
     "data": {
      "image/png": "[encoded data removed]",
      "text/plain": [
       "<Figure size 432x288 with 1 Axes>"
      ]
     },
     "metadata": {
      "needs_background": "light"
     },
     "output_type": "display_data"
    }
   ],
   "source": [
    "refine = True\n",
    "if refine:\n",
    "    sampler.next_level_sparse_grid()\n",
    "    # plot the sampling plan of the (first) two input dimensions\n",
    "    fig = plt.figure()\n",
    "    ax = fig.add_subplot(111, xlabel='x_1', ylabel='x_2')\n",
    "    # the xi_d array contains the N x d sampling points, with N being the number of points and d the number of inputs\n",
    "    ax.plot(sampler.xi_d[:,0], sampler.xi_d[:, 1], 'ro')\n",
    "    # print the number of points to screen\n",
    "    print(\"Number of sampling points = %d\" % sampler.n_samples)\n",
    "# execute ensemble\n",
    "campaign.execute().collate(progress_bar=True)"
   ]
  },
  {
   "cell_type": "code",
   "execution_count": 42,
   "id": "b25cfe89",
   "metadata": {},
   "outputs": [],
   "source": [
    "data_frame = campaign.get_collation_result()"
   ]
  },
  {
   "cell_type": "markdown",
   "id": "ba1f02c8",
   "metadata": {},
   "source": [
    "The command below peforms the analysis step by post-processing of the ensemble results."
   ]
  },
  {
   "cell_type": "code",
   "execution_count": 43,
   "id": "156ced34",
   "metadata": {},
   "outputs": [],
   "source": [
    "results = campaign.analyse(qoi_cols=['g1'])"
   ]
  },
  {
   "cell_type": "markdown",
   "id": "0b0ef7a2",
   "metadata": {},
   "source": [
    "Let's plot some Sobol sensitivity indices"
   ]
  },
  {
   "cell_type": "code",
   "execution_count": 44,
   "id": "6fa3d2e0",
   "metadata": {},
   "outputs": [],
   "source": [
    "sobols_first = results.sobols_first()\n",
    "param_names = sobols_first['g1'].keys()\n",
    "sobols_first = np.array(list(sobols_first['g1'].values()))"
   ]
  },
  {
   "cell_type": "code",
   "execution_count": 45,
   "id": "46b505ac",
   "metadata": {},
   "outputs": [
    {
     "data": {
      "image/png": "[encoded data removed]",
      "text/plain": [
       "<Figure size 288x576 with 1 Axes>"
      ]
     },
     "metadata": {
      "needs_background": "light"
     },
     "output_type": "display_data"
    }
   ],
   "source": [
    "fig = plt.figure(figsize=[4, 8])\n",
    "ax = fig.add_subplot(111)\n",
    "ax.set_ylabel(r'first-order Sobol index', fontsize=14)\n",
    "# find max quad order for every parameter\n",
    "ax.bar(range(sobols_first.size), height=sobols_first.flatten())\n",
    "ax.set_xticks(range(sobols_first.size))\n",
    "ax.set_xticklabels(param_names)\n",
    "plt.xticks(rotation=90)\n",
    "plt.tight_layout()"
   ]
  },
  {
   "cell_type": "markdown",
   "id": "38eefbb4",
   "metadata": {},
   "source": [
    "Now, try the same the same thing with all 6 parameters included in `vary`. Refine the grid multiple times to get an idea of the cost involved."
   ]
  },
  {
   "cell_type": "markdown",
   "id": "8caef3a8",
   "metadata": {},
   "source": [
    "Notice that it can still become expensive. In the standard SC method, the number of code evaluations equals $m^d$, where $m$ is the number of points in 1D, and $d$ is the number of uncertain inputs. In the case of sparse grids, the exponent $d$ is applied of $log(m)$ instead of $m$. Hence the cost still rises exponentially, although not as fast as with the standard SC method. This makes it possible to increase the number of inputs somewhat, but not really significantly.\n",
    "\n",
    "So what can you do if you have 20, 30 or more inputs? One option is to still use a hierarchical sparse-grid construction, but try to refine only those inputs which have a significant impact on the output. Here, we have refined all parameters to the same extent.\n",
    "\n",
    "Another option, which will discuss below, is to use machine learning to create a surrogate model, trained on input-output data."
   ]
  },
  {
   "cell_type": "markdown",
   "id": "c381f9d5",
   "metadata": {},
   "source": [
    "## Deep active subspaces in theory\n",
    "\n",
    "\n",
    "The Active Subspace method, introduced by [1], is a class of methods for forward propagation of uncertainty in high-dimensional input spaces. It attempts to circumvent the curse of dimensionality by dimension reduction of the input space. Specifically, it projects the input vector ${\\bf x}\\in\\mathbb{R}^D$ to a lower-dimensional subspace ${\\bf y}\\in\\mathbb{R}^d$, via a tall-and-skinny matrix $W_1\\in\\mathbb{R}^{D\\times d}$ of orthogonal basis vectors, such that $W_1^TW_1 = I_d$, where $d<D$ and $I_d$ is the $d$-dimensional identity matrix. The active subspace is thus given by\n",
    "\n",
    "\\begin{align}\n",
    "{\\bf y} = W_1^T{\\bf x} \\in\\mathbb{R}^d,\n",
    "\\label{eq:active}\n",
    "\\end{align}\n",
    "\\noindent\n",
    "where the main idea is that the dimension reduction simplifies the task of obtaining an accurate surrogate model. If we denote this surrogate by $g$, we thus want to find a model that satisfies\n",
    "\n",
    "\\begin{align}\n",
    "f({\\bf x})\\approx g\\left({\\bf y}\\right) = g\\left(W_1^T{\\\n",
    "\\bf x}\\right).\n",
    "\\label{eq:g}\n",
    "\\end{align}\n",
    "\n",
    "### Classical means of finding $W_1$\n",
    "\n",
    "Because ${\\bf y}$ is a linear transformation of the inputs ${\\bf x}$, it opens up the possibility of findings directions along which the model varies most. This is especially useful if a model varies significantly in a direction that is not aligned with the coordinate axes of ${\\bf x}$. In \"classical\" active subspaces, dimension reduction is achieved by rotating the coordinate system such that it is aligned with the directions of most variability, after which only the most dominant directions are retained. To find these directions, the following average gradient matrix is constructed:\n",
    "\n",
    "\\begin{align}\n",
    " C = \\int \\left(\\nabla f\\left({\\bf x}\\right)\\right)\\left(\\nabla f\\left({\\bf x}\\right)\\right)^T p(\\bf x)d{\\bf x}\n",
    " \\label{eq:C}\n",
    "\\end{align}\n",
    "\\noindent\n",
    "Here, $p({\\bf x})$ is the chosen probability density function (pdf) of the inputs ${\\bf x}$. Since $C$ is a symmetric, positive semi-definite matrix, it has the following spectral decomposition\n",
    "\n",
    "\\begin{align*}\n",
    " C = [W_1 W_2]\\left[\n",
    "\\begin{matrix}\n",
    "\\Lambda_1 & 0 \\\\\n",
    "0 & \\Lambda_2\n",
    "\\end{matrix} \n",
    " \\right][W_1 W_2]^T.\n",
    "\\end{align*}\n",
    "\n",
    "Hence the matrix $W_1$, used to project ${\\bf x}$ to ${\\bf y}$ in, are the first $d$ eigenvectors of $C$, which in turn correspond to the $d$ largest eigenvalues in $\\Lambda_1$. These $d$ eigenvectors form an orthonormal basis aligned with the directions of most variability. Note that $C$ is averaged over $p({\\bf x})$, and that in practise, the integral in in $C$ is often approximated using a Monte Carlo approach.\n",
    "\n",
    "The approach described here is intuitive, and has nice theoretical properties, such as computable error bounds. The downside however, is that the gradient $\\nabla f({\\bf x})$ must be available. This requires the availability of an adjoint solver, or one must approximate the gradients using for instance finite differences. This downside has prompted the development of other active subspace methods which do not require access to the gradient. Some of these methods involve Gaussian processes, whereas others use deep learning. We will focus on the latter.\n",
    "\n",
    "### Deep active subspaces\n",
    "\n",
    "In [2], an approach is described in which artificial neural networks (ANNs) are used for $g$, and where $W_1$ is found using back propagation. Like the classical active subspace method, the construction ${\\bf y} = W_1^T{\\bf x}$ is retained. Moreover, the column vectors of $W_1$ still form an orthogonal basis. The difference is that the column vectors of $W_1$ are no longer the eigenvectors of the gradient matrix $C$, but instead are constructed using Gram-Schmidt orthogonalization. As such, $W_1$ is parametrized by a matrix $Q$ of the same dimension ($\\in\\mathrm{R}^{D\\times d}$), where the non-orthonormal column vectors ${\\bf q}_i\\in\\mathbb{R}^D$ are made orthonormal via\n",
    "\n",
    "\\begin{align}\n",
    " {\\bf w}_i = {\\bf q}_i - \\sum_{j=1}^{i-1}\\left(\\frac{{\\bf w}_j^T{\\bf q}_i}{{\\bf w}_j^T{\\bf w}_j}\\right){\\bf w}_j, \\quad i = 1,\\cdots, d.\n",
    " \\label{eq:GS}\n",
    "\\end{align}\n",
    "\n",
    "That is, we start with ${\\bf w}_1 := {\\bf q}_1$, and for all subsequent vectors ${\\bf q}_i$ we subtract the projections of ${\\bf q}_i$ onto each vector ${\\bf w}_j$ which has previously been orthogonalized. This leaves us with a orthogonal basis $ \\left[{\\bf w}_1({\\bf q}_1)\\;\\;{\\bf w}_2({\\bf q}_1, {\\bf q}_2)\\;\\;\\cdots\\;\\;{\\bf w}_d({\\bf q}_1,{\\bf q}_2\\,\\cdots,{\\bf q}_d)\\right]$. Finally, to obtain an orthonormal basis, each column vector is divided by its length. such that our final weight matrix becomes\n",
    "\n",
    "\\begin{align}\n",
    "W_1(Q) = \\left[\\frac{{\\bf w}_1({\\bf q}_1)}{\\lVert{\\bf w}_1({\\bf q}_1)\\rVert_2}\\;\\;\\frac{{\\bf w}_2({\\bf q}_1, {\\bf q}_2)}{\\lVert{\\bf w}_2({\\bf q}_1, {\\bf q}_2)\\rVert_2}\\;\\;\\cdots\\;\\;\\frac{{\\bf w}_d({\\bf q}_1,{\\bf q}_2\\,\\cdots,{\\bf q}_d)}{\\lVert{\\bf w}_d({\\bf q}_1,{\\bf q}_2\\,\\cdots,{\\bf q}_d)\\rVert_2}\\right].\n",
    "\\label{eq:W1}\n",
    "\\end{align}\n",
    "\n",
    "Note that the projection ${\\bf y} = \\Phi\\left(W_1^T{\\bf x}\\right) = W_1^T{\\bf x}$ also occurs in a layer of a neural network if the activation function $\\Phi\\left(\\cdot\\right)$ is linear. Thus, we can interpret the matrix $W_1$ as a weight matrix of the first hidden layer (with $d$ neurons and linear activation), connected to an input layer through which ${\\bf x}$ is passed. Each column vector ${\\bf w}_i$ contains the all weights connecting the input layer to the i-th neuron of the first hidden layer, see the figure below. Since the first hidden layer has only $d$ neurons, and its weight matrix is determined from a Gram-Schmidt procedure, we call the layer the Deep Active Subspace (DAS) layer.\n",
    "\n",
    "<img src=\"images/nn1.png\" width=700 height=700>\n",
    "\n",
    "The surrogate $g({\\bf y})$ is the ANN from the DAS layer onward, see the figure below. Each hidden layer has a weight matrix $W_i\\in\\mathbb{R}^{p + 1\\times p}$, assuming that all hidden layers have $p$ neurons plus 1 bias neuron. As per usual, these weight matrices are optimized through the back propagation algorithm, in which the gradient $\\partial L/\\partial W_i$ is computed, where $L$ is the loss function.\n",
    "\n",
    "<img src=\"images/nn2.png\" width=700 height=700>\n",
    "\n",
    "The situation in the DAS layer is different. Since $W_1=W_1(Q)$, we need to optimize $Q$ instead of the weight matrix, and therefore back propagation requires $\\partial L/\\partial Q$ instead of $\\partial L/\\partial W_1$. The authors of [2] suggest to use automatic differentiation. This does make sense, since although ${\\bf w}_k/\\Vert {\\bf w}_k \\rVert_2$ is algebraic and differentiable, it quickly becomes a complicated expression involving a very large number of $q_{ij}$ terms. Here, $q_{ij}$ are the $D$ entries, $i=1,\\cdots,D$, of ${\\bf q}_j$. That said, it is possible to use matrix calculus to find a simple expression for $\\partial L /\\partial Q$, which is the approach implemented in EasySurrogate."
   ]
  },
  {
   "cell_type": "markdown",
   "id": "30ba85e3",
   "metadata": {},
   "source": [
    "## Deep active subspaces in practise\n",
    "\n",
    "We will use EasyVVUQ with a Latin Hypercube (LHC) space filling design to sample the code. This will serve as training data for EasySurrogate. We will create a new campaign and LHC sampler, and reuse all previously defined `actions`."
   ]
  },
  {
   "cell_type": "code",
   "execution_count": 46,
   "id": "cb0601f7",
   "metadata": {},
   "outputs": [
    {
     "name": "stderr",
     "output_type": "stream",
     "text": [
      "100%|██████████| 500/500 [00:24<00:00, 20.44it/s]\n"
     ]
    }
   ],
   "source": [
    "LHC_campaign = uq.Campaign(name='beam_LHC', params=params, actions=actions)\n",
    "LHC_sampler = uq.sampling.quasirandom.LHCSampler(vary, max_num=500)\n",
    "LHC_campaign.set_sampler(LHC_sampler)\n",
    "LHC_campaign.execute().collate(progress_bar=True)"
   ]
  },
  {
   "cell_type": "code",
   "execution_count": 56,
   "id": "fe552259",
   "metadata": {},
   "outputs": [
    {
     "data": {
      "text/html": [
       "<div>\n",
       "<style scoped>\n",
       "    .dataframe tbody tr th:only-of-type {\n",
       "        vertical-align: middle;\n",
       "    }\n",
       "\n",
       "    .dataframe tbody tr th {\n",
       "        vertical-align: top;\n",
       "    }\n",
       "\n",
       "    .dataframe thead tr th {\n",
       "        text-align: left;\n",
       "    }\n",
       "</style>\n",
       "<table border=\"1\" class=\"dataframe\">\n",
       "  <thead>\n",
       "    <tr>\n",
       "      <th></th>\n",
       "      <th>run_id</th>\n",
       "      <th>iteration</th>\n",
       "      <th>F</th>\n",
       "      <th>L</th>\n",
       "      <th>a</th>\n",
       "      <th>D</th>\n",
       "      <th>d</th>\n",
       "      <th>E</th>\n",
       "      <th>outfile</th>\n",
       "      <th>g1</th>\n",
       "    </tr>\n",
       "    <tr>\n",
       "      <th></th>\n",
       "      <th>0</th>\n",
       "      <th>0</th>\n",
       "      <th>0</th>\n",
       "      <th>0</th>\n",
       "      <th>0</th>\n",
       "      <th>0</th>\n",
       "      <th>0</th>\n",
       "      <th>0</th>\n",
       "      <th>0</th>\n",
       "      <th>0</th>\n",
       "    </tr>\n",
       "  </thead>\n",
       "  <tbody>\n",
       "    <tr>\n",
       "      <th>0</th>\n",
       "      <td>1</td>\n",
       "      <td>0</td>\n",
       "      <td>1.094992</td>\n",
       "      <td>1.490664</td>\n",
       "      <td>0.755233</td>\n",
       "      <td>0.845536</td>\n",
       "      <td>0.096774</td>\n",
       "      <td>201479.796224</td>\n",
       "      <td>output.json</td>\n",
       "      <td>-0.000007</td>\n",
       "    </tr>\n",
       "    <tr>\n",
       "      <th>1</th>\n",
       "      <td>2</td>\n",
       "      <td>0</td>\n",
       "      <td>0.886691</td>\n",
       "      <td>1.490311</td>\n",
       "      <td>1.028303</td>\n",
       "      <td>0.827500</td>\n",
       "      <td>0.103186</td>\n",
       "      <td>197998.542488</td>\n",
       "      <td>output.json</td>\n",
       "      <td>-0.000005</td>\n",
       "    </tr>\n",
       "    <tr>\n",
       "      <th>2</th>\n",
       "      <td>3</td>\n",
       "      <td>0</td>\n",
       "      <td>0.966875</td>\n",
       "      <td>1.493570</td>\n",
       "      <td>1.121844</td>\n",
       "      <td>0.792008</td>\n",
       "      <td>0.103868</td>\n",
       "      <td>201520.561090</td>\n",
       "      <td>output.json</td>\n",
       "      <td>-0.000005</td>\n",
       "    </tr>\n",
       "    <tr>\n",
       "      <th>3</th>\n",
       "      <td>4</td>\n",
       "      <td>0</td>\n",
       "      <td>1.002871</td>\n",
       "      <td>1.500190</td>\n",
       "      <td>0.973751</td>\n",
       "      <td>0.794313</td>\n",
       "      <td>0.108033</td>\n",
       "      <td>196869.159408</td>\n",
       "      <td>output.json</td>\n",
       "      <td>-0.000008</td>\n",
       "    </tr>\n",
       "    <tr>\n",
       "      <th>4</th>\n",
       "      <td>5</td>\n",
       "      <td>0</td>\n",
       "      <td>1.256891</td>\n",
       "      <td>1.477207</td>\n",
       "      <td>1.126158</td>\n",
       "      <td>0.793537</td>\n",
       "      <td>0.101286</td>\n",
       "      <td>199911.631541</td>\n",
       "      <td>output.json</td>\n",
       "      <td>-0.000006</td>\n",
       "    </tr>\n",
       "    <tr>\n",
       "      <th>...</th>\n",
       "      <td>...</td>\n",
       "      <td>...</td>\n",
       "      <td>...</td>\n",
       "      <td>...</td>\n",
       "      <td>...</td>\n",
       "      <td>...</td>\n",
       "      <td>...</td>\n",
       "      <td>...</td>\n",
       "      <td>...</td>\n",
       "      <td>...</td>\n",
       "    </tr>\n",
       "    <tr>\n",
       "      <th>495</th>\n",
       "      <td>496</td>\n",
       "      <td>0</td>\n",
       "      <td>0.880451</td>\n",
       "      <td>1.507228</td>\n",
       "      <td>0.803122</td>\n",
       "      <td>0.782912</td>\n",
       "      <td>0.098531</td>\n",
       "      <td>199231.226591</td>\n",
       "      <td>output.json</td>\n",
       "      <td>-0.000008</td>\n",
       "    </tr>\n",
       "    <tr>\n",
       "      <th>496</th>\n",
       "      <td>497</td>\n",
       "      <td>0</td>\n",
       "      <td>0.965380</td>\n",
       "      <td>1.500089</td>\n",
       "      <td>0.851463</td>\n",
       "      <td>0.800468</td>\n",
       "      <td>0.104481</td>\n",
       "      <td>202212.165164</td>\n",
       "      <td>output.json</td>\n",
       "      <td>-0.000008</td>\n",
       "    </tr>\n",
       "    <tr>\n",
       "      <th>497</th>\n",
       "      <td>498</td>\n",
       "      <td>0</td>\n",
       "      <td>0.955563</td>\n",
       "      <td>1.504487</td>\n",
       "      <td>0.915401</td>\n",
       "      <td>0.815051</td>\n",
       "      <td>0.094144</td>\n",
       "      <td>203055.185404</td>\n",
       "      <td>output.json</td>\n",
       "      <td>-0.000007</td>\n",
       "    </tr>\n",
       "    <tr>\n",
       "      <th>498</th>\n",
       "      <td>499</td>\n",
       "      <td>0</td>\n",
       "      <td>1.058623</td>\n",
       "      <td>1.503931</td>\n",
       "      <td>0.890209</td>\n",
       "      <td>0.835298</td>\n",
       "      <td>0.099811</td>\n",
       "      <td>197383.111930</td>\n",
       "      <td>output.json</td>\n",
       "      <td>-0.000007</td>\n",
       "    </tr>\n",
       "    <tr>\n",
       "      <th>499</th>\n",
       "      <td>500</td>\n",
       "      <td>0</td>\n",
       "      <td>0.972310</td>\n",
       "      <td>1.502029</td>\n",
       "      <td>0.836321</td>\n",
       "      <td>0.777297</td>\n",
       "      <td>0.104571</td>\n",
       "      <td>202096.700199</td>\n",
       "      <td>output.json</td>\n",
       "      <td>-0.000009</td>\n",
       "    </tr>\n",
       "  </tbody>\n",
       "</table>\n",
       "<p>500 rows × 10 columns</p>\n",
       "</div>"
      ],
      "text/plain": [
       "    run_id iteration         F         L         a         D         d  \\\n",
       "         0         0         0         0         0         0         0   \n",
       "0        1         0  1.094992  1.490664  0.755233  0.845536  0.096774   \n",
       "1        2         0  0.886691  1.490311  1.028303  0.827500  0.103186   \n",
       "2        3         0  0.966875  1.493570  1.121844  0.792008  0.103868   \n",
       "3        4         0  1.002871  1.500190  0.973751  0.794313  0.108033   \n",
       "4        5         0  1.256891  1.477207  1.126158  0.793537  0.101286   \n",
       "..     ...       ...       ...       ...       ...       ...       ...   \n",
       "495    496         0  0.880451  1.507228  0.803122  0.782912  0.098531   \n",
       "496    497         0  0.965380  1.500089  0.851463  0.800468  0.104481   \n",
       "497    498         0  0.955563  1.504487  0.915401  0.815051  0.094144   \n",
       "498    499         0  1.058623  1.503931  0.890209  0.835298  0.099811   \n",
       "499    500         0  0.972310  1.502029  0.836321  0.777297  0.104571   \n",
       "\n",
       "                 E      outfile        g1  \n",
       "                 0            0         0  \n",
       "0    201479.796224  output.json -0.000007  \n",
       "1    197998.542488  output.json -0.000005  \n",
       "2    201520.561090  output.json -0.000005  \n",
       "3    196869.159408  output.json -0.000008  \n",
       "4    199911.631541  output.json -0.000006  \n",
       "..             ...          ...       ...  \n",
       "495  199231.226591  output.json -0.000008  \n",
       "496  202212.165164  output.json -0.000008  \n",
       "497  203055.185404  output.json -0.000007  \n",
       "498  197383.111930  output.json -0.000007  \n",
       "499  202096.700199  output.json -0.000009  \n",
       "\n",
       "[500 rows x 10 columns]"
      ]
     },
     "execution_count": 56,
     "metadata": {},
     "output_type": "execute_result"
    }
   ],
   "source": [
    "data_frame = LHC_campaign.get_collation_result()\n",
    "data_frame"
   ]
  },
  {
   "cell_type": "markdown",
   "id": "397f524c",
   "metadata": {},
   "source": [
    "To install EasySurrogate, uncomment the line below."
   ]
  },
  {
   "cell_type": "code",
   "execution_count": 48,
   "id": "278404ab",
   "metadata": {},
   "outputs": [],
   "source": [
    "#!pip install easysurrogate"
   ]
  },
  {
   "cell_type": "markdown",
   "id": "a2d2bb5e",
   "metadata": {},
   "source": [
    "### Training"
   ]
  },
  {
   "cell_type": "code",
   "execution_count": 49,
   "id": "bd7ca2c3",
   "metadata": {},
   "outputs": [],
   "source": [
    "import easysurrogate as es"
   ]
  },
  {
   "cell_type": "markdown",
   "id": "f60e96ba",
   "metadata": {},
   "source": [
    "EasySurrogate has a design somewhat similar to EasyVVUQ. The main object is also a Campaign, and the different surrogate methods are the counterparts to the different samplers in EasyVVUQ. To create an EasySurrogate campaign, simply type:"
   ]
  },
  {
   "cell_type": "code",
   "execution_count": 57,
   "id": "0bf286eb",
   "metadata": {},
   "outputs": [],
   "source": [
    "surr_campaign = es.Campaign()"
   ]
  },
  {
   "cell_type": "markdown",
   "id": "5abaf314",
   "metadata": {},
   "source": [
    "The EasySurrogate campaign can read the data (input paramater values and code samples) from an EasyVVUQ campaign:"
   ]
  },
  {
   "cell_type": "code",
   "execution_count": 62,
   "id": "2ca93cd3",
   "metadata": {},
   "outputs": [
    {
     "name": "stdout",
     "output_type": "stream",
     "text": [
      "Extracting features ['F', 'L', 'a', 'D', 'd', 'E']\n",
      "Extracting output data ['g1'] \n"
     ]
    }
   ],
   "source": [
    "# read the data input-output data from the LHC campaign \n",
    "params, samples = surr_campaign.load_easyvvuq_data(LHC_campaign, ['g1'])\n",
    "# samples is a dict with the QoI names as keys. Turn it into an array\n",
    "samples = samples['g1']"
   ]
  },
  {
   "cell_type": "markdown",
   "id": "494a44e0",
   "metadata": {},
   "source": [
    "The `d` parameter (the dimension of the DAS layer, and thus the dimension of the active subspace) is a **hyperparameter that should be tuned**. Here we will just set it to 2."
   ]
  },
  {
   "cell_type": "code",
   "execution_count": 68,
   "id": "e70492a2",
   "metadata": {},
   "outputs": [],
   "source": [
    "# the total number of inputs\n",
    "D = len(vary)\n",
    "# the assumed dimension of the active subspace\n",
    "d = 2"
   ]
  },
  {
   "cell_type": "markdown",
   "id": "983b00e4",
   "metadata": {},
   "source": [
    "Here we create a DAS surrogate object and train it on the EasyVVUQ data. `n_iter` is the number of mini batch iterations, `n_layers` the number of layers, not counting the input layer, `n_neurons` is the number of neurons per hidden layer. Finally, `test_frac` is a number between 0 and 1 that reserves the last `test_frac` percent of the data for testing, thereby training the network on the first `1-test_frac` percent of the data."
   ]
  },
  {
   "cell_type": "code",
   "execution_count": 64,
   "id": "7f44973e",
   "metadata": {},
   "outputs": [
    {
     "name": "stdout",
     "output_type": "stream",
     "text": [
      "Creating DAS_Surrogate Object\n",
      "Creating Feature Engineering object\n",
      "Using  400/500 samples to train the ML model\n",
      "done preparing data\n",
      "===============================\n",
      "Neural net parameters\n",
      "===============================\n",
      "Number of layers = 4\n",
      "Number of features = 6\n",
      "Loss function = squared\n",
      "Number of neurons per hidden layer = 100\n",
      "Number of output neurons = 1\n",
      "Activation hidden layers = tanh\n",
      "Activation output layer = linear\n",
      "This neural network has 10513 weights.\n",
      "===============================\n",
      "===============================\n",
      "Training Deep Active Subspace Neural Network...\n",
      "Batch 0 learning rate 0.001 loss: 0.8085568133409424\n",
      "Batch 1000 learning rate 0.001 loss: 0.0020731321774855637\n",
      "Batch 2000 learning rate 0.001 loss: 0.00047548073876082554\n",
      "Batch 3000 learning rate 0.001 loss: 0.0007470689283319144\n",
      "Batch 4000 learning rate 0.001 loss: 0.00042624370487945296\n",
      "Batch 5000 learning rate 0.001 loss: 0.0006457126919911522\n",
      "Batch 6000 learning rate 0.001 loss: 0.0005848219314713439\n",
      "Batch 7000 learning rate 0.001 loss: 0.0006035459631285602\n",
      "Batch 8000 learning rate 0.001 loss: 0.00045175463656569714\n",
      "Batch 9000 learning rate 0.001 loss: 0.0009853296907760668\n"
     ]
    }
   ],
   "source": [
    "surrogate = es.methods.DAS_Surrogate()\n",
    "surrogate.train(params, samples, d, n_iter=10000, n_layers=4, n_neurons=100, test_frac = 0.2)"
   ]
  },
  {
   "cell_type": "markdown",
   "id": "0f3a3e7e",
   "metadata": {},
   "source": [
    "`dims` is a dictionary which contains useful dimensions of the DAS surrogate:"
   ]
  },
  {
   "cell_type": "code",
   "execution_count": 65,
   "id": "3914e8d4",
   "metadata": {},
   "outputs": [
    {
     "data": {
      "text/plain": [
       "dict_keys(['n_train', 'n_samples', 'n_test', 'D', 'd', 'n_out'])"
      ]
     },
     "execution_count": 65,
     "metadata": {},
     "output_type": "execute_result"
    }
   ],
   "source": [
    "dims = surrogate.get_dimensions()\n",
    "dims.keys()"
   ]
  },
  {
   "cell_type": "markdown",
   "id": "ea77306f",
   "metadata": {},
   "source": [
    "### Prediction"
   ]
  },
  {
   "cell_type": "markdown",
   "id": "5f2dc239",
   "metadata": {},
   "source": [
    "We now test the accuracy of the surrogate on both the training and testing data"
   ]
  },
  {
   "cell_type": "code",
   "execution_count": 73,
   "id": "fdd17a59",
   "metadata": {},
   "outputs": [
    {
     "name": "stdout",
     "output_type": "stream",
     "text": [
      "Relative error on training set = 0.0069\n",
      "Relative error on test set = 0.0107\n"
     ]
    },
    {
     "data": {
      "image/png": "[encoded data removed]",
      "text/plain": [
       "<Figure size 576x288 with 2 Axes>"
      ]
     },
     "metadata": {
      "needs_background": "light"
     },
     "output_type": "display_data"
    }
   ],
   "source": [
    "fig = plt.figure(figsize=[8, 4])\n",
    "\n",
    "# run the trained model forward at training locations\n",
    "n_mc = dims['n_train']\n",
    "pred = np.zeros([n_mc, dims['n_out']])\n",
    "for i in range(n_mc):\n",
    "    pred[i,:] = surrogate.predict(params[i])\n",
    "    \n",
    "# compute the relative error using the training data\n",
    "train_data = samples[0:dims['n_train']]\n",
    "rel_err_train = np.linalg.norm(train_data - pred)/np.linalg.norm(train_data)\n",
    "\n",
    "ax = fig.add_subplot(121, title='training set')\n",
    "ax.plot(train_data, 'ro')\n",
    "ax.plot(pred, 'b+')\n",
    "\n",
    "# run the trained model forward at test locations\n",
    "pred = np.zeros([dims['n_test'], dims['n_out']])\n",
    "for idx, i in enumerate(range(dims['n_train'], dims['n_samples'])):\n",
    "    pred[idx] = surrogate.predict(params[i])\n",
    "test_data = samples[dims['n_train']:]\n",
    "\n",
    "ax = fig.add_subplot(122, title='test set')\n",
    "ax.plot(test_data, 'ro', label='data')\n",
    "ax.plot(pred, 'b+', label='prediction')\n",
    "ax.legend()\n",
    "\n",
    "# compute the relative error using the test data\n",
    "rel_err_test = np.linalg.norm(test_data - pred)/np.linalg.norm(test_data)\n",
    "\n",
    "print('Relative error on training set = %.4f' % rel_err_train)\n",
    "print('Relative error on test set = %.4f' % rel_err_test)"
   ]
  },
  {
   "cell_type": "markdown",
   "id": "62fc0f9d",
   "metadata": {},
   "source": [
    "### Sensitivity estimates"
   ]
  },
  {
   "cell_type": "markdown",
   "id": "dc14a7a9",
   "metadata": {},
   "source": [
    "Similar to EasyVVUQ, each surrogate has its own Analysis object"
   ]
  },
  {
   "cell_type": "code",
   "execution_count": 67,
   "id": "0baee12e",
   "metadata": {},
   "outputs": [
    {
     "name": "stdout",
     "output_type": "stream",
     "text": [
      "Creating DAS_analysis object\n"
     ]
    }
   ],
   "source": [
    "analysis = es.analysis.DAS_analysis(surrogate)\n"
   ]
  },
  {
   "cell_type": "markdown",
   "id": "eed6af10",
   "metadata": {},
   "source": [
    "As a final note, let us highlight an *experimental* sensitivity measure, extracted from the DAS surrogate. EasyVVUQ provides global variance-based sensitivity measures, i.e. the Sobol indices. Somewhat related to this are global derivative-based sensitivity measures [3]. Consider for instance the following integral:\n",
    "\n",
    "![equation](https://latex.codecogs.com/gif.latex?V_i%20%3D%20%5Cint%20%5Cleft%28%5Cfrac%7B%5Cpartial%20%5ClVert%20f%28%7B%5Cbf%20x%7D%29%29%5CrVert_2%5E2%7D%7B%5Cpartial%20x_i%7D%5Cright%29%5E2p%28%7B%5Cbf%20x%7D%29d%7B%5Cbf%20x%7D%2C%20%5Cquad%5Cquad%20i%3D1%2C%5Ccdots%2C%20D)\n",
    "\n",
    "Local sensivity measures are based on the derivative at a certain point. The integral above integrates a derivative over the domain of the joint input pdf, making it a global method. The derivative of the (L2 norm of) the output can be quickly computed analytically using back propagation. As such, we can approximate the integral above using a brute-force Monte Carlo approach. The following code achieves this:"
   ]
  },
  {
   "cell_type": "code",
   "execution_count": 89,
   "id": "6959fb55",
   "metadata": {},
   "outputs": [
    {
     "name": "stdout",
     "output_type": "stream",
     "text": [
      "Parameters ordered from most to least important:\n",
      "[[2 0 3 1 5 4]]\n"
     ]
    }
   ],
   "source": [
    "# select the number of MC samples to compute from the surrogate\n",
    "n_mc = 10**4\n",
    "# draw n_mc random samples from every input distribution in vary\n",
    "param_mc_samples = np.array([p.sample(n_mc) for p in vary.values()]).T\n",
    "# compute the derivative-based global sensitivity integral via MC. Returns the ordered indices of the most \n",
    "# to least influential inputs and the sensitivity value.\n",
    "idx, V_i = analysis.sensitivity_measures(param_mc_samples)\n",
    "params_ordered = np.array(list(vary.keys()))[idx[0]]"
   ]
  },
  {
   "cell_type": "code",
   "execution_count": 90,
   "id": "b8361c3d",
   "metadata": {},
   "outputs": [
    {
     "data": {
      "image/png": "[encoded data removed]",
      "text/plain": [
       "<Figure size 288x576 with 1 Axes>"
      ]
     },
     "metadata": {
      "needs_background": "light"
     },
     "output_type": "display_data"
    }
   ],
   "source": [
    "fig = plt.figure('sensitivity', figsize=[4, 8])\n",
    "ax = fig.add_subplot(111)\n",
    "ax.set_ylabel(r'$\\int\\frac{\\partial ||y||^2_2}{\\partial x_i}p({\\bf x})d{\\bf x}$', fontsize=14)\n",
    "ax.bar(range(V_i.size), height = V_i[idx].flatten())\n",
    "ax.set_xticks(range(V_i.size))\n",
    "ax.set_xticklabels(params_ordered)\n",
    "plt.xticks(rotation=90)\n",
    "plt.tight_layout()"
   ]
  },
  {
   "cell_type": "markdown",
   "id": "a6755e34",
   "metadata": {},
   "source": [
    "## Higher dimensions"
   ]
  },
  {
   "cell_type": "code",
   "execution_count": 103,
   "id": "1da2ed00",
   "metadata": {},
   "outputs": [
    {
     "name": "stderr",
     "output_type": "stream",
     "text": [
      "100%|██████████| 1000/1000 [00:48<00:00, 20.59it/s]\n"
     ]
    },
    {
     "data": {
      "text/html": [
       "<div>\n",
       "<style scoped>\n",
       "    .dataframe tbody tr th:only-of-type {\n",
       "        vertical-align: middle;\n",
       "    }\n",
       "\n",
       "    .dataframe tbody tr th {\n",
       "        vertical-align: top;\n",
       "    }\n",
       "\n",
       "    .dataframe thead tr th {\n",
       "        text-align: left;\n",
       "    }\n",
       "</style>\n",
       "<table border=\"1\" class=\"dataframe\">\n",
       "  <thead>\n",
       "    <tr>\n",
       "      <th></th>\n",
       "      <th>run_id</th>\n",
       "      <th>iteration</th>\n",
       "      <th>x1</th>\n",
       "      <th>x2</th>\n",
       "      <th>x3</th>\n",
       "      <th>x4</th>\n",
       "      <th>x5</th>\n",
       "      <th>x6</th>\n",
       "      <th>x7</th>\n",
       "      <th>x8</th>\n",
       "      <th>...</th>\n",
       "      <th>a12</th>\n",
       "      <th>a13</th>\n",
       "      <th>a14</th>\n",
       "      <th>a15</th>\n",
       "      <th>a16</th>\n",
       "      <th>a17</th>\n",
       "      <th>a18</th>\n",
       "      <th>a19</th>\n",
       "      <th>a20</th>\n",
       "      <th>f</th>\n",
       "    </tr>\n",
       "    <tr>\n",
       "      <th></th>\n",
       "      <th>0</th>\n",
       "      <th>0</th>\n",
       "      <th>0</th>\n",
       "      <th>0</th>\n",
       "      <th>0</th>\n",
       "      <th>0</th>\n",
       "      <th>0</th>\n",
       "      <th>0</th>\n",
       "      <th>0</th>\n",
       "      <th>0</th>\n",
       "      <th>...</th>\n",
       "      <th>0</th>\n",
       "      <th>0</th>\n",
       "      <th>0</th>\n",
       "      <th>0</th>\n",
       "      <th>0</th>\n",
       "      <th>0</th>\n",
       "      <th>0</th>\n",
       "      <th>0</th>\n",
       "      <th>0</th>\n",
       "      <th>0</th>\n",
       "    </tr>\n",
       "  </thead>\n",
       "  <tbody>\n",
       "    <tr>\n",
       "      <th>0</th>\n",
       "      <td>1</td>\n",
       "      <td>0</td>\n",
       "      <td>0.725814</td>\n",
       "      <td>0.962024</td>\n",
       "      <td>0.664839</td>\n",
       "      <td>0.741422</td>\n",
       "      <td>0.126549</td>\n",
       "      <td>0.001227</td>\n",
       "      <td>0.219900</td>\n",
       "      <td>0.726862</td>\n",
       "      <td>...</td>\n",
       "      <td>0.000488</td>\n",
       "      <td>0.000244</td>\n",
       "      <td>0.000122</td>\n",
       "      <td>0.000061</td>\n",
       "      <td>0.000031</td>\n",
       "      <td>0.000015</td>\n",
       "      <td>0.000008</td>\n",
       "      <td>0.000004</td>\n",
       "      <td>0.000002</td>\n",
       "      <td>10.105026</td>\n",
       "    </tr>\n",
       "    <tr>\n",
       "      <th>1</th>\n",
       "      <td>2</td>\n",
       "      <td>0</td>\n",
       "      <td>0.691256</td>\n",
       "      <td>0.634139</td>\n",
       "      <td>0.688968</td>\n",
       "      <td>0.815062</td>\n",
       "      <td>0.482812</td>\n",
       "      <td>0.726407</td>\n",
       "      <td>0.556441</td>\n",
       "      <td>0.640692</td>\n",
       "      <td>...</td>\n",
       "      <td>0.000488</td>\n",
       "      <td>0.000244</td>\n",
       "      <td>0.000122</td>\n",
       "      <td>0.000061</td>\n",
       "      <td>0.000031</td>\n",
       "      <td>0.000015</td>\n",
       "      <td>0.000008</td>\n",
       "      <td>0.000004</td>\n",
       "      <td>0.000002</td>\n",
       "      <td>7.445775</td>\n",
       "    </tr>\n",
       "    <tr>\n",
       "      <th>2</th>\n",
       "      <td>3</td>\n",
       "      <td>0</td>\n",
       "      <td>0.498084</td>\n",
       "      <td>0.614815</td>\n",
       "      <td>0.335669</td>\n",
       "      <td>0.940614</td>\n",
       "      <td>0.121873</td>\n",
       "      <td>0.155902</td>\n",
       "      <td>0.940138</td>\n",
       "      <td>0.261466</td>\n",
       "      <td>...</td>\n",
       "      <td>0.000488</td>\n",
       "      <td>0.000244</td>\n",
       "      <td>0.000122</td>\n",
       "      <td>0.000061</td>\n",
       "      <td>0.000031</td>\n",
       "      <td>0.000015</td>\n",
       "      <td>0.000008</td>\n",
       "      <td>0.000004</td>\n",
       "      <td>0.000002</td>\n",
       "      <td>4.179241</td>\n",
       "    </tr>\n",
       "    <tr>\n",
       "      <th>3</th>\n",
       "      <td>4</td>\n",
       "      <td>0</td>\n",
       "      <td>0.359589</td>\n",
       "      <td>0.909916</td>\n",
       "      <td>0.298848</td>\n",
       "      <td>0.808309</td>\n",
       "      <td>0.842838</td>\n",
       "      <td>0.930214</td>\n",
       "      <td>0.918869</td>\n",
       "      <td>0.215993</td>\n",
       "      <td>...</td>\n",
       "      <td>0.000488</td>\n",
       "      <td>0.000244</td>\n",
       "      <td>0.000122</td>\n",
       "      <td>0.000061</td>\n",
       "      <td>0.000031</td>\n",
       "      <td>0.000015</td>\n",
       "      <td>0.000008</td>\n",
       "      <td>0.000004</td>\n",
       "      <td>0.000002</td>\n",
       "      <td>5.288269</td>\n",
       "    </tr>\n",
       "    <tr>\n",
       "      <th>4</th>\n",
       "      <td>5</td>\n",
       "      <td>0</td>\n",
       "      <td>0.286595</td>\n",
       "      <td>0.253112</td>\n",
       "      <td>0.977819</td>\n",
       "      <td>0.192036</td>\n",
       "      <td>0.306357</td>\n",
       "      <td>0.978028</td>\n",
       "      <td>0.184749</td>\n",
       "      <td>0.714630</td>\n",
       "      <td>...</td>\n",
       "      <td>0.000488</td>\n",
       "      <td>0.000244</td>\n",
       "      <td>0.000122</td>\n",
       "      <td>0.000061</td>\n",
       "      <td>0.000031</td>\n",
       "      <td>0.000015</td>\n",
       "      <td>0.000008</td>\n",
       "      <td>0.000004</td>\n",
       "      <td>0.000002</td>\n",
       "      <td>2.696150</td>\n",
       "    </tr>\n",
       "    <tr>\n",
       "      <th>...</th>\n",
       "      <td>...</td>\n",
       "      <td>...</td>\n",
       "      <td>...</td>\n",
       "      <td>...</td>\n",
       "      <td>...</td>\n",
       "      <td>...</td>\n",
       "      <td>...</td>\n",
       "      <td>...</td>\n",
       "      <td>...</td>\n",
       "      <td>...</td>\n",
       "      <td>...</td>\n",
       "      <td>...</td>\n",
       "      <td>...</td>\n",
       "      <td>...</td>\n",
       "      <td>...</td>\n",
       "      <td>...</td>\n",
       "      <td>...</td>\n",
       "      <td>...</td>\n",
       "      <td>...</td>\n",
       "      <td>...</td>\n",
       "      <td>...</td>\n",
       "    </tr>\n",
       "    <tr>\n",
       "      <th>995</th>\n",
       "      <td>996</td>\n",
       "      <td>0</td>\n",
       "      <td>0.027441</td>\n",
       "      <td>0.690755</td>\n",
       "      <td>0.084527</td>\n",
       "      <td>0.310971</td>\n",
       "      <td>0.551324</td>\n",
       "      <td>0.808852</td>\n",
       "      <td>0.507580</td>\n",
       "      <td>0.562701</td>\n",
       "      <td>...</td>\n",
       "      <td>0.000488</td>\n",
       "      <td>0.000244</td>\n",
       "      <td>0.000122</td>\n",
       "      <td>0.000061</td>\n",
       "      <td>0.000031</td>\n",
       "      <td>0.000015</td>\n",
       "      <td>0.000008</td>\n",
       "      <td>0.000004</td>\n",
       "      <td>0.000002</td>\n",
       "      <td>2.053632</td>\n",
       "    </tr>\n",
       "    <tr>\n",
       "      <th>996</th>\n",
       "      <td>997</td>\n",
       "      <td>0</td>\n",
       "      <td>0.332024</td>\n",
       "      <td>0.594758</td>\n",
       "      <td>0.707818</td>\n",
       "      <td>0.843098</td>\n",
       "      <td>0.411372</td>\n",
       "      <td>0.391910</td>\n",
       "      <td>0.281242</td>\n",
       "      <td>0.410451</td>\n",
       "      <td>...</td>\n",
       "      <td>0.000488</td>\n",
       "      <td>0.000244</td>\n",
       "      <td>0.000122</td>\n",
       "      <td>0.000061</td>\n",
       "      <td>0.000031</td>\n",
       "      <td>0.000015</td>\n",
       "      <td>0.000008</td>\n",
       "      <td>0.000004</td>\n",
       "      <td>0.000002</td>\n",
       "      <td>3.754225</td>\n",
       "    </tr>\n",
       "    <tr>\n",
       "      <th>997</th>\n",
       "      <td>998</td>\n",
       "      <td>0</td>\n",
       "      <td>0.456941</td>\n",
       "      <td>0.652656</td>\n",
       "      <td>0.084422</td>\n",
       "      <td>0.662123</td>\n",
       "      <td>0.430675</td>\n",
       "      <td>0.617400</td>\n",
       "      <td>0.874804</td>\n",
       "      <td>0.467890</td>\n",
       "      <td>...</td>\n",
       "      <td>0.000488</td>\n",
       "      <td>0.000244</td>\n",
       "      <td>0.000122</td>\n",
       "      <td>0.000061</td>\n",
       "      <td>0.000031</td>\n",
       "      <td>0.000015</td>\n",
       "      <td>0.000008</td>\n",
       "      <td>0.000004</td>\n",
       "      <td>0.000002</td>\n",
       "      <td>3.520302</td>\n",
       "    </tr>\n",
       "    <tr>\n",
       "      <th>998</th>\n",
       "      <td>999</td>\n",
       "      <td>0</td>\n",
       "      <td>0.207967</td>\n",
       "      <td>0.910452</td>\n",
       "      <td>0.246205</td>\n",
       "      <td>0.957065</td>\n",
       "      <td>0.853574</td>\n",
       "      <td>0.051368</td>\n",
       "      <td>0.026402</td>\n",
       "      <td>0.061122</td>\n",
       "      <td>...</td>\n",
       "      <td>0.000488</td>\n",
       "      <td>0.000244</td>\n",
       "      <td>0.000122</td>\n",
       "      <td>0.000061</td>\n",
       "      <td>0.000031</td>\n",
       "      <td>0.000015</td>\n",
       "      <td>0.000008</td>\n",
       "      <td>0.000004</td>\n",
       "      <td>0.000002</td>\n",
       "      <td>4.105689</td>\n",
       "    </tr>\n",
       "    <tr>\n",
       "      <th>999</th>\n",
       "      <td>1000</td>\n",
       "      <td>0</td>\n",
       "      <td>0.796808</td>\n",
       "      <td>0.802658</td>\n",
       "      <td>0.257193</td>\n",
       "      <td>0.431729</td>\n",
       "      <td>0.258806</td>\n",
       "      <td>0.605640</td>\n",
       "      <td>0.646672</td>\n",
       "      <td>0.828534</td>\n",
       "      <td>...</td>\n",
       "      <td>0.000488</td>\n",
       "      <td>0.000244</td>\n",
       "      <td>0.000122</td>\n",
       "      <td>0.000061</td>\n",
       "      <td>0.000031</td>\n",
       "      <td>0.000015</td>\n",
       "      <td>0.000008</td>\n",
       "      <td>0.000004</td>\n",
       "      <td>0.000002</td>\n",
       "      <td>7.024438</td>\n",
       "    </tr>\n",
       "  </tbody>\n",
       "</table>\n",
       "<p>1000 rows × 45 columns</p>\n",
       "</div>"
      ],
      "text/plain": [
       "    run_id iteration        x1        x2        x3        x4        x5  \\\n",
       "         0         0         0         0         0         0         0   \n",
       "0        1         0  0.725814  0.962024  0.664839  0.741422  0.126549   \n",
       "1        2         0  0.691256  0.634139  0.688968  0.815062  0.482812   \n",
       "2        3         0  0.498084  0.614815  0.335669  0.940614  0.121873   \n",
       "3        4         0  0.359589  0.909916  0.298848  0.808309  0.842838   \n",
       "4        5         0  0.286595  0.253112  0.977819  0.192036  0.306357   \n",
       "..     ...       ...       ...       ...       ...       ...       ...   \n",
       "995    996         0  0.027441  0.690755  0.084527  0.310971  0.551324   \n",
       "996    997         0  0.332024  0.594758  0.707818  0.843098  0.411372   \n",
       "997    998         0  0.456941  0.652656  0.084422  0.662123  0.430675   \n",
       "998    999         0  0.207967  0.910452  0.246205  0.957065  0.853574   \n",
       "999   1000         0  0.796808  0.802658  0.257193  0.431729  0.258806   \n",
       "\n",
       "           x6        x7        x8  ...       a12       a13       a14  \\\n",
       "            0         0         0  ...         0         0         0   \n",
       "0    0.001227  0.219900  0.726862  ...  0.000488  0.000244  0.000122   \n",
       "1    0.726407  0.556441  0.640692  ...  0.000488  0.000244  0.000122   \n",
       "2    0.155902  0.940138  0.261466  ...  0.000488  0.000244  0.000122   \n",
       "3    0.930214  0.918869  0.215993  ...  0.000488  0.000244  0.000122   \n",
       "4    0.978028  0.184749  0.714630  ...  0.000488  0.000244  0.000122   \n",
       "..        ...       ...       ...  ...       ...       ...       ...   \n",
       "995  0.808852  0.507580  0.562701  ...  0.000488  0.000244  0.000122   \n",
       "996  0.391910  0.281242  0.410451  ...  0.000488  0.000244  0.000122   \n",
       "997  0.617400  0.874804  0.467890  ...  0.000488  0.000244  0.000122   \n",
       "998  0.051368  0.026402  0.061122  ...  0.000488  0.000244  0.000122   \n",
       "999  0.605640  0.646672  0.828534  ...  0.000488  0.000244  0.000122   \n",
       "\n",
       "          a15       a16       a17       a18       a19       a20          f  \n",
       "            0         0         0         0         0         0          0  \n",
       "0    0.000061  0.000031  0.000015  0.000008  0.000004  0.000002  10.105026  \n",
       "1    0.000061  0.000031  0.000015  0.000008  0.000004  0.000002   7.445775  \n",
       "2    0.000061  0.000031  0.000015  0.000008  0.000004  0.000002   4.179241  \n",
       "3    0.000061  0.000031  0.000015  0.000008  0.000004  0.000002   5.288269  \n",
       "4    0.000061  0.000031  0.000015  0.000008  0.000004  0.000002   2.696150  \n",
       "..        ...       ...       ...       ...       ...       ...        ...  \n",
       "995  0.000061  0.000031  0.000015  0.000008  0.000004  0.000002   2.053632  \n",
       "996  0.000061  0.000031  0.000015  0.000008  0.000004  0.000002   3.754225  \n",
       "997  0.000061  0.000031  0.000015  0.000008  0.000004  0.000002   3.520302  \n",
       "998  0.000061  0.000031  0.000015  0.000008  0.000004  0.000002   4.105689  \n",
       "999  0.000061  0.000031  0.000015  0.000008  0.000004  0.000002   7.024438  \n",
       "\n",
       "[1000 rows x 45 columns]"
      ]
     },
     "execution_count": 103,
     "metadata": {},
     "output_type": "execute_result"
    }
   ],
   "source": [
    "# choose a number of uncertain parameters (<= 20)\n",
    "D = 20\n",
    "\n",
    "# Define parameter space\n",
    "params = {}\n",
    "for i in range(20):\n",
    "    params[\"x%d\" % (i + 1)] = {\"type\": \"float\",\n",
    "                               \"min\": 0.0,\n",
    "                               \"max\": 1.0,\n",
    "                               \"default\": 0.5}\n",
    "params[\"D\"] = {\"type\": \"integer\", \"default\": D}\n",
    "params[\"out_file\"] = {\"type\": \"string\", \"default\": \"output.csv\"}\n",
    "output_filename = params[\"out_file\"][\"default\"]\n",
    "output_columns = [\"f\"]\n",
    "\n",
    "# the a vector determines the importance of each input\n",
    "a = np.array([1 / 2 ** i for i in range(20)])\n",
    "\n",
    "for i in range(20):\n",
    "    params[\"a%d\" % (i + 1)] = {\"type\": \"float\",\n",
    "                               \"min\": 0.0,\n",
    "                               \"max\": 1.0,\n",
    "                               \"default\": a[i]}\n",
    "\n",
    "# create encoder, decoder, and execute locally\n",
    "encoder = uq.encoders.GenericEncoder(template_fname='func.template', delimiter='$', target_filename='in.json')\n",
    "decoder = uq.decoders.SimpleCSV(target_filename=output_filename, output_columns=output_columns)\n",
    "execute = ExecuteLocal('{}/func.py in.json'.format(os.getcwd()))\n",
    "actions = Actions(CreateRunDirectory(root=WORK_DIR),Encode(encoder), execute, Decode(decoder))\n",
    "\n",
    "# uncertain variables\n",
    "vary = {}\n",
    "for i in range(D):\n",
    "    vary[\"x%d\" % (i + 1)] = cp.Uniform(0, 1)\n",
    "\n",
    "# Latin Hypercube sampler\n",
    "sampler = uq.sampling.quasirandom.LHCSampler(vary=vary, max_num=1000)\n",
    "\n",
    "# EasyVVUQ Campaign\n",
    "LHC_campaign = uq.Campaign(name='func', params=params, actions=actions, work_dir=WORK_DIR)\n",
    "\n",
    "# Associate the sampler with the campaign\n",
    "LHC_campaign.set_sampler(sampler)\n",
    "\n",
    "# Execute runs\n",
    "LHC_campaign.execute().collate(progress_bar=True)\n",
    "\n",
    "data_frame = LHC_campaign.get_collation_result()\n",
    "data_frame"
   ]
  },
  {
   "cell_type": "code",
   "execution_count": 105,
   "id": "76435e98",
   "metadata": {},
   "outputs": [
    {
     "name": "stdout",
     "output_type": "stream",
     "text": [
      "Extracting features ['x1', 'x2', 'x3', 'x4', 'x5', 'x6', 'x7', 'x8', 'x9', 'x10', 'x11', 'x12', 'x13', 'x14', 'x15', 'x16', 'x17', 'x18', 'x19', 'x20']\n",
      "Extracting output data ['f'] \n",
      "Creating DAS_Surrogate Object\n",
      "Creating Feature Engineering object\n",
      "Using  800/1000 samples to train the ML model\n",
      "done preparing data\n",
      "===============================\n",
      "Neural net parameters\n",
      "===============================\n",
      "Number of layers = 4\n",
      "Number of features = 20\n",
      "Loss function = squared\n",
      "Number of neurons per hidden layer = 100\n",
      "Number of output neurons = 1\n",
      "Activation hidden layers = tanh\n",
      "Activation output layer = linear\n",
      "This neural network has 11501 weights.\n",
      "===============================\n",
      "===============================\n",
      "Training Deep Active Subspace Neural Network...\n",
      "Batch 0 learning rate 0.001 loss: 2.049046800891663\n",
      "Batch 1000 learning rate 0.001 loss: 0.003028032947008079\n",
      "Batch 2000 learning rate 0.001 loss: 0.0009332424202824272\n",
      "Batch 3000 learning rate 0.001 loss: 0.00025718199720631485\n",
      "Batch 4000 learning rate 0.001 loss: 7.619659688057727e-05\n",
      "Batch 5000 learning rate 0.001 loss: 0.0008483602931209589\n",
      "Batch 6000 learning rate 0.001 loss: 0.0008887290558175893\n",
      "Batch 7000 learning rate 0.001 loss: 0.0001091997625949232\n",
      "Batch 8000 learning rate 0.001 loss: 0.00018490477355755168\n",
      "Batch 9000 learning rate 0.001 loss: 0.0005681373934143805\n",
      "Relative error on training set = 0.0071\n",
      "Relative error on test set = 0.0974\n",
      "Creating DAS_analysis object\n",
      "Parameters ordered from most to least important:\n",
      "[[ 0  1  2  3 15 18  4  7 16 12  9 17 10 19 14  5  6  8 11 13]]\n"
     ]
    },
    {
     "data": {
      "image/png": "[encoded data removed]",
      "text/plain": [
       "<Figure size 576x288 with 2 Axes>"
      ]
     },
     "metadata": {
      "needs_background": "light"
     },
     "output_type": "display_data"
    },
    {
     "data": {
      "image/png": "[encoded data removed]",
      "text/plain": [
       "<Figure size 576x288 with 1 Axes>"
      ]
     },
     "metadata": {
      "needs_background": "light"
     },
     "output_type": "display_data"
    }
   ],
   "source": [
    "surr_campaign = es.Campaign()\n",
    "\n",
    "# read the data input-output data from the LHC campaign \n",
    "params, samples = surr_campaign.load_easyvvuq_data(LHC_campaign, ['f'])\n",
    "# samples is a dict with the QoI names as keys. Turn it into an array\n",
    "samples = samples['f']\n",
    "\n",
    "surrogate = es.methods.DAS_Surrogate()\n",
    "d = 5\n",
    "surrogate.train(params, samples, d, n_iter=10000, n_layers=4, n_neurons=100, test_frac = 0.2)\n",
    "\n",
    "dims = surrogate.get_dimensions()\n",
    "\n",
    "fig = plt.figure(figsize=[8, 4])\n",
    "\n",
    "# run the trained model forward at training locations\n",
    "n_mc = dims['n_train']\n",
    "pred = np.zeros([n_mc, dims['n_out']])\n",
    "for i in range(n_mc):\n",
    "    pred[i,:] = surrogate.predict(params[i])\n",
    "    \n",
    "# compute the relative error using the training data\n",
    "train_data = samples[0:dims['n_train']]\n",
    "rel_err_train = np.linalg.norm(train_data - pred)/np.linalg.norm(train_data)\n",
    "\n",
    "ax = fig.add_subplot(121, title='training set')\n",
    "ax.plot(train_data, 'ro')\n",
    "ax.plot(pred, 'b+')\n",
    "\n",
    "# run the trained model forward at test locations\n",
    "pred = np.zeros([dims['n_test'], dims['n_out']])\n",
    "for idx, i in enumerate(range(dims['n_train'], dims['n_samples'])):\n",
    "    pred[idx] = surrogate.predict(params[i])\n",
    "test_data = samples[dims['n_train']:]\n",
    "\n",
    "ax = fig.add_subplot(122, title='test set')\n",
    "ax.plot(test_data, 'ro', label='data')\n",
    "ax.plot(pred, 'b+', label='prediction')\n",
    "ax.legend()\n",
    "\n",
    "# compute the relative error using the test data\n",
    "rel_err_test = np.linalg.norm(test_data - pred)/np.linalg.norm(test_data)\n",
    "\n",
    "print('Relative error on training set = %.4f' % rel_err_train)\n",
    "print('Relative error on test set = %.4f' % rel_err_test)\n",
    "\n",
    "analysis = es.analysis.DAS_analysis(surrogate)\n",
    "\n",
    "# select the number of MC samples to compute from the surrogate\n",
    "n_mc = 10**4\n",
    "# draw n_mc random samples from every input distribution in vary\n",
    "param_mc_samples = np.array([p.sample(n_mc) for p in vary.values()]).T\n",
    "# compute the derivative-based global sensitivity integral via MC. Returns the ordered indices of the most \n",
    "# to least influential inputs and the sensitivity value.\n",
    "idx, V_i = analysis.sensitivity_measures(param_mc_samples)\n",
    "params_ordered = np.array(list(vary.keys()))[idx[0]]\n",
    "\n",
    "fig = plt.figure('sensitivity', figsize=[8, 4])\n",
    "ax = fig.add_subplot(111)\n",
    "ax.set_ylabel(r'$\\int\\frac{\\partial ||y||^2_2}{\\partial x_i}p({\\bf x})d{\\bf x}$', fontsize=14)\n",
    "ax.bar(range(V_i.size), height = V_i[idx].flatten())\n",
    "ax.set_xticks(range(V_i.size))\n",
    "ax.set_xticklabels(params_ordered)\n",
    "plt.xticks(rotation=90)\n",
    "plt.tight_layout()"
   ]
  },
  {
   "cell_type": "markdown",
   "id": "ad70101c",
   "metadata": {},
   "source": [
    "## References\n",
    "\n",
    "[1] Constantine, P. G., Dow, E., & Wang, Q. (2014). Active subspace methods in theory and practice: applications to kriging surfaces. SIAM Journal on Scientific Computing, 36(4), A1500-A1524.\n",
    "\n",
    "[2] Tripathy, R., & Bilionis, I. (2019, February). Deep active subspaces: A scalable method for high-dimensional uncertainty propagation. In ASME 2019 International Design Engineering Technical Conferences and Computers and Information in Engineering Conference. American Society of Mechanical Engineers Digital Collection.\n",
    "\n",
    "[3] Sobol, I. M., & Kucherenko, S. (2010). Derivative based global sensitivity measures. Procedia-Social and Behavioral Sciences, 2(6), 7745-7746.\n"
   ]
  },
  {
   "cell_type": "code",
   "execution_count": null,
   "id": "dbf898d0",
   "metadata": {},
   "outputs": [],
   "source": []
  }
 ],
 "metadata": {
  "kernelspec": {
   "display_name": "Python 3",
   "language": "python",
   "name": "python3"
  },
  "language_info": {
   "codemirror_mode": {
    "name": "ipython",
    "version": 3
   },
   "file_extension": ".py",
   "mimetype": "text/x-python",
   "name": "python",
   "nbconvert_exporter": "python",
   "pygments_lexer": "ipython3",
   "version": "3.7.7"
  }
 },
 "nbformat": 4,
 "nbformat_minor": 5
}
