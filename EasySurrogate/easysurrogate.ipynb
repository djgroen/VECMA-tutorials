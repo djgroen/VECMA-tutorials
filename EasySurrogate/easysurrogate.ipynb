{
 "cells": [
  {
   "cell_type": "markdown",
   "id": "fc5c35d8",
   "metadata": {},
   "source": [
    "# Using EasyVVUQ to generate training data for a forward-UQ  Machine-Learning surrogate\n",
    "\n",
    "Let's start with some definitions:\n",
    "\n",
    "* Forward uncertainty propagation: computing the output distribution of a computational model, given *assumed* probability density functions for the input parameters of the model (see image below). \n",
    "\n",
    "* [EasyVVUQ](https://github.com/UCL-CCS/EasyVVUQ) is VECMA's forward uncertainty propagation toolkit.\n",
    "\n",
    "* Forward surrogate model: an approximation of the input-output map, which can be evaluated at a fraction of the cost of the computational model. \n",
    "\n",
    "* [EasySurrogate](https://github.com/wedeling/EasySurrogate) is VECMA's surrogate modelling toolkit.\n",
    "\n",
    "![](images/forward.png)\n",
    "\n",
    "### Goal \n",
    "\n",
    "Use EasyVVUQ to generate supervised (input parameter, code output) training data on which to train a machine-learning (ML) type of surrogate model. In addition we will\n",
    "\n",
    "* Review some theory behind the sparse-grid methods of EasyVVUQ a ML-method of EasySurrogate.\n",
    "* Briefly discuss when you might use ML for building surrogate models.\n",
    "\n",
    "## Installation\n",
    "\n",
    "* EasyVVUQ: via git clone or `pip install easyvvuq`\n",
    "\n",
    "* EasySurrogate: via git clone or `pip install easysurrogate`"
   ]
  },
  {
   "cell_type": "code",
   "execution_count": 1,
   "id": "8863a990",
   "metadata": {},
   "outputs": [
    {
     "name": "stdout",
     "output_type": "stream",
     "text": [
      "Defaulting to user installation because normal site-packages is not writeable\n",
      "Requirement already satisfied: easyvvuq in /home/wouter/.local/lib/python3.8/site-packages/easyvvuq-0.7.3.1+75.g8a46b49.dirty-py3.8.egg (0.7.3.1+75.g8a46b49.dirty)\n",
      "Requirement already satisfied: numpy in /home/wouter/.local/lib/python3.8/site-packages (from easyvvuq) (1.19.0)\n",
      "Requirement already satisfied: pandas in /home/wouter/.local/lib/python3.8/site-packages (from easyvvuq) (1.2.1)\n",
      "Requirement already satisfied: scipy in /home/wouter/.local/lib/python3.8/site-packages (from easyvvuq) (1.5.0)\n",
      "Requirement already satisfied: wheel in /home/wouter/.local/lib/python3.8/site-packages (from easyvvuq) (0.35.1)\n",
      "Requirement already satisfied: chaospy==3.3.6 in /home/wouter/.local/lib/python3.8/site-packages (from easyvvuq) (3.3.6)\n",
      "Requirement already satisfied: SALib in /home/wouter/.local/lib/python3.8/site-packages (from easyvvuq) (1.3.12)\n",
      "Requirement already satisfied: pytest in /home/wouter/.local/lib/python3.8/site-packages (from easyvvuq) (6.2.2)\n",
      "Requirement already satisfied: pytest-pep8 in /usr/local/lib/python3.8/dist-packages/pytest_pep8-1.0.6-py3.8.egg (from easyvvuq) (1.0.6)\n",
      "Requirement already satisfied: SQLAlchemy in /usr/lib/python3/dist-packages (from easyvvuq) (1.3.12)\n",
      "Requirement already satisfied: jsonpickle in /home/wouter/.local/lib/python3.8/site-packages (from easyvvuq) (1.5.1)\n",
      "Requirement already satisfied: cerberus in /home/wouter/.local/lib/python3.8/site-packages (from easyvvuq) (1.3.2)\n",
      "Requirement already satisfied: dask[complete] in /home/wouter/.local/lib/python3.8/site-packages (from easyvvuq) (2021.1.1)\n",
      "Requirement already satisfied: dask_jobqueue in /usr/local/lib/python3.8/dist-packages/dask_jobqueue-0.7.2-py3.8.egg (from easyvvuq) (0.7.2)\n",
      "Requirement already satisfied: cloudpickle in /home/wouter/.local/lib/python3.8/site-packages/cloudpickle-1.6.0-py3.8.egg (from easyvvuq) (1.6.0)\n",
      "Requirement already satisfied: scikit-learn in /usr/local/lib/python3.8/dist-packages/scikit_learn-0.23.2-py3.8-linux-x86_64.egg (from easyvvuq) (0.23.2)\n",
      "Requirement already satisfied: jinja2 in /usr/local/lib/python3.8/dist-packages/Jinja2-3.0.0a1-py3.8.egg (from easyvvuq) (3.0.0a1)\n",
      "Requirement already satisfied: kubernetes in /usr/local/lib/python3.8/dist-packages/kubernetes-17.14.0a1-py3.8.egg (from easyvvuq) (17.14.0a1)\n",
      "Requirement already satisfied: autopep8 in /home/wouter/.local/lib/python3.8/site-packages (from easyvvuq) (1.5.4)\n",
      "Requirement already satisfied: numpoly==1.0.5 in /home/wouter/.local/lib/python3.8/site-packages (from chaospy==3.3.6->easyvvuq) (1.0.5)\n",
      "Requirement already satisfied: six in /usr/lib/python3/dist-packages (from numpoly==1.0.5->chaospy==3.3.6->easyvvuq) (1.14.0)\n",
      "Requirement already satisfied: toml in /home/wouter/.local/lib/python3.8/site-packages (from autopep8->easyvvuq) (0.10.1)\n",
      "Requirement already satisfied: pycodestyle>=2.6.0 in /home/wouter/.local/lib/python3.8/site-packages (from autopep8->easyvvuq) (2.6.0)\n",
      "Requirement already satisfied: setuptools in /home/wouter/.local/lib/python3.8/site-packages (from cerberus->easyvvuq) (50.3.0)\n",
      "Requirement already satisfied: distributed>=2.19 in /home/wouter/.local/lib/python3.8/site-packages/distributed-2021.1.1-py3.8.egg (from dask_jobqueue->easyvvuq) (2021.1.1)\n",
      "Requirement already satisfied: pyyaml in /usr/lib/python3/dist-packages (from dask[complete]->easyvvuq) (5.3.1)\n",
      "Requirement already satisfied: click>=6.6 in /usr/lib/python3/dist-packages (from distributed>=2.19->dask_jobqueue->easyvvuq) (7.0)\n",
      "Requirement already satisfied: msgpack>=0.6.0 in /home/wouter/.local/lib/python3.8/site-packages (from distributed>=2.19->dask_jobqueue->easyvvuq) (1.0.0)\n",
      "Requirement already satisfied: psutil>=5.0 in /home/wouter/.local/lib/python3.8/site-packages/psutil-5.8.0-py3.8-linux-x86_64.egg (from distributed>=2.19->dask_jobqueue->easyvvuq) (5.8.0)\n",
      "Requirement already satisfied: sortedcontainers!=2.0.0,!=2.0.1 in /home/wouter/.local/lib/python3.8/site-packages/sortedcontainers-2.3.0-py3.8.egg (from distributed>=2.19->dask_jobqueue->easyvvuq) (2.3.0)\n",
      "Requirement already satisfied: tblib>=1.6.0 in /home/wouter/.local/lib/python3.8/site-packages/tblib-1.7.0-py3.8.egg (from distributed>=2.19->dask_jobqueue->easyvvuq) (1.7.0)\n",
      "Requirement already satisfied: toolz>=0.8.2 in /home/wouter/.local/lib/python3.8/site-packages/toolz-0.11.1-py3.8.egg (from distributed>=2.19->dask_jobqueue->easyvvuq) (0.11.1)\n",
      "Requirement already satisfied: tornado>=6.0.3 in /home/wouter/.local/lib/python3.8/site-packages/tornado-6.1-py3.8-linux-x86_64.egg (from distributed>=2.19->dask_jobqueue->easyvvuq) (6.1)\n",
      "Requirement already satisfied: zict>=0.1.3 in /home/wouter/.local/lib/python3.8/site-packages/zict-2.0.0-py3.8.egg (from distributed>=2.19->dask_jobqueue->easyvvuq) (2.0.0)\n",
      "Requirement already satisfied: heapdict in /home/wouter/.local/lib/python3.8/site-packages/HeapDict-1.0.1-py3.8.egg (from zict>=0.1.3->distributed>=2.19->dask_jobqueue->easyvvuq) (1.0.1)\n",
      "Requirement already satisfied: partd>=0.3.10 in /home/wouter/.local/lib/python3.8/site-packages/partd-1.1.0-py3.8.egg (from dask[complete]->easyvvuq) (1.1.0)\n",
      "Requirement already satisfied: bokeh!=2.0.0,>=1.0.0 in /home/wouter/.local/lib/python3.8/site-packages/bokeh-2.3.0.dev12-py3.8.egg (from dask[complete]->easyvvuq) (2.3.0.dev12)\n",
      "Requirement already satisfied: fsspec>=0.6.0 in /home/wouter/.local/lib/python3.8/site-packages/fsspec-0.8.5-py3.8.egg (from dask[complete]->easyvvuq) (0.8.5)\n",
      "Requirement already satisfied: python-dateutil>=2.1 in /usr/lib/python3/dist-packages (from bokeh!=2.0.0,>=1.0.0->dask[complete]->easyvvuq) (2.7.3)\n",
      "Requirement already satisfied: pillow>=7.1.0 in /home/wouter/.local/lib/python3.8/site-packages/Pillow-8.1.0-py3.8-linux-x86_64.egg (from bokeh!=2.0.0,>=1.0.0->dask[complete]->easyvvuq) (8.1.0)\n",
      "Requirement already satisfied: packaging>=16.8 in /home/wouter/.local/lib/python3.8/site-packages (from bokeh!=2.0.0,>=1.0.0->dask[complete]->easyvvuq) (20.9)\n",
      "Requirement already satisfied: typing_extensions>=3.7.4 in /home/wouter/.local/lib/python3.8/site-packages (from bokeh!=2.0.0,>=1.0.0->dask[complete]->easyvvuq) (3.7.4.3)\n",
      "Requirement already satisfied: MarkupSafe>=1.1 in /usr/lib/python3/dist-packages (from jinja2->easyvvuq) (1.1.0)\n",
      "Requirement already satisfied: pyparsing>=2.0.2 in /home/wouter/.local/lib/python3.8/site-packages (from packaging>=16.8->bokeh!=2.0.0,>=1.0.0->dask[complete]->easyvvuq) (2.4.7)\n",
      "Requirement already satisfied: pytz>=2017.3 in /usr/lib/python3/dist-packages (from pandas->easyvvuq) (2019.3)\n",
      "Requirement already satisfied: locket in /home/wouter/.local/lib/python3.8/site-packages/locket-0.2.1-py3.8.egg (from partd>=0.3.10->dask[complete]->easyvvuq) (0.2.1)\n",
      "Requirement already satisfied: certifi>=14.05.14 in /home/wouter/.local/lib/python3.8/site-packages (from kubernetes->easyvvuq) (2020.6.20)\n",
      "Requirement already satisfied: google-auth>=1.0.1 in /usr/lib/python3/dist-packages (from kubernetes->easyvvuq) (1.5.1)\n",
      "Requirement already satisfied: requests in /usr/lib/python3/dist-packages (from kubernetes->easyvvuq) (2.22.0)\n",
      "Requirement already satisfied: requests-oauthlib in /home/wouter/.local/lib/python3.8/site-packages/requests_oauthlib-1.3.0-py3.8.egg (from kubernetes->easyvvuq) (1.3.0)\n",
      "Requirement already satisfied: urllib3>=1.24.2 in /usr/lib/python3/dist-packages (from kubernetes->easyvvuq) (1.25.8)\n",
      "Requirement already satisfied: websocket-client!=0.40.0,!=0.41.*,!=0.42.*,>=0.32.0 in /home/wouter/.local/lib/python3.8/site-packages/websocket_client-0.57.0-py3.8.egg (from kubernetes->easyvvuq) (0.57.0)\n",
      "Requirement already satisfied: pluggy<1.0.0a1,>=0.12 in /home/wouter/.local/lib/python3.8/site-packages (from pytest->easyvvuq) (0.13.1)\n",
      "Requirement already satisfied: iniconfig in /home/wouter/.local/lib/python3.8/site-packages (from pytest->easyvvuq) (1.1.1)\n",
      "Requirement already satisfied: py>=1.8.2 in /home/wouter/.local/lib/python3.8/site-packages (from pytest->easyvvuq) (1.10.0)\n",
      "Requirement already satisfied: attrs>=19.2.0 in /home/wouter/.local/lib/python3.8/site-packages (from pytest->easyvvuq) (20.3.0)\n",
      "Requirement already satisfied: pep8>=1.3 in /home/wouter/.local/lib/python3.8/site-packages/pep8-1.7.1-py3.8.egg (from pytest-pep8->easyvvuq) (1.7.1)\n",
      "Requirement already satisfied: pytest-cache in /home/wouter/.local/lib/python3.8/site-packages/pytest_cache-1.0-py3.8.egg (from pytest-pep8->easyvvuq) (1.0)\n",
      "Requirement already satisfied: execnet>=1.1.dev1 in /home/wouter/.local/lib/python3.8/site-packages/execnet-1.8.0-py3.8.egg (from pytest-cache->pytest-pep8->easyvvuq) (1.8.0)\n",
      "Requirement already satisfied: apipkg>=1.4 in /home/wouter/.local/lib/python3.8/site-packages/apipkg-1.5-py3.8.egg (from execnet>=1.1.dev1->pytest-cache->pytest-pep8->easyvvuq) (1.5)\n"
     ]
    },
    {
     "name": "stdout",
     "output_type": "stream",
     "text": [
      "Requirement already satisfied: oauthlib>=3.0.0 in /usr/lib/python3/dist-packages (from requests-oauthlib->kubernetes->easyvvuq) (3.1.0)\n",
      "Requirement already satisfied: matplotlib in /home/wouter/.local/lib/python3.8/site-packages (from SALib->easyvvuq) (3.3.2)\n",
      "Requirement already satisfied: kiwisolver>=1.0.1 in /home/wouter/.local/lib/python3.8/site-packages (from matplotlib->SALib->easyvvuq) (1.2.0)\n",
      "Requirement already satisfied: cycler>=0.10 in /home/wouter/.local/lib/python3.8/site-packages (from matplotlib->SALib->easyvvuq) (0.10.0)\n",
      "Requirement already satisfied: joblib>=0.11 in /usr/local/lib/python3.8/dist-packages/joblib-0.16.0-py3.8.egg (from scikit-learn->easyvvuq) (0.16.0)\n",
      "Requirement already satisfied: threadpoolctl>=2.0.0 in /usr/local/lib/python3.8/dist-packages/threadpoolctl-2.1.0-py3.8.egg (from scikit-learn->easyvvuq) (2.1.0)\n",
      "\u001b[33mWARNING: You are using pip version 21.0.1; however, version 21.1.3 is available.\n",
      "You should consider upgrading via the '/usr/bin/python3 -m pip install --upgrade pip' command.\u001b[0m\n"
     ]
    }
   ],
   "source": [
    "!pip install easyvvuq"
   ]
  },
  {
   "cell_type": "markdown",
   "id": "b3d8bc45",
   "metadata": {},
   "source": [
    "## Sparse-grid UQ in theory\n",
    "\n",
    "### Making a interpolation-based surrogate with 1 uncertain input parameter"
   ]
  },
  {
   "cell_type": "markdown",
   "id": "1176dd32",
   "metadata": {},
   "source": [
    "\n",
    "Let $f^{(1)}(x)$ be a one-dimensional function. We aim to create an interpolation of $f^{(1)}$, denoted by\n",
    "\n",
    "\\begin{align}\n",
    " I^{(l)}f^{(1)}(x) = \\sum_{i=1}^{m_l} f(x_{i}^{(l)})a^{(l)}_i(x).\n",
    " \\label{eq:sc1d}\n",
    "\\end{align}\n",
    "\n",
    "Here, $l$ is the so-called *level* of the interpolant. It is an index which links to a **one-dimensional** set of collocation points $\\{x^{l}_i\\}$, for $i=1,\\cdots, m_l$. We can select these points from different families, typically they'll be the abscissas of some quadrature rule. For instance, a Clenshaw-Curtis (CC) rule can generate different collocation points in $[0,1]$ such that\n",
    "\n",
    "* Level 1: $x^{(1)}_i \\in \\{0.5\\}$,\n",
    "* Level 2: $x^{(2)}_i \\in \\{0.0, 0.5, 1.0\\}$,\n",
    "* Level 3: $x^{(3)}_i \\in \\{0.0, 0.146, 0.5, 0.854, 1.0\\}$.\n",
    "\n",
    "Note that here, the higher level collocation point sets include all points from previous levels. When this is the case, we say that the quadrature rule is **nested**. This leads to efficient sampling plans in higher dimensions, but nestedness is not a strict requirement for sparse grid interpolation or integration. This does lead to 1D quadrature rules which increase exponentially, such that the number of points is given by\n",
    "\n",
    "\\begin{align}\n",
    " m_l = \n",
    " \\begin{cases}\n",
    "  2^{l-1} + 1 & l > 1 \\\\\n",
    "  1 & l = 1\n",
    " \\end{cases}  \n",
    "\\end{align}\n",
    "\n",
    "Finally, the $a^{(l)}_i(x)$ are the basis functions used for interpolation. In the case of the **Stochastic Collocation** (SC) method, these are often (although not necessarily) the Lagrange interpolation polynomials, given by\n",
    "\n",
    "\\begin{align}\n",
    "a^{(l)}_i(x) = \\prod_{\\substack{1\\leq j \\leq m_l \\\\ j \\neq i}} \\frac{x - x_j}{x_i - x_j}\n",
    "\\end{align}\n",
    "\n",
    "A property of the Lagrange polynomial associated with the i-th collocation point is that $a^{(l)}_i(x_i) = 1$ at this point, and $a^{(l)}_i(x_j) = 0$ at all other collocation points $x_j$. The interpolation $I^{(l)}f^{(1)}$ will therefore exactly reproduce the code outputs $f^{(1)}(x_i)$ at the collocation points $x_i$.\n",
    "\n",
    "### Refinement\n",
    "\n",
    "Let us define the following difference formulas for interpolation in 1D:\n",
    "\n",
    "\\begin{align}\n",
    " \\Delta^{(l)} f^{(1)} := I^{(l)}f^{(1)} - I^{(l-1)}f^{(1)}\\quad\\mathrm{where}\\quad\n",
    " I^{(0)}f^{(1)}:=0.\n",
    " \\label{eq:Delta1d}\n",
    "\\end{align}\n",
    "\n",
    "That is, $ \\Delta^{(l)} f^{(1)}$ is just the difference between the interpolations at successive levels. These difference formulas are often used in both sparse-grid interpolation (and quadrature), see the figure below.\n",
    "\n",
    "![](images/fig1.png)\n",
    "\n",
    "\n",
    "When interpolating a level $l-1$ interpolant using a level $l$ interpolating we retrieve the former, i.e.\n",
    "\n",
    "\\begin{align}\n",
    " I^{(l)}\\left(I^{(l-1)}f^{(l)}\\right) = I^{(l-1)}f^{(l)}.\n",
    "\\end{align}\n",
    "\n",
    "\n",
    "Thus, a lower level interpolant can be exactly interpolated by a higher level interpolant (which is true for both nested and non-nested collocation points), see Figure below:\n",
    "\n",
    "![](images/fig2.png)\n",
    "*The blue solid line is the exact 1D function $f^{(1)}$. The red striped line is a (non-nested) level $l$ interpolant. The green striped line is a lower-level $l-1$ counterpart, constructed from function evaluations at  the green star symbols.. If we evaluate the level $l-1$ interpolant at the level $l$ collocation, we obtain the blue squares. Clearly, if these function values are used to construct a level $l$ interpolant of $I^{(l-1)}f^{(1)}$, which would be $I^{(l)}\\left(I^{(l-1)}f^{(1)}\\right)$, we just retrieve $I^{(l-1)}f^{(1)}$.*\n",
    "\n",
    "We can therefore write the difference formula as\n",
    "\n",
    "\\begin{align}\n",
    " \\Delta^{(l)}f^{(1)} = I^{(l)}f^{(1)} - I^{(l-1)}f^{(1)} =  I^{(l)}f^{(1)} - I^{(l)}\\left(I^{(l-1)}f^{(1)}\\right) = \\sum_{i = 1}^{m_l}f(x^{(l)}_i)a^{(l)}_i - \\sum_{i=1}^{m_l}I^{(l-1)}f^{(1)}(x^{(l)}_i)a^{(l)}_i = \\nonumber\\\\\n",
    " \\sum_{i=1}^{m_l}\\left[f(x^{(l)}_i) - I^{(l-1)}f^{(1)}(x^{(l)}_i)\\right]a^{(l)}_i = \\sum_{i=1}^{m_l}w^{(l)}_ia^{(l)}_i.\n",
    " \\label{eq:diff0}\n",
    "\\end{align}\n",
    "\n",
    "Here, $w^{(l)}_i:=f(x^{(l)}_i) - I^{(l-1)}f^{(1)}(x^{(l)}_i)$ is the **hierarchical surplus**, defined as the difference between the code output at a collocation point $x^{(l)}_i$ at level $l$, minus the level $l-1$ polynomial approximation of the code output at the same location. This can be thought of as a local measure of the accuracy of the interpolation. Furthermore, we can also write the interpolation $I^{(l)}f^{(1)}(x)$ in terms of the difference formulas, in which case the $a^{l}_i$ basis function will form a hierarchical basis as\n",
    "\n",
    "\\begin{align}\n",
    " I^{(L)}f^{(1)} = \\sum_{l=1}^L \\Delta^{(l)}f^{(1)} = \\sum_{l=1}^L\\sum_{i=1}^{m_l}w^{(l)}_i a^{(l)}_i\n",
    " \\label{eq:diff1}\n",
    "\\end{align}\n",
    "\n",
    "Hence, to obtain a level $L$ interpolant, we can just create a telescopic sum of the difference formulas, which is the first equality above. The second equality is obtained by simply plugging in the formula for $\\Delta^{(l)}f^{(1)}$, and it shows that the $a^{(l)}_i$ form a hierarchical basis due to summation over $l$, which increases the number collocation point $m_l$ at every new level. This is also sketched in the Figure below, which assumes linear basis functions for simplicity.\n",
    "\n",
    "![](images/fig3.png)\n",
    "*Top left is a standard linear (finite-element) basis, with below it a corresponding linear interpolant. Top right displays a linear hierarchical basis. Below it we show a series of 3 hierarchical interpolants ($L=1,2$ and $3$) and the hierarchical surplus coefficients $w^{(l)}_i$ used in their construction. Figure recreated from*\n",
    "\n",
    "**Why should we care?**\n",
    "\n",
    "The formula above is the same as $I^{(l)}f^{(1)}$ in the beginning, as both are 1D interpolation formulas, only written differently, so why should we complicate things with a hierarchical notation? \n",
    "\n",
    "One advantage of adopting the hierarchical notation is that it naturally allows for **refinement**, i.e. adding more points to an existing sampling plan, by adding another level. If we select a nested quadrature rule, adding another level means we only have to evaluate the (expensive) code at a relatively small number of *new* points, the other points are quaranteed to be present in one or more of the previous levels, see the CC example at the beginning of this section.\n",
    "\n",
    "In the case more than one uncertain input, sampling plans are create using **tensor products of 1D collocation points**. Here, **a hierarchical construction leads to a sparse sampling plan**, with much less code evaluations compared to \"standard\" sampling plans.\n",
    "\n",
    "![](images/drawing.png)"
   ]
  },
  {
   "cell_type": "markdown",
   "id": "349030a3",
   "metadata": {},
   "source": [
    "## Sparse-grid UQ in practice\n",
    "\n",
    "### Model description\n",
    "\n",
    "Let's review the basic model. It is a simulation of a vertical deflection of a round metal \n",
    "tube suspended on each end in response to a force applied at certain point ```a``` along its length. \n",
    "Our goal is to determine the influence of the input parameters on the vertical deflection at point ```a```.\n",
    "\n",
    "The usage of the application is:\n",
    "\n",
    "```beam <input_file>```\n",
    "\n",
    "It outputs calculated displacements to a file called `output.json`. Its content will look like \n",
    "\n",
    "```{'g1': x, 'g2': y, 'g3': y}```\n",
    "\n",
    "In order to produce statistically significant results, EasyVVUQ needs to run a number of model evaluations\n",
    " appropriately selecting input arguments from a given sample parameter space. \n",
    " Once selected, input parameters need to be transformed into a format understandable by the application. \n",
    "Our application takes a single file as an input and the transformation may be based on a single template file,\n",
    "called `beam.template`, with the following content:\n",
    "\n",
    "```{\"outfile\": \"$outfile\", \"F\": $F, \"L\": $L, \"a\": $a, \"D\": $D, \"d\": $d, \"E\": $E}```\n",
    "\n",
    "The template will be used to generate files called `input.json` that will be the input to each run of beam.\n",
    "All placeholders (signified by the $ delimeter) will be replaced by concrete values from the sample parameter space. \n",
    "\n",
    "<img src=\"images/simply_supported_beam.png\" width=\"500\" height=\"300\" />\n",
    "\n",
    "The tube has an inner and outer diameter\n",
    "\n",
    "<img src=\"images/tube-diameters.png\" width=\"200\" height=\"100\" />\n",
    "\n",
    "The parameters are self explanatory, and the model is just a simple analytical function, which can be found [here](https://openturns.github.io/openturns/latest/usecases/use_case_deflection_tube.html)."
   ]
  },
  {
   "cell_type": "code",
   "execution_count": 2,
   "id": "9f443ca5",
   "metadata": {},
   "outputs": [],
   "source": [
    "import os\n",
    "import numpy as np\n",
    "import easyvvuq as uq\n",
    "import chaospy as cp\n",
    "import matplotlib.pyplot as plt\n",
    "from easyvvuq.actions import CreateRunDirectory, Encode, Decode, ExecuteLocal, Actions"
   ]
  },
  {
   "cell_type": "code",
   "execution_count": 3,
   "id": "48fa6a80",
   "metadata": {},
   "outputs": [],
   "source": [
    "# the directory in which the code samples will be stored\n",
    "WORK_DIR = '/tmp'"
   ]
  },
  {
   "cell_type": "code",
   "execution_count": 8,
   "id": "c985a8ef",
   "metadata": {},
   "outputs": [],
   "source": [
    "# specify the parameters\n",
    "params = {\n",
    "    \"F\": {\"type\": \"float\", \"default\": 1.0}, \n",
    "    \"L\": {\"type\": \"float\", \"default\": 1.5}, \n",
    "    \"a\": {\"type\": \"float\", \"min\": 0.7, \"max\": 1.2, \"default\": 1.0}, \n",
    "    \"D\": {\"type\": \"float\", \"min\": 0.75, \"max\": 0.85, \"default\": 0.8},\n",
    "    \"d\": {\"type\": \"float\", \"default\": 0.1},\n",
    "    \"E\": {\"type\": \"float\", \"default\": 200000},\n",
    "    \"outfile\": {\"type\": \"string\", \"default\": \"output.json\"}\n",
    "}"
   ]
  },
  {
   "cell_type": "markdown",
   "id": "aa0a57a9",
   "metadata": {},
   "source": [
    "Below we create the encoder and decoder objects that are capable of reading the input and output files that are described above."
   ]
  },
  {
   "cell_type": "code",
   "execution_count": 9,
   "id": "5676e2bf",
   "metadata": {},
   "outputs": [],
   "source": [
    "encoder = uq.encoders.GenericEncoder(template_fname='beam.template', delimiter='$', target_filename='input.json')\n",
    "decoder = uq.decoders.JSONDecoder(target_filename='output.json', output_columns=['g1'])"
   ]
  },
  {
   "cell_type": "markdown",
   "id": "d9df6eb3",
   "metadata": {},
   "source": [
    "As our model is a toy problem, we can execute it locally:"
   ]
  },
  {
   "cell_type": "code",
   "execution_count": 10,
   "id": "c731cd33",
   "metadata": {},
   "outputs": [],
   "source": [
    "execute = ExecuteLocal('{}/beam input.json'.format(os.getcwd()))"
   ]
  },
  {
   "cell_type": "markdown",
   "id": "bd5c9100",
   "metadata": {},
   "source": [
    "However, in many cases the model will be too expensive for local executing. In this case the VECMA tools [QCG-PilotJob](https://github.com/vecma-project/QCG-PilotJob) or [FabSim3](https://github.com/djgroen/FabSim3) can be used in combination with EasyVVUQ to submit the ensemble to HPC resources."
   ]
  },
  {
   "cell_type": "markdown",
   "id": "63870fd6",
   "metadata": {},
   "source": [
    "Now we are combine all actions we want to execute into an Actions object."
   ]
  },
  {
   "cell_type": "code",
   "execution_count": 11,
   "id": "a89c653d",
   "metadata": {},
   "outputs": [],
   "source": [
    "actions = Actions(CreateRunDirectory(root=WORK_DIR, flatten=True), Encode(encoder), execute, Decode(decoder))"
   ]
  },
  {
   "cell_type": "markdown",
   "id": "b2784891",
   "metadata": {},
   "source": [
    "An EasyVVUQ campaign is created, and the parameters and actions are supplied to it."
   ]
  },
  {
   "cell_type": "code",
   "execution_count": 12,
   "id": "a57db561",
   "metadata": {},
   "outputs": [],
   "source": [
    "campaign = uq.Campaign(name='beam_SC', params=params, actions=actions)"
   ]
  },
  {
   "cell_type": "markdown",
   "id": "a1251687",
   "metadata": {},
   "source": [
    "We simply copy the input distributions from [here](https://openturns.github.io/openturns/latest/usecases/use_case_deflection_tube.html):\n",
    "\n",
    "\n",
    "* F: Normal(1,0.1)\n",
    "* L: Normal(1.5,0.01)\n",
    "* a: Uniform(0.7,1.2)\n",
    "* D: Triangular(0.75,0.8,0.85)\n",
    "* d: Triangular(0.09,0.1,0.11)\n",
    "* E: Normal(200000,2000)"
   ]
  },
  {
   "cell_type": "markdown",
   "id": "3553479a",
   "metadata": {},
   "source": [
    "Let's start with just 2 inputs, and visualize the sparse grid. "
   ]
  },
  {
   "cell_type": "code",
   "execution_count": 14,
   "id": "253f00bb",
   "metadata": {},
   "outputs": [],
   "source": [
    "# specify the input distributions of the parameters that we which to vary\n",
    "vary = {\n",
    "    \"a\": cp.Uniform(0.7, 1.2),\n",
    "    \"D\": cp.Triangle(0.75, 0.8, 0.85),\n",
    "}"
   ]
  },
  {
   "cell_type": "markdown",
   "id": "40979e91",
   "metadata": {},
   "source": [
    "Here we select the (sparse) Stochastic Collocation sampler. Increase the `polynomial_order` of the sampler object below to create sparse grids with more levels. Also compare this to a standard non-sparse sampling plan by setting `sparse=False`."
   ]
  },
  {
   "cell_type": "code",
   "execution_count": 15,
   "id": "cd7cc44d",
   "metadata": {},
   "outputs": [
    {
     "name": "stdout",
     "output_type": "stream",
     "text": [
      "Number of sampling points = 1\n"
     ]
    },
    {
     "data": {
      "image/png": "[encoded data removed]",
      "text/plain": [
       "<Figure size 432x288 with 1 Axes>"
      ]
     },
     "metadata": {
      "needs_background": "light"
     },
     "output_type": "display_data"
    }
   ],
   "source": [
    "sampler = uq.sampling.SCSampler(vary=vary, polynomial_order=1, quadrature_rule='C', growth=True, sparse=True)\n",
    "campaign.set_sampler(sampler)\n",
    "\n",
    "# plot the sampling plan of the (first) two input dimensions\n",
    "fig = plt.figure()\n",
    "ax = fig.add_subplot(111, xlabel='x_1', ylabel='x_2')\n",
    "# the xi_d array contains the N x d sampling points, with N being the number of points and d the number of inputs\n",
    "ax.plot(sampler.xi_d[:,0], sampler.xi_d[:, 1], 'ro')\n",
    "# print the number of points to screen\n",
    "print(\"Number of sampling points = %d\" % sampler.n_samples)"
   ]
  },
  {
   "cell_type": "markdown",
   "id": "97c4d977",
   "metadata": {},
   "source": [
    "The command below executes the ensemble and collects the results from the output files."
   ]
  },
  {
   "cell_type": "code",
   "execution_count": 35,
   "id": "3f11bba0",
   "metadata": {},
   "outputs": [
    {
     "name": "stdout",
     "output_type": "stream",
     "text": [
      "Number of sampling points = 1537\n"
     ]
    },
    {
     "name": "stderr",
     "output_type": "stream",
     "text": [
      "100%|██████████| 832/832 [00:38<00:00, 21.82it/s]\n"
     ]
    },
    {
     "data": {
      "image/png": "[encoded data removed]",
      "text/plain": [
       "<Figure size 432x288 with 1 Axes>"
      ]
     },
     "metadata": {
      "needs_background": "light"
     },
     "output_type": "display_data"
    }
   ],
   "source": [
    "refine = True\n",
    "if refine:\n",
    "    sampler.next_level_sparse_grid()\n",
    "    # plot the sampling plan of the (first) two input dimensions\n",
    "    fig = plt.figure()\n",
    "    ax = fig.add_subplot(111, xlabel='x_1', ylabel='x_2')\n",
    "    # the xi_d array contains the N x d sampling points, with N being the number of points and d the number of inputs\n",
    "    ax.plot(sampler.xi_d[:,0], sampler.xi_d[:, 1], 'ro')\n",
    "    # print the number of points to screen\n",
    "    print(\"Number of sampling points = %d\" % sampler.n_samples)\n",
    "# execute ensemble\n",
    "campaign.execute().collate(progress_bar=True)"
   ]
  },
  {
   "cell_type": "code",
   "execution_count": 27,
   "id": "b25cfe89",
   "metadata": {},
   "outputs": [],
   "source": [
    "data_frame = campaign.get_collation_result()"
   ]
  },
  {
   "cell_type": "markdown",
   "id": "ba1f02c8",
   "metadata": {},
   "source": [
    "The command below peforms the analysis step by post-processing of the ensemble results."
   ]
  },
  {
   "cell_type": "code",
   "execution_count": 28,
   "id": "156ced34",
   "metadata": {},
   "outputs": [],
   "source": [
    "results = campaign.analyse(qoi_cols=['g1'])"
   ]
  },
  {
   "cell_type": "markdown",
   "id": "0b0ef7a2",
   "metadata": {},
   "source": [
    "Let's plot some Sobol sensitivity indices"
   ]
  },
  {
   "cell_type": "code",
   "execution_count": 29,
   "id": "6fa3d2e0",
   "metadata": {},
   "outputs": [],
   "source": [
    "sobols_first = results.sobols_first()\n",
    "param_names = sobols_first['g1'].keys()\n",
    "sobols_first = np.array(list(sobols_first['g1'].values()))"
   ]
  },
  {
   "cell_type": "code",
   "execution_count": 30,
   "id": "46b505ac",
   "metadata": {},
   "outputs": [
    {
     "data": {
      "image/png": "[encoded data removed]",
      "text/plain": [
       "<Figure size 288x576 with 1 Axes>"
      ]
     },
     "metadata": {
      "needs_background": "light"
     },
     "output_type": "display_data"
    }
   ],
   "source": [
    "fig = plt.figure(figsize=[4, 8])\n",
    "ax = fig.add_subplot(111)\n",
    "ax.set_ylabel(r'first-order Sobol index', fontsize=14)\n",
    "# find max quad order for every parameter\n",
    "ax.bar(range(sobols_first.size), height=sobols_first.flatten())\n",
    "ax.set_xticks(range(sobols_first.size))\n",
    "ax.set_xticklabels(param_names)\n",
    "plt.xticks(rotation=90)\n",
    "plt.tight_layout()"
   ]
  },
  {
   "cell_type": "markdown",
   "id": "38eefbb4",
   "metadata": {},
   "source": [
    "Now, refine the grid multiple times to get an idea of the cost involved."
   ]
  },
  {
   "cell_type": "markdown",
   "id": "8caef3a8",
   "metadata": {},
   "source": [
    "Notice that it can still become expensive, expecially for more than 2 inputs. So what can you do if you have 20, 30 or more inputs? One option is to still use a hierarchical sparse-grid construction, but try to refine only those inputs which have a significant impact on the output, see e.g. [5]. Here, we have refined all parameters to the same extent.\n",
    "\n",
    "Another option, which will discuss below, is to use active subspaces to create a surrogate model, trained on input-output data."
   ]
  },
  {
   "cell_type": "markdown",
   "id": "c381f9d5",
   "metadata": {},
   "source": [
    "## Active subspaces in theory\n",
    "\n",
    "\n",
    "The Active Subspace method, introduced by [1], is a class of methods for forward propagation of uncertainty in high-dimensional input spaces. It attempts to circumvent the curse of dimensionality by dimension reduction of the input space. Specifically, it projects the input vector ${\\bf x}\\in\\mathbb{R}^D$ to a lower-dimensional subspace ${\\bf y}\\in\\mathbb{R}^d$, via a tall-and-skinny matrix $W_1\\in\\mathbb{R}^{D\\times d}$ of orthogonal basis vectors, such that $W_1^TW_1 = I_d$, where $d<D$ and $I_d$ is the $d$-dimensional identity matrix. The active subspace is thus given by\n",
    "\n",
    "\\begin{align}\n",
    "{\\bf y} = W_1^T{\\bf x} \\in\\mathbb{R}^d,\n",
    "\\label{eq:active}\n",
    "\\end{align}\n",
    "\n",
    "where the main idea is that the dimension reduction simplifies the task of obtaining an accurate surrogate model. If we denote this surrogate by $g$, we thus want to find a model that satisfies\n",
    "\n",
    "\\begin{align}\n",
    "f({\\bf x})\\approx g\\left({\\bf y}\\right) = g\\left(W_1^T{\\\n",
    "\\bf x}\\right).\n",
    "\\label{eq:g}\n",
    "\\end{align}\n",
    "\n",
    "![](images/contours4.png)\n",
    "\n",
    "*Although this function has 2 inputs, most of the variability occurs along a single direction (blue arrow) making the function effectively (almost) one dimensional*\n",
    "\n",
    "### Classical means of finding $W_1$\n",
    "\n",
    "Because ${\\bf y}$ is a linear transformation of the inputs ${\\bf x}$, it opens up the possibility of findings directions along which the model varies most. This is especially useful if a model varies significantly in a direction that is not aligned with the coordinate axes of ${\\bf x}$. In \"classical\" active subspaces, dimension reduction is achieved by rotating the coordinate system such that it is aligned with the directions of most variability, after which only the most dominant directions are retained. To find these directions, the following average gradient matrix is constructed:\n",
    "\n",
    "\\begin{align}\n",
    " C = \\int \\left(\\nabla f\\left({\\bf x}\\right)\\right)\\left(\\nabla f\\left({\\bf x}\\right)\\right)^T p(\\bf x)d{\\bf x}\n",
    " \\label{eq:C}\n",
    "\\end{align}\n",
    "\\noindent\n",
    "Here, $p({\\bf x})$ is the chosen probability density function (pdf) of the inputs ${\\bf x}$. Since $C$ is a symmetric, positive semi-definite matrix, it has the following spectral decomposition\n",
    "\n",
    "\\begin{align*}\n",
    " C = [W_1 W_2]\\left[\n",
    "\\begin{matrix}\n",
    "\\Lambda_1 & 0 \\\\\n",
    "0 & \\Lambda_2\n",
    "\\end{matrix} \n",
    " \\right][W_1 W_2]^T.\n",
    "\\end{align*}\n",
    "\n",
    "Hence the matrix $W_1$, used to project ${\\bf x}$ to ${\\bf y}$ in, are the first $d$ eigenvectors of $C$, which in turn correspond to the $d$ largest eigenvalues in $\\Lambda_1$. These $d$ eigenvectors form an orthonormal basis aligned with the directions of most variability. Note that $C$ is averaged over $p({\\bf x})$, and that in practise, the integral in in $C$ is often approximated using a Monte Carlo approach.\n",
    "\n",
    "The approach described here is intuitive, and has nice theoretical properties, such as computable error bounds. The downside however, is that the gradient $\\nabla f({\\bf x})$ must be available. This requires the availability of an adjoint solver, or one must approximate the gradients using for instance finite differences. This downside has prompted the development of other active subspace methods which do not require access to the gradient. Some of these methods involve Gaussian processes, whereas others use deep learning. We will focus on the latter.\n",
    "\n",
    "### Deep active subspaces\n",
    "\n",
    "In [2], an approach is described in which artificial neural networks (ANNs) are used for $g$, and where $W_1$ is found using back propagation. Like the classical active subspace method, the construction ${\\bf y} = W_1^T{\\bf x}$ is retained. Moreover, the column vectors of $W_1$ still form an orthogonal basis. The difference is that the column vectors of $W_1$ are no longer the eigenvectors of the gradient matrix $C$, but instead are constructed using Gram-Schmidt orthogonalization. As such, $W_1$ is parametrized by a matrix $Q$ of the same dimension ($\\in\\mathrm{R}^{D\\times d}$), where the non-orthonormal column vectors ${\\bf q}_i\\in\\mathbb{R}^D$ are made orthonormal via\n",
    "\n",
    "\\begin{align}\n",
    " {\\bf w}_i = {\\bf q}_i - \\sum_{j=1}^{i-1}\\left(\\frac{{\\bf w}_j^T{\\bf q}_i}{{\\bf w}_j^T{\\bf w}_j}\\right){\\bf w}_j, \\quad i = 1,\\cdots, d.\n",
    " \\label{eq:GS}\n",
    "\\end{align}\n",
    "\n",
    "That is, we start with ${\\bf w}_1 := {\\bf q}_1$, and for all subsequent vectors ${\\bf q}_i$ we subtract the projections of ${\\bf q}_i$ onto each vector ${\\bf w}_j$ which has previously been orthogonalized. This leaves us with a orthogonal basis $ \\left[{\\bf w}_1({\\bf q}_1)\\;\\;{\\bf w}_2({\\bf q}_1, {\\bf q}_2)\\;\\;\\cdots\\;\\;{\\bf w}_d({\\bf q}_1,{\\bf q}_2\\,\\cdots,{\\bf q}_d)\\right]$. Finally, to obtain an orthonormal basis, each column vector is divided by its length. such that our final weight matrix becomes\n",
    "\n",
    "\\begin{align}\n",
    "W_1(Q) = \\left[\\frac{{\\bf w}_1({\\bf q}_1)}{\\lVert{\\bf w}_1({\\bf q}_1)\\rVert_2}\\;\\;\\frac{{\\bf w}_2({\\bf q}_1, {\\bf q}_2)}{\\lVert{\\bf w}_2({\\bf q}_1, {\\bf q}_2)\\rVert_2}\\;\\;\\cdots\\;\\;\\frac{{\\bf w}_d({\\bf q}_1,{\\bf q}_2\\,\\cdots,{\\bf q}_d)}{\\lVert{\\bf w}_d({\\bf q}_1,{\\bf q}_2\\,\\cdots,{\\bf q}_d)\\rVert_2}\\right].\n",
    "\\label{eq:W1}\n",
    "\\end{align}\n",
    "\n",
    "Note that the projection ${\\bf y} = \\Phi\\left(W_1^T{\\bf x}\\right) = W_1^T{\\bf x}$ also occurs in a layer of a neural network if the activation function $\\Phi\\left(\\cdot\\right)$ is linear. Thus, we can interpret the matrix $W_1$ as a weight matrix of the first hidden layer (with $d$ neurons and linear activation), connected to an input layer through which ${\\bf x}$ is passed. Each column vector ${\\bf w}_i$ contains the all weights connecting the input layer to the i-th neuron of the first hidden layer, see the figure below. Since the first hidden layer has only $d$ neurons, and its weight matrix is determined from a Gram-Schmidt procedure, we call the layer the Deep Active Subspace (DAS) layer.\n",
    "\n",
    "<img src=\"images/nn1.png\" width=700 height=700>\n",
    "\n",
    "The surrogate $g({\\bf y})$ is the ANN from the DAS layer onward, see the figure below. Each hidden layer has a weight matrix $W_i\\in\\mathbb{R}^{p + 1\\times p}$, assuming that all hidden layers have $p$ neurons plus 1 bias neuron. As per usual, these weight matrices are optimized through the back propagation algorithm, in which the gradient $\\partial L/\\partial W_i$ is computed, where $L$ is the loss function.\n",
    "\n",
    "<img src=\"images/nn2.png\" width=700 height=700>\n",
    "\n",
    "The situation in the DAS layer is different. Since $W_1=W_1(Q)$, we need to optimize $Q$ instead of the weight matrix, and therefore back propagation requires $\\partial L/\\partial Q$ instead of $\\partial L/\\partial W_1$. The authors of [2] suggest to use automatic differentiation. This does make sense, since although ${\\bf w}_k/\\Vert {\\bf w}_k \\rVert_2$ is algebraic and differentiable, it quickly becomes a complicated expression involving a very large number of $q_{ij}$ terms. Here, $q_{ij}$ are the $D$ entries, $i=1,\\cdots,D$, of ${\\bf q}_j$. That said, it is possible to use matrix calculus to find a simple expression for $\\partial L /\\partial Q$, which is the approach implemented in EasySurrogate."
   ]
  },
  {
   "cell_type": "markdown",
   "id": "30ba85e3",
   "metadata": {},
   "source": [
    "## Deep active subspaces in practise\n",
    "\n",
    "We will use EasyVVUQ with a Latin Hypercube (LHC) space filling design to sample the code. This will serve as training data for EasySurrogate. We will create a new campaign and LHC sampler, and reuse all previously defined `actions`."
   ]
  },
  {
   "cell_type": "code",
   "execution_count": 36,
   "id": "cb0601f7",
   "metadata": {},
   "outputs": [
    {
     "name": "stderr",
     "output_type": "stream",
     "text": [
      "100%|██████████| 500/500 [00:23<00:00, 21.53it/s]\n"
     ]
    }
   ],
   "source": [
    "# Now we'll use all 6 inputs\n",
    "vary = {\n",
    "    \"F\": cp.Normal(1, 0.1),\n",
    "    \"L\": cp.Normal(1.5, 0.01),\n",
    "    \"a\": cp.Uniform(0.7, 1.2),\n",
    "    \"D\": cp.Triangle(0.75, 0.8, 0.85),\n",
    "    \"d\": cp.Triangle(0.09, 0.1, 0.11),\n",
    "    \"E\": cp.Normal(200000, 2000)\n",
    "}\n",
    "\n",
    "LHC_campaign = uq.Campaign(name='beam_LHC', params=params, actions=actions)\n",
    "LHC_sampler = uq.sampling.quasirandom.LHCSampler(vary, max_num=500)\n",
    "LHC_campaign.set_sampler(LHC_sampler)\n",
    "LHC_campaign.execute().collate(progress_bar=True)"
   ]
  },
  {
   "cell_type": "code",
   "execution_count": 37,
   "id": "fe552259",
   "metadata": {},
   "outputs": [
    {
     "data": {
      "text/html": [
       "<div>\n",
       "<style scoped>\n",
       "    .dataframe tbody tr th:only-of-type {\n",
       "        vertical-align: middle;\n",
       "    }\n",
       "\n",
       "    .dataframe tbody tr th {\n",
       "        vertical-align: top;\n",
       "    }\n",
       "\n",
       "    .dataframe thead tr th {\n",
       "        text-align: left;\n",
       "    }\n",
       "</style>\n",
       "<table border=\"1\" class=\"dataframe\">\n",
       "  <thead>\n",
       "    <tr>\n",
       "      <th></th>\n",
       "      <th>run_id</th>\n",
       "      <th>iteration</th>\n",
       "      <th>F</th>\n",
       "      <th>L</th>\n",
       "      <th>a</th>\n",
       "      <th>D</th>\n",
       "      <th>d</th>\n",
       "      <th>E</th>\n",
       "      <th>outfile</th>\n",
       "      <th>g1</th>\n",
       "    </tr>\n",
       "    <tr>\n",
       "      <th></th>\n",
       "      <th>0</th>\n",
       "      <th>0</th>\n",
       "      <th>0</th>\n",
       "      <th>0</th>\n",
       "      <th>0</th>\n",
       "      <th>0</th>\n",
       "      <th>0</th>\n",
       "      <th>0</th>\n",
       "      <th>0</th>\n",
       "      <th>0</th>\n",
       "    </tr>\n",
       "  </thead>\n",
       "  <tbody>\n",
       "    <tr>\n",
       "      <th>0</th>\n",
       "      <td>1</td>\n",
       "      <td>0</td>\n",
       "      <td>1.329421</td>\n",
       "      <td>1.489054</td>\n",
       "      <td>1.045680</td>\n",
       "      <td>0.788183</td>\n",
       "      <td>0.105704</td>\n",
       "      <td>203428.841674</td>\n",
       "      <td>output.json</td>\n",
       "      <td>-0.000008</td>\n",
       "    </tr>\n",
       "    <tr>\n",
       "      <th>1</th>\n",
       "      <td>2</td>\n",
       "      <td>0</td>\n",
       "      <td>1.216001</td>\n",
       "      <td>1.498577</td>\n",
       "      <td>1.115272</td>\n",
       "      <td>0.807802</td>\n",
       "      <td>0.094288</td>\n",
       "      <td>202002.524204</td>\n",
       "      <td>output.json</td>\n",
       "      <td>-0.000006</td>\n",
       "    </tr>\n",
       "    <tr>\n",
       "      <th>2</th>\n",
       "      <td>3</td>\n",
       "      <td>0</td>\n",
       "      <td>0.835798</td>\n",
       "      <td>1.496655</td>\n",
       "      <td>1.162297</td>\n",
       "      <td>0.796109</td>\n",
       "      <td>0.104340</td>\n",
       "      <td>198553.883518</td>\n",
       "      <td>output.json</td>\n",
       "      <td>-0.000004</td>\n",
       "    </tr>\n",
       "    <tr>\n",
       "      <th>3</th>\n",
       "      <td>4</td>\n",
       "      <td>0</td>\n",
       "      <td>0.960515</td>\n",
       "      <td>1.486671</td>\n",
       "      <td>0.816257</td>\n",
       "      <td>0.764011</td>\n",
       "      <td>0.100693</td>\n",
       "      <td>201135.229479</td>\n",
       "      <td>output.json</td>\n",
       "      <td>-0.000010</td>\n",
       "    </tr>\n",
       "    <tr>\n",
       "      <th>4</th>\n",
       "      <td>5</td>\n",
       "      <td>0</td>\n",
       "      <td>1.129988</td>\n",
       "      <td>1.485850</td>\n",
       "      <td>1.049681</td>\n",
       "      <td>0.767948</td>\n",
       "      <td>0.092656</td>\n",
       "      <td>202526.833705</td>\n",
       "      <td>output.json</td>\n",
       "      <td>-0.000008</td>\n",
       "    </tr>\n",
       "    <tr>\n",
       "      <th>...</th>\n",
       "      <td>...</td>\n",
       "      <td>...</td>\n",
       "      <td>...</td>\n",
       "      <td>...</td>\n",
       "      <td>...</td>\n",
       "      <td>...</td>\n",
       "      <td>...</td>\n",
       "      <td>...</td>\n",
       "      <td>...</td>\n",
       "      <td>...</td>\n",
       "    </tr>\n",
       "    <tr>\n",
       "      <th>495</th>\n",
       "      <td>496</td>\n",
       "      <td>0</td>\n",
       "      <td>1.051242</td>\n",
       "      <td>1.490044</td>\n",
       "      <td>0.912759</td>\n",
       "      <td>0.806422</td>\n",
       "      <td>0.099093</td>\n",
       "      <td>202196.030332</td>\n",
       "      <td>output.json</td>\n",
       "      <td>-0.000008</td>\n",
       "    </tr>\n",
       "    <tr>\n",
       "      <th>496</th>\n",
       "      <td>497</td>\n",
       "      <td>0</td>\n",
       "      <td>0.914680</td>\n",
       "      <td>1.511702</td>\n",
       "      <td>0.791074</td>\n",
       "      <td>0.797670</td>\n",
       "      <td>0.103220</td>\n",
       "      <td>197248.677521</td>\n",
       "      <td>output.json</td>\n",
       "      <td>-0.000008</td>\n",
       "    </tr>\n",
       "    <tr>\n",
       "      <th>497</th>\n",
       "      <td>498</td>\n",
       "      <td>0</td>\n",
       "      <td>1.164355</td>\n",
       "      <td>1.495255</td>\n",
       "      <td>0.912602</td>\n",
       "      <td>0.782434</td>\n",
       "      <td>0.096325</td>\n",
       "      <td>199453.128451</td>\n",
       "      <td>output.json</td>\n",
       "      <td>-0.000010</td>\n",
       "    </tr>\n",
       "    <tr>\n",
       "      <th>498</th>\n",
       "      <td>499</td>\n",
       "      <td>0</td>\n",
       "      <td>1.004875</td>\n",
       "      <td>1.493364</td>\n",
       "      <td>0.795507</td>\n",
       "      <td>0.826904</td>\n",
       "      <td>0.103522</td>\n",
       "      <td>200893.555481</td>\n",
       "      <td>output.json</td>\n",
       "      <td>-0.000007</td>\n",
       "    </tr>\n",
       "    <tr>\n",
       "      <th>499</th>\n",
       "      <td>500</td>\n",
       "      <td>0</td>\n",
       "      <td>0.937482</td>\n",
       "      <td>1.517760</td>\n",
       "      <td>0.812826</td>\n",
       "      <td>0.757059</td>\n",
       "      <td>0.109105</td>\n",
       "      <td>197371.508471</td>\n",
       "      <td>output.json</td>\n",
       "      <td>-0.000011</td>\n",
       "    </tr>\n",
       "  </tbody>\n",
       "</table>\n",
       "<p>500 rows × 10 columns</p>\n",
       "</div>"
      ],
      "text/plain": [
       "    run_id iteration         F         L         a         D         d  \\\n",
       "         0         0         0         0         0         0         0   \n",
       "0        1         0  1.329421  1.489054  1.045680  0.788183  0.105704   \n",
       "1        2         0  1.216001  1.498577  1.115272  0.807802  0.094288   \n",
       "2        3         0  0.835798  1.496655  1.162297  0.796109  0.104340   \n",
       "3        4         0  0.960515  1.486671  0.816257  0.764011  0.100693   \n",
       "4        5         0  1.129988  1.485850  1.049681  0.767948  0.092656   \n",
       "..     ...       ...       ...       ...       ...       ...       ...   \n",
       "495    496         0  1.051242  1.490044  0.912759  0.806422  0.099093   \n",
       "496    497         0  0.914680  1.511702  0.791074  0.797670  0.103220   \n",
       "497    498         0  1.164355  1.495255  0.912602  0.782434  0.096325   \n",
       "498    499         0  1.004875  1.493364  0.795507  0.826904  0.103522   \n",
       "499    500         0  0.937482  1.517760  0.812826  0.757059  0.109105   \n",
       "\n",
       "                 E      outfile        g1  \n",
       "                 0            0         0  \n",
       "0    203428.841674  output.json -0.000008  \n",
       "1    202002.524204  output.json -0.000006  \n",
       "2    198553.883518  output.json -0.000004  \n",
       "3    201135.229479  output.json -0.000010  \n",
       "4    202526.833705  output.json -0.000008  \n",
       "..             ...          ...       ...  \n",
       "495  202196.030332  output.json -0.000008  \n",
       "496  197248.677521  output.json -0.000008  \n",
       "497  199453.128451  output.json -0.000010  \n",
       "498  200893.555481  output.json -0.000007  \n",
       "499  197371.508471  output.json -0.000011  \n",
       "\n",
       "[500 rows x 10 columns]"
      ]
     },
     "execution_count": 37,
     "metadata": {},
     "output_type": "execute_result"
    }
   ],
   "source": [
    "data_frame = LHC_campaign.get_collation_result()\n",
    "data_frame"
   ]
  },
  {
   "cell_type": "markdown",
   "id": "397f524c",
   "metadata": {},
   "source": [
    "Install EasySurrogate"
   ]
  },
  {
   "cell_type": "code",
   "execution_count": 38,
   "id": "278404ab",
   "metadata": {},
   "outputs": [
    {
     "name": "stdout",
     "output_type": "stream",
     "text": [
      "Defaulting to user installation because normal site-packages is not writeable\n",
      "Requirement already satisfied: easysurrogate in /usr/local/lib/python3.8/dist-packages/easysurrogate-0.11-py3.8.egg (0.11)\n",
      "Requirement already satisfied: h5py in /usr/local/lib/python3.8/dist-packages (from easysurrogate) (2.10.0)\n",
      "Requirement already satisfied: matplotlib in /home/wouter/.local/lib/python3.8/site-packages (from easysurrogate) (3.3.2)\n",
      "Requirement already satisfied: numpy in /home/wouter/.local/lib/python3.8/site-packages (from easysurrogate) (1.19.0)\n",
      "Requirement already satisfied: scipy in /home/wouter/.local/lib/python3.8/site-packages (from easysurrogate) (1.5.0)\n",
      "Requirement already satisfied: sklearn in /usr/local/lib/python3.8/dist-packages/sklearn-0.0-py3.8.egg (from easysurrogate) (0.0)\n",
      "Requirement already satisfied: six in /usr/lib/python3/dist-packages (from h5py->easysurrogate) (1.14.0)\n",
      "Requirement already satisfied: certifi>=2020.06.20 in /home/wouter/.local/lib/python3.8/site-packages (from matplotlib->easysurrogate) (2020.6.20)\n",
      "Requirement already satisfied: cycler>=0.10 in /home/wouter/.local/lib/python3.8/site-packages (from matplotlib->easysurrogate) (0.10.0)\n",
      "Requirement already satisfied: pyparsing!=2.0.4,!=2.1.2,!=2.1.6,>=2.0.3 in /home/wouter/.local/lib/python3.8/site-packages (from matplotlib->easysurrogate) (2.4.7)\n",
      "Requirement already satisfied: python-dateutil>=2.1 in /usr/lib/python3/dist-packages (from matplotlib->easysurrogate) (2.7.3)\n",
      "Requirement already satisfied: kiwisolver>=1.0.1 in /home/wouter/.local/lib/python3.8/site-packages (from matplotlib->easysurrogate) (1.2.0)\n",
      "Requirement already satisfied: pillow>=6.2.0 in /home/wouter/.local/lib/python3.8/site-packages/Pillow-8.1.0-py3.8-linux-x86_64.egg (from matplotlib->easysurrogate) (8.1.0)\n",
      "Requirement already satisfied: scikit-learn in /usr/local/lib/python3.8/dist-packages/scikit_learn-0.23.2-py3.8-linux-x86_64.egg (from sklearn->easysurrogate) (0.23.2)\n",
      "Requirement already satisfied: joblib>=0.11 in /usr/local/lib/python3.8/dist-packages/joblib-0.16.0-py3.8.egg (from scikit-learn->sklearn->easysurrogate) (0.16.0)\n",
      "Requirement already satisfied: threadpoolctl>=2.0.0 in /usr/local/lib/python3.8/dist-packages/threadpoolctl-2.1.0-py3.8.egg (from scikit-learn->sklearn->easysurrogate) (2.1.0)\n",
      "\u001b[33mWARNING: You are using pip version 21.0.1; however, version 21.1.3 is available.\n",
      "You should consider upgrading via the '/usr/bin/python3 -m pip install --upgrade pip' command.\u001b[0m\n"
     ]
    }
   ],
   "source": [
    "!pip install easysurrogate"
   ]
  },
  {
   "cell_type": "markdown",
   "id": "a2d2bb5e",
   "metadata": {},
   "source": [
    "### Training"
   ]
  },
  {
   "cell_type": "code",
   "execution_count": 39,
   "id": "bd7ca2c3",
   "metadata": {},
   "outputs": [],
   "source": [
    "import easysurrogate as es"
   ]
  },
  {
   "cell_type": "markdown",
   "id": "f60e96ba",
   "metadata": {},
   "source": [
    "EasySurrogate has a design somewhat similar to EasyVVUQ. The main object is also a Campaign, and the different surrogate methods are the counterparts to the different samplers in EasyVVUQ. To create an EasySurrogate campaign, simply type:"
   ]
  },
  {
   "cell_type": "code",
   "execution_count": 41,
   "id": "0bf286eb",
   "metadata": {},
   "outputs": [],
   "source": [
    "surr_campaign = es.Campaign()"
   ]
  },
  {
   "cell_type": "markdown",
   "id": "5abaf314",
   "metadata": {},
   "source": [
    "The EasySurrogate campaign can read the data (input paramater values and code samples) from an EasyVVUQ campaign:"
   ]
  },
  {
   "cell_type": "code",
   "execution_count": 42,
   "id": "2ca93cd3",
   "metadata": {},
   "outputs": [
    {
     "name": "stdout",
     "output_type": "stream",
     "text": [
      "Extracting features ['F', 'L', 'a', 'D', 'd', 'E']\n",
      "Extracting output data ['g1'] \n"
     ]
    }
   ],
   "source": [
    "# read the data input-output data from the LHC campaign \n",
    "params, samples = surr_campaign.load_easyvvuq_data(LHC_campaign, ['g1'])\n",
    "# samples is a dict with the QoI names as keys. Turn it into an array\n",
    "samples = samples['g1']"
   ]
  },
  {
   "cell_type": "markdown",
   "id": "494a44e0",
   "metadata": {},
   "source": [
    "The `d` parameter (the dimension of the DAS layer, and thus the dimension of the active subspace) is a **hyperparameter that should be tuned**. Here we will just set it to 2."
   ]
  },
  {
   "cell_type": "code",
   "execution_count": 43,
   "id": "e70492a2",
   "metadata": {},
   "outputs": [],
   "source": [
    "# the total number of inputs\n",
    "D = len(vary)\n",
    "# the assumed dimension of the active subspace\n",
    "d = 2"
   ]
  },
  {
   "cell_type": "markdown",
   "id": "983b00e4",
   "metadata": {},
   "source": [
    "Here we create a DAS surrogate object and train it on the EasyVVUQ data. `n_iter` is the number of mini batch iterations, `n_layers` the number of layers, not counting the input layer, `n_neurons` is the number of neurons per hidden layer. Finally, `test_frac` is a number between 0 and 1 that reserves the last `test_frac` percent of the data for testing, thereby training the network on the first `1-test_frac` percent of the data."
   ]
  },
  {
   "cell_type": "code",
   "execution_count": 44,
   "id": "7f44973e",
   "metadata": {},
   "outputs": [
    {
     "name": "stdout",
     "output_type": "stream",
     "text": [
      "Creating DAS_Surrogate Object\n",
      "Creating Feature Engineering object\n",
      "Using  400/500 samples to train the ML model\n",
      "done preparing data\n",
      "===============================\n",
      "Neural net parameters\n",
      "===============================\n",
      "Number of layers = 4\n",
      "Number of features = 6\n",
      "Loss function = squared\n",
      "Number of neurons per hidden layer = 100\n",
      "Number of output neurons = 1\n",
      "Activation hidden layers = tanh\n",
      "Activation output layer = linear\n",
      "This neural network has 10513 weights.\n",
      "===============================\n",
      "===============================\n",
      "Training Deep Active Subspace Neural Network...\n",
      "Batch 0 learning rate 0.001 loss: 1.9588007150898024\n",
      "Batch 1000 learning rate 0.001 loss: 0.0013368452884311504\n",
      "Batch 2000 learning rate 0.001 loss: 0.0006204851417346105\n",
      "Batch 3000 learning rate 0.001 loss: 0.0005905625360575142\n",
      "Batch 4000 learning rate 0.001 loss: 0.0006858901073589574\n",
      "Batch 5000 learning rate 0.001 loss: 0.0010360559372736655\n",
      "Batch 6000 learning rate 0.001 loss: 0.0006010517595439587\n",
      "Batch 7000 learning rate 0.001 loss: 0.0004636478657205629\n",
      "Batch 8000 learning rate 0.001 loss: 0.0005986264920977155\n",
      "Batch 9000 learning rate 0.001 loss: 0.0007406230263559599\n"
     ]
    }
   ],
   "source": [
    "surrogate = es.methods.DAS_Surrogate()\n",
    "surrogate.train(params, samples, d, n_iter=10000, n_layers=4, n_neurons=100, test_frac = 0.2)"
   ]
  },
  {
   "cell_type": "markdown",
   "id": "0f3a3e7e",
   "metadata": {},
   "source": [
    "`dims` is a dictionary which contains useful dimensions of the DAS surrogate:"
   ]
  },
  {
   "cell_type": "code",
   "execution_count": 45,
   "id": "3914e8d4",
   "metadata": {},
   "outputs": [
    {
     "data": {
      "text/plain": [
       "dict_keys(['n_train', 'n_samples', 'n_test', 'D', 'd', 'n_out'])"
      ]
     },
     "execution_count": 45,
     "metadata": {},
     "output_type": "execute_result"
    }
   ],
   "source": [
    "dims = surrogate.get_dimensions()\n",
    "dims.keys()"
   ]
  },
  {
   "cell_type": "markdown",
   "id": "ea77306f",
   "metadata": {},
   "source": [
    "### Prediction"
   ]
  },
  {
   "cell_type": "markdown",
   "id": "5f2dc239",
   "metadata": {},
   "source": [
    "We now test the accuracy of the surrogate on both the training and testing data"
   ]
  },
  {
   "cell_type": "code",
   "execution_count": 46,
   "id": "fdd17a59",
   "metadata": {},
   "outputs": [
    {
     "name": "stdout",
     "output_type": "stream",
     "text": [
      "Relative error on training set = 0.0058\n",
      "Relative error on test set = 0.0069\n"
     ]
    },
    {
     "data": {
      "image/png": "[encoded data removed]",
      "text/plain": [
       "<Figure size 576x288 with 2 Axes>"
      ]
     },
     "metadata": {
      "needs_background": "light"
     },
     "output_type": "display_data"
    }
   ],
   "source": [
    "fig = plt.figure(figsize=[8, 4])\n",
    "\n",
    "# run the trained model forward at training locations\n",
    "n_mc = dims['n_train']\n",
    "pred = np.zeros([n_mc, dims['n_out']])\n",
    "for i in range(n_mc):\n",
    "    pred[i,:] = surrogate.predict(params[i])\n",
    "    \n",
    "# compute the relative error using the training data\n",
    "train_data = samples[0:dims['n_train']]\n",
    "rel_err_train = np.linalg.norm(train_data - pred)/np.linalg.norm(train_data)\n",
    "\n",
    "ax = fig.add_subplot(121, title='training set')\n",
    "ax.plot(train_data, 'ro')\n",
    "ax.plot(pred, 'b+')\n",
    "\n",
    "# run the trained model forward at test locations\n",
    "pred = np.zeros([dims['n_test'], dims['n_out']])\n",
    "for idx, i in enumerate(range(dims['n_train'], dims['n_samples'])):\n",
    "    pred[idx] = surrogate.predict(params[i])\n",
    "test_data = samples[dims['n_train']:]\n",
    "\n",
    "ax = fig.add_subplot(122, title='test set')\n",
    "ax.plot(test_data, 'ro', label='data')\n",
    "ax.plot(pred, 'b+', label='prediction')\n",
    "ax.legend()\n",
    "\n",
    "# compute the relative error using the test data\n",
    "rel_err_test = np.linalg.norm(test_data - pred)/np.linalg.norm(test_data)\n",
    "\n",
    "print('Relative error on training set = %.4f' % rel_err_train)\n",
    "print('Relative error on test set = %.4f' % rel_err_test)"
   ]
  },
  {
   "cell_type": "markdown",
   "id": "62fc0f9d",
   "metadata": {},
   "source": [
    "### Sensitivity estimates"
   ]
  },
  {
   "cell_type": "markdown",
   "id": "dc14a7a9",
   "metadata": {},
   "source": [
    "Similar to EasyVVUQ, each surrogate has its own Analysis object"
   ]
  },
  {
   "cell_type": "code",
   "execution_count": 48,
   "id": "0baee12e",
   "metadata": {},
   "outputs": [
    {
     "name": "stdout",
     "output_type": "stream",
     "text": [
      "Creating DAS_analysis object\n"
     ]
    }
   ],
   "source": [
    "analysis = es.analysis.DAS_analysis(surrogate)\n"
   ]
  },
  {
   "cell_type": "markdown",
   "id": "eed6af10",
   "metadata": {},
   "source": [
    "As a final note, let us highlight an *experimental* sensitivity measure, extracted from the DAS surrogate. EasyVVUQ provides global variance-based sensitivity measures, i.e. the Sobol indices. Somewhat related to this are global derivative-based sensitivity measures [3]. Consider for instance the following integral:\n",
    "\n",
    "![equation](https://latex.codecogs.com/gif.latex?V_i%20%3D%20%5Cint%20%5Cleft%28%5Cfrac%7B%5Cpartial%20%5ClVert%20f%28%7B%5Cbf%20x%7D%29%29%5CrVert_2%5E2%7D%7B%5Cpartial%20x_i%7D%5Cright%29%5E2p%28%7B%5Cbf%20x%7D%29d%7B%5Cbf%20x%7D%2C%20%5Cquad%5Cquad%20i%3D1%2C%5Ccdots%2C%20D)\n",
    "\n",
    "Local sensivity measures are based on the derivative at a certain point. The integral above integrates a derivative over the domain of the joint input pdf, making it a global method. The derivative of the (L2 norm of) the output can be quickly computed analytically using back propagation. As such, we can approximate the integral above using a brute-force Monte Carlo approach. The following code achieves this:"
   ]
  },
  {
   "cell_type": "code",
   "execution_count": 49,
   "id": "6959fb55",
   "metadata": {},
   "outputs": [
    {
     "name": "stdout",
     "output_type": "stream",
     "text": [
      "Parameters ordered from most to least important:\n",
      "[[2 3 0 1 5 4]]\n"
     ]
    }
   ],
   "source": [
    "# select the number of MC samples to compute from the surrogate\n",
    "n_mc = 10**4\n",
    "# draw n_mc random samples from every input distribution in vary\n",
    "param_mc_samples = np.array([p.sample(n_mc) for p in vary.values()]).T\n",
    "# compute the derivative-based global sensitivity integral via MC. Returns the ordered indices of the most \n",
    "# to least influential inputs and the sensitivity value.\n",
    "idx, V_i = analysis.sensitivity_measures(param_mc_samples)\n",
    "params_ordered = np.array(list(vary.keys()))[idx[0]]"
   ]
  },
  {
   "cell_type": "code",
   "execution_count": 85,
   "id": "b8361c3d",
   "metadata": {},
   "outputs": [
    {
     "data": {
      "image/png": "[encoded data removed]",
      "text/plain": [
       "<Figure size 288x576 with 1 Axes>"
      ]
     },
     "metadata": {
      "needs_background": "light"
     },
     "output_type": "display_data"
    }
   ],
   "source": [
    "fig = plt.figure('sensitivity', figsize=[4, 8])\n",
    "ax = fig.add_subplot(111)\n",
    "ax.set_ylabel(r'$\\int\\frac{\\partial ||y||^2_2}{\\partial x_i}p({\\bf x})d{\\bf x}$', fontsize=14)\n",
    "ax.bar(range(V_i.size), height = V_i[idx].flatten())\n",
    "ax.set_xticks(range(V_i.size))\n",
    "ax.set_xticklabels(params_ordered)\n",
    "plt.xticks(rotation=90)\n",
    "plt.tight_layout()"
   ]
  },
  {
   "cell_type": "markdown",
   "id": "a6755e34",
   "metadata": {},
   "source": [
    "## Higher dimensions - HIV model\n",
    "\n",
    "Six input dimensions is relatively mild, which can still be handled by Stochastic Collocation methods. Here we will look at a HIV model, taken from the [Active Subspace data set repository](https://github.com/paulcon/as-data-sets). It models the T-cell count during different stages of the disease, and has 27 input parameters spread out over 7 coupled ODEs.\n",
    "\n",
    "### HIV model\n",
    "\n",
    "From [here](https://github.com/paulcon/as-data-sets/blob/master/HIV/HIV.ipynb) we find the following description of the model, see also [4]. The 7 coupled ordinary differential equations are given by:\n",
    "\n",
    "$$\n",
    "\\begin{align}\n",
    "\\frac{dT}{dt} &= s_1 + \\frac{p_1}{C_1+V}TV - \\delta_1T - (K_1V + K_2M_I)T,\\\\\n",
    "\\frac{dT_I}{dt} &= \\psi(K_1V + K_2M_I)T + \\alpha_1T_L-\\delta_2T_I-K_3T_ICTL,\\\\\n",
    "\\frac{dT_L}{dt} &= (1-\\psi)(K_1V+K_2M_I)T-\\alpha_1T_L-\\delta_3T_L,\\\\\n",
    "\\frac{dM}{dt} &= s_2+K_4MV-K_5MV-\\delta_4M,\\\\\n",
    "\\frac{dM_I}{dt} &= K_5MV-\\delta_5M_I-K_6M_ICTL,\\\\\n",
    "\\frac{dCTL}{dt} &= s_3 + (K_7T_I+K_8M_I)CTL-\\delta_6CTL,\\\\\n",
    "\\frac{dV}{dt} &= K_9T_I+K_{10}M_I-K_{11}TV-(K_{12}+K_{13})MV-\\delta_7V,\n",
    "\\end{align}\n",
    "$$\n",
    "\n",
    "where $T(t)$ is the CD4$^+$ T-cell population, $T_I$ is the actively infected T-cell population, $T_L$ represents latently-infected T-cells, $M$ is macrophages, $M_I$ is infected macrophages, $CTL$ is cytotoxic lymphocytes, and $V$ is virions. The model's 27 parameters are summarized in the table below.\n",
    "\n",
    "Parameter|Nominal Value|Distribution (U(min, max))\n",
    ":-------:|:-----------:|:-------------:\n",
    "$s_1$|  10 |  U(9.75, 10.25)\n",
    "$s_2$|   .15 |  U(.14625, .15375)\n",
    "$s_3$|   5  | U(4.875, 5.125)\n",
    "$p_1$|   .2 |  U(.195, .205)\n",
    "$C_1$|   55.6  | U(54.21, 56.99)\n",
    "$K_1$|   3.87e-3 |  U(3.77325e-3, 3.96675e-3)\n",
    "$K_2$|   1e-6  | U(.975e-6, 1.025e-6)\n",
    "$K_3$|   4.5e-4 |  U(4.3875e-4, 4.6125e-4)\n",
    "$K_4$|   7.45e-4 |  U(7.26375e-4, 7.63625e-4)\n",
    "$K_5$|   5.22e-4 |  U(5.0895e-4, 5.3505e-4)\n",
    "$K_6$|   3e-6  | U(2.925e-6, 3.075e-6)\n",
    "$K_7$|   3.3e-4  | U(3.2175e-4, 3.3825e-4)\n",
    "$K_8$|   6e-9  | U(5.85e-9, 6.15e-9)\n",
    "$K_9$|   .537 |  U(.523575, .550425)\n",
    "$K_{10}$|   .285 |  U(.277875, .292125)\n",
    "$K_{11}$|   7.79e-6 |  U(7.59525e-6, 7.98475e-6)\n",
    "$K_{12}$|   1e-6  | U(.975e-6, 1.025e-6)\n",
    "$K_{13}$|   4e-5   |U(3.9e-5, 4.1e-5)\n",
    "$\\delta_1$|   .01 |  U(.00975, .01025)\n",
    "$\\delta_2$|   .28  | U(.273, .287)\n",
    "$\\delta_3$|   .05  | U(.04875, .05125)\n",
    "$\\delta_4$|   .005  | U(.004875, .005125)\n",
    "$\\delta_5$|   .005 |  U(.004875, .005125)\n",
    "$\\delta_6$|   .015 |  U(.014625, .015375)\n",
    "$\\delta_7$|   2.39 |  U(2.33025, 2.44975)\n",
    "$\\alpha_1$|   3e-4 |  U(2.925e-4, 3.075e-4)\n",
    "$\\psi$|   .97 |  U(.94575, .99425)\n",
    "\n",
    "The limits on the uniform distributions are 2.5% above and below the nominal values. \n"
   ]
  },
  {
   "cell_type": "markdown",
   "id": "7dad1bc1",
   "metadata": {},
   "source": [
    "Below we will generate 1000 samples from this model. We could again use EasyVVUQ for this purpose, but since the model is computationally inexpensive, we'll directly generate the training data using the [python script](https://github.com/paulcon/as-data-sets/blob/master/HIV/HIV_model.py) from the active subspace dataset repo. "
   ]
  },
  {
   "cell_type": "code",
   "execution_count": 50,
   "id": "7be9f53e",
   "metadata": {},
   "outputs": [
    {
     "name": "stderr",
     "output_type": "stream",
     "text": [
      "/home/wouter/anaconda3/lib/python3.7/site-packages/scipy/integrate/_ode.py:1014: UserWarning: vode: Repeated convergence failures. (Perhaps bad Jacobian supplied or wrong choice of MF or tolerances.)\n",
      "  self.messages.get(istate, unexpected_istate_msg)))\n"
     ]
    },
    {
     "data": {
      "text/plain": [
       "Text(0.5, 1.0, 'Representative Solutions for T(t)')"
      ]
     },
     "execution_count": 50,
     "metadata": {},
     "output_type": "execute_result"
    },
    {
     "data": {
      "image/png": "[encoded data removed]",
      "text/plain": [
       "<Figure size 1008x504 with 1 Axes>"
      ]
     },
     "metadata": {
      "needs_background": "light"
     },
     "output_type": "display_data"
    }
   ],
   "source": [
    "from HIV_model import *\n",
    "\n",
    "#Nominal Parameter Values\n",
    "nominal = np.array([10, .15, 5, .2, 55.6, 3.87e-3, 1e-6, 4.5e-4, 7.45e-4, 5.22e-4, 3e-6,\\\n",
    "    3.3e-4, 6e-9, .537, .285, 7.79e-6, 1e-6, 4e-5, .01, .28, .05, .005, .005, .015, 2.39,\\\n",
    "    3e-4, .97])\n",
    "\n",
    "#Lower and upper parameter limits\n",
    "xl = .975*nominal; xu = 1.025*nominal\n",
    "\n",
    "#Number of random points to use\n",
    "N = 1000\n",
    "\n",
    "#Normalized parameter values\n",
    "XX = np.random.uniform(-1, 1, (N, len(xl)))\n",
    "#Unnormalized parameter values\n",
    "p = .5*((np.diag(xu - xl)).dot(XX.T) + xu[:,None] + xl[:,None]).T\n",
    "\n",
    "#Times at which to find the quantity of interest initially\n",
    "times = np.linspace(1, 3400, 3400)\n",
    "\n",
    "#Each row of f contains T(t) for t in times using parameters in the corresponding row of p\n",
    "f = Tcells(p, times)\n",
    "\n",
    "#Plot the first 10 solutions as example solutions\n",
    "plt.figure(figsize=(14, 7))\n",
    "for i in range(10): plt.plot(times, f[i])\n",
    "plt.grid(True); plt.xlabel('Time (days after infection)', fontsize=16)\n",
    "plt.ylabel('T-cell count', fontsize=16)\n",
    "plt.title('Representative Solutions for T(t)', fontsize=20)"
   ]
  },
  {
   "cell_type": "markdown",
   "id": "29e89fb9",
   "metadata": {},
   "source": [
    "The classical active subspace method only functions with scalar output values. Deep active subspaces can handle multi-dimensional outputs, but here we'll try to replicate the sensitivity results from ([source](https://github.com/paulcon/as-data-sets/blob/master/HIV/HIV.ipynb)), when training on the data of the final day ($t=3400$). From the classical active-subspace results we already know the model has a one-dimensional active subspace, so we'll set `d=1`."
   ]
  },
  {
   "cell_type": "code",
   "execution_count": 51,
   "id": "12f80398",
   "metadata": {},
   "outputs": [
    {
     "name": "stdout",
     "output_type": "stream",
     "text": [
      "Creating DAS_Surrogate Object\n",
      "Creating Feature Engineering object\n",
      "Using  1000/1000 samples to train the ML model\n",
      "===============================\n",
      "Neural net parameters\n",
      "===============================\n",
      "Number of layers = 4\n",
      "Number of features = 27\n",
      "Loss function = squared\n",
      "Number of neurons per hidden layer = 100\n",
      "Number of output neurons = 1\n",
      "Activation hidden layers = tanh\n",
      "Activation output layer = linear\n",
      "This neural network has 10428 weights.\n",
      "===============================\n",
      "===============================\n",
      "Training Deep Active Subspace Neural Network...\n",
      "Batch 0 learning rate 0.001 loss: 1.3491732861862755\n",
      "Batch 1000 learning rate 0.001 loss: 0.006749978069699579\n",
      "Batch 2000 learning rate 0.001 loss: 0.004602163676943521\n",
      "Batch 3000 learning rate 0.001 loss: 0.0036516970579910783\n",
      "Batch 4000 learning rate 0.001 loss: 0.003705050056164225\n",
      "Batch 5000 learning rate 0.001 loss: 0.003995793608346222\n",
      "Batch 6000 learning rate 0.001 loss: 0.008784051322975559\n",
      "Batch 7000 learning rate 0.001 loss: 0.005123883524230225\n",
      "Batch 8000 learning rate 0.001 loss: 0.0030077456558278495\n",
      "Batch 9000 learning rate 0.001 loss: 0.006193438702615241\n"
     ]
    }
   ],
   "source": [
    "surr_campaign = es.Campaign()\n",
    "surrogate = es.methods.DAS_Surrogate()\n",
    "d = 1\n",
    "# train on data of the final day\n",
    "surrogate.train(XX, f[:, -1].reshape([-1, 1]), d, n_iter=10000, n_layers=4, n_neurons=100, test_frac = 0.0)"
   ]
  },
  {
   "cell_type": "code",
   "execution_count": 53,
   "id": "af642710",
   "metadata": {},
   "outputs": [
    {
     "name": "stdout",
     "output_type": "stream",
     "text": [
      "Creating DAS_analysis object\n",
      "Parameters ordered from most to least important:\n",
      "[[ 8 24 21  9 23 13  1 14 11 22  2 10  3  4 26  0  5  7 18 19  6 15 25 17\n",
      "  20 16 12]]\n"
     ]
    },
    {
     "data": {
      "image/png": "[encoded data removed]",
      "text/plain": [
       "<Figure size 720x360 with 1 Axes>"
      ]
     },
     "metadata": {
      "needs_background": "light"
     },
     "output_type": "display_data"
    }
   ],
   "source": [
    "analysis = es.analysis.DAS_analysis(surrogate)\n",
    "\n",
    "idx, V_i = analysis.sensitivity_measures(XX)\n",
    "\n",
    "# Parameter names\n",
    "param_names = np.array([r'$s_1$', r'$s_2$', r'$s_3$', r'$p_1$', r'$C_1$', r'$K_1$', r'$K_2$', r'$K_3$',\n",
    "               r'$K_4$', r'$K_5$', r'$K_6$', r'$K_7$', r'$K_8$', r'$K_9$', r'$K_{10}$',\n",
    "               r'$K_{11}$', r'$K_{12}$', r'$K_{13}$', r'$\\delta_1$', r'$\\delta_2$',\n",
    "               r'$\\delta_3$', r'$\\delta_4$', r'$\\delta_5$', r'$\\delta_6$', r'$\\delta_7$', r'$\\alpha_1$',\n",
    "               r'$\\psi$'])\n",
    "\n",
    "fig = plt.figure(figsize=[10, 5])\n",
    "ax = fig.add_subplot(111)\n",
    "ax.set_ylabel(r'$\\int\\frac{\\partial ||y||^2_2}{\\partial x_i}p({\\bf x})d{\\bf x}$', fontsize=14)\n",
    "ax.bar(range(V_i.size), height = V_i[idx].flatten())\n",
    "ax.set_xticks(range(V_i.size))\n",
    "ax.set_xticklabels(param_names[idx[0]], fontsize=14)\n",
    "plt.xticks(rotation=90)\n",
    "plt.tight_layout()"
   ]
  },
  {
   "cell_type": "markdown",
   "id": "4387b4d0",
   "metadata": {},
   "source": [
    "Compare this to the sensitivity measure from the classical active subspace method. The figure below ([source](https://github.com/paulcon/as-data-sets/blob/master/HIV/HIV.ipynb)) plots the entries of the first eigenvector of the gradient matrix $C$. The higher the **absolute** values of these entries, the more important the corresponding parameter. The order of the important variables should match the order you've obtained above fairly well.\n",
    "\n",
    " ![](images/AS_weights.png)"
   ]
  },
  {
   "cell_type": "markdown",
   "id": "7057b806",
   "metadata": {},
   "source": [
    "## Final remarks\n",
    "\n",
    "* Note that the Deep Active Subspaces had no trouble handling a 27 dimensional input space. We only recently started to look at this method in VECMA, but we expect that for instance a 100 dimensional space would also not pose a problem, in the sense that you can at least apply the method to such a large space without numerical issues. This would not be possible with isotropic sparse grids.\n",
    "\n",
    "* That said, we have still several questions regarding the use of this method, such as the data requirement (neural nets are data hungry, how does this stack up to e.g. GPs in high dimensional settings), the performance of DAS surrogates vs standard ANNs, how to the sensitivity measure stacks up to Sobol sensitivity indices etc."
   ]
  },
  {
   "cell_type": "markdown",
   "id": "ad70101c",
   "metadata": {},
   "source": [
    "## References\n",
    "\n",
    "[1] Constantine, P. G., Dow, E., & Wang, Q. (2014). Active subspace methods in theory and practice: applications to kriging surfaces. SIAM Journal on Scientific Computing, 36(4), A1500-A1524.\n",
    "\n",
    "[2] Tripathy, R., & Bilionis, I. (2019, February). Deep active subspaces: A scalable method for high-dimensional uncertainty propagation. In ASME 2019 International Design Engineering Technical Conferences and Computers and Information in Engineering Conference. American Society of Mechanical Engineers Digital Collection.\n",
    "\n",
    "[3] Sobol, I. M., & Kucherenko, S. (2010). Derivative based global sensitivity measures. Procedia-Social and Behavioral Sciences, 2(6), 7745-7746.\n",
    "\n",
    "[4] T. Loudon and S. Pankavich. _Mathematical Analysis and Dynamic Active Subspaces for a Long term model of HIV_. arXiv:1604.04588, 2016\n",
    "\n",
    "[5] Edeling, W., Arabnejad, H., Sinclair, R., Suleimenova, D., Gopalakrishnan, K., Bosak, B., ... & Coveney, P. V. (2021). The impact of uncertainty on predictions of the CovidSim epidemiological code. Nature Computational Science, 1(2), 128-135."
   ]
  },
  {
   "cell_type": "code",
   "execution_count": null,
   "id": "560902e7",
   "metadata": {},
   "outputs": [],
   "source": []
  }
 ],
 "metadata": {
  "kernelspec": {
   "display_name": "Python 3",
   "language": "python",
   "name": "python3"
  },
  "language_info": {
   "codemirror_mode": {
    "name": "ipython",
    "version": 3
   },
   "file_extension": ".py",
   "mimetype": "text/x-python",
   "name": "python",
   "nbconvert_exporter": "python",
   "pygments_lexer": "ipython3",
   "version": "3.7.7"
  }
 },
 "nbformat": 4,
 "nbformat_minor": 5
}
