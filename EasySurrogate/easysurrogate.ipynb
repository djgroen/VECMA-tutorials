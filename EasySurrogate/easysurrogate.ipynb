{
 "cells": [
  {
   "cell_type": "markdown",
   "id": "a69397b6",
   "metadata": {},
   "source": [
    "# Using EasyVVUQ to generate training data for a forward-UQ  Machine-Learning surrogate\n",
    "\n",
    "Let's start with some definitions:\n",
    "\n",
    "* Forward uncertainty propagation: computing the output distribution of a computational model, given *assumed* probability density functions for the input parameters of the model (see image below). \n",
    "\n",
    "* [EasyVVUQ](https://github.com/UCL-CCS/EasyVVUQ) is VECMA's forward uncertainty propagation toolkit.\n",
    "\n",
    "* Forward surrogate model: an approximation of the input-output map, which can be evaluated at a fraction of the cost of the computational model. \n",
    "\n",
    "* [EasySurrogate](https://github.com/wedeling/EasySurrogate) is VECMA's surrogate modelling toolkit.\n",
    "\n",
    "![](images/forward.png)\n",
    "\n",
    "### Goal \n",
    "\n",
    "Use EasyVVUQ to generate supervised (input parameter, code output) training data on which to train a machine-learning (ML) type of surrogate model. In addition we will\n",
    "\n",
    "* Review some theory behind the sparse-grid methods of EasyVVUQ a ML-method of EasySurrogate.\n",
    "* Spend some time on when you might use ML for building surrogate models.\n",
    "\n",
    "## Installation\n",
    "\n",
    "* EasyVVUQ: via git clone or `pip install easyvvuq`\n",
    "\n",
    "* EasySurrogate: via git clone or `pip install easysurrogate`\n"
   ]
  },
  {
   "cell_type": "markdown",
   "id": "1e8027fa",
   "metadata": {},
   "source": [
    "## Sparse-grid UQ in theory\n",
    "\n",
    "### Making a interpolation-based surrogate with 1 uncertain input parameter"
   ]
  },
  {
   "cell_type": "markdown",
   "id": "d2f34614",
   "metadata": {},
   "source": [
    "\n",
    "Let $f^{(1)}(x)$ be a one-dimensional function. We aim to create an interpolation of $f^{(1)}$, denoted by\n",
    "\n",
    "\\begin{align}\n",
    " I^{(l)}f^{(1)}(x) = \\sum_{i=1}^{m_l} f(x_{i}^{(l)})a^{(l)}_i(x).\n",
    " \\label{eq:sc1d}\n",
    "\\end{align}\n",
    "\n",
    "Here, $l$ is the so-called *level* of the interpolant. It is an index which links to a **one-dimensional** set of collocation points $\\{x^{l}_i\\}$, for $i=1,\\cdots, m_l$. We can select these points from different families, typically they'll be the abscissas of some quadrature rule. For instance, a Clenshaw-Curtis (CC) rule can generate different collocation points in $[0,1]$ such that\n",
    "\n",
    "* Level 1: $x^{(1)}_i \\in \\{0.5\\}$,\n",
    "* Level 2: $x^{(2)}_i \\in \\{0.0, 0.5, 1.0\\}$,\n",
    "* Level 3: $x^{(3)}_i \\in \\{0.0, 0.146, 0.5, 0.854, 1.0\\}$.\n",
    "\n",
    "Note that here, the higher level collocation point sets include all points from previous levels. When this is the case, we say that the quadrature rule is **nested**. This leads to efficient sampling plans in higher dimensions, but nestedness is not a strict requirement for sparse grid interpolation or integration. This does lead to 1D quadrature rules which increase exponentially, such that the number of points is given by\n",
    "\n",
    "\\begin{align}\n",
    " m_l = \n",
    " \\begin{cases}\n",
    "  2^{l-1} + 1 & l > 1 \\\\\n",
    "  1 & l = 1\n",
    " \\end{cases}  \n",
    "\\end{align}\n",
    "\n",
    "Finally, the $a^{(l)}_i(x)$ are the basis functions used for interpolation. In the case of the **Stochastic Collocation** (SC) method, these are often (although not necessarily) the Lagrange interpolation polynomials, given by\n",
    "\n",
    "\\begin{align}\n",
    "a^{(l)}_i(x) = \\prod_{\\substack{1\\leq j \\leq m_l \\\\ j \\neq i}} \\frac{x - x_j}{x_i - x_j}\n",
    "\\end{align}\n",
    "\n",
    "A property of the Lagrange polynomial associated with the i-th collocation point is that $a^{(l)}_i(x_i) = 1$ at this point, and $a^{(l)}_i(x_j) = 0$ at all other collocation points $x_j$. The interpolation $I^{(l)}f^{(1)}$ will therefore exactly reproduce the code outputs $f^{(1)}(x_i)$ at the collocation points $x_i$.\n",
    "\n",
    "Let us define the following difference formulas for interpolation in 1D:\n",
    "\n",
    "\\begin{align}\n",
    " \\Delta^{(l)} f^{(1)} := I^{(l)}f^{(1)} - I^{(l-1)}f^{(1)}\\quad\\mathrm{where}\\quad\n",
    " I^{(0)}f^{(1)}:=0.\n",
    " \\label{eq:Delta1d}\n",
    "\\end{align}\n",
    "\n",
    "That is, $ \\Delta^{(l)} f^{(1)}$ is just the difference between the interpolations at successive levels. These difference formulas are often used in both sparse-grid interpolation (and quadrature), see the figure below.\n",
    "\n",
    "![](images/fig1.png)\n",
    "\n",
    "\n",
    "When interpolating a level $l-1$ interpolant using a level $l$ interpolating we retrieve the former, i.e.\n",
    "\n",
    "\\begin{align}\n",
    " I^{(l)}\\left(I^{(l-1)}f^{(l)}\\right) = I^{(l-1)}f^{(l)}.\n",
    "\\end{align}\n",
    "\n",
    "\n",
    "Thus, a lower level interpolant can be exactly interpolated by a higher level interpolant (which is true for both nested and non-nested collocation points), see Figure below:\n",
    "\n",
    "![](images/fig2.png)\n",
    "*The blue solid line is the exact 1D function $f^{(1)}$. The red striped line is a (non-nested) level $l$ interpolant. The green striped line is a lower-level $l-1$ counterpart, constructed from function evaluations at  the green star symbols.. If we evaluate the level $l-1$ interpolant at the level $l$ collocation, we obtain the blue squares. Clearly, if these function values are used to construct a level $l$ interpolant of $I^{(l-1)}f^{(1)}$, which would be $I^{(l)}\\left(I^{(l-1)}f^{(1)}\\right)$, we just retrieve $I^{(l-1)}f^{(1)}$.*\n",
    "\n",
    "We can therefore write the difference formula as\n",
    "\n",
    "\\begin{align}\n",
    " \\Delta^{(l)}f^{(1)} = I^{(l)}f^{(1)} - I^{(l)}\\left(I^{(l-1)}f^{(1)}\\right) = \\sum_{i = 1}^{m_l}f(x^{(l)}_i)a^{(l)}_i - \\sum_{i=1}^{m_l}I^{(l-1)}f^{(1)}(x^{(l)}_i)a^{(l)}_i = \\nonumber\\\\\n",
    " \\sum_{i=1}^{m_l}\\left[f(x^{(l)}_i) - I^{(l-1)}f^{(1)}(x^{(l)}_i)\\right]a^{(l)}_i = \\sum_{i=1}^{m_l}s^{(l)}_ia^{(l)}_i.\n",
    " \\label{eq:diff0}\n",
    "\\end{align}\n",
    "\n",
    "Here, $w^{(l)}_i:=f(x^{(l)}_i) - I^{(l-1)}f^{(1)}(x^{(l)}_i)$ is the **hierarchical surplus**, defined as the difference between the code output at a collocation point $x^{(l)}_i$ at level $l$, minus the level $l-1$ polynomial approximation of the code output at the same location. This can be thought of as a local measure of the accuracy of the interpolation. Furthermore, we can also write the interpolation $I^{(l)}f^{(1)}(x)$ in terms of the difference formulas, in which case the $a^{l}_i$ basis function will form a hierarchical basis as\n",
    "\n",
    "\\begin{align}\n",
    " I^{(L)}f^{(1)} = \\sum_{l=1}^L \\Delta^{(l)}f^{(1)} = \\sum_{l=1}^L\\sum_{i=1}^{m_l}w^{(l)}_i a^{(l)}_i\n",
    " \\label{eq:diff1}\n",
    "\\end{align}\n",
    "\n",
    "Hence, to obtain a level $L$ interpolant, we can just create a telescopic sum of the difference formulas, which is the first equality above. The second equality is obtained by simply plugging in the formula for $\\Delta^{(l)}f^{(1)}$, and it shows that the $a^{(l)}_i$ form a hierarchical basis due to summation over $l$, which increases the number collocation point $m_l$ at every new level. This is also sketched in the Figure below, which assumes linear basis functions for simplicity.\n",
    "\n",
    "![](images/fig3.png)\n",
    "*Top left is a standard linear (finite-element) basis, with below it a corresponding linear interpolant. Top right displays a linear hierarchical basis. Below it we show a series of 3 hierarchical interpolants ($L=1,2$ and $3$) and the hierarchical surplus coefficients $w^{(l)}_i$ used in their construction. Figure recreated from*\n",
    "\n",
    "**Why should we care?**\n",
    "\n",
    "The formula above is the same as $I^{(l)}f^{(1)}$ in the beginning, as both are 1D interpolation formulas, only written differently, so why should we complicate things with a hierarchical notation? \n",
    "\n",
    "One advantage of adopting the hierarchical notation is that it naturally allows for **refinement**, i.e. adding more points to an existing sampling plan, by adding another level. If we select a nested quadrature rule, adding another level means we only have to evaluate the (expensive) code at a relatively small number of *new* points, the other points are quaranteed to be present in one or more of the previous levels, see the CC example at the beginning of this section.\n",
    "\n",
    "In the case more than one uncertain input, sampling plans are create using **tensor products of 1D collocation points**. Here, **a hierarchical construction leads to a sparse sampling plan**, with much less code evaluations compared to \"standard\" sampling plans.\n",
    "\n",
    "![](images/drawing.png)"
   ]
  },
  {
   "cell_type": "markdown",
   "id": "23b90cba",
   "metadata": {},
   "source": [
    "## Sparse-grid UQ in practice\n",
    "\n",
    "### Model description\n",
    "\n",
    "Let's review the basic model. It is a simulation of a vertical deflection of a round metal \n",
    "tube suspended on each end in response to a force applied at certain point ```a``` along its length. \n",
    "Our goal is to determine the influence of the input parameters on the vertical deflection at point ```a```.\n",
    "\n",
    "The usage of the application is:\n",
    "\n",
    "```beam <input_file>```\n",
    "\n",
    "It outputs calculated displacements to a file called `output.json`. Its content will look like \n",
    "\n",
    "```{'g1': x, 'g2': y, 'g3': y}```\n",
    "\n",
    "In order to produce statistically significant results, EasyVVUQ needs to run a number of model evaluations\n",
    " appropriately selecting input arguments from a given sample parameter space. \n",
    " Once selected, input parameters need to be transformed into a format understandable by the application. \n",
    "Our application takes a single file as an input and the transformation may be based on a single template file,\n",
    "called `beam.template`, with the following content:\n",
    "\n",
    "```{\"outfile\": \"$outfile\", \"F\": $F, \"L\": $L, \"a\": $a, \"D\": $D, \"d\": $d, \"E\": $E}```\n",
    "\n",
    "The template will be used to generate files called `input.json` that will be the input to each run of beam.\n",
    "All placeholders (signified by the $ delimeter) will be replaced by concrete values from the sample parameter space. \n",
    "\n",
    "<img src=\"images/simply_supported_beam.png\" width=\"500\" height=\"300\" />\n",
    "\n",
    "The tube has an inner and outer diameter\n",
    "\n",
    "<img src=\"images/tube-diameters.png\" width=\"200\" height=\"100\" />\n",
    "\n",
    "The parameters are self explanatory, and the model is just a simple analytical function, which can be found [here](https://openturns.github.io/openturns/latest/usecases/use_case_deflection_tube.html)."
   ]
  },
  {
   "cell_type": "code",
   "execution_count": 146,
   "id": "0b773702",
   "metadata": {},
   "outputs": [],
   "source": [
    "import os\n",
    "import numpy as np\n",
    "import easyvvuq as uq\n",
    "import chaospy as cp\n",
    "import matplotlib.pyplot as plt\n",
    "from easyvvuq.actions import CreateRunDirectory, Encode, Decode, ExecuteLocal, Actions"
   ]
  },
  {
   "cell_type": "code",
   "execution_count": 147,
   "id": "96435f3c",
   "metadata": {},
   "outputs": [],
   "source": [
    "# the directory in which the code samples will be stored\n",
    "WORK_DIR = '/tmp'"
   ]
  },
  {
   "cell_type": "code",
   "execution_count": 148,
   "id": "af28fa4f",
   "metadata": {},
   "outputs": [],
   "source": [
    "# specify the parameters\n",
    "params = {\n",
    "    \"F\": {\"type\": \"float\", \"default\": 1.0}, \n",
    "    \"L\": {\"type\": \"float\", \"default\": 1.5}, \n",
    "    \"a\": {\"type\": \"float\", \"min\": 0.7, \"max\": 1.2, \"default\": 1.0}, \n",
    "    \"D\": {\"type\": \"float\", \"min\": 0.75, \"max\": 0.85, \"default\": 0.8},\n",
    "    \"d\": {\"type\": \"float\", \"default\": 0.1},\n",
    "    \"E\": {\"type\": \"float\", \"default\": 200000},\n",
    "    \"outfile\": {\"type\": \"string\", \"default\": \"output.json\"}\n",
    "}"
   ]
  },
  {
   "cell_type": "markdown",
   "id": "3063ebe3",
   "metadata": {},
   "source": [
    "Below we create the encoder and decoder objects that are capable of reading the input and output files that are described above."
   ]
  },
  {
   "cell_type": "code",
   "execution_count": 149,
   "id": "ac61c70a",
   "metadata": {},
   "outputs": [],
   "source": [
    "encoder = uq.encoders.GenericEncoder(template_fname='beam.template', delimiter='$', target_filename='input.json')\n",
    "decoder = uq.decoders.JSONDecoder(target_filename='output.json', output_columns=['g1'])"
   ]
  },
  {
   "cell_type": "markdown",
   "id": "46df576c",
   "metadata": {},
   "source": [
    "As our model is a toy problem, we can execute it locally:"
   ]
  },
  {
   "cell_type": "code",
   "execution_count": 150,
   "id": "5c6e3d45",
   "metadata": {},
   "outputs": [],
   "source": [
    "execute = ExecuteLocal('{}/beam input.json'.format(os.getcwd()))"
   ]
  },
  {
   "cell_type": "markdown",
   "id": "8e1570b6",
   "metadata": {},
   "source": [
    "However, in many cases the model will be too expensive for local executing. In this case the VECMA tools [QCG-PilotJob](https://github.com/vecma-project/QCG-PilotJob) or [FabSim3](https://github.com/djgroen/FabSim3) can be used in combination with EasyVVUQ to submit the ensemble to HPC resources."
   ]
  },
  {
   "cell_type": "markdown",
   "id": "a512bc0c",
   "metadata": {},
   "source": [
    "Now we are combine all actions we want to execute into an Actions object."
   ]
  },
  {
   "cell_type": "code",
   "execution_count": 151,
   "id": "a9ff6d8d",
   "metadata": {},
   "outputs": [],
   "source": [
    "actions = Actions(CreateRunDirectory(root=WORK_DIR, flatten=True), Encode(encoder), execute, Decode(decoder))"
   ]
  },
  {
   "cell_type": "markdown",
   "id": "60d75253",
   "metadata": {},
   "source": [
    "An EasyVVUQ campaign is created, and the parameters and actions are supplied to it."
   ]
  },
  {
   "cell_type": "code",
   "execution_count": 152,
   "id": "953fa8ac",
   "metadata": {},
   "outputs": [],
   "source": [
    "campaign = uq.Campaign(name='beam_SC', params=params, actions=actions)"
   ]
  },
  {
   "cell_type": "markdown",
   "id": "7ac3a8fe",
   "metadata": {},
   "source": [
    "We simply copy the input distributions from [here](https://openturns.github.io/openturns/latest/usecases/use_case_deflection_tube.html):\n",
    "\n",
    "\n",
    "* F: Normal(1,0.1)\n",
    "* L: Normal(1.5,0.01)\n",
    "* a: Uniform(0.7,1.2)\n",
    "* D: Triangular(0.75,0.8,0.85)\n",
    "* d: Triangular(0.09,0.1,0.11)\n",
    "* E: Normal(200000,2000)"
   ]
  },
  {
   "cell_type": "markdown",
   "id": "a967fc5a",
   "metadata": {},
   "source": [
    "Let's start with just 2 inputs, and visualize the sparse grid. "
   ]
  },
  {
   "cell_type": "code",
   "execution_count": 153,
   "id": "3a3737c2",
   "metadata": {},
   "outputs": [],
   "source": [
    "# specify the input distributions of the parameters that we which to vary\n",
    "vary = {\n",
    "    \"F\": cp.Normal(1, 0.1),\n",
    "    \"L\": cp.Normal(1.5, 0.01),\n",
    "    \"a\": cp.Uniform(0.7, 1.2),\n",
    "    \"D\": cp.Triangle(0.75, 0.8, 0.85),\n",
    "    \"d\": cp.Triangle(0.09, 0.1, 0.11),\n",
    "    \"E\": cp.Normal(200000, 2000)\n",
    "}"
   ]
  },
  {
   "cell_type": "markdown",
   "id": "d3621575",
   "metadata": {},
   "source": [
    "Here we select the (sparse) Stochastic Collocation sampler. Increase the `polynomial_order` of the sampler object below to create sparse grids with more levels. Also compare this to a standard non-sparse sampling plan by setting `sparse=False`."
   ]
  },
  {
   "cell_type": "code",
   "execution_count": 154,
   "id": "a847b447",
   "metadata": {},
   "outputs": [
    {
     "name": "stdout",
     "output_type": "stream",
     "text": [
      "Number of sampling points = 1\n"
     ]
    },
    {
     "data": {
      "image/png": "[encoded data removed]",
      "text/plain": [
       "<Figure size 432x288 with 1 Axes>"
      ]
     },
     "metadata": {
      "needs_background": "light"
     },
     "output_type": "display_data"
    }
   ],
   "source": [
    "sampler = uq.sampling.SCSampler(vary=vary, polynomial_order=1, quadrature_rule='C', growth=True, sparse=True)\n",
    "campaign.set_sampler(sampler)\n",
    "\n",
    "# plot the sampling plan of the (first) two input dimensions\n",
    "fig = plt.figure()\n",
    "ax = fig.add_subplot(111, xlabel='x_1', ylabel='x_2')\n",
    "# the xi_d array contains the N x d sampling points, with N being the number of points and d the number of inputs\n",
    "ax.plot(sampler.xi_d[:,0], sampler.xi_d[:, 1], 'ro')\n",
    "# print the number of points to screen\n",
    "print(\"Number of sampling points = %d\" % sampler.n_samples)"
   ]
  },
  {
   "cell_type": "markdown",
   "id": "733a167b",
   "metadata": {},
   "source": [
    "The command below executes the ensemble and collects the results from the output files."
   ]
  },
  {
   "cell_type": "code",
   "execution_count": 155,
   "id": "a7e35057",
   "metadata": {},
   "outputs": [
    {
     "name": "stdout",
     "output_type": "stream",
     "text": [
      "Number of sampling points = 13\n"
     ]
    },
    {
     "name": "stderr",
     "output_type": "stream",
     "text": [
      "100%|██████████| 13/13 [00:00<00:00, 19.07it/s]\n"
     ]
    },
    {
     "data": {
      "image/png": "[encoded data removed]",
      "text/plain": [
       "<Figure size 432x288 with 1 Axes>"
      ]
     },
     "metadata": {
      "needs_background": "light"
     },
     "output_type": "display_data"
    }
   ],
   "source": [
    "refine = True\n",
    "if refine:\n",
    "    sampler.next_level_sparse_grid()\n",
    "    # plot the sampling plan of the (first) two input dimensions\n",
    "    fig = plt.figure()\n",
    "    ax = fig.add_subplot(111, xlabel='x_1', ylabel='x_2')\n",
    "    # the xi_d array contains the N x d sampling points, with N being the number of points and d the number of inputs\n",
    "    ax.plot(sampler.xi_d[:,0], sampler.xi_d[:, 1], 'ro')\n",
    "    # print the number of points to screen\n",
    "    print(\"Number of sampling points = %d\" % sampler.n_samples)\n",
    "# execute ensemble\n",
    "campaign.execute().collate(progress_bar=True)"
   ]
  },
  {
   "cell_type": "code",
   "execution_count": 156,
   "id": "a4996f65",
   "metadata": {},
   "outputs": [],
   "source": [
    "data_frame = campaign.get_collation_result()"
   ]
  },
  {
   "cell_type": "markdown",
   "id": "c8c2aa1c",
   "metadata": {},
   "source": [
    "The command below peforms the analysis step by post-processing of the ensemble results."
   ]
  },
  {
   "cell_type": "code",
   "execution_count": 157,
   "id": "99fbdaf4",
   "metadata": {},
   "outputs": [],
   "source": [
    "results = campaign.analyse(qoi_cols=['g1'])"
   ]
  },
  {
   "cell_type": "markdown",
   "id": "b77aabeb",
   "metadata": {},
   "source": [
    "Let's plot some Sobol sensitivity indices"
   ]
  },
  {
   "cell_type": "code",
   "execution_count": 158,
   "id": "a14b2fd7",
   "metadata": {},
   "outputs": [],
   "source": [
    "sobols_first = results.sobols_first()\n",
    "param_names = sobols_first['g1'].keys()\n",
    "sobols_first = np.array(list(sobols_first['g1'].values()))"
   ]
  },
  {
   "cell_type": "code",
   "execution_count": 159,
   "id": "f6cc289f",
   "metadata": {},
   "outputs": [
    {
     "data": {
      "image/png": "[encoded data removed]",
      "text/plain": [
       "<Figure size 288x576 with 1 Axes>"
      ]
     },
     "metadata": {
      "needs_background": "light"
     },
     "output_type": "display_data"
    }
   ],
   "source": [
    "fig = plt.figure(figsize=[4, 8])\n",
    "ax = fig.add_subplot(111)\n",
    "ax.set_ylabel(r'first-order Sobol index', fontsize=14)\n",
    "# find max quad order for every parameter\n",
    "ax.bar(range(sobols_first.size), height=sobols_first.flatten())\n",
    "ax.set_xticks(range(sobols_first.size))\n",
    "ax.set_xticklabels(param_names)\n",
    "plt.xticks(rotation=90)\n",
    "plt.tight_layout()"
   ]
  },
  {
   "cell_type": "markdown",
   "id": "8c06f074",
   "metadata": {},
   "source": [
    "Now, try the same the same thing with all 6 parameters included in `vary`. Refine the grid multiple times to get an idea of the cost involved."
   ]
  },
  {
   "cell_type": "markdown",
   "id": "dadcf46d",
   "metadata": {},
   "source": [
    "Notice that it can still become expensive. In the standard SC method, the number of code evaluations equals $m^d$, where $m$ is the number of points in 1D, and $d$ is the number of uncertain inputs. In the case of sparse grids, the exponent $d$ is applied of $log(m)$ instead of $m$. Hence the cost still rises exponentially, although not as fast as with the standard SC method. This makes it possible to increase the number of inputs somewhat, but not really significantly.\n",
    "\n",
    "So what can you do if you have 20, 30 or more inputs? One option is to still use a hierarchical sparse-grid construction, but try to refine only those inputs which have a significant impact on the output. Here, we have refined all parameters to the same extent.\n",
    "\n",
    "Another option, which will discuss below, is to use machine learning to create a surrogate model, trained on input-output data."
   ]
  },
  {
   "cell_type": "markdown",
   "id": "7ff034d0",
   "metadata": {},
   "source": [
    "## Deep active subspaces in theory\n",
    "\n",
    "\n",
    "The Active Subspace method, introduced by [1], is a class of methods for forward propagation of uncertainty in high-dimensional input spaces. It attempts to circumvent the curse of dimensionality by dimension reduction of the input space. Specifically, it projects the input vector ${\\bf x}\\in\\mathbb{R}^D$ to a lower-dimensional subspace ${\\bf y}\\in\\mathbb{R}^d$, via a tall-and-skinny matrix $W_1\\in\\mathbb{R}^{D\\times d}$ of orthogonal basis vectors, such that $W_1^TW_1 = I_d$, where $d<D$ and $I_d$ is the $d$-dimensional identity matrix. The active subspace is thus given by\n",
    "\n",
    "\\begin{align}\n",
    "{\\bf y} = W_1^T{\\bf x} \\in\\mathbb{R}^d,\n",
    "\\label{eq:active}\n",
    "\\end{align}\n",
    "\\noindent\n",
    "where the main idea is that the dimension reduction simplifies the task of obtaining an accurate surrogate model. If we denote this surrogate by $g$, we thus want to find a model that satisfies\n",
    "\n",
    "\\begin{align}\n",
    "f({\\bf x})\\approx g\\left({\\bf y}\\right) = g\\left(W_1^T{\\\n",
    "\\bf x}\\right).\n",
    "\\label{eq:g}\n",
    "\\end{align}\n",
    "\n",
    "### Classical means of finding $W_1$\n",
    "\n",
    "Because ${\\bf y}$ is a linear transformation of the inputs ${\\bf x}$, it opens up the possibility of findings directions along which the model varies most. This is especially useful if a model varies significantly in a direction that is not aligned with the coordinate axes of ${\\bf x}$. In \"classical\" active subspaces, dimension reduction is achieved by rotating the coordinate system such that it is aligned with the directions of most variability, after which only the most dominant directions are retained. To find these directions, the following average gradient matrix is constructed:\n",
    "\n",
    "\\begin{align}\n",
    " C = \\int \\left(\\nabla f\\left({\\bf x}\\right)\\right)\\left(\\nabla f\\left({\\bf x}\\right)\\right)^T p(\\bf x)d{\\bf x}\n",
    " \\label{eq:C}\n",
    "\\end{align}\n",
    "\\noindent\n",
    "Here, $p({\\bf x})$ is the chosen probability density function (pdf) of the inputs ${\\bf x}$. Since $C$ is a symmetric, positive semi-definite matrix, it has the following spectral decomposition\n",
    "\n",
    "\\begin{align*}\n",
    " C = [W_1 W_2]\\left[\n",
    "\\begin{matrix}\n",
    "\\Lambda_1 & 0 \\\\\n",
    "0 & \\Lambda_2\n",
    "\\end{matrix} \n",
    " \\right][W_1 W_2]^T.\n",
    "\\end{align*}\n",
    "\n",
    "Hence the matrix $W_1$, used to project ${\\bf x}$ to ${\\bf y}$ in, are the first $d$ eigenvectors of $C$, which in turn correspond to the $d$ largest eigenvalues in $\\Lambda_1$. These $d$ eigenvectors form an orthonormal basis aligned with the directions of most variability. Note that $C$ is averaged over $p({\\bf x})$, and that in practise, the integral in in $C$ is often approximated using a Monte Carlo approach.\n",
    "\n",
    "The approach described here is intuitive, and has nice theoretical properties, such as computable error bounds. The downside however, is that the gradient $\\nabla f({\\bf x})$ must be available. This requires the availability of an adjoint solver, or one must approximate the gradients using for instance finite differences. This downside has prompted the development of other active subspace methods which do not require access to the gradient. Some of these methods involve Gaussian processes, whereas others use deep learning. We will focus on the latter.\n",
    "\n",
    "### Deep active subspaces\n",
    "\n",
    "In [2], an approach is described in which artificial neural networks (ANNs) are used for $g$, and where $W_1$ is found using back propagation. Like the classical active subspace method, the construction ${\\bf y} = W_1^T{\\bf x}$ is retained. Moreover, the column vectors of $W_1$ still form an orthogonal basis. The difference is that the column vectors of $W_1$ are no longer the eigenvectors of the gradient matrix $C$, but instead are constructed using Gram-Schmidt orthogonalization. As such, $W_1$ is parametrized by a matrix $Q$ of the same dimension ($\\in\\mathrm{R}^{D\\times d}$), where the non-orthonormal column vectors ${\\bf q}_i\\in\\mathbb{R}^D$ are made orthonormal via\n",
    "\n",
    "\\begin{align}\n",
    " {\\bf w}_i = {\\bf q}_i - \\sum_{j=1}^{i-1}\\left(\\frac{{\\bf w}_j^T{\\bf q}_i}{{\\bf w}_j^T{\\bf w}_j}\\right){\\bf w}_j, \\quad i = 1,\\cdots, d.\n",
    " \\label{eq:GS}\n",
    "\\end{align}\n",
    "\n",
    "That is, we start with ${\\bf w}_1 := {\\bf q}_1$, and for all subsequent vectors ${\\bf q}_i$ we subtract the projections of ${\\bf q}_i$ onto each vector ${\\bf w}_j$ which has previously been orthogonalized. This leaves us with a orthogonal basis $ \\left[{\\bf w}_1({\\bf q}_1)\\;\\;{\\bf w}_2({\\bf q}_1, {\\bf q}_2)\\;\\;\\cdots\\;\\;{\\bf w}_d({\\bf q}_1,{\\bf q}_2\\,\\cdots,{\\bf q}_d)\\right]$. Finally, to obtain an orthonormal basis, each column vector is divided by its length. such that our final weight matrix becomes\n",
    "\n",
    "\\begin{align}\n",
    "W_1(Q) = \\left[\\frac{{\\bf w}_1({\\bf q}_1)}{\\lVert{\\bf w}_1({\\bf q}_1)\\rVert_2}\\;\\;\\frac{{\\bf w}_2({\\bf q}_1, {\\bf q}_2)}{\\lVert{\\bf w}_2({\\bf q}_1, {\\bf q}_2)\\rVert_2}\\;\\;\\cdots\\;\\;\\frac{{\\bf w}_d({\\bf q}_1,{\\bf q}_2\\,\\cdots,{\\bf q}_d)}{\\lVert{\\bf w}_d({\\bf q}_1,{\\bf q}_2\\,\\cdots,{\\bf q}_d)\\rVert_2}\\right].\n",
    "\\label{eq:W1}\n",
    "\\end{align}\n",
    "\n",
    "Note that the projection ${\\bf y} = \\Phi\\left(W_1^T{\\bf x}\\right) = W_1^T{\\bf x}$ also occurs in a layer of a neural network if the activation function $\\Phi\\left(\\cdot\\right)$ is linear. Thus, we can interpret the matrix $W_1$ as a weight matrix of the first hidden layer (with $d$ neurons and linear activation), connected to an input layer through which ${\\bf x}$ is passed. Each column vector ${\\bf w}_i$ contains the all weights connecting the input layer to the i-th neuron of the first hidden layer, see the figure below. Since the first hidden layer has only $d$ neurons, and its weight matrix is determined from a Gram-Schmidt procedure, we call the layer the Deep Active Subspace (DAS) layer.\n",
    "\n",
    "<img src=\"images/nn1.png\" width=700 height=700>\n",
    "\n",
    "The surrogate $g({\\bf y})$ is the ANN from the DAS layer onward, see the figure below. Each hidden layer has a weight matrix $W_i\\in\\mathbb{R}^{p + 1\\times p}$, assuming that all hidden layers have $p$ neurons plus 1 bias neuron. As per usual, these weight matrices are optimized through the back propagation algorithm, in which the gradient $\\partial L/\\partial W_i$ is computed, where $L$ is the loss function.\n",
    "\n",
    "<img src=\"images/nn2.png\" width=700 height=700>\n",
    "\n",
    "The situation in the DAS layer is different. Since $W_1=W_1(Q)$, we need to optimize $Q$ instead of the weight matrix, and therefore back propagation requires $\\partial L/\\partial Q$ instead of $\\partial L/\\partial W_1$. The authors of [2] suggest to use automatic differentiation. This does make sense, since although ${\\bf w}_k/\\Vert {\\bf w}_k \\rVert_2$ is algebraic and differentiable, it quickly becomes a complicated expression involving a very large number of $q_{ij}$ terms. Here, $q_{ij}$ are the $D$ entries, $i=1,\\cdots,D$, of ${\\bf q}_j$. That said, it is possible to use matrix calculus to find a simple expression for $\\partial L /\\partial Q$, which is the approach implemented in EasySurrogate."
   ]
  },
  {
   "cell_type": "markdown",
   "id": "766cb7f7",
   "metadata": {},
   "source": [
    "## Deep active subspaces in practise\n"
   ]
  },
  {
   "cell_type": "code",
   "execution_count": 173,
   "id": "d626ddfc",
   "metadata": {},
   "outputs": [
    {
     "name": "stderr",
     "output_type": "stream",
     "text": [
      "100%|██████████| 500/500 [00:23<00:00, 21.42it/s]\n"
     ]
    }
   ],
   "source": [
    "LHC_campaign = uq.Campaign(name='beam_LHC', params=params, actions=actions)\n",
    "LHC_sampler = uq.sampling.quasirandom.LHCSampler(vary, max_num=500)\n",
    "LHC_campaign.set_sampler(LHC_sampler)\n",
    "LHC_campaign.execute().collate(progress_bar=True)"
   ]
  },
  {
   "cell_type": "code",
   "execution_count": 174,
   "id": "604d7b98",
   "metadata": {},
   "outputs": [],
   "source": [
    "data_frame = LHC_campaign.get_collation_result()"
   ]
  },
  {
   "cell_type": "code",
   "execution_count": 175,
   "id": "1fd3994d",
   "metadata": {},
   "outputs": [],
   "source": [
    "import easysurrogate as es"
   ]
  },
  {
   "cell_type": "code",
   "execution_count": 182,
   "id": "5b7935ea",
   "metadata": {},
   "outputs": [
    {
     "name": "stdout",
     "output_type": "stream",
     "text": [
      "Extracting features ['F', 'L', 'a', 'D', 'd', 'E']\n",
      "Extracting output data ['g1'] \n"
     ]
    }
   ],
   "source": [
    "surr_campaign = es.Campaign()\n",
    "params, samples = surr_campaign.load_easyvvuq_data(LHC_campaign, ['g1'])\n",
    "samples = samples['g1']"
   ]
  },
  {
   "cell_type": "code",
   "execution_count": 183,
   "id": "9d8f7a9c",
   "metadata": {},
   "outputs": [
    {
     "name": "stdout",
     "output_type": "stream",
     "text": [
      "Creating DAS_Surrogate Object\n",
      "Creating Feature Engineering object\n",
      "Using  400/500 samples to train the ML model\n",
      "done preparing data\n",
      "===============================\n",
      "Neural net parameters\n",
      "===============================\n",
      "Number of layers = 4\n",
      "Number of features = 6\n",
      "Loss function = squared\n",
      "Number of neurons per hidden layer = 100\n",
      "Number of output neurons = 1\n",
      "Activation hidden layers = tanh\n",
      "Activation output layer = linear\n",
      "This neural network has 10513 weights.\n",
      "===============================\n",
      "===============================\n",
      "Training Deep Active Subspace Neural Network...\n",
      "Batch 0 learning rate 0.001 loss: 1.0296673832827703\n",
      "Batch 1000 learning rate 0.001 loss: 0.0007581115441239123\n",
      "Batch 2000 learning rate 0.001 loss: 0.0008529064211351558\n",
      "Batch 3000 learning rate 0.001 loss: 0.00040085479770584574\n",
      "Batch 4000 learning rate 0.001 loss: 0.00041933227812293475\n",
      "Batch 5000 learning rate 0.001 loss: 0.0005570865285046106\n",
      "Batch 6000 learning rate 0.001 loss: 0.0005584903905418715\n",
      "Batch 7000 learning rate 0.001 loss: 0.000621030789247949\n",
      "Batch 8000 learning rate 0.001 loss: 0.0006037016542833631\n",
      "Batch 9000 learning rate 0.001 loss: 0.0007241198266155188\n"
     ]
    }
   ],
   "source": [
    "#train a DAS network\n",
    "D = len(vary)\n",
    "d = 2\n",
    "\n",
    "surrogate = es.methods.DAS_Surrogate()\n",
    "surrogate.train(params, samples, d, n_iter=10000, n_layers=4, n_neurons=100, test_frac = 0.2)\n",
    "\n",
    "dims = surrogate.get_dimensions()"
   ]
  },
  {
   "cell_type": "code",
   "execution_count": 185,
   "id": "00ddada2",
   "metadata": {},
   "outputs": [
    {
     "name": "stdout",
     "output_type": "stream",
     "text": [
      "Relative error on training set = 0.0063\n",
      "Relative error on test set = 0.0070\n"
     ]
    }
   ],
   "source": [
    "# run the trained model forward at training locations\n",
    "n_mc = dims['n_train']\n",
    "pred = np.zeros([n_mc, dims['n_out']])\n",
    "for i in range(n_mc):\n",
    "    pred[i,:] = surrogate.predict(params[i])\n",
    "   \n",
    "train_data = samples[0:dims['n_train']]\n",
    "rel_err_train = np.linalg.norm(train_data - pred)/np.linalg.norm(train_data)\n",
    "\n",
    "# run the trained model forward at test locations\n",
    "pred = np.zeros([dims['n_test'], dims['n_out']])\n",
    "for idx, i in enumerate(range(dims['n_train'], dims['n_samples'])):\n",
    "    pred[idx] = surrogate.predict(params[i])\n",
    "test_data = samples[dims['n_train']:]\n",
    "rel_err_test = np.linalg.norm(test_data - pred)/np.linalg.norm(test_data)\n",
    "\n",
    "print('Relative error on training set = %.4f' % rel_err_train)\n",
    "print('Relative error on test set = %.4f' % rel_err_test)"
   ]
  },
  {
   "cell_type": "code",
   "execution_count": 187,
   "id": "5b19cb7e",
   "metadata": {},
   "outputs": [
    {
     "name": "stdout",
     "output_type": "stream",
     "text": [
      "Creating DAS_analysis object\n"
     ]
    }
   ],
   "source": [
    "analysis = es.analysis.DAS_analysis(surrogate)\n"
   ]
  },
  {
   "cell_type": "code",
   "execution_count": 188,
   "id": "35c6a8ff",
   "metadata": {},
   "outputs": [
    {
     "name": "stdout",
     "output_type": "stream",
     "text": [
      "Parameters ordered from most to least important:\n",
      "[[2 3 0 1 5 4]]\n"
     ]
    },
    {
     "data": {
      "image/png": "[encoded data removed]",
      "text/plain": [
       "<Figure size 288x576 with 1 Axes>"
      ]
     },
     "metadata": {
      "needs_background": "light"
     },
     "output_type": "display_data"
    }
   ],
   "source": [
    "n_mc = 10**4\n",
    "params = np.array([p.sample(n_mc) for p in sampler.vary.get_values()]).T\n",
    "idx, mean = analysis.sensitivity_measures(params)\n",
    "params_ordered = np.array(list(sampler.vary.get_keys()))[idx[0]]\n",
    "\n",
    "fig = plt.figure('sensitivity', figsize=[4, 8])\n",
    "ax = fig.add_subplot(111)\n",
    "ax.set_ylabel(r'$\\int\\frac{\\partial ||y||^2_2}{\\partial x_i}p({\\bf x})d{\\bf x}$', fontsize=14)\n",
    "# find max quad order for every parameter\n",
    "ax.bar(range(mean.size), height = mean[idx].flatten())\n",
    "ax.set_xticks(range(mean.size))\n",
    "ax.set_xticklabels(params_ordered)\n",
    "plt.xticks(rotation=90)\n",
    "plt.tight_layout()\n",
    "plt.show()"
   ]
  },
  {
   "cell_type": "code",
   "execution_count": null,
   "id": "4b45e214",
   "metadata": {},
   "outputs": [],
   "source": []
  }
 ],
 "metadata": {
  "kernelspec": {
   "display_name": "Python 3",
   "language": "python",
   "name": "python3"
  },
  "language_info": {
   "codemirror_mode": {
    "name": "ipython",
    "version": 3
   },
   "file_extension": ".py",
   "mimetype": "text/x-python",
   "name": "python",
   "nbconvert_exporter": "python",
   "pygments_lexer": "ipython3",
   "version": "3.7.7"
  }
 },
 "nbformat": 4,
 "nbformat_minor": 5
}
