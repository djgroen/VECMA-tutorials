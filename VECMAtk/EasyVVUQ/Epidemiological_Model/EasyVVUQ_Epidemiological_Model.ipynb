{
 "cells": [
  {
   "cell_type": "markdown",
   "metadata": {
    "colab_type": "text",
    "id": "NzWFca3cB9oe"
   },
   "source": [
    "![alt text](https://easyvvuq.readthedocs.io/en/latest/_static/circle-logo.svg)\n",
    "\n",
    "Vytautas Jancauskas 2020\n",
    "\n",
    "# **EasyVVUQ Tutorial**\n",
    "\n",
    "# Introduction\n",
    "\n",
    "In this tutorial we will show you how you can use [EasyVVUQ](https://github.com/UCL-CCS/EasyVVUQ) to investigate the properties of a simple epidemiological model. The model is very simplistic and is not intended to realisticly portray a real epidemic such as COVID-19. However it is also fun enough to experiment with and we can use it as an example to show how you can use EasyVVUQ to answer questions about your scientific models. EasyVVUQ is successfully used by researchers in various different fields, such as plasma physics, weather and air pollution modelling and materials science."
   ]
  },
  {
   "cell_type": "markdown",
   "metadata": {
    "colab_type": "text",
    "id": "ugDD5kSbAtw_"
   },
   "source": [
    "# Installing EasyVVUQ\n",
    "\n",
    "Before we do anything else we need to install EasyVVUQ for use in this notebook. We also want to clone the git repository because it contains some files used in this tutorial. Please note that you might need to restart the runtime after the installation is complete. If the following code examples don't work please try that first. I have added a command that kills the runtime (which causes it to be restarted). But I'm not sure if it will always work."
   ]
  },
  {
   "cell_type": "code",
   "execution_count": null,
   "metadata": {
    "colab": {},
    "colab_type": "code",
    "id": "We-D7yY3H1ds"
   },
   "outputs": [],
   "source": [
    "!pip install git+https://github.com/UCL-CCS/EasyVVUQ\n",
    "!git clone https://github.com/UCL-CCS/EasyVVUQ\n",
    "import os\n",
    "os.kill(os.getpid(), 9)"
   ]
  },
  {
   "cell_type": "markdown",
   "metadata": {
    "colab_type": "text",
    "id": "O5RXyRXm4tIf"
   },
   "source": [
    "# Epidemiological Model\n",
    "\n",
    "In our model individuals are placed on a two dimensional square grid. During each turn, the individual moves at random one square in one of eight possible directions (N, NE, E, SE, S, SW, W or NW). If the individual encounters another individual and that person is ill, the individual will also become sick for a specified number of turns (that number is a parameter to the model). Once ill, the individual cannot become sick anymore and after getting over the disease they will have immunity. Immunity means that this person cannot get infected anymore. The simulation continues until no one is sick. At that point the disease counts as erradicated."
   ]
  },
  {
   "cell_type": "markdown",
   "metadata": {
    "colab_type": "text",
    "id": "chwejpvvRCNC"
   },
   "source": [
    "Let us load the model and see how it operates. We create a population on a 10x10 grid containing 20 individuals. Once infected the individual can transmit the disease for 28 turns. After that they have a 20% chance of dying."
   ]
  },
  {
   "cell_type": "code",
   "execution_count": null,
   "metadata": {
    "colab": {},
    "colab_type": "code",
    "id": "cBYFOLALP7g7"
   },
   "outputs": [],
   "source": [
    "import matplotlib.pyplot as plt\n",
    "import numpy as np\n",
    "import EasyVVUQ.docs.epidemic.epidemic as epidemic\n",
    "\n",
    "population = epidemic.Population(grid_size=10, n=20, duration=28, mortality=0.2)"
   ]
  },
  {
   "cell_type": "markdown",
   "metadata": {
    "colab_type": "text",
    "id": "LD0bwjvxbHbP"
   },
   "source": [
    "The code cell below is supposed to be run multiple times. Each time you run it the image below will update to show the state of the population. The black squares are empty, the white squares represent individuals who are not immune and are not sick. The red squares represent ill individuals and the intensity of the red shows how many turns they will stay ill for. Green squares represent individuals who are immune. Once the disease is eradicated, the graphic will change to a plot showing the evolution of the disease over time."
   ]
  },
  {
   "cell_type": "code",
   "execution_count": null,
   "metadata": {
    "colab": {},
    "colab_type": "code",
    "id": "_gDcO4TQRM-Y"
   },
   "outputs": [],
   "source": [
    "population.move()\n",
    "if np.count_nonzero(population.ill):\n",
    "  plt.imshow(population.get_im())\n",
    "  plt.show()\n",
    "else:\n",
    "  plt.plot(population.ill_history, label=\"Sick Individuals\")\n",
    "  plt.plot(population.immune_history, label=\"Immune Individuals\")\n",
    "  plt.plot(population.n_history, label=\"Population\")\n",
    "  plt.xlabel(\"Time\")\n",
    "  plt.ylabel(\"Count\")\n",
    "  plt.legend()\n",
    "  plt.show()"
   ]
  },
  {
   "cell_type": "markdown",
   "metadata": {
    "colab_type": "text",
    "id": "lMaeqU5942PB"
   },
   "source": [
    "Since EasyVVUQ is meant to be a general framework (non-Python specific) we don't call Python functions directly to get results of the simulation. After all, many simulations are still written in Fortran and operate by taking an input file and producing a file with outputs of the simulation. To do statistical analysis we need to be able to provide an appropriate input file to the simulation and be able to parse the outputs of the simulation. You can run our simulation as in the following example."
   ]
  },
  {
   "cell_type": "code",
   "execution_count": null,
   "metadata": {
    "colab": {},
    "colab_type": "code",
    "id": "GStHHTzNAndx"
   },
   "outputs": [],
   "source": [
    "!cd EasyVVUQ/docs/epidemic/; python3 epidemic.py example.json output.csv"
   ]
  },
  {
   "cell_type": "markdown",
   "metadata": {
    "colab_type": "text",
    "id": "zl3ItaR5NdxV"
   },
   "source": [
    "This will have produced a file called output.csv that consists of four columns labeled \"iteration\", \"ill\", \"immune\" and \"population\". These should be fairly self explanatory."
   ]
  },
  {
   "cell_type": "code",
   "execution_count": null,
   "metadata": {
    "colab": {},
    "colab_type": "code",
    "id": "UeKJH_1sBGsN"
   },
   "outputs": [],
   "source": [
    "!cat EasyVVUQ/docs/epidemic/output.csv"
   ]
  },
  {
   "cell_type": "markdown",
   "metadata": {
    "colab_type": "text",
    "id": "B-VMs_nEBBhE"
   },
   "source": [
    "Let us plot this data and see what the evolution of the disease looks like in our population."
   ]
  },
  {
   "cell_type": "code",
   "execution_count": null,
   "metadata": {
    "colab": {},
    "colab_type": "code",
    "id": "Wci3iduVBr7E"
   },
   "outputs": [],
   "source": [
    "  import matplotlib.pyplot as plt\n",
    "  import pandas as pd\n",
    "\n",
    "  df = pd.read_csv(\"EasyVVUQ/docs/epidemic/output.csv\")\n",
    "  plt.plot(df['ill'], label=\"Sick Individuals\")\n",
    "  plt.plot(df['immune'], label=\"Immune Individuals\")\n",
    "  plt.plot(df['population'], label=\"Population\")\n",
    "  plt.xlabel(\"Time\")\n",
    "  plt.ylabel(\"Count\")\n",
    "  plt.legend()\n",
    "  plt.show()"
   ]
  },
  {
   "cell_type": "markdown",
   "metadata": {
    "colab_type": "text",
    "id": "ZPTzDP7KaA4Y"
   },
   "source": [
    "A short summary is in order so that we can start exploring the sample space of our model:\n",
    "\n",
    "* We have a script that takes a JSON file with parameters and produces a CSV file with the output.\n",
    "* The model takes 4 input parameters - grid size, population size, disease duration and mortality rate.\n",
    "* The model produces 4 columns of output - iteration number, number of sick people, number of immune people and the current population size."
   ]
  },
  {
   "cell_type": "markdown",
   "metadata": {
    "colab_type": "text",
    "id": "1qCJk4g5bsfI"
   },
   "source": [
    "We will use EasyVVUQ to help us answer some questions about the model. Here are some simple ones that arise from toying with the model:\n",
    "\n",
    "* Given that every time the length of time before the disease is erradicated is different even with the same parameters (due to the fact that each individual chooses where to move to at random), we might want to know, within a given certainty range, what the expected value of that is. This tells us, with needed confidence, how long we can expect the disease to last given certain parameters.\n",
    "* We might also do the same thing but for a set of parameter values. Namely we might want to performa a parameter sweep with corresponding error bars.\n",
    "* We might also want to improve our results by adding more samples to our analysis - hence we will see how we can restart a simulation and draw more samples to improve the accuracy.\n",
    "* At some point we will want to use external resources to execute our simulations. We will quickly discuss how this can be done.\n",
    "* Finally, given that our model is quite computationally expensive, we might want to explore the possibility of creating surrogate models to stand-in in place of the original model. These are usually expensive to create but very cheap to evaluate. Hence there is a possibility that we will be able to extract knowledge about our model from them that would be too expensive (computationally or otherwise) with a full simulation."
   ]
  },
  {
   "cell_type": "markdown",
   "metadata": {
    "colab_type": "text",
    "id": "FOPcPFeJT3Vt"
   },
   "source": [
    "But first we need to set EasyVVUQ up to produce the configuration files in the suitable format and read in the output of the simulation. We also need to give a description of the parameter space. We also need to specify how we will execute our simulation. The next sections is concerened with these tasks."
   ]
  },
  {
   "cell_type": "markdown",
   "metadata": {
    "colab_type": "text",
    "id": "zkWCN7Pe6GJB"
   },
   "source": [
    "# EasyVVUQ Set-up\n",
    "\n",
    "For the examples in this tutorial we import some libraries that will be used throughout. EasyVVUQ will be referred to as 'uq' in the code. We also need Chaospy because we use it for the probability distribution classes. We use numpy for certain small tasks and we use pandas DataFrame as the standard data exchange format as is customary in the Python data science infrastucture."
   ]
  },
  {
   "cell_type": "code",
   "execution_count": null,
   "metadata": {
    "colab": {},
    "colab_type": "code",
    "id": "Yd2XHwIE4tIg"
   },
   "outputs": [],
   "source": [
    "import easyvvuq as uq\n",
    "import chaospy as cp\n",
    "import easyvvuq.collate\n",
    "import numpy as np\n",
    "import pandas as pd\n",
    "import matplotlib.pyplot as plt\n",
    "import os\n",
    "from pathlib import Path"
   ]
  },
  {
   "cell_type": "markdown",
   "metadata": {
    "colab_type": "text",
    "id": "PhCZgtszlpU5"
   },
   "source": [
    "While we are at it we also want to describe the arguments to our model. This takes a form of a Python dictionary. The dictionary is based on the Cerberus validator dictionary format. For more information refer to Cerberus [documentation](https://docs.python-cerberus.org/en/stable/). This dictionary is used in both validation of the results and for the default values when we don't want to vary a certain parameter."
   ]
  },
  {
   "cell_type": "code",
   "execution_count": null,
   "metadata": {
    "colab": {},
    "colab_type": "code",
    "id": "isCmUx0bm6AX"
   },
   "outputs": [],
   "source": [
    "params = {\n",
    "    \"grid_size\": {\"type\": \"float\", \"default\": 10},\n",
    "    \"n\": {\"type\": \"float\", \"min\": 1, \"max\": 100, \"default\": 20},\n",
    "    \"duration\": {\"type\": \"float\", \"min\": 0, \"max\": 365, \"default\": 28},\n",
    "    \"mortality\": {\"type\": \"float\", \"min\": 0.0, \"max\": 1.0, \"default\": 0.2}\n",
    "}"
   ]
  },
  {
   "cell_type": "markdown",
   "metadata": {
    "colab_type": "text",
    "id": "eUuupPuDbVNi"
   },
   "source": [
    "We will also want to set-up some elements that will stay the same for all the examples. These components are the encoder - which is responsible for creating input files for our simulation and the decoder - which is responsible for parsing the output of the simulation."
   ]
  },
  {
   "cell_type": "markdown",
   "metadata": {
    "colab_type": "text",
    "id": "UX-nxATzcquI"
   },
   "source": [
    "For the Encoder we use the GenericEncoder class. It is a very simple template based encoder. It finds a specified delimiter, and replaces the variable name that follows that delimiter with the corresponding value. In our case the template file looks like follows:\n",
    "\n",
    "```\n",
    "{\n",
    "    \"grid_size\" : $grid_size,\n",
    "    \"n\" : $n,\n",
    "    \"duration\" : $duration,\n",
    "    \"mortality\" : $mortality\n",
    "}\n",
    "```\n",
    "\n",
    "From this template, a JSON file will be created and then passed to the simulation script as an argument. EasyVVUQ has other encoders as well. For example the [Jinja encoder](https://easyvvuq.readthedocs.io/en/dev/source/easyvvuq.encoders.html#module-easyvvuq.encoders.jinja_encoder).\n",
    "\n"
   ]
  },
  {
   "cell_type": "code",
   "execution_count": null,
   "metadata": {
    "colab": {},
    "colab_type": "code",
    "id": "3MUHaMR5chT-"
   },
   "outputs": [],
   "source": [
    "encoder = uq.encoders.GenericEncoder(\n",
    "    template_fname='EasyVVUQ/docs/epidemic/epidemic.template',\n",
    "    delimiter='$',\n",
    "    target_filename='epidemic_in.json')"
   ]
  },
  {
   "cell_type": "markdown",
   "metadata": {
    "colab_type": "text",
    "id": "ht9C4JYmoK_k"
   },
   "source": [
    "Since the quantity of interest (number of turns until the disease is erradicated) is a function of the simulation output (it is the iteration number of the last row) we need to extend the Decoder class to take this in to account. To this end we inherit from SimpleCSV decoder and redefine the `parse_sim_output` method to take the last value of the `iteration` column in the file produced by the simulation. This gives us the length in turns for which the simulation ran or in other words before the disease disappeared in our simulation."
   ]
  },
  {
   "cell_type": "code",
   "execution_count": null,
   "metadata": {
    "colab": {},
    "colab_type": "code",
    "id": "kloY-UH2my9q"
   },
   "outputs": [],
   "source": [
    "class EpidemicDecoder(uq.decoders.SimpleCSV, decoder_name='epidemic_decoder'):\n",
    "    def parse_sim_output(self, run_info={}):\n",
    "        result = super().parse_sim_output(run_info)\n",
    "        return pd.DataFrame(result.tail(1)['iteration'])\n",
    "\n",
    "decoder = EpidemicDecoder(\n",
    "    target_filename=\"output.csv\", output_columns=[\"iteration\"], header=0)"
   ]
  },
  {
   "cell_type": "markdown",
   "metadata": {
    "colab_type": "text",
    "id": "p9QHSWzva6td"
   },
   "source": [
    "We will also define a helper function that will execute the simulation with the provided input files. This function takes a campaign object, creates the directories with input files and then runs our script in them with those files as inputs. The exact details of this process can be found [here](https://easyvvuq.readthedocs.io/en/dev/source/easyvvuq.html#easyvvuq.campaign.Campaign.populate_runs_dir) and [here](https://easyvvuq.readthedocs.io/en/dev/source/easyvvuq.html#easyvvuq.campaign.Campaign.apply_for_each_run_dir)."
   ]
  },
  {
   "cell_type": "code",
   "execution_count": null,
   "metadata": {
    "colab": {},
    "colab_type": "code",
    "id": "OIs3RbZmnShL"
   },
   "outputs": [],
   "source": [
    "def campaign_execute(campaign):\n",
    "  campaign.apply_for_each_run_dir(\n",
    "      uq.actions.ExecuteLocal(\n",
    "          \"{} epidemic_in.json output.csv\".format(\n",
    "              os.path.abspath('EasyVVUQ/docs/epidemic/epidemic.py')), \n",
    "              interpret=\"python3\"))"
   ]
  },
  {
   "cell_type": "markdown",
   "metadata": {
    "colab_type": "text",
    "id": "fmMy1CXrdpd8"
   },
   "source": [
    "The collater is responsible for aggregating the outputs of the simulation. Think of it this way: the decoder produces a pandas `DataFrame` from the output of a simulation while a collater takes `DataFrames` from many simulations and produces a single `DataFrame` from them. The simplest way of doing this is to simply concatenate the `DataFrames` which is what [`AggregateSamples`](https://easyvvuq.readthedocs.io/en/dev/source/easyvvuq.collate.html#easyvvuq.collate.aggregate_samples.AggregateSamples) collater does."
   ]
  },
  {
   "cell_type": "code",
   "execution_count": null,
   "metadata": {
    "colab": {},
    "colab_type": "code",
    "id": "dJsSCDZEnbHs"
   },
   "outputs": [],
   "source": [
    "collater = uq.collate.AggregateSamples(average=False)"
   ]
  },
  {
   "cell_type": "markdown",
   "metadata": {
    "colab_type": "text",
    "id": "uhwgG1Wc4tIj"
   },
   "source": [
    "## Basic Example\n",
    "\n",
    "We start by creating an\n",
    "EasyVVUQ Campaign. Here we call it 'epidemic_basic'. :"
   ]
  },
  {
   "cell_type": "code",
   "execution_count": null,
   "metadata": {
    "colab": {},
    "colab_type": "code",
    "id": "Cf5cFQXr4tIj"
   },
   "outputs": [],
   "source": [
    "campaign = uq.Campaign(name='epidemic_basic')\n",
    "print(campaign)"
   ]
  },
  {
   "cell_type": "markdown",
   "metadata": {
    "colab_type": "text",
    "id": "IxyJdZD6oOLd"
   },
   "source": [
    "We then want to describe our application. This means passing parameter dictionary, enoder, decoder and collater to the campaign object."
   ]
  },
  {
   "cell_type": "code",
   "execution_count": null,
   "metadata": {
    "colab": {},
    "colab_type": "code",
    "id": "Ftd-tq6a4tIx"
   },
   "outputs": [],
   "source": [
    "# Add the app (automatically set as current app)\n",
    "campaign.add_app(\n",
    "    name=\"epidemic\",\n",
    "    params=params,\n",
    "    encoder=encoder,\n",
    "    decoder=decoder,\n",
    "    collater=collater)"
   ]
  },
  {
   "cell_type": "markdown",
   "metadata": {
    "colab_type": "text",
    "id": "EBUKUTyL4tIz"
   },
   "source": [
    "For this particular task we are not interested in the relationship between input parameters and the behavior of the simulation. All we want is to see how much the result varies between runs that are identical but for the random seed."
   ]
  },
  {
   "cell_type": "code",
   "execution_count": null,
   "metadata": {
    "colab": {},
    "colab_type": "code",
    "id": "1eDGvW3J4tI2"
   },
   "outputs": [],
   "source": [
    "from easyvvuq.sampling import EmptySampler\n",
    "campaign.set_sampler(EmptySampler())"
   ]
  },
  {
   "cell_type": "markdown",
   "metadata": {
    "colab_type": "text",
    "id": "syDEBtKzo7TS"
   },
   "source": [
    "EmptySampler is a convenience class for such cases. However, another option is, if your simulation provides the option to specify different seeds, to draw the seeds from a probability distribution. In cases like these you could specify the sampler like this:\n",
    "\n",
    "```\n",
    "from easyvvuq.sampling import RandomSampler\n",
    "\n",
    "vary = {'seed' : cp.DiscreteUniform(0, MAX_SEED)}\n",
    "sampler = RandomSampler(vary)\n",
    "```\n",
    "\n",
    "In the above example `MAX_SEED` is the maximum value the seed can take plus one.\n"
   ]
  },
  {
   "cell_type": "markdown",
   "metadata": {
    "colab_type": "text",
    "id": "IIDKFbhQ4tI7"
   },
   "source": [
    "Calling the campaign's draw\\_samples() method will cause the specified\n",
    "number of samples to be added as runs to the campaign database, awaiting\n",
    "encoding and execution. Please note that nothing is executed at this stage. Neither any changes are made to the file system (e.g. no input files are created). This happens at a later stage. If no arguments are passed to draw\\_samples()\n",
    "then all samples will be drawn, unless the sampler is not finite. In\n",
    "this case let us try 20 samples :"
   ]
  },
  {
   "cell_type": "code",
   "execution_count": null,
   "metadata": {
    "colab": {},
    "colab_type": "code",
    "id": "RD5cupoa4tI7"
   },
   "outputs": [],
   "source": [
    "campaign.draw_samples(20)"
   ]
  },
  {
   "cell_type": "markdown",
   "metadata": {
    "colab_type": "text",
    "id": "ers0rL4rnh7u"
   },
   "source": [
    "Let us now create the input files for our simulations."
   ]
  },
  {
   "cell_type": "code",
   "execution_count": null,
   "metadata": {
    "colab": {},
    "colab_type": "code",
    "id": "E2gnD00wnldB"
   },
   "outputs": [],
   "source": [
    "campaign.populate_runs_dir()"
   ]
  },
  {
   "cell_type": "markdown",
   "metadata": {
    "colab_type": "text",
    "id": "E5RS1S0Hp97R"
   },
   "source": [
    "We now want to execute the simulations. Please note, that after this stage the results are not yet processed. The output files are just sitting on the filesystem awaiting collation."
   ]
  },
  {
   "cell_type": "code",
   "execution_count": null,
   "metadata": {
    "colab": {},
    "colab_type": "code",
    "id": "VvHnsBKXqAqX"
   },
   "outputs": [],
   "source": [
    "campaign_execute(campaign)"
   ]
  },
  {
   "cell_type": "markdown",
   "metadata": {
    "colab_type": "text",
    "id": "2QARvB3rH7_U"
   },
   "source": [
    "We can now see what the result is. It will be a DataFrame containing the number of iterations before the disease is erradicated. Calling collate on the campaign object will find and parse the output files of our simulation and then produce a single DataFrame with the results.\n"
   ]
  },
  {
   "cell_type": "code",
   "execution_count": null,
   "metadata": {
    "colab": {},
    "colab_type": "code",
    "id": "o4Dy4R1bH08q"
   },
   "outputs": [],
   "source": [
    "campaign.collate()\n",
    "df = campaign.get_collation_result()\n",
    "print(df)"
   ]
  },
  {
   "cell_type": "markdown",
   "metadata": {
    "colab_type": "text",
    "id": "yJLFypP34tJD"
   },
   "source": [
    "This collated data is stored in the campaign database. An analysis\n",
    "element, here EnsembleBoot (which performs [bootstraping](https://en.wikipedia.org/wiki/Bootstrapping_(statistics))), can then be applied to the campaign's\n",
    "collation result. :"
   ]
  },
  {
   "cell_type": "code",
   "execution_count": null,
   "metadata": {
    "colab": {},
    "colab_type": "code",
    "id": "CacIi3Ky4tJE"
   },
   "outputs": [],
   "source": [
    "analysis = uq.analysis.EnsembleBoot(qoi_cols=[\"iteration\"], stat_func=np.mean, stat_name='mean', alpha=0.05)\n",
    "campaign.apply_analysis(analysis)"
   ]
  },
  {
   "cell_type": "markdown",
   "metadata": {
    "colab_type": "text",
    "id": "rGgiN7cA4tJF"
   },
   "source": [
    "The output of this is dependent on the type of analysis element. :"
   ]
  },
  {
   "cell_type": "code",
   "execution_count": null,
   "metadata": {
    "colab": {},
    "colab_type": "code",
    "id": "-TvW8CIj4tJG"
   },
   "outputs": [],
   "source": [
    "# Get Descriptive Statistics\n",
    "results = campaign.get_last_analysis()\n",
    "print(results)"
   ]
  },
  {
   "cell_type": "markdown",
   "metadata": {
    "colab_type": "text",
    "id": "fDPk1Eahzf8v"
   },
   "source": [
    "The above gives the mean value of the number of iterations before the disease eradication and the 95% confidence region for that estimator."
   ]
  },
  {
   "cell_type": "markdown",
   "metadata": {
    "colab_type": "text",
    "id": "PAWMNIaZWciH"
   },
   "source": [
    "# Parameter Sweep\n",
    "\n",
    "Suppose we want to examine the behaviour of the model by doing a sweep across a range of parameter values. Let's say that given a fixed population size and fixed mortality rate we want to see how does the model behaves if we vary the disease duration parameter from 4 days to, for example, 28 days. We will do this in 2 day increments. Also, in order to perform some kind of statistical analysis of the results we will want to do sample the same parameter set several times. We will do this using the replicas mechanism in the EasyVVUQ."
   ]
  },
  {
   "cell_type": "markdown",
   "metadata": {
    "colab_type": "text",
    "id": "Yyd_LYTZoWro"
   },
   "source": [
    "First we define a new campaign."
   ]
  },
  {
   "cell_type": "code",
   "execution_count": null,
   "metadata": {
    "colab": {},
    "colab_type": "code",
    "id": "-PTFAsd1YExO"
   },
   "outputs": [],
   "source": [
    "campaign = uq.Campaign(name='epidemic_sweep')\n",
    "campaign.add_app(\n",
    "    name=\"epidemic_sweep\",\n",
    "    params=params,\n",
    "    encoder=encoder,\n",
    "    decoder=decoder,\n",
    "    collater=collater)"
   ]
  },
  {
   "cell_type": "markdown",
   "metadata": {
    "colab_type": "text",
    "id": "gtqE6rVVovw5"
   },
   "source": [
    "We need to define a different kind of sampler. In our case we want BasicSweep which allows one to sample an n-dimensional grid of values. In this case we specify a single parameter and give it a list of values. If you add more parameters the sampler will then sample a Cartesian product of those lists. For examples `{'a' : [1, 2], 'b' : [3, 4]}` will result in `{'a': 1, 'b': 3}`, `{'a': 1, 'b': 4}`, `{'a': 2, 'b': 3}` and `{'a': 2, 'b': 4}` being sampled. Note that we specify 20 replicas in `draw_samples`. It means that the simulation will be run `(30 - 2) / 2 * 20 = 280` times."
   ]
  },
  {
   "cell_type": "code",
   "execution_count": null,
   "metadata": {
    "colab": {},
    "colab_type": "code",
    "id": "QYga_8MMXkb3"
   },
   "outputs": [],
   "source": [
    "sweep = {\n",
    "    \"duration\" : list(range(2, 30, 2))\n",
    "}\n",
    "sampler = uq.sampling.BasicSweep(sweep=sweep)\n",
    "campaign.set_sampler(sampler)\n",
    "campaign.draw_samples(replicas=20)"
   ]
  },
  {
   "cell_type": "markdown",
   "metadata": {
    "colab_type": "text",
    "id": "nVF9fqai8iU6"
   },
   "source": [
    "The following steps are the same as in our more basic example. Note that execution might take some time."
   ]
  },
  {
   "cell_type": "code",
   "execution_count": null,
   "metadata": {
    "colab": {},
    "colab_type": "code",
    "id": "zomhNA23Y6iD"
   },
   "outputs": [],
   "source": [
    "campaign.populate_runs_dir()\n",
    "campaign_execute(campaign)"
   ]
  },
  {
   "cell_type": "code",
   "execution_count": null,
   "metadata": {
    "colab": {},
    "colab_type": "code",
    "id": "hF6BuutSmF4a"
   },
   "outputs": [],
   "source": [
    "campaign.collate()\n",
    "df = campaign.get_collation_result()\n",
    "print(df)"
   ]
  },
  {
   "cell_type": "markdown",
   "metadata": {
    "colab_type": "text",
    "id": "_fesrbXQ9sX2"
   },
   "source": [
    "One important difference in the analysis stage below is the addition of the `groupby` keyword argument. This means, essentially, that bootstrapping will be done on rows with the same `ensemble_id` value separately. So in the end we will get `(30 - 2) / 2 = 14` triples of the mean value and lower/upper confidence bounds."
   ]
  },
  {
   "cell_type": "code",
   "execution_count": null,
   "metadata": {
    "colab": {},
    "colab_type": "code",
    "id": "mWQ2WEb6sTUm"
   },
   "outputs": [],
   "source": [
    "analysis = uq.analysis.EnsembleBoot(qoi_cols=[\"iteration\"], groupby='ensemble_id', stat_func=np.mean, stat_name='mean')\n",
    "campaign.apply_analysis(analysis)"
   ]
  },
  {
   "cell_type": "markdown",
   "metadata": {
    "colab_type": "text",
    "id": "KjOTJzW9-cUc"
   },
   "source": [
    "We can now view the resulting `DataFrame`."
   ]
  },
  {
   "cell_type": "code",
   "execution_count": null,
   "metadata": {
    "colab": {},
    "colab_type": "code",
    "id": "jRVhGK84sXcM"
   },
   "outputs": [],
   "source": [
    "results = campaign.get_last_analysis()\n",
    "print(results)"
   ]
  },
  {
   "cell_type": "code",
   "execution_count": null,
   "metadata": {
    "colab": {},
    "colab_type": "code",
    "id": "LwWwIsNbszAJ"
   },
   "outputs": [],
   "source": [
    "plt.errorbar(list(range(2, 30, 2)), \n",
    "             results['iteration']['mean'].values,\n",
    "             np.array([results['iteration']['mean'].values - results['iteration']['low'].values,\n",
    "                       results['iteration']['high'].values - results['iteration']['mean'].values]))\n",
    "plt.show()\n"
   ]
  },
  {
   "cell_type": "markdown",
   "metadata": {
    "colab_type": "text",
    "id": "0m8CzO-kVm1R"
   },
   "source": [
    "# Stopping and Restarting\n",
    "\n",
    "The simplest way to start and restart a simulation is to draw a fixed number of samples. EasyVVUQ allows you to add runs to a simulation after it is done. We have only sampled 20 runs for every value of disease duration. However, we can easily add another 20 and improve the accuracy of our analysis. EasyVVUQ lets us do this easily without losing the previous progress. Let us do this right now and add another 80 replicas and plot the (more accurate) results.\n"
   ]
  },
  {
   "cell_type": "code",
   "execution_count": null,
   "metadata": {
    "colab": {},
    "colab_type": "code",
    "id": "lu8Vw-hQH2_N"
   },
   "outputs": [],
   "source": [
    "campaign.draw_samples(replicas=20)"
   ]
  },
  {
   "cell_type": "markdown",
   "metadata": {
    "colab_type": "text",
    "id": "8OvR6GPmIC00"
   },
   "source": [
    "We now want to create the input files for the new stuff."
   ]
  },
  {
   "cell_type": "code",
   "execution_count": null,
   "metadata": {
    "colab": {},
    "colab_type": "code",
    "id": "7ND1GkenH6tc"
   },
   "outputs": [],
   "source": [
    "campaign.populate_runs_dir()\n",
    "campaign_execute(campaign)"
   ]
  },
  {
   "cell_type": "code",
   "execution_count": null,
   "metadata": {
    "colab": {},
    "colab_type": "code",
    "id": "T16evxWIx_hx"
   },
   "outputs": [],
   "source": [
    "analysis = uq.analysis.EnsembleBoot(qoi_cols=[\"iteration\"], groupby='ensemble_id', stat_func=np.mean, stat_name='mean')\n",
    "campaign.apply_analysis(analysis)"
   ]
  },
  {
   "cell_type": "code",
   "execution_count": null,
   "metadata": {
    "colab": {},
    "colab_type": "code",
    "id": "2OFZMXzsyGcI"
   },
   "outputs": [],
   "source": [
    "results = campaign.get_last_analysis()\n",
    "print(results)"
   ]
  }
 ],
 "metadata": {
  "colab": {
   "collapsed_sections": [],
   "name": "EasyVVUQ Tutorial with a Toy Epidemiological Model",
   "provenance": []
  },
  "kernelspec": {
   "display_name": "Python 3",
   "language": "python",
   "name": "python3"
  },
  "language_info": {
   "codemirror_mode": {
    "name": "ipython",
    "version": 3
   },
   "file_extension": ".py",
   "mimetype": "text/x-python",
   "name": "python",
   "nbconvert_exporter": "python",
   "pygments_lexer": "ipython3",
   "version": "3.6.5"
  }
 },
 "nbformat": 4,
 "nbformat_minor": 4
}
