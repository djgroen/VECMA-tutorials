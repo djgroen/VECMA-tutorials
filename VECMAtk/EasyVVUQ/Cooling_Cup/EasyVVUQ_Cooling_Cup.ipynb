{
 "cells": [
  {
   "cell_type": "markdown",
   "metadata": {
    "colab_type": "text",
    "id": "ugDD5kSbAtw_"
   },
   "source": [
    "# Installing EasyVVUQ\n",
    "\n",
    "Before we do anything else we need to install EasyVVUQ for use in this notebook. We also want to clone the git repository because it contains some files used in this tutorial."
   ]
  },
  {
   "cell_type": "code",
   "execution_count": null,
   "metadata": {
    "colab": {},
    "colab_type": "code",
    "id": "We-D7yY3H1ds"
   },
   "outputs": [],
   "source": [
    "!pip install git+https://github.com/UCL-CCS/EasyVVUQ\n",
    "!git clone https://github.com/UCL-CCS/EasyVVUQ"
   ]
  },
  {
   "cell_type": "markdown",
   "metadata": {
    "colab_type": "text",
    "id": "O5RXyRXm4tIf"
   },
   "source": [
    "$$\n",
    "\\def\\CC{\\bf C}\n",
    "\\def\\QQ{\\bf Q}\n",
    "\\def\\RR{\\bf R}\n",
    "\\def\\ZZ{\\bf Z}\n",
    "\\def\\NN{\\bf N}\n",
    "$$\n",
    "# A Cooling Coffee Cup with Polynomial Chaos Expansion\n",
    "\n",
    "In this tutorial we will perform a Polynomial Chaos Expansion for a\n",
    "model of a cooling coffee cup. The model uses Newton's law of cooling to\n",
    "evolve the temperature, $T$, over time ($t$) in an environment at\n",
    "$T_{env}$ :\n",
    "\n",
    "$$\\frac{dT(t)}{dt} = -\\kappa (T(t) -T_{env})$$\n",
    "\n",
    "The constant $\\kappa$ characterizes the rate at which the coffee cup\n",
    "transfers heat to the environment. In this example we will analyze this\n",
    "model using the polynomial chaos expansion (PCE) UQ algorithm. We will\n",
    "use a constant initial temperature $T_0 = 95 ^\\circ\\text{C}$, and vary\n",
    "$\\kappa$ and $T_{env}$ using a uniform distribution in the ranges\n",
    "$0.025-0.075$ and $15-25$ respectively.\n",
    "\n",
    "The model was implemented as a Python script. But your code does not have to be written in Python and is indeed not expected to be. \n",
    "\n",
    "## EasyVVUQ Script Overview\n",
    "\n",
    "We illustrate the intended workflow using the following basic example\n",
    "script, a python implementation of the cooling coffee cup model used in\n",
    "the textit{uncertainpy} documentation (code for which is in the\n",
    "tests/cooling/ subdirectory of the EasyVVUQ distribution directory). The\n",
    "code takes a small key/value pair input and outputs a comma separated\n",
    "value CSV) file.\n",
    "\n",
    "The input files for this tutorial are the *cooling\\_model* application\n",
    "(`cooling_model.py <tutorial_files/cooling_model.py>`), an input\n",
    "template (`cooling.template <tutorial_files/cooling.template>`) and the\n",
    "EasyVVUQ workflow script\n",
    "(`easyvvuq_pce_tutorial.py <tutorial_files/easyvvuq_pce_tutorial.py>`)."
   ]
  },
  {
   "cell_type": "markdown",
   "metadata": {
    "colab_type": "text",
    "id": "zkWCN7Pe6GJB"
   },
   "source": [
    "## Set-up\n",
    "\n",
    "For this example we import both easyvvuq and chaospy (for the\n",
    "distributions). EasyVVUQ will be referred to as 'uq' in the code. :"
   ]
  },
  {
   "cell_type": "code",
   "execution_count": null,
   "metadata": {
    "colab": {},
    "colab_type": "code",
    "id": "Yd2XHwIE4tIg"
   },
   "outputs": [],
   "source": [
    "import easyvvuq as uq\n",
    "import chaospy as cp"
   ]
  },
  {
   "cell_type": "markdown",
   "metadata": {
    "colab_type": "text",
    "id": "uhwgG1Wc4tIj"
   },
   "source": [
    "## Create a new Campaign\n",
    "\n",
    "We start by creating an\n",
    "EasyVVUQ Campaign. Here we call it 'coffee\\_pce'. :"
   ]
  },
  {
   "cell_type": "code",
   "execution_count": null,
   "metadata": {
    "colab": {},
    "colab_type": "code",
    "id": "Cf5cFQXr4tIj"
   },
   "outputs": [],
   "source": [
    "my_campaign = uq.Campaign(name='coffee_pce')\n",
    "print(my_campaign)"
   ]
  },
  {
   "cell_type": "markdown",
   "metadata": {
    "colab_type": "text",
    "id": "DgnFaMSP4tIn"
   },
   "source": [
    "## Parameter space definition\n",
    "\n",
    "The parameter space is defined using a dictionary. Each entry in the\n",
    "dictionary follows the format:\n",
    "\n",
    "`\"parameter_name\": {\"type\" : \"<value>\", \"min\": <value>, \"max\": <value>, \"default\": <value>}`\n",
    "\n",
    "With a defined type, minimum and maximum value and default. If the\n",
    "parameter is not selected to vary in the Sampler (see below) then the\n",
    "default value is used for every run. In this example, our full parameter\n",
    "space looks like the following: :"
   ]
  },
  {
   "cell_type": "code",
   "execution_count": null,
   "metadata": {
    "colab": {},
    "colab_type": "code",
    "id": "bHHJZWbf4tIo"
   },
   "outputs": [],
   "source": [
    "params = {\n",
    "    \"temp_init\": {\"type\": \"float\", \"min\": 0.0, \"max\": 100.0, \"default\": 95.0},\n",
    "    \"kappa\": {\"type\": \"float\", \"min\": 0.0, \"max\": 0.1, \"default\": 0.025},\n",
    "    \"t_env\": {\"type\": \"float\", \"min\": 0.0, \"max\": 40.0, \"default\": 15.0},\n",
    "    \"out_file\": {\"type\": \"string\", \"default\": \"output.csv\"}\n",
    "}"
   ]
  },
  {
   "cell_type": "markdown",
   "metadata": {
    "colab_type": "text",
    "id": "sW-haeK24tIq"
   },
   "source": [
    "## App Creation\n",
    "\n",
    "In this example the GenericEncoder and SimpleCSV, both included in the\n",
    "core EasyVVUQ library, were used as the encoder/decoder pair for this\n",
    "application. :"
   ]
  },
  {
   "cell_type": "code",
   "execution_count": null,
   "metadata": {
    "colab": {},
    "colab_type": "code",
    "id": "nHx45Wks4tIq"
   },
   "outputs": [],
   "source": [
    "import os\n",
    "from pathlib import Path\n",
    "\n",
    "encoder = uq.encoders.GenericEncoder(\n",
    "    template_fname='EasyVVUQ/docs/tutorial_files/cooling.template',\n",
    "    delimiter='$',\n",
    "    target_filename='cooling_in.json')\n",
    "\n",
    "decoder = uq.decoders.SimpleCSV(target_filename=\"output.csv\",\n",
    "                            output_columns=[\"te\"],\n",
    "                            header=0)"
   ]
  },
  {
   "cell_type": "markdown",
   "metadata": {
    "colab_type": "text",
    "id": "btoHsRA74tIs"
   },
   "source": [
    "In this workflow all application runs will be analyzed as individual\n",
    "datapoint, so we set the collator to AggregateSamples without averaging.\n",
    "This element simply extracts information using the assigned decoder and\n",
    "adds it to a summary dataframe. :"
   ]
  },
  {
   "cell_type": "code",
   "execution_count": null,
   "metadata": {
    "colab": {},
    "colab_type": "code",
    "id": "rv1x-RDY4tIt"
   },
   "outputs": [],
   "source": [
    "collater = uq.collate.AggregateSamples(average=False)"
   ]
  },
  {
   "cell_type": "markdown",
   "metadata": {
    "colab_type": "text",
    "id": "-4HKkpZP4tIv"
   },
   "source": [
    "GenericEncoder performs simple text substitution into a supplied\n",
    "template, using a specified delimiter to identify where parameters\n",
    "should be placed. The template is shown below (\\$ is used as the\n",
    "delimiter). The template substitution approach is likely to suit most\n",
    "simple applications but in practice many large applications have more\n",
    "complex requirements, for example the multiple input files or the\n",
    "creation of a directory hierarchy. In such cases, users may write their\n",
    "own encoders by extending the BaseEncoder class. :"
   ]
  },
  {
   "cell_type": "code",
   "execution_count": null,
   "metadata": {
    "colab": {},
    "colab_type": "code",
    "id": "FXcdBc0B4tIv"
   },
   "outputs": [],
   "source": [
    "{\n",
    "   \"T0\":\"$temp_init\",\n",
    "   \"kappa\":\"$kappa\",\n",
    "   \"t_env\":\"$t_env\",\n",
    "   \"out_file\":\"$out_file\"\n",
    "}"
   ]
  },
  {
   "cell_type": "markdown",
   "metadata": {
    "colab_type": "text",
    "id": "uEig_muB4tIx"
   },
   "source": [
    "As can be inferred from its name SimpleCSV reads CVS files produced by\n",
    "the cooling model code. Again many applications output results in\n",
    "different formats, potentially requiring bespoke Decoders. Having\n",
    "created an encoder, decoder and parameter space definition for our\n",
    "$cooling$ app, we can add it to our campaign. :"
   ]
  },
  {
   "cell_type": "code",
   "execution_count": null,
   "metadata": {
    "colab": {},
    "colab_type": "code",
    "id": "Ftd-tq6a4tIx"
   },
   "outputs": [],
   "source": [
    "# Add the app (automatically set as current app)\n",
    "my_campaign.add_app(name=\"cooling\",\n",
    "                    params=params,\n",
    "                    encoder=encoder,\n",
    "                    decoder=decoder,\n",
    "                    collater=collater)"
   ]
  },
  {
   "cell_type": "markdown",
   "metadata": {
    "colab_type": "text",
    "id": "EBUKUTyL4tIz"
   },
   "source": [
    "## The Sampler\n",
    "\n",
    "The user specified which parameters will vary and their corresponding\n",
    "distributions. In this case the kappa and t\\_env parameters are varied,\n",
    "both according to a uniform distribution: :"
   ]
  },
  {
   "cell_type": "code",
   "execution_count": null,
   "metadata": {
    "colab": {},
    "colab_type": "code",
    "id": "skA-fE-c4tI0"
   },
   "outputs": [],
   "source": [
    "vary = {\n",
    "    \"kappa\": cp.Uniform(0.025, 0.075),\n",
    "    \"t_env\": cp.Uniform(15, 25)\n",
    "}"
   ]
  },
  {
   "cell_type": "markdown",
   "metadata": {
    "colab_type": "text",
    "id": "2yMnJxEV4tI2"
   },
   "source": [
    "To perform a polynomial chaos expansion we will create a PCESampler,\n",
    "informing it which parameters to vary, and what polynomial rder to use\n",
    "for the PCE. :"
   ]
  },
  {
   "cell_type": "code",
   "execution_count": null,
   "metadata": {
    "colab": {},
    "colab_type": "code",
    "id": "1eDGvW3J4tI2"
   },
   "outputs": [],
   "source": [
    "my_sampler = uq.sampling.PCESampler(vary=vary, polynomial_order=3)"
   ]
  },
  {
   "cell_type": "markdown",
   "metadata": {
    "colab_type": "text",
    "id": "snnsrp174tI4"
   },
   "source": [
    "Finally we set the campaign to use this sampler. :"
   ]
  },
  {
   "cell_type": "code",
   "execution_count": null,
   "metadata": {
    "colab": {},
    "colab_type": "code",
    "id": "E-Ruh53E4tI5"
   },
   "outputs": [],
   "source": [
    "my_campaign.set_sampler(my_sampler)"
   ]
  },
  {
   "cell_type": "markdown",
   "metadata": {
    "colab_type": "text",
    "id": "IIDKFbhQ4tI7"
   },
   "source": [
    "Calling the campaign's draw\\_samples() method will cause the specified\n",
    "number of samples to be added as runs to the campaign database, awaiting\n",
    "encoding and execution. If no arguments are passed to draw\\_samples()\n",
    "then all samples will be drawn, unless the sampler is not finite. In\n",
    "this case PCESampler is finite (produces a finite number of samples) and\n",
    "we elect to draw all of them at once: :"
   ]
  },
  {
   "cell_type": "code",
   "execution_count": null,
   "metadata": {
    "colab": {},
    "colab_type": "code",
    "id": "RD5cupoa4tI7"
   },
   "outputs": [],
   "source": [
    "my_campaign.draw_samples()"
   ]
  },
  {
   "cell_type": "markdown",
   "metadata": {
    "colab_type": "text",
    "id": "oUMfmupj4tI-"
   },
   "source": [
    "## Execute Runs\n",
    "\n",
    "my\\_campaign.populate\\_runs\\_dir() will create a directory hierarchy\n",
    "containing the encoded input files for every run that has not yet been\n",
    "completed. Finally, in this example, a shell command is executed in each\n",
    "directory to execute the simple test code. In practice (in a real HPC\n",
    "workflow) this stage would be best handled using, for example, a pilot\n",
    "job manager. :"
   ]
  },
  {
   "cell_type": "code",
   "execution_count": null,
   "metadata": {
    "colab": {},
    "colab_type": "code",
    "id": "sfgV5Ukp4tI-"
   },
   "outputs": [],
   "source": [
    "import os\n",
    "my_campaign.populate_runs_dir()\n",
    "my_campaign.apply_for_each_run_dir(uq.actions.ExecuteLocal(\"{} cooling_in.json\".format(os.path.abspath('EasyVVUQ/docs/tutorial_files/cooling_model.py')), interpret=\"python3\"))"
   ]
  },
  {
   "cell_type": "markdown",
   "metadata": {
    "colab_type": "text",
    "id": "nhtEXW0m4tJB"
   },
   "source": [
    "## Collation and analysis\n",
    "\n",
    "Calling my\\_campaign.collate() at any stage causes the campaign to\n",
    "aggregate decoded simulation output for all runs which have not yet been\n",
    "collated. :"
   ]
  },
  {
   "cell_type": "code",
   "execution_count": null,
   "metadata": {
    "colab": {},
    "colab_type": "code",
    "id": "0DNebuv24tJB"
   },
   "outputs": [],
   "source": [
    "my_campaign.collate()"
   ]
  },
  {
   "cell_type": "markdown",
   "metadata": {
    "colab_type": "text",
    "id": "yJLFypP34tJD"
   },
   "source": [
    "This collated data is stored in the campaign database. An analysis\n",
    "element, here PCEAnalysis, can then be applied to the campaign's\n",
    "collation result. :"
   ]
  },
  {
   "cell_type": "code",
   "execution_count": null,
   "metadata": {
    "colab": {},
    "colab_type": "code",
    "id": "CacIi3Ky4tJE"
   },
   "outputs": [],
   "source": [
    "my_analysis = uq.analysis.PCEAnalysis(sampler=my_sampler, qoi_cols=[\"te\"])\n",
    "my_campaign.apply_analysis(my_analysis)"
   ]
  },
  {
   "cell_type": "markdown",
   "metadata": {
    "colab_type": "text",
    "id": "rGgiN7cA4tJF"
   },
   "source": [
    "The output of this is dependent on the type of analysis element. :"
   ]
  },
  {
   "cell_type": "code",
   "execution_count": null,
   "metadata": {
    "colab": {},
    "colab_type": "code",
    "id": "-TvW8CIj4tJG"
   },
   "outputs": [],
   "source": [
    "# Get Descriptive Statistics\n",
    "results = my_campaign.get_last_analysis()\n",
    "stats = results['statistical_moments']['te']\n",
    "per = results['percentiles']['te']\n",
    "sobols = results['sobols_first']['te']"
   ]
  },
  {
   "cell_type": "markdown",
   "metadata": {
    "colab_type": "text",
    "id": "XxFsGUPdQma0"
   },
   "source": [
    "## I want to see how the results might look:\n",
    "\n",
    "\n",
    "\n"
   ]
  },
  {
   "cell_type": "code",
   "execution_count": null,
   "metadata": {
    "colab": {},
    "colab_type": "code",
    "id": "ueHQBoSxRMjq"
   },
   "outputs": [],
   "source": [
    "import matplotlib.pyplot as plt\n",
    "import numpy as np\n",
    "mean = stats[\"mean\"]\n",
    "std = stats[\"std\"]\n",
    "p10 = per[\"p10\"]\n",
    "p90 = per[\"p90\"]\n",
    "\n",
    "s1_kappa = sobols[\"kappa\"]\n",
    "s1_t_env = sobols[\"t_env\"]\n",
    "\n",
    "t = np.linspace(0, 200, 150)\n",
    "\n",
    "fig, (ax1, ax2) = plt.subplots(nrows=1, ncols=2, figsize=(16,6))\n",
    "\n",
    "ax1.plot(t, mean, 'g-', alpha=0.75, label='Mean')\n",
    "ax1.plot(t,  p10, 'b-', alpha=0.25)\n",
    "ax1.plot(t,  p90, 'b-', alpha=0.25)\n",
    "ax1.fill_between(\n",
    "  t,\n",
    "  p10,\n",
    "  p90,\n",
    "  alpha=0.25,\n",
    "  label='90% prediction interval')\n",
    "ax1.set_xlabel('Time (min)')\n",
    "ax1.set_ylabel('Temperature (°C)', color='b')\n",
    "ax1.tick_params('y', colors='b')\n",
    "ax1.legend()\n",
    "\n",
    "ax1t = ax1.twinx()\n",
    "ax1t.plot(t, std, 'r-', alpha=0.5)\n",
    "ax1t.set_ylabel('Standard deviation', color='r')\n",
    "ax1t.tick_params('y', colors='r')\n",
    "\n",
    "ax1.grid()\n",
    "ax1.set_title('Statistical Moments')\n",
    "\n",
    "ax2.plot(t, s1_kappa[0], '-', color ='#248BF2', label=r'$\\kappa$')\n",
    "ax2.plot(t, s1_t_env[0], '-', color ='#9402E8', alpha=0.6,label=r'$T_{env}$')\n",
    "\n",
    "ax2.set_xlabel('Time (min)')\n",
    "ax2.set_ylabel('First-order Sobol indices')\n",
    "ax2.set_title('Sensitivity Analysis')\n",
    "ax2.grid()\n",
    "ax2.legend()\n",
    "\n",
    "plt.subplots_adjust(wspace=0.35)\n",
    "\n",
    "plt.show()"
   ]
  },
  {
   "cell_type": "markdown",
   "metadata": {
    "colab_type": "text",
    "id": "HEk89mPtlOc4"
   },
   "source": [
    "These plots show the statistical moments (mean, variance, and 90% prediction interval) and the sensitivity analysis of the model to each parameter, expressed through the first-order Sobol indices."
   ]
  },
  {
   "cell_type": "markdown",
   "metadata": {
    "colab_type": "text",
    "id": "xdGqgdlg4tJI"
   },
   "source": [
    "## I don't want to use Polynomial Chaos\n",
    "\n",
    "If you wish to use something other than PCE, it is simply a matter of\n",
    "changing the sampling and analysis element used. For example, to use a\n",
    "Stochastic Collocation approach, replace the sampler line with: :"
   ]
  },
  {
   "cell_type": "code",
   "execution_count": null,
   "metadata": {
    "colab": {},
    "colab_type": "code",
    "id": "HocadTwF4tJJ"
   },
   "outputs": [],
   "source": [
    "my_sampler = uq.sampling.SCSampler(vary=vary, polynomial_order=3)"
   ]
  },
  {
   "cell_type": "markdown",
   "metadata": {
    "colab_type": "text",
    "id": "qrmRhOxB4tJN"
   },
   "source": [
    "And the analysis can be done with: :"
   ]
  },
  {
   "cell_type": "code",
   "execution_count": null,
   "metadata": {
    "colab": {},
    "colab_type": "code",
    "id": "c-dD72LA4tJO"
   },
   "outputs": [],
   "source": [
    "my_analysis = uq.analysis.SCAnalysis(sampler=my_sampler, qoi_cols=[\"te\"])\n",
    "my_campaign.apply_analysis(my_analysis)"
   ]
  }
 ],
 "metadata": {
  "colab": {
   "collapsed_sections": [],
   "name": "EasyVVUQ - Cooling Coffee Cup Example",
   "provenance": []
  },
  "kernelspec": {
   "display_name": "Python 3",
   "language": "python",
   "name": "python3"
  },
  "language_info": {
   "codemirror_mode": {
    "name": "ipython",
    "version": 3
   },
   "file_extension": ".py",
   "mimetype": "text/x-python",
   "name": "python",
   "nbconvert_exporter": "python",
   "pygments_lexer": "ipython3",
   "version": "3.6.5"
  }
 },
 "nbformat": 4,
 "nbformat_minor": 4
}
