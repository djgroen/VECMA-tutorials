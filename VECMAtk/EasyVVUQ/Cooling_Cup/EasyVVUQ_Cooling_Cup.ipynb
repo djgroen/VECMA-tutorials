{
 "cells": [
  {
   "cell_type": "markdown",
   "metadata": {
    "colab_type": "text",
    "id": "ugDD5kSbAtw_"
   },
   "source": [
    "# Installing EasyVVUQ\n",
    "\n",
    "Before we do anything else we need to install EasyVVUQ for use in this notebook. We also want to clone the git repository because it contains some files used in this tutorial."
   ]
  },
  {
   "cell_type": "code",
   "execution_count": 94,
   "metadata": {
    "colab": {},
    "colab_type": "code",
    "id": "We-D7yY3H1ds"
   },
   "outputs": [
    {
     "name": "stdout",
     "output_type": "stream",
     "text": [
      "WARNING: pip is being invoked by an old script wrapper. This will fail in a future version of pip.\n",
      "Please see https://github.com/pypa/pip/issues/5599 for advice on fixing the underlying issue.\n",
      "To avoid this problem you can invoke Python with '-m pip' instead of running pip directly.\n",
      "Requirement already satisfied: easyvvuq in /opt/conda/lib/python3.7/site-packages (0.7.2)\n",
      "Requirement already satisfied: cerberus in /opt/conda/lib/python3.7/site-packages (from easyvvuq) (1.3.2)\n",
      "Requirement already satisfied: chaospy==3.3.6 in /opt/conda/lib/python3.7/site-packages (from easyvvuq) (3.3.6)\n",
      "Requirement already satisfied: SALib in /opt/conda/lib/python3.7/site-packages (from easyvvuq) (1.3.11)\n",
      "Requirement already satisfied: dask[complete] in /opt/conda/lib/python3.7/site-packages (from easyvvuq) (2.30.0)\n",
      "Requirement already satisfied: wheel in /opt/conda/lib/python3.7/site-packages (from easyvvuq) (0.34.1)\n",
      "Requirement already satisfied: scipy in /opt/conda/lib/python3.7/site-packages (from easyvvuq) (1.5.4)\n",
      "Requirement already satisfied: numpy in /opt/conda/lib/python3.7/site-packages (from easyvvuq) (1.19.4)\n",
      "Requirement already satisfied: SQLAlchemy in /opt/conda/lib/python3.7/site-packages (from easyvvuq) (1.3.13)\n",
      "Requirement already satisfied: jsonpickle in /opt/conda/lib/python3.7/site-packages (from easyvvuq) (1.4.1)\n",
      "Requirement already satisfied: scikit-learn in /opt/conda/lib/python3.7/site-packages (from easyvvuq) (0.23.2)\n",
      "Requirement already satisfied: pytest-pep8 in /opt/conda/lib/python3.7/site-packages (from easyvvuq) (1.0.6)\n",
      "Requirement already satisfied: dask-jobqueue in /opt/conda/lib/python3.7/site-packages (from easyvvuq) (0.7.1)\n",
      "Requirement already satisfied: pandas in /opt/conda/lib/python3.7/site-packages (from easyvvuq) (1.1.4)\n",
      "Requirement already satisfied: cloudpickle in /opt/conda/lib/python3.7/site-packages (from easyvvuq) (1.6.0)\n",
      "Requirement already satisfied: pytest in /opt/conda/lib/python3.7/site-packages (from easyvvuq) (6.1.2)\n",
      "Requirement already satisfied: jinja2 in /opt/conda/lib/python3.7/site-packages (from easyvvuq) (2.11.0)\n",
      "Requirement already satisfied: kubernetes in /opt/conda/lib/python3.7/site-packages (from easyvvuq) (12.0.0)\n",
      "Requirement already satisfied: setuptools in /opt/conda/lib/python3.7/site-packages (from cerberus->easyvvuq) (45.1.0.post20200119)\n",
      "Requirement already satisfied: numpoly==1.0.5 in /opt/conda/lib/python3.7/site-packages (from chaospy==3.3.6->easyvvuq) (1.0.5)\n",
      "Requirement already satisfied: matplotlib in /opt/conda/lib/python3.7/site-packages (from SALib->easyvvuq) (3.3.2)\n",
      "Requirement already satisfied: pyyaml in /opt/conda/lib/python3.7/site-packages (from dask[complete]->easyvvuq) (5.3.1)\n",
      "Requirement already satisfied: distributed>=2.0; extra == \"complete\" in /opt/conda/lib/python3.7/site-packages (from dask[complete]->easyvvuq) (2.30.1)\n",
      "Requirement already satisfied: toolz>=0.8.2; extra == \"complete\" in /opt/conda/lib/python3.7/site-packages (from dask[complete]->easyvvuq) (0.11.1)\n",
      "Requirement already satisfied: fsspec>=0.6.0; extra == \"complete\" in /opt/conda/lib/python3.7/site-packages (from dask[complete]->easyvvuq) (0.8.4)\n",
      "Requirement already satisfied: bokeh!=2.0.0,>=1.0.0; extra == \"complete\" in /opt/conda/lib/python3.7/site-packages (from dask[complete]->easyvvuq) (2.2.3)\n",
      "Requirement already satisfied: partd>=0.3.10; extra == \"complete\" in /opt/conda/lib/python3.7/site-packages (from dask[complete]->easyvvuq) (1.1.0)\n",
      "Requirement already satisfied: importlib-metadata in /opt/conda/lib/python3.7/site-packages (from jsonpickle->easyvvuq) (1.5.0)\n",
      "Requirement already satisfied: joblib>=0.11 in /opt/conda/lib/python3.7/site-packages (from scikit-learn->easyvvuq) (0.17.0)\n",
      "Requirement already satisfied: threadpoolctl>=2.0.0 in /opt/conda/lib/python3.7/site-packages (from scikit-learn->easyvvuq) (2.1.0)\n",
      "Requirement already satisfied: pep8>=1.3 in /opt/conda/lib/python3.7/site-packages (from pytest-pep8->easyvvuq) (1.7.1)\n",
      "Requirement already satisfied: pytest-cache in /opt/conda/lib/python3.7/site-packages (from pytest-pep8->easyvvuq) (1.0)\n",
      "Requirement already satisfied: python-dateutil>=2.7.3 in /opt/conda/lib/python3.7/site-packages (from pandas->easyvvuq) (2.8.1)\n",
      "Requirement already satisfied: pytz>=2017.2 in /opt/conda/lib/python3.7/site-packages (from pandas->easyvvuq) (2020.4)\n",
      "Requirement already satisfied: py>=1.8.2 in /opt/conda/lib/python3.7/site-packages (from pytest->easyvvuq) (1.9.0)\n",
      "Requirement already satisfied: packaging in /opt/conda/lib/python3.7/site-packages (from pytest->easyvvuq) (20.4)\n",
      "Requirement already satisfied: pluggy<1.0,>=0.12 in /opt/conda/lib/python3.7/site-packages (from pytest->easyvvuq) (0.13.1)\n",
      "Requirement already satisfied: iniconfig in /opt/conda/lib/python3.7/site-packages (from pytest->easyvvuq) (1.1.1)\n",
      "Requirement already satisfied: attrs>=17.4.0 in /opt/conda/lib/python3.7/site-packages (from pytest->easyvvuq) (19.3.0)\n",
      "Requirement already satisfied: toml in /opt/conda/lib/python3.7/site-packages (from pytest->easyvvuq) (0.10.2)\n",
      "Requirement already satisfied: MarkupSafe>=0.23 in /opt/conda/lib/python3.7/site-packages (from jinja2->easyvvuq) (1.1.1)\n",
      "Requirement already satisfied: websocket-client!=0.40.0,!=0.41.*,!=0.42.*,>=0.32.0 in /opt/conda/lib/python3.7/site-packages (from kubernetes->easyvvuq) (0.57.0)\n",
      "Requirement already satisfied: google-auth>=1.0.1 in /opt/conda/lib/python3.7/site-packages (from kubernetes->easyvvuq) (1.23.0)\n",
      "Requirement already satisfied: certifi>=14.05.14 in /opt/conda/lib/python3.7/site-packages (from kubernetes->easyvvuq) (2019.11.28)\n",
      "Requirement already satisfied: requests in /opt/conda/lib/python3.7/site-packages (from kubernetes->easyvvuq) (2.22.0)\n",
      "Requirement already satisfied: requests-oauthlib in /opt/conda/lib/python3.7/site-packages (from kubernetes->easyvvuq) (1.3.0)\n",
      "Requirement already satisfied: urllib3>=1.24.2 in /opt/conda/lib/python3.7/site-packages (from kubernetes->easyvvuq) (1.25.7)\n",
      "Requirement already satisfied: six>=1.9.0 in /opt/conda/lib/python3.7/site-packages (from kubernetes->easyvvuq) (1.14.0)\n",
      "Requirement already satisfied: cycler>=0.10 in /opt/conda/lib/python3.7/site-packages (from matplotlib->SALib->easyvvuq) (0.10.0)\n",
      "Requirement already satisfied: kiwisolver>=1.0.1 in /opt/conda/lib/python3.7/site-packages (from matplotlib->SALib->easyvvuq) (1.3.1)\n",
      "Requirement already satisfied: pillow>=6.2.0 in /opt/conda/lib/python3.7/site-packages (from matplotlib->SALib->easyvvuq) (8.0.1)\n",
      "Requirement already satisfied: pyparsing!=2.0.4,!=2.1.2,!=2.1.6,>=2.0.3 in /opt/conda/lib/python3.7/site-packages (from matplotlib->SALib->easyvvuq) (2.4.7)\n",
      "Requirement already satisfied: click>=6.6 in /opt/conda/lib/python3.7/site-packages (from distributed>=2.0; extra == \"complete\"->dask[complete]->easyvvuq) (7.1.2)\n",
      "Requirement already satisfied: tornado>=5; python_version < \"3.8\" in /opt/conda/lib/python3.7/site-packages (from distributed>=2.0; extra == \"complete\"->dask[complete]->easyvvuq) (6.0.3)\n",
      "Requirement already satisfied: msgpack>=0.6.0 in /opt/conda/lib/python3.7/site-packages (from distributed>=2.0; extra == \"complete\"->dask[complete]->easyvvuq) (1.0.0)\n",
      "Requirement already satisfied: zict>=0.1.3 in /opt/conda/lib/python3.7/site-packages (from distributed>=2.0; extra == \"complete\"->dask[complete]->easyvvuq) (2.0.0)\n",
      "Requirement already satisfied: tblib>=1.6.0 in /opt/conda/lib/python3.7/site-packages (from distributed>=2.0; extra == \"complete\"->dask[complete]->easyvvuq) (1.7.0)\n",
      "Requirement already satisfied: psutil>=5.0 in /opt/conda/lib/python3.7/site-packages (from distributed>=2.0; extra == \"complete\"->dask[complete]->easyvvuq) (5.7.3)\n",
      "Requirement already satisfied: sortedcontainers!=2.0.0,!=2.0.1 in /opt/conda/lib/python3.7/site-packages (from distributed>=2.0; extra == \"complete\"->dask[complete]->easyvvuq) (2.3.0)\n",
      "Requirement already satisfied: typing-extensions>=3.7.4 in /opt/conda/lib/python3.7/site-packages (from bokeh!=2.0.0,>=1.0.0; extra == \"complete\"->dask[complete]->easyvvuq) (3.7.4.3)\n",
      "Requirement already satisfied: locket in /opt/conda/lib/python3.7/site-packages (from partd>=0.3.10; extra == \"complete\"->dask[complete]->easyvvuq) (0.2.0)\n",
      "Requirement already satisfied: zipp>=0.5 in /opt/conda/lib/python3.7/site-packages (from importlib-metadata->jsonpickle->easyvvuq) (2.1.0)\n",
      "Requirement already satisfied: execnet>=1.1.dev1 in /opt/conda/lib/python3.7/site-packages (from pytest-cache->pytest-pep8->easyvvuq) (1.7.1)\n",
      "Requirement already satisfied: rsa<5,>=3.1.4; python_version >= \"3.5\" in /opt/conda/lib/python3.7/site-packages (from google-auth>=1.0.1->kubernetes->easyvvuq) (4.6)\n",
      "Requirement already satisfied: cachetools<5.0,>=2.0.0 in /opt/conda/lib/python3.7/site-packages (from google-auth>=1.0.1->kubernetes->easyvvuq) (4.1.1)\n",
      "Requirement already satisfied: pyasn1-modules>=0.2.1 in /opt/conda/lib/python3.7/site-packages (from google-auth>=1.0.1->kubernetes->easyvvuq) (0.2.8)\n",
      "Requirement already satisfied: chardet<3.1.0,>=3.0.2 in /opt/conda/lib/python3.7/site-packages (from requests->kubernetes->easyvvuq) (3.0.4)\n",
      "Requirement already satisfied: idna<2.9,>=2.5 in /opt/conda/lib/python3.7/site-packages (from requests->kubernetes->easyvvuq) (2.8)\n",
      "Requirement already satisfied: oauthlib>=3.0.0 in /opt/conda/lib/python3.7/site-packages (from requests-oauthlib->kubernetes->easyvvuq) (3.0.1)\n",
      "Requirement already satisfied: heapdict in /opt/conda/lib/python3.7/site-packages (from zict>=0.1.3->distributed>=2.0; extra == \"complete\"->dask[complete]->easyvvuq) (1.0.1)\n",
      "Requirement already satisfied: apipkg>=1.4 in /opt/conda/lib/python3.7/site-packages (from execnet>=1.1.dev1->pytest-cache->pytest-pep8->easyvvuq) (1.5)\n",
      "Requirement already satisfied: pyasn1>=0.1.3 in /opt/conda/lib/python3.7/site-packages (from rsa<5,>=3.1.4; python_version >= \"3.5\"->google-auth>=1.0.1->kubernetes->easyvvuq) (0.4.8)\n",
      "fatal: destination path 'EasyVVUQ' already exists and is not an empty directory.\n"
     ]
    }
   ],
   "source": [
    "!pip install easyvvuq\n",
    "!git clone https://github.com/UCL-CCS/EasyVVUQ"
   ]
  },
  {
   "cell_type": "markdown",
   "metadata": {
    "colab_type": "text",
    "id": "O5RXyRXm4tIf"
   },
   "source": [
    "$$\n",
    "\\def\\CC{\\bf C}\n",
    "\\def\\QQ{\\bf Q}\n",
    "\\def\\RR{\\bf R}\n",
    "\\def\\ZZ{\\bf Z}\n",
    "\\def\\NN{\\bf N}\n",
    "$$\n",
    "# A Cooling Coffee Cup with Polynomial Chaos Expansion\n",
    "\n",
    "In this tutorial we will perform a Polynomial Chaos Expansion for a\n",
    "model of a cooling coffee cup. The model uses Newton's law of cooling to\n",
    "evolve the temperature, $T$, over time ($t$) in an environment at\n",
    "$T_{env}$ :\n",
    "\n",
    "$$\\frac{dT(t)}{dt} = -\\kappa (T(t) -T_{env})$$\n",
    "\n",
    "The constant $\\kappa$ characterizes the rate at which the coffee cup\n",
    "transfers heat to the environment. In this example we will analyze this\n",
    "model using the polynomial chaos expansion (PCE) UQ algorithm. We will\n",
    "use a constant initial temperature $T_0 = 95 ^\\circ\\text{C}$, and vary\n",
    "$\\kappa$ and $T_{env}$ using a uniform distribution in the ranges\n",
    "$0.025-0.075$ and $15-25$ respectively.\n",
    "\n",
    "The model was implemented as a Python script. But your code does not have to be written in Python and is indeed not expected to be. \n",
    "\n",
    "## EasyVVUQ Script Overview\n",
    "\n",
    "We illustrate the intended workflow using the following basic example\n",
    "script, a python implementation of the cooling coffee cup model used in\n",
    "the textit{uncertainpy} documentation (code for which is in the\n",
    "tests/cooling/ subdirectory of the EasyVVUQ distribution directory). The\n",
    "code takes a small key/value pair input and outputs a comma separated\n",
    "value CSV) file.\n",
    "\n",
    "The input files for this tutorial are the *cooling\\_model* application\n",
    "(`cooling_model.py <tutorial_files/cooling_model.py>`), an input\n",
    "template (`cooling.template <tutorial_files/cooling.template>`) and the\n",
    "EasyVVUQ workflow script\n",
    "(`easyvvuq_pce_tutorial.py <tutorial_files/easyvvuq_pce_tutorial.py>`)."
   ]
  },
  {
   "cell_type": "markdown",
   "metadata": {
    "colab_type": "text",
    "id": "zkWCN7Pe6GJB"
   },
   "source": [
    "## Set-up\n",
    "\n",
    "For this example we import both easyvvuq and chaospy (for the\n",
    "distributions). EasyVVUQ will be referred to as 'uq' in the code. :"
   ]
  },
  {
   "cell_type": "code",
   "execution_count": 95,
   "metadata": {
    "colab": {},
    "colab_type": "code",
    "id": "Yd2XHwIE4tIg"
   },
   "outputs": [],
   "source": [
    "import easyvvuq as uq\n",
    "import chaospy as cp"
   ]
  },
  {
   "cell_type": "markdown",
   "metadata": {
    "colab_type": "text",
    "id": "uhwgG1Wc4tIj"
   },
   "source": [
    "## Create a new Campaign\n",
    "\n",
    "We start by creating an\n",
    "EasyVVUQ Campaign. Here we call it 'coffee\\_pce'. :"
   ]
  },
  {
   "cell_type": "code",
   "execution_count": 96,
   "metadata": {
    "colab": {},
    "colab_type": "code",
    "id": "Cf5cFQXr4tIj"
   },
   "outputs": [
    {
     "name": "stdout",
     "output_type": "stream",
     "text": [
      "db_location = sqlite:////home/jovyan/tutorials/VECMAtk/EasyVVUQ/Cooling_Cup/coffee_pce18595a0n/campaign.db\n",
      "active_sampler_id = None\n",
      "campaign_name = coffee_pce\n",
      "campaign_dir = /home/jovyan/tutorials/VECMAtk/EasyVVUQ/Cooling_Cup/coffee_pce18595a0n\n",
      "campaign_id = 1\n",
      "log = []\n",
      "\n"
     ]
    }
   ],
   "source": [
    "my_campaign = uq.Campaign(name='coffee_pce')\n",
    "print(my_campaign)"
   ]
  },
  {
   "cell_type": "markdown",
   "metadata": {
    "colab_type": "text",
    "id": "DgnFaMSP4tIn"
   },
   "source": [
    "## Parameter space definition\n",
    "\n",
    "The parameter space is defined using a dictionary. Each entry in the\n",
    "dictionary follows the format:\n",
    "\n",
    "`\"parameter_name\": {\"type\" : \"<value>\", \"min\": <value>, \"max\": <value>, \"default\": <value>}`\n",
    "\n",
    "With a defined type, minimum and maximum value and default. If the\n",
    "parameter is not selected to vary in the Sampler (see below) then the\n",
    "default value is used for every run. In this example, our full parameter\n",
    "space looks like the following: :"
   ]
  },
  {
   "cell_type": "code",
   "execution_count": 98,
   "metadata": {
    "colab": {},
    "colab_type": "code",
    "id": "bHHJZWbf4tIo"
   },
   "outputs": [],
   "source": [
    "params = {\n",
    "    \"temp_init\": {\"type\": \"float\", \"min\": 0.0, \"max\": 100.0, \"default\": 95.0},\n",
    "    \"kappa\": {\"type\": \"float\", \"min\": 0.0, \"max\": 0.1, \"default\": 0.025},\n",
    "    \"t_env\": {\"type\": \"float\", \"min\": 0.0, \"max\": 40.0, \"default\": 15.0},\n",
    "    \"out_file\": {\"type\": \"string\", \"default\": \"output.csv\"}\n",
    "}"
   ]
  },
  {
   "cell_type": "markdown",
   "metadata": {
    "colab_type": "text",
    "id": "sW-haeK24tIq"
   },
   "source": [
    "## App Creation\n",
    "\n",
    "In this example the GenericEncoder and SimpleCSV, both included in the\n",
    "core EasyVVUQ library, were used as the encoder/decoder pair for this\n",
    "application. :"
   ]
  },
  {
   "cell_type": "code",
   "execution_count": 99,
   "metadata": {
    "colab": {},
    "colab_type": "code",
    "id": "nHx45Wks4tIq"
   },
   "outputs": [],
   "source": [
    "import os\n",
    "from pathlib import Path\n",
    "\n",
    "encoder = uq.encoders.GenericEncoder(\n",
    "    template_fname='EasyVVUQ/tests/cooling/cooling.template',\n",
    "    delimiter='$',\n",
    "    target_filename='cooling_in.json')\n",
    "\n",
    "decoder = uq.decoders.SimpleCSV(target_filename=\"output.csv\",\n",
    "                            output_columns=[\"te\"],\n",
    "                            header=0)"
   ]
  },
  {
   "cell_type": "markdown",
   "metadata": {
    "colab_type": "text",
    "id": "btoHsRA74tIs"
   },
   "source": [
    "In this workflow all application runs will be analyzed as individual\n",
    "datapoint, so we set the collator to AggregateSamples without averaging.\n",
    "This element simply extracts information using the assigned decoder and\n",
    "adds it to a summary dataframe. :"
   ]
  },
  {
   "cell_type": "code",
   "execution_count": 100,
   "metadata": {
    "colab": {},
    "colab_type": "code",
    "id": "rv1x-RDY4tIt"
   },
   "outputs": [],
   "source": [
    "collater = uq.collate.AggregateSamples(average=False)"
   ]
  },
  {
   "cell_type": "markdown",
   "metadata": {
    "colab_type": "text",
    "id": "-4HKkpZP4tIv"
   },
   "source": [
    "GenericEncoder performs simple text substitution into a supplied\n",
    "template, using a specified delimiter to identify where parameters\n",
    "should be placed. The template is shown below (\\$ is used as the\n",
    "delimiter). The template substitution approach is likely to suit most\n",
    "simple applications but in practice many large applications have more\n",
    "complex requirements, for example the multiple input files or the\n",
    "creation of a directory hierarchy. In such cases, users may write their\n",
    "own encoders by extending the BaseEncoder class. :"
   ]
  },
  {
   "cell_type": "code",
   "execution_count": null,
   "metadata": {
    "colab": {},
    "colab_type": "code",
    "id": "FXcdBc0B4tIv"
   },
   "outputs": [],
   "source": [
    "{\n",
    "   \"T0\":\"$temp_init\",\n",
    "   \"kappa\":\"$kappa\",\n",
    "   \"t_env\":\"$t_env\",\n",
    "   \"out_file\":\"$out_file\"\n",
    "}"
   ]
  },
  {
   "cell_type": "markdown",
   "metadata": {
    "colab_type": "text",
    "id": "uEig_muB4tIx"
   },
   "source": [
    "As can be inferred from its name SimpleCSV reads CVS files produced by\n",
    "the cooling model code. Again many applications output results in\n",
    "different formats, potentially requiring bespoke Decoders. Having\n",
    "created an encoder, decoder and parameter space definition for our\n",
    "$cooling$ app, we can add it to our campaign. :"
   ]
  },
  {
   "cell_type": "code",
   "execution_count": 101,
   "metadata": {
    "colab": {},
    "colab_type": "code",
    "id": "Ftd-tq6a4tIx"
   },
   "outputs": [],
   "source": [
    "# Add the app (automatically set as current app)\n",
    "my_campaign.add_app(name=\"cooling\",\n",
    "                    params=params,\n",
    "                    encoder=encoder,\n",
    "                    decoder=decoder,\n",
    "                    collater=collater)"
   ]
  },
  {
   "cell_type": "markdown",
   "metadata": {
    "colab_type": "text",
    "id": "EBUKUTyL4tIz"
   },
   "source": [
    "## The Sampler\n",
    "\n",
    "The user specified which parameters will vary and their corresponding\n",
    "distributions. In this case the kappa and t\\_env parameters are varied,\n",
    "both according to a uniform distribution: :"
   ]
  },
  {
   "cell_type": "code",
   "execution_count": 102,
   "metadata": {
    "colab": {},
    "colab_type": "code",
    "id": "skA-fE-c4tI0"
   },
   "outputs": [],
   "source": [
    "vary = {\n",
    "    \"kappa\": cp.Uniform(0.025, 0.075),\n",
    "    \"t_env\": cp.Uniform(15, 25)\n",
    "}"
   ]
  },
  {
   "cell_type": "markdown",
   "metadata": {
    "colab_type": "text",
    "id": "2yMnJxEV4tI2"
   },
   "source": [
    "To perform a polynomial chaos expansion we will create a PCESampler,\n",
    "informing it which parameters to vary, and what polynomial rder to use\n",
    "for the PCE. :"
   ]
  },
  {
   "cell_type": "code",
   "execution_count": 103,
   "metadata": {
    "colab": {},
    "colab_type": "code",
    "id": "1eDGvW3J4tI2"
   },
   "outputs": [],
   "source": [
    "my_sampler = uq.sampling.PCESampler(vary=vary, polynomial_order=3)"
   ]
  },
  {
   "cell_type": "markdown",
   "metadata": {
    "colab_type": "text",
    "id": "snnsrp174tI4"
   },
   "source": [
    "Finally we set the campaign to use this sampler. :"
   ]
  },
  {
   "cell_type": "code",
   "execution_count": 104,
   "metadata": {
    "colab": {},
    "colab_type": "code",
    "id": "E-Ruh53E4tI5"
   },
   "outputs": [],
   "source": [
    "my_campaign.set_sampler(my_sampler)"
   ]
  },
  {
   "cell_type": "markdown",
   "metadata": {
    "colab_type": "text",
    "id": "IIDKFbhQ4tI7"
   },
   "source": [
    "Calling the campaign's draw\\_samples() method will cause the specified\n",
    "number of samples to be added as runs to the campaign database, awaiting\n",
    "encoding and execution. If no arguments are passed to draw\\_samples()\n",
    "then all samples will be drawn, unless the sampler is not finite. In\n",
    "this case PCESampler is finite (produces a finite number of samples) and\n",
    "we elect to draw all of them at once: :"
   ]
  },
  {
   "cell_type": "code",
   "execution_count": 105,
   "metadata": {
    "colab": {},
    "colab_type": "code",
    "id": "RD5cupoa4tI7"
   },
   "outputs": [],
   "source": [
    "my_campaign.draw_samples()"
   ]
  },
  {
   "cell_type": "markdown",
   "metadata": {
    "colab_type": "text",
    "id": "oUMfmupj4tI-"
   },
   "source": [
    "## Execute Runs\n",
    "\n",
    "my\\_campaign.populate\\_runs\\_dir() will create a directory hierarchy\n",
    "containing the encoded input files for every run that has not yet been\n",
    "completed. "
   ]
  },
  {
   "cell_type": "code",
   "execution_count": 107,
   "metadata": {},
   "outputs": [],
   "source": [
    "my_campaign.populate_runs_dir()"
   ]
  },
  {
   "cell_type": "markdown",
   "metadata": {},
   "source": [
    "Finally, in this example, a shell command is executed in each\n",
    "directory to execute the simple test code. In practice (in a real HPC\n",
    "workflow) this stage would be best handled using, for example, a pilot\n",
    "job manager. :"
   ]
  },
  {
   "cell_type": "code",
   "execution_count": 108,
   "metadata": {
    "colab": {},
    "colab_type": "code",
    "id": "sfgV5Ukp4tI-"
   },
   "outputs": [
    {
     "data": {
      "text/plain": [
       "<easyvvuq.actions.action_statuses.ActionStatuses at 0x7f5e0ad7bed0>"
      ]
     },
     "execution_count": 108,
     "metadata": {},
     "output_type": "execute_result"
    }
   ],
   "source": [
    "import os\n",
    "my_campaign.apply_for_each_run_dir(uq.actions.ExecuteLocal(\"{} cooling_in.json\".format(os.path.abspath('EasyVVUQ/tests/cooling/cooling_model.py')), interpret=\"python3\"))"
   ]
  },
  {
   "cell_type": "markdown",
   "metadata": {
    "colab_type": "text",
    "id": "nhtEXW0m4tJB"
   },
   "source": [
    "## Collation and analysis\n",
    "\n",
    "Calling my\\_campaign.collate() at any stage causes the campaign to\n",
    "aggregate decoded simulation output for all runs which have not yet been\n",
    "collated. :"
   ]
  },
  {
   "cell_type": "code",
   "execution_count": 109,
   "metadata": {
    "colab": {},
    "colab_type": "code",
    "id": "0DNebuv24tJB"
   },
   "outputs": [],
   "source": [
    "my_campaign.collate()"
   ]
  },
  {
   "cell_type": "markdown",
   "metadata": {
    "colab_type": "text",
    "id": "yJLFypP34tJD"
   },
   "source": [
    "This collated data is stored in the campaign database. An analysis\n",
    "element, here PCEAnalysis, can then be applied to the campaign's\n",
    "collation result. :"
   ]
  },
  {
   "cell_type": "code",
   "execution_count": 110,
   "metadata": {
    "colab": {},
    "colab_type": "code",
    "id": "CacIi3Ky4tJE"
   },
   "outputs": [],
   "source": [
    "my_analysis = uq.analysis.PCEAnalysis(sampler=my_sampler, qoi_cols=[\"te\"])\n",
    "my_campaign.apply_analysis(my_analysis)"
   ]
  },
  {
   "cell_type": "markdown",
   "metadata": {
    "colab_type": "text",
    "id": "rGgiN7cA4tJF"
   },
   "source": [
    "The output of the analysis can be next queried in order to get detailed statistics:"
   ]
  },
  {
   "cell_type": "code",
   "execution_count": 111,
   "metadata": {
    "colab": {},
    "colab_type": "code",
    "id": "-TvW8CIj4tJG"
   },
   "outputs": [
    {
     "name": "stdout",
     "output_type": "stream",
     "text": [
      "Mean:\n",
      "[95.         90.14480222 85.62853232 81.42607272 77.51425404 73.87169698\n",
      " 70.47867197 67.31696485 64.36975852 61.62152061 59.05790055 56.66563881\n",
      " 54.43247737 52.34708481 50.39898016 48.57846789 46.87657596 45.28499994\n",
      " 43.79605167 42.40261031 41.09807879 39.87634425 38.7317402  37.65901235\n",
      " 36.65328742 35.71004408 34.82508628 33.99451843 33.21472289 32.48233907\n",
      " 31.79424428 31.14753593 30.53951502 29.96767121 29.42966884 28.92333398\n",
      " 28.44664273 27.99771014 27.57478008 27.17621601 26.80049218 26.44618579\n",
      " 26.11196953 25.79660476 25.49893528 25.21788137 24.95243443 24.70165205\n",
      " 24.46465327 24.24061436 24.0287648  23.82838365 23.63879613 23.45937039\n",
      " 23.28951465 23.12867447 22.97633017 22.83199453 22.69521062 22.56554974\n",
      " 22.44260959 22.32601246 22.21540368 22.11045006 22.0108385  21.91627469\n",
      " 21.82648191 21.74119985 21.6601836  21.58320266 21.51004002 21.4404913\n",
      " 21.37436398 21.31147665 21.25165828 21.19474764 21.14059263 21.08904979\n",
      " 21.0399837  20.99326654 20.94877763 20.90640297 20.86603485 20.82757148\n",
      " 20.79091667 20.75597943 20.72267371 20.69091813 20.66063564 20.63175334\n",
      " 20.6042022  20.57791684 20.55283534 20.52889904 20.50605233 20.4842425\n",
      " 20.46341959 20.44353619 20.42454736 20.40641044 20.38908494 20.37253246\n",
      " 20.35671651 20.34160244 20.32715735 20.31335    20.30015067 20.28753114\n",
      " 20.27546457 20.26392545 20.25288953 20.24233372 20.23223607 20.2225757\n",
      " 20.21333274 20.20448825 20.19602424 20.18792355 20.18016985 20.17274759\n",
      " 20.16564195 20.1588388  20.1523247  20.14608682 20.14011294 20.13439141\n",
      " 20.12891111 20.12366145 20.11863232 20.11381408 20.10919753 20.10477389\n",
      " 20.10053479 20.09647222 20.09257857 20.08884653 20.08526916 20.08183982\n",
      " 20.07855214 20.07540009 20.07237785 20.06947991 20.06670098 20.064036\n",
      " 20.06148014 20.0590288  20.05667756 20.0544222  20.05225869 20.05018318]\n",
      "Std:\n",
      "[3.60879159e-12 1.37273225e+00 2.56993766e+00 3.60968584e+00\n",
      " 4.50830884e+00 5.28056714e+00 5.93979492e+00 6.49803423e+00\n",
      " 6.96615846e+00 7.35398112e+00 7.67035675e+00 7.92326993e+00\n",
      " 8.11992128e+00 8.26679726e+00 8.36974131e+00 8.43401367e+00\n",
      " 8.46434681e+00 8.46499632e+00 8.43978650e+00 8.39215125e+00\n",
      " 8.32517161e+00 8.24161017e+00 8.14394124e+00 8.03437882e+00\n",
      " 7.91490197e+00 7.78727780e+00 7.65308186e+00 7.51371687e+00\n",
      " 7.37042945e+00 7.22432578e+00 7.07638527e+00 6.92747318e+00\n",
      " 6.77835180e+00 6.62969070e+00 6.48207603e+00 6.33601874e+00\n",
      " 6.19196220e+00 6.05028894e+00 5.91132674e+00 5.77535420e+00\n",
      " 5.64260567e+00 5.51327571e+00 5.38752314e+00 5.26547470e+00\n",
      " 5.14722825e+00 5.03285581e+00 4.92240609e+00 4.81590701e+00\n",
      " 4.71336786e+00 4.61478118e+00 4.52012458e+00 4.42936237e+00\n",
      " 4.34244706e+00 4.25932063e+00 4.17991582e+00 4.10415730e+00\n",
      " 4.03196266e+00 3.96324339e+00 3.89790585e+00 3.83585204e+00\n",
      " 3.77698040e+00 3.72118658e+00 3.66836407e+00 3.61840489e+00\n",
      " 3.57120014e+00 3.52664056e+00 3.48461705e+00 3.44502114e+00\n",
      " 3.40774539e+00 3.37268378e+00 3.33973209e+00 3.30878816e+00\n",
      " 3.27975217e+00 3.25252693e+00 3.22701798e+00 3.20313382e+00\n",
      " 3.18078605e+00 3.15988940e+00 3.14036188e+00 3.12212478e+00\n",
      " 3.10510271e+00 3.08922362e+00 3.07441871e+00 3.06062250e+00\n",
      " 3.04777268e+00 3.03581009e+00 3.02467867e+00 3.01432531e+00\n",
      " 3.00469982e+00 2.99575480e+00 2.98744554e+00 2.97972991e+00\n",
      " 2.97256828e+00 2.96592337e+00 2.95976016e+00 2.95404582e+00\n",
      " 2.94874952e+00 2.94384240e+00 2.93929744e+00 2.93508934e+00\n",
      " 2.93119446e+00 2.92759071e+00 2.92425745e+00 2.92117544e+00\n",
      " 2.91832669e+00 2.91569447e+00 2.91326317e+00 2.91101822e+00\n",
      " 2.90894611e+00 2.90703421e+00 2.90527081e+00 2.90364499e+00\n",
      " 2.90214661e+00 2.90076625e+00 2.89949513e+00 2.89832513e+00\n",
      " 2.89724869e+00 2.89625879e+00 2.89534892e+00 2.89451304e+00\n",
      " 2.89374553e+00 2.89304121e+00 2.89239525e+00 2.89180319e+00\n",
      " 2.89126088e+00 2.89076448e+00 2.89031044e+00 2.88989548e+00\n",
      " 2.88951653e+00 2.88917079e+00 2.88885563e+00 2.88856864e+00\n",
      " 2.88830758e+00 2.88807039e+00 2.88785516e+00 2.88766010e+00\n",
      " 2.88748360e+00 2.88732414e+00 2.88718033e+00 2.88705088e+00\n",
      " 2.88693459e+00 2.88683038e+00 2.88673722e+00 2.88665419e+00\n",
      " 2.88658041e+00 2.88651510e+00 2.88645752e+00 2.88640699e+00\n",
      " 2.88636290e+00 2.88632467e+00]\n",
      "p10:\n",
      "[95.         88.27606614 82.15271371 76.57504258 71.50381057 66.88633064\n",
      " 62.6768892  58.84607618 55.36083877 52.15100421 49.23598414 46.58956684\n",
      " 44.15777754 41.93505102 39.92733445 38.07764112 36.39097244 34.84504416\n",
      " 33.43312524 32.13088658 30.9467632  29.88646901 28.89114498 27.96921977\n",
      " 27.14070565 26.38880487 25.67428747 25.02144352 24.42884818 23.86821218\n",
      " 23.35627991 22.90733893 22.46823554 22.06351001 21.69784081 21.34451533\n",
      " 21.02493127 20.72775813 20.451441   20.20066982 19.9632844  19.7498235\n",
      " 19.5536739  19.35753525 19.18177663 19.00935316 18.84953604 18.70655586\n",
      " 18.56056666 18.4428352  18.32560047 18.21221244 18.10857672 18.01517252\n",
      " 17.92123805 17.84335078 17.76124218 17.6679636  17.58805629 17.52105469\n",
      " 17.46069971 17.41242008 17.35438719 17.29887016 17.25164642 17.2055706\n",
      " 17.1629274  17.12412721 17.07767611 17.03780703 16.99690573 16.96534798\n",
      " 16.92917437 16.89456208 16.8603021  16.83064122 16.80419992 16.78014686\n",
      " 16.75225482 16.72208778 16.69296109 16.67110035 16.65244767 16.63146881\n",
      " 16.60986138 16.59949827 16.58971665 16.56795604 16.54770689 16.53193598\n",
      " 16.51534519 16.50244863 16.49205514 16.48030673 16.46857486 16.45178541\n",
      " 16.43814654 16.42394904 16.41713957 16.40495713 16.39580287 16.38093928\n",
      " 16.36728771 16.36045057 16.34647969 16.33599152 16.32963755 16.32048697\n",
      " 16.31409006 16.31037247 16.30046109 16.29325607 16.28254003 16.27505023\n",
      " 16.26754498 16.25935837 16.248498   16.24259234 16.23237852 16.2229025\n",
      " 16.20906369 16.20092349 16.19451723 16.18840076 16.18265293 16.17684932\n",
      " 16.17288747 16.16793834 16.16349104 16.15919181 16.15331743 16.14845991\n",
      " 16.14639452 16.14160203 16.13821204 16.13584785 16.12824817 16.12402147\n",
      " 16.12239789 16.11595019 16.10982315 16.10684304 16.10490627 16.10400078\n",
      " 16.10117974 16.09717731 16.09589198 16.09378685 16.09178233 16.08659799]\n",
      "p90:\n",
      "[95.         88.27606614 82.15271371 76.57504258 71.50381057 66.88633064\n",
      " 62.6768892  58.84607618 55.36083877 52.15100421 49.23598414 46.58956684\n",
      " 44.15777754 41.93505102 39.92733445 38.07764112 36.39097244 34.84504416\n",
      " 33.43312524 32.13088658 30.9467632  29.88646901 28.89114498 27.96921977\n",
      " 27.14070565 26.38880487 25.67428747 25.02144352 24.42884818 23.86821218\n",
      " 23.35627991 22.90733893 22.46823554 22.06351001 21.69784081 21.34451533\n",
      " 21.02493127 20.72775813 20.451441   20.20066982 19.9632844  19.7498235\n",
      " 19.5536739  19.35753525 19.18177663 19.00935316 18.84953604 18.70655586\n",
      " 18.56056666 18.4428352  18.32560047 18.21221244 18.10857672 18.01517252\n",
      " 17.92123805 17.84335078 17.76124218 17.6679636  17.58805629 17.52105469\n",
      " 17.46069971 17.41242008 17.35438719 17.29887016 17.25164642 17.2055706\n",
      " 17.1629274  17.12412721 17.07767611 17.03780703 16.99690573 16.96534798\n",
      " 16.92917437 16.89456208 16.8603021  16.83064122 16.80419992 16.78014686\n",
      " 16.75225482 16.72208778 16.69296109 16.67110035 16.65244767 16.63146881\n",
      " 16.60986138 16.59949827 16.58971665 16.56795604 16.54770689 16.53193598\n",
      " 16.51534519 16.50244863 16.49205514 16.48030673 16.46857486 16.45178541\n",
      " 16.43814654 16.42394904 16.41713957 16.40495713 16.39580287 16.38093928\n",
      " 16.36728771 16.36045057 16.34647969 16.33599152 16.32963755 16.32048697\n",
      " 16.31409006 16.31037247 16.30046109 16.29325607 16.28254003 16.27505023\n",
      " 16.26754498 16.25935837 16.248498   16.24259234 16.23237852 16.2229025\n",
      " 16.20906369 16.20092349 16.19451723 16.18840076 16.18265293 16.17684932\n",
      " 16.17288747 16.16793834 16.16349104 16.15919181 16.15331743 16.14845991\n",
      " 16.14639452 16.14160203 16.13821204 16.13584785 16.12824817 16.12402147\n",
      " 16.12239789 16.11595019 16.10982315 16.10684304 16.10490627 16.10400078\n",
      " 16.10117974 16.09717731 16.09589198 16.09378685 16.09178233 16.08659799]\n"
     ]
    }
   ],
   "source": [
    "# Get Descriptive Statistics\n",
    "results = my_campaign.get_last_analysis()\n",
    "\n",
    "mean = results.describe()['te']['mean']\n",
    "std = results.describe()['te']['std']\n",
    "p10 = results.describe()['te']['10%']\n",
    "p90 = results.describe()['te']['90%']\n",
    "print(f'Mean:\\n{mean}')\n",
    "print(f'Std:\\n{std}')\n",
    "print(f'p10:\\n{p10}')\n",
    "print(f'p90:\\n{p10}')"
   ]
  },
  {
   "cell_type": "markdown",
   "metadata": {
    "colab_type": "text",
    "id": "XxFsGUPdQma0"
   },
   "source": [
    "## I want to see how the results might look:\n",
    "\n",
    "\n",
    "\n"
   ]
  },
  {
   "cell_type": "code",
   "execution_count": 112,
   "metadata": {
    "colab": {},
    "colab_type": "code",
    "id": "ueHQBoSxRMjq"
   },
   "outputs": [
    {
     "data": {
      "image/png": "[encoded data removed]",
      "text/plain": [
       "<Figure size 1152x432 with 3 Axes>"
      ]
     },
     "metadata": {
      "needs_background": "light"
     },
     "output_type": "display_data"
    }
   ],
   "source": [
    "import matplotlib.pyplot as plt\n",
    "import numpy as np\n",
    "\n",
    "mean = results.describe()['te']['mean']\n",
    "std = results.describe()['te']['std']\n",
    "p10 = results.describe()['te']['10%']\n",
    "p90 = results.describe()['te']['90%']\n",
    "\n",
    "s1_kappa = results._get_sobols_first('te', 'kappa')\n",
    "s1_t_env = results._get_sobols_first('te', 't_env')\n",
    "\n",
    "t = np.linspace(0, 200, 150)\n",
    "\n",
    "fig, (ax1, ax2) = plt.subplots(nrows=1, ncols=2, figsize=(16,6))\n",
    "\n",
    "ax1.plot(t, mean, 'g-', alpha=0.75, label='Mean')\n",
    "ax1.plot(t,  p10, 'b-', alpha=0.25)\n",
    "ax1.plot(t,  p90, 'b-', alpha=0.25)\n",
    "ax1.fill_between(\n",
    "  t,\n",
    "  p10,\n",
    "  p90,\n",
    "  alpha=0.25,\n",
    "  label='90% prediction interval')\n",
    "ax1.set_xlabel('Time (min)')\n",
    "ax1.set_ylabel('Temperature (°C)', color='b')\n",
    "ax1.tick_params('y', colors='b')\n",
    "ax1.legend()\n",
    "\n",
    "ax1t = ax1.twinx()\n",
    "ax1t.plot(t, std, 'r-', alpha=0.5)\n",
    "ax1t.set_ylabel('Standard deviation', color='r')\n",
    "ax1t.tick_params('y', colors='r')\n",
    "\n",
    "ax1.grid()\n",
    "ax1.set_title('Statistical Moments')\n",
    "\n",
    "ax2.plot(t, s1_kappa, '-', color ='#248BF2', label=r'$\\kappa$')\n",
    "ax2.plot(t, s1_t_env, '-', color ='#9402E8', alpha=0.6,label=r'$T_{env}$')\n",
    "\n",
    "ax2.set_xlabel('Time (min)')\n",
    "ax2.set_ylabel('First-order Sobol indices')\n",
    "ax2.set_title('Sensitivity Analysis')\n",
    "ax2.grid()\n",
    "ax2.legend()\n",
    "\n",
    "plt.subplots_adjust(wspace=0.35)\n",
    "\n",
    "plt.show()"
   ]
  },
  {
   "cell_type": "markdown",
   "metadata": {
    "colab_type": "text",
    "id": "HEk89mPtlOc4"
   },
   "source": [
    "These plots show the statistical moments (mean, variance, and 90% prediction interval) and the sensitivity analysis of the model to each parameter, expressed through the first-order Sobol indices."
   ]
  },
  {
   "cell_type": "markdown",
   "metadata": {
    "colab_type": "text",
    "id": "xdGqgdlg4tJI"
   },
   "source": [
    "## I don't want to use Polynomial Chaos\n",
    "\n",
    "If you wish to use something other than PCE, it is simply a matter of\n",
    "changing the sampling and analysis element used. For example, to use a\n",
    "Stochastic Collocation approach, replace the sampler line with: :"
   ]
  },
  {
   "cell_type": "code",
   "execution_count": null,
   "metadata": {
    "colab": {},
    "colab_type": "code",
    "id": "HocadTwF4tJJ"
   },
   "outputs": [],
   "source": [
    "my_sampler = uq.sampling.SCSampler(vary=vary, polynomial_order=3)"
   ]
  },
  {
   "cell_type": "markdown",
   "metadata": {
    "colab_type": "text",
    "id": "qrmRhOxB4tJN"
   },
   "source": [
    "And the analysis can be done with: :"
   ]
  },
  {
   "cell_type": "code",
   "execution_count": null,
   "metadata": {
    "colab": {},
    "colab_type": "code",
    "id": "c-dD72LA4tJO"
   },
   "outputs": [],
   "source": [
    "my_analysis = uq.analysis.SCAnalysis(sampler=my_sampler, qoi_cols=[\"te\"])\n",
    "my_campaign.apply_analysis(my_analysis)"
   ]
  },
  {
   "cell_type": "code",
   "execution_count": null,
   "metadata": {},
   "outputs": [],
   "source": []
  }
 ],
 "metadata": {
  "colab": {
   "collapsed_sections": [],
   "name": "EasyVVUQ - Cooling Coffee Cup Example",
   "provenance": []
  },
  "kernelspec": {
   "display_name": "Python 3",
   "language": "python",
   "name": "python3"
  },
  "language_info": {
   "codemirror_mode": {
    "name": "ipython",
    "version": 3
   },
   "file_extension": ".py",
   "mimetype": "text/x-python",
   "name": "python",
   "nbconvert_exporter": "python",
   "pygments_lexer": "ipython3",
   "version": "3.7.4"
  }
 },
 "nbformat": 4,
 "nbformat_minor": 4
}
