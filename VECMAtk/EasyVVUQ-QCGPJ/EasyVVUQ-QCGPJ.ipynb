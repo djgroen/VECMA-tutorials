{
 "cells": [
  {
   "cell_type": "markdown",
   "metadata": {},
   "source": [
    "# Parallel execution of EasyVVUQ workflows with QCG-PilotJob - EasyVVUQ-QCGPJ API\n",
    "In this Notebook we present how to employ the *EasyVVUQ-QCGPJ* API to enable efficient execution of *EasyVVUQ* workflows on large computing resources. The API extends capabilities of a regular *EasyVVUQ* with the dedicated procedures for interracting with the *QCG-PilotJob* system, enabling the execution of the most demanding parts of the workflow in parallel."
   ]
  },
  {
   "cell_type": "markdown",
   "metadata": {},
   "source": [
    "## Installing EasyVVUQ-QCGPJ\n",
    "The first thing that you need to do in order to install *EasyVVUQ-QCGPJ*, is the installation of its dependencies, namely *EasyVVUQ* and *QCG-PilotJob*. It can be done in the following way:"
   ]
  },
  {
   "cell_type": "code",
   "execution_count": null,
   "metadata": {},
   "outputs": [],
   "source": [
    "pip install easyvvuq qcg-pilotjob"
   ]
  },
  {
   "cell_type": "markdown",
   "metadata": {},
   "source": [
    "The actual installation of *EasyVVUQ-QCGPJ* is also strightforward:"
   ]
  },
  {
   "cell_type": "code",
   "execution_count": null,
   "metadata": {},
   "outputs": [],
   "source": [
    "pip install easyvvuq-qcgpj"
   ]
  },
  {
   "cell_type": "markdown",
   "metadata": {},
   "source": [
    "## Getting tutorial files\n",
    "The next action is to get files that will be used in the tutorial:"
   ]
  },
  {
   "cell_type": "code",
   "execution_count": null,
   "metadata": {},
   "outputs": [],
   "source": [
    "!git clone https://github.com/vecma-project/EasyVVUQ-QCGPJ.git"
   ]
  },
  {
   "cell_type": "markdown",
   "metadata": {},
   "source": [
    "$$\n",
    "\\def\\CC{\\bf C}\n",
    "\\def\\QQ{\\bf Q}\n",
    "\\def\\RR{\\bf R}\n",
    "\\def\\ZZ{\\bf Z}\n",
    "\\def\\NN{\\bf N}\n",
    "$$\n",
    "## A Cooling Coffee Cup with Polynomial Chaos Expansion using EasyVVUQ-QCGPJ\n",
    "\n",
    "In order to keep the conformance with the basic *EasyVVUQ* tutorial we will show the same workflow as it was used in that tutorial's use-case, i.e. the scenario of Polynomial Chaos Expansion for a model of a cooling coffee cup.  \n",
    "\n",
    "### The Cooling Coffee Cup model\n",
    "\n",
    "In order to recall the idea of the scenario, let us shortly describe the physical basics. \n",
    "\n",
    "The model uses Newton's law of cooling to\n",
    "evolve the temperature, $T$, over time ($t$) in an environment at\n",
    "$T_{env}$ :\n",
    "\n",
    "$$\\frac{dT(t)}{dt} = -\\kappa (T(t) -T_{env})$$\n",
    "\n",
    "The constant $\\kappa$ characterizes the rate at which the coffee cup\n",
    "transfers heat to the environment. In this example we will analyze this\n",
    "model using the polynomial chaos expansion (PCE) UQ algorithm. We will\n",
    "use a constant initial temperature $T_0 = 95 ^\\circ\\text{C}$, and vary\n",
    "$\\kappa$ and $T_{env}$ using a uniform distribution in the ranges\n",
    "$0.025-0.075$ and $15-25$ respectively.\n",
    "\n",
    "### EasyVVUQ Script Overview\n",
    "\n",
    "As it was already said, the origin of the scenario for this tutorial is the UQ analysis of cooling cofee cup model delivered as a primary *EasyVVUQ* example. \n",
    "Once the *EasyVVUQ-QCGPJ* sources are checked-out from GitHub, the python code for the model is available in `EasyVVUQ-QCGPJ/tests/cooling/cooling_model.py` and the template used for the encoding of input for this model is available in `EasyVVUQ-QCGPJ/tests/cooling/cooling.template`. \n",
    "\n",
    "Since the approach we took to integrate *EasyVVUQ* with *QCG Pilot Job Manager* is considerably non-intrusive, the original *EasyVVUQ* workflow for the scenario (the one without *QCG-PilotJob*) requires only slight modifications to run with the *QCG-PilotJob* mechanism. The crucial ammendment introduced into the current tutorial, is the replacement of basic way of execution of *EasyVVUQ* tasks by *EasyVVUQ-QCGPJ* *encoding* and *execution* routines to perform most demanding computations using the *QCG-PilotJob* system. \n",
    "In the rest of this notebook the whole ammended workflow is presented, however in order to not disturb your attention from the main topic of this tutorial, we concentrate on the part related to *EasyVVUQ-QCGPJ* code itself. If you want to know something more about other parts of the workflow please refer to the *EasyVVUQ* documentation or to the basic *EasyVVUQ* tutorial. "
   ]
  },
  {
   "cell_type": "markdown",
   "metadata": {},
   "source": [
    "### Setup\n",
    "In the first step we need to import requied dependencies. In addition to chaospy and easyvvuq we need to import a few classes from *EasyVVUQ-QCGPJ* (`easypj` package)   "
   ]
  },
  {
   "cell_type": "code",
   "execution_count": null,
   "metadata": {},
   "outputs": [],
   "source": [
    "import os\n",
    "import chaospy as cp\n",
    "import easyvvuq as uq\n",
    "\n",
    "from eqi import Executor, Task, TaskType, TaskRequirements, SubmitOrder"
   ]
  },
  {
   "cell_type": "markdown",
   "metadata": {},
   "source": [
    "Next we will set a couple of helper variables, which are specific for our example:"
   ]
  },
  {
   "cell_type": "markdown",
   "metadata": {},
   "source": [
    "### Campaign initialisation\n",
    "EasyVVUQ-QCGPJ doesn't alter the way how EasyVVUQ campaign is created and inited.\n",
    "The whole initialisation code from the original example can be simply reused with only a minor changes to adjust paths to a local environment. After these small modifications it looks as follows: "
   ]
  },
  {
   "cell_type": "code",
   "execution_count": null,
   "metadata": {},
   "outputs": [],
   "source": [
    "# Initialize Campaign\n",
    "my_campaign = uq.Campaign(name='coffee_pce')\n",
    "\n",
    "\n",
    "params = {\n",
    "    \"temp_init\": {\"type\": \"float\", \"min\": 0.0, \"max\": 100.0, \"default\": 95.0},\n",
    "    \"kappa\": {\"type\": \"float\", \"min\": 0.0, \"max\": 0.1, \"default\": 0.025},\n",
    "    \"t_env\": {\"type\": \"float\", \"min\": 0.0, \"max\": 40.0, \"default\": 15.0},\n",
    "    \"out_file\": {\"type\": \"string\", \"default\": \"output.csv\"}\n",
    "}\n",
    "\n",
    "encoder = uq.encoders.GenericEncoder(\n",
    "    template_fname=os.path.abspath('EasyVVUQ-QCGPJ/tests/cooling/cooling.template'),\n",
    "    delimiter='$',\n",
    "    target_filename=\"cooling_in.json\")\n",
    "\n",
    "decoder = uq.decoders.SimpleCSV(target_filename=\"output.csv\",\n",
    "                                output_columns=[\"te\"],\n",
    "                                header=0)\n",
    "\n",
    "collater = uq.collate.AggregateSamples(average=False)\n",
    "\n",
    "# Add the app (automatically set as current app)\n",
    "my_campaign.add_app(name=\"cooling\",\n",
    "                    params=params,\n",
    "                    encoder=encoder,\n",
    "                    decoder=decoder,\n",
    "                    collater=collater)\n",
    "\n",
    "# Setup sampler\n",
    "vary = {\n",
    "    \"kappa\": cp.Uniform(0.025, 0.075),\n",
    "    \"t_env\": cp.Uniform(15, 25)\n",
    "}\n",
    "\n",
    "my_sampler = uq.sampling.PCESampler(vary=vary, polynomial_order=3)\n",
    "my_campaign.set_sampler(my_sampler)\n",
    "\n",
    "# Draw samples\n",
    "my_campaign.draw_samples()\n",
    "\n",
    "print(\"Campaign prepared\")\n",
    "print(my_campaign)"
   ]
  },
  {
   "cell_type": "markdown",
   "metadata": {},
   "source": [
    "### EASYVVUQ-QCGPJ part\n",
    "In this place we start definitions specific for *EasyVVUQ-QCGPJ*. \n",
    "#### EasyVVUQ-QCGPJ Executor\n",
    "*EasyVVUQ-QCGPJ* provides the `Executor` class that manages the execution of potentially computationally-intensive *EasyVVUQ* operations processed on samples, in particular the encoding and model execution. The first step is to construct the `Executor` instance."
   ]
  },
  {
   "cell_type": "code",
   "execution_count": null,
   "metadata": {},
   "outputs": [],
   "source": [
    "qcgpjexec = Executor(my_campaign)"
   ]
  },
  {
   "cell_type": "markdown",
   "metadata": {},
   "source": [
    "#### Initialisation of QCG-PilotJob Manager\n",
    "Now the executor needs to be connected with *QCG-PilotJob Manager* instance. The easiest way is to use a dedicated method `create_manager`. In case of the execution of the workflow inside a SLURM computing job, the method could be invoked even without arguments. Here, since we are not in a regular allocation on HPC machine, we have to use *QCG-PilotJob Manager* in so called *local mode*. It means that we have to manually instruct the service how many resources (possibly virtual ones) we want to use. "
   ]
  },
  {
   "cell_type": "code",
   "execution_count": null,
   "metadata": {},
   "outputs": [],
   "source": [
    "qcgpjexec.create_manager(resources='4')"
   ]
  },
  {
   "cell_type": "markdown",
   "metadata": {},
   "source": [
    "#### EasyVVUQ-QCGPJ Tasks\n",
    "\n",
    "The next step is the setup of tasks skeletons, that will be used to generate specific tasks for the execution of demanding *EasyVVUQ* operations inside the *QCG-PilotJob* manager. To this end the `Executor` class provides a method called `add_task` that takes `Task` as an argument. In order to create a `Task` you need to provide its type, requirements and possibly Task type specific parameters. In our example we will define two tasks: `TaskType.ENCODING` for the input parameters encoding and `TaskType.EXECUTION` for the model execution. "
   ]
  },
  {
   "cell_type": "markdown",
   "metadata": {},
   "source": [
    "##### *Encoding task*\n",
    "With the following task definition we specify that each encoding of a sample should be executed on a single core:"
   ]
  },
  {
   "cell_type": "code",
   "execution_count": null,
   "metadata": {},
   "outputs": [],
   "source": [
    "qcgpjexec.add_task(Task(\n",
    "    TaskType.ENCODING,\n",
    "    TaskRequirements(cores=1)\n",
    "))"
   ]
  },
  {
   "cell_type": "markdown",
   "metadata": {},
   "source": [
    "##### *Model execution task*\n",
    "The task definition for a model execution is a bit more complicated. Along with the type, and requirements, we need to specify the application that will be executed for each sample. Thus the constructor for this task type takes one additional named parameter, called `application`. In this example we specify that our application is a python model that takes the encoded file (`cooling_model.py`) as an input. As you can see, for the execution of tasks of this kind we request for 4 cores.  "
   ]
  },
  {
   "cell_type": "code",
   "execution_count": null,
   "metadata": {},
   "outputs": [],
   "source": [
    "qcgpjexec.add_task(Task(\n",
    "    TaskType.EXECUTION,\n",
    "    TaskRequirements(cores=4),\n",
    "    application='python3 ' + os.path.abspath(\"EasyVVUQ-QCGPJ/tests/cooling/cooling_model.py\") + \" cooling_in.json\"\n",
    "))"
   ]
  },
  {
   "cell_type": "markdown",
   "metadata": {},
   "source": [
    "<div style=\"color: gray; border: dotted 1px gray; padding: 8px\">\n",
    "    <b>Note:</b> there is also a third type of Task in EasyVVUQ-QCGPJ, namely TaskType.EXECUTION_ENCODING. This type of a task can be defined to enable integrated run of encoding and model execution for a sample inside a single QCG-PilotJob task.\n",
    "</div>"
   ]
  },
  {
   "cell_type": "markdown",
   "metadata": {},
   "source": [
    "#### Run encodings and executions with EasyVVUQ-QCGPJ \n",
    "Once all the above steps are completed, we can use *Executor's* `run` method to encode and execute all samples stored in a `Campaing` using *QCG-PilotJob*. The first parameter of the `run` method is the `campaing` object itself. The method gives also the possibility to select a `submit_order`'s. Here we select the `SubmitOrder.RUN_ORIENTED` scheme, which means that the tasks are submitted in a priority of RUN (sample); in other words we want to complete whole processing (encoding and execution) for a given sample as soon as possible and then go to the next sample. "
   ]
  },
  {
   "cell_type": "code",
   "execution_count": null,
   "metadata": {},
   "outputs": [],
   "source": [
    "qcgpjexec.run(submit_order=SubmitOrder.RUN_ORIENTED)"
   ]
  },
  {
   "cell_type": "markdown",
   "metadata": {},
   "source": [
    "<div style=\"color: gray; border: dotted 1px gray; padding: 8px\">\n",
    "    <b>Note:</b> EasyVVUQ-QCGPJ provides a few SubmitOrder schemes, namely: RUN_ORIENTED, PHASE_ORIENTED, RUN_ORIENTED_CONDENSED or EXECUTION_ONLY. Depending on your use-case it may be more beneficial to select one scheme than the other. You can find description of the SubmitOrders at the http://easyvvuq-qcgpj.readthedocs.io. \n",
    "</div>"
   ]
  },
  {
   "cell_type": "markdown",
   "metadata": {},
   "source": [
    "#### Terminate QCG-PilotJob Manager\n",
    "When you completed the execution, the QCG-PilotJob Manager service still waits on possible further connections. The good practice is to terminate it."
   ]
  },
  {
   "cell_type": "code",
   "execution_count": null,
   "metadata": {},
   "outputs": [],
   "source": [
    "qcgpjexec.terminate_manager()"
   ]
  },
  {
   "cell_type": "markdown",
   "metadata": {},
   "source": [
    "At this place the code specific for *EasyVVUQ-QCGPJ* ends. We can continue with the pure *EasyVVUQ* code."
   ]
  },
  {
   "cell_type": "markdown",
   "metadata": {},
   "source": [
    "### Collating data and analysis\n",
    "Now we can collate generated results and then make analysis in a typical for *EasyVVUQ* way. The code below is simply a copy from the example distributed with the *EasyVVUQ*. Therefore, if you want to get more information about the logic behind these code please go to the basic *EasyVVUQ* tutorial.  "
   ]
  },
  {
   "cell_type": "code",
   "execution_count": null,
   "metadata": {},
   "outputs": [],
   "source": [
    "my_campaign.collate()\n",
    "\n",
    "my_analysis = uq.analysis.PCEAnalysis(sampler=my_sampler, qoi_cols=[\"te\"])\n",
    "my_campaign.apply_analysis(my_analysis)\n",
    "\n",
    "results = my_campaign.get_last_analysis()\n",
    "stats = results['statistical_moments']['te']\n",
    "per = results['percentiles']['te']\n",
    "sobols = results['sobols_first']['te']\n",
    "\n",
    "import matplotlib.pyplot as plt\n",
    "import numpy as np\n",
    "mean = stats[\"mean\"]\n",
    "std = stats[\"std\"]\n",
    "p10 = per[\"p10\"]\n",
    "p90 = per[\"p90\"]\n",
    "\n",
    "s1_kappa = sobols[\"kappa\"]\n",
    "s1_t_env = sobols[\"t_env\"]\n",
    "\n",
    "t = np.linspace(0, 200, 150)\n",
    "\n",
    "fig, (ax1, ax2) = plt.subplots(nrows=1, ncols=2, figsize=(16,6))\n",
    "\n",
    "ax1.plot(t, mean, 'g-', alpha=0.75, label='Mean')\n",
    "ax1.plot(t,  p10, 'b-', alpha=0.25)\n",
    "ax1.plot(t,  p90, 'b-', alpha=0.25)\n",
    "ax1.fill_between(\n",
    "  t,\n",
    "  p10,\n",
    "  p90,\n",
    "  alpha=0.25,\n",
    "  label='90% prediction interval')\n",
    "ax1.set_xlabel('Time (min)')\n",
    "ax1.set_ylabel('Temperature (°C)', color='b')\n",
    "ax1.tick_params('y', colors='b')\n",
    "ax1.legend()\n",
    "\n",
    "ax1t = ax1.twinx()\n",
    "ax1t.plot(t, std, 'r-', alpha=0.5)\n",
    "ax1t.set_ylabel('Standard deviation', color='r')\n",
    "ax1t.tick_params('y', colors='r')\n",
    "\n",
    "ax1.grid()\n",
    "ax1.set_title('Statistical Moments')\n",
    "\n",
    "ax2.plot(t, s1_kappa[0], '-', color ='#248BF2', label=r'$\\kappa$')\n",
    "ax2.plot(t, s1_t_env[0], '-', color ='#9402E8', alpha=0.6,label=r'$T_{env}$')\n",
    "\n",
    "ax2.set_xlabel('Time (min)')\n",
    "ax2.set_ylabel('First-order Sobol indices')\n",
    "ax2.set_title('Sensitivity Analysis')\n",
    "ax2.grid()\n",
    "ax2.legend()\n",
    "\n",
    "plt.subplots_adjust(wspace=0.35)\n",
    "\n",
    "plt.show()"
   ]
  },
  {
   "cell_type": "markdown",
   "metadata": {},
   "source": [
    "## Clean"
   ]
  },
  {
   "cell_type": "markdown",
   "metadata": {},
   "source": [
    "### Clean outputs"
   ]
  },
  {
   "cell_type": "code",
   "execution_count": null,
   "metadata": {},
   "outputs": [],
   "source": [
    "!rm -rf coffee_pce*\n",
    "!rm -rf .qcg*\n",
    "print(\"Done\")"
   ]
  },
  {
   "cell_type": "markdown",
   "metadata": {},
   "source": [
    "### Clean deployment"
   ]
  },
  {
   "cell_type": "code",
   "execution_count": null,
   "metadata": {},
   "outputs": [],
   "source": [
    "!rm -rf EasyVVUQ-QCGPJ\n",
    "print(\"Done\")"
   ]
  }
 ],
 "metadata": {
  "kernelspec": {
   "display_name": "Python 3",
   "language": "python",
   "name": "python3"
  },
  "language_info": {
   "codemirror_mode": {
    "name": "ipython",
    "version": 3
   },
   "file_extension": ".py",
   "mimetype": "text/x-python",
   "name": "python",
   "nbconvert_exporter": "python",
   "pygments_lexer": "ipython3",
   "version": "3.7.4"
  }
 },
 "nbformat": 4,
 "nbformat_minor": 4
}
