{
 "cells": [
  {
   "cell_type": "markdown",
   "metadata": {},
   "source": [
    "# Parallel execution of EasyVVUQ workflows with QCG-PilotJob - EasyVVUQ-QCGPJ API\n",
    "In this Notebook we present how to employ the *EasyVVUQ-QCGPJ* API to enable efficient execution of *EasyVVUQ* workflows on large computing resources. The API extends capabilities of a regular *EasyVVUQ* with the dedicated procedures for interracting with the *QCG-PilotJob* system, enabling the execution of the most demanding parts of the workflow in parallel."
   ]
  },
  {
   "cell_type": "markdown",
   "metadata": {},
   "source": [
    "## Installing EasyVVUQ-QCGPJ\n",
    "The first thing that you need to do in order to install *EasyVVUQ-QCGPJ*, is the installation of its dependencies, namely *EasyVVUQ* and *QCG-PilotJob*. It can be done in the following way:"
   ]
  },
  {
   "cell_type": "code",
   "execution_count": 1,
   "metadata": {},
   "outputs": [
    {
     "name": "stdout",
     "output_type": "stream",
     "text": [
      "Collecting easyvvuq\n",
      "  Using cached easyvvuq-0.7.1.5-py3-none-any.whl (182 kB)\n",
      "Collecting qcg-pilotjob\n",
      "  Using cached qcg_pilotjob-0.9.0-py3-none-any.whl (116 kB)\n",
      "Collecting pandas\n",
      "  Using cached pandas-1.1.4-cp37-cp37m-manylinux1_x86_64.whl (9.5 MB)\n",
      "Collecting jsonpickle\n",
      "  Using cached jsonpickle-1.4.1-py2.py3-none-any.whl (36 kB)\n",
      "Processing /home/jovyan/.cache/pip/wheels/17/3a/0d/e2fc48cf85cb858f5e65f1baa36180ebb5dce6397c35c4cfcb/Cerberus-1.3.2-py3-none-any.whl\n",
      "Requirement already satisfied: jinja2 in /opt/conda/lib/python3.7/site-packages (from easyvvuq) (2.11.0)\n",
      "Collecting dask-jobqueue\n",
      "  Using cached dask_jobqueue-0.7.1-py2.py3-none-any.whl (38 kB)\n",
      "Collecting chaospy\n",
      "  Using cached chaospy-4.0.2-py2.py3-none-any.whl (240 kB)\n",
      "Collecting scikit-learn\n",
      "  Using cached scikit_learn-0.23.2-cp37-cp37m-manylinux1_x86_64.whl (6.8 MB)\n",
      "Collecting kubernetes\n",
      "  Using cached kubernetes-12.0.0-py3-none-any.whl (1.7 MB)\n",
      "Collecting cloudpickle\n",
      "  Using cached cloudpickle-1.6.0-py3-none-any.whl (23 kB)\n",
      "Collecting scipy\n",
      "  Downloading scipy-1.5.4-cp37-cp37m-manylinux1_x86_64.whl (25.9 MB)\n",
      "\u001b[K     |████████████████████████████████| 25.9 MB 811 bytes/s a 0:00:01         | 5.6 MB 1.8 MB/s eta 0:00:12��█▌                      | 7.6 MB 1.8 MB/s eta 0:00:11                 | 8.5 MB 7.7 MB/s eta 0:00:03��███████▏                  | 10.7 MB 7.7 MB/s eta 0:00:02��███████████████             | 15.4 MB 7.7 MB/s eta 0:00:02MB/s eta 0:00:02     |██████████████████████▏         | 17.9 MB 9.0 MB/s eta 0:00:01�█████████████████▋   | 23.1 MB 9.0 MB/s eta 0:00:01��█████████████████████████▍  | 23.7 MB 9.0 MB/s eta 0:00:01�███████████████████████████▏ | 24.4 MB 9.0 MB/s eta 0:00:01█▏| 25.2 MB 12.1 MB/s eta 0:00:01\n",
      "\u001b[?25hCollecting dask[complete]\n",
      "  Using cached dask-2.30.0-py3-none-any.whl (848 kB)\n",
      "Collecting numpy\n",
      "  Using cached numpy-1.19.4-cp37-cp37m-manylinux2010_x86_64.whl (14.5 MB)\n",
      "Collecting pytest\n",
      "  Using cached pytest-6.1.2-py3-none-any.whl (272 kB)\n",
      "Processing /home/jovyan/.cache/pip/wheels/d4/de/3a/aa3aaf0cf86e457ad17fd1a96da508afef832696f9ad7caa10/SALib-1.3.11-py2.py3-none-any.whl\n",
      "Requirement already satisfied: SQLAlchemy in /opt/conda/lib/python3.7/site-packages (from easyvvuq) (1.3.13)\n",
      "Processing /home/jovyan/.cache/pip/wheels/b1/f5/ee/9c072cedde5286a5f4b27e07269ad83a67878ff249794c8c97/pytest_pep8-1.0.6-py3-none-any.whl\n",
      "Requirement already satisfied: prompt-toolkit in /opt/conda/lib/python3.7/site-packages (from qcg-pilotjob) (3.0.3)\n",
      "Processing /home/jovyan/.cache/pip/wheels/3d/19/38/5312d02df169de6d79ffa36d2096b3affd5cf8e44682acd749/zmq-0.0.0-py3-none-any.whl\n",
      "Collecting click\n",
      "  Using cached click-7.1.2-py2.py3-none-any.whl (82 kB)\n",
      "Requirement already satisfied: python-dateutil>=2.7.3 in /opt/conda/lib/python3.7/site-packages (from pandas->easyvvuq) (2.8.1)\n",
      "Collecting pytz>=2017.2\n",
      "  Using cached pytz-2020.4-py2.py3-none-any.whl (509 kB)\n",
      "Requirement already satisfied: importlib-metadata in /opt/conda/lib/python3.7/site-packages (from jsonpickle->easyvvuq) (1.5.0)\n",
      "Requirement already satisfied: setuptools in /opt/conda/lib/python3.7/site-packages (from cerberus->easyvvuq) (45.1.0.post20200119)\n",
      "Requirement already satisfied: MarkupSafe>=0.23 in /opt/conda/lib/python3.7/site-packages (from jinja2->easyvvuq) (1.1.1)\n",
      "Collecting distributed>=2.5.2\n",
      "  Using cached distributed-2.30.1-py3-none-any.whl (656 kB)\n",
      "Collecting numpoly==1.0.8\n",
      "  Using cached numpoly-1.0.8-py2.py3-none-any.whl (134 kB)\n",
      "Collecting threadpoolctl>=2.0.0\n",
      "  Using cached threadpoolctl-2.1.0-py3-none-any.whl (12 kB)\n",
      "Collecting joblib>=0.11\n",
      "  Using cached joblib-0.17.0-py3-none-any.whl (301 kB)\n",
      "Collecting google-auth>=1.0.1\n",
      "  Using cached google_auth-1.23.0-py2.py3-none-any.whl (114 kB)\n",
      "Requirement already satisfied: urllib3>=1.24.2 in /opt/conda/lib/python3.7/site-packages (from kubernetes->easyvvuq) (1.25.7)\n",
      "Processing /home/jovyan/.cache/pip/wheels/5e/03/1e/e1e954795d6f35dfc7b637fe2277bff021303bd9570ecea653/PyYAML-5.3.1-cp37-cp37m-linux_x86_64.whl\n",
      "Requirement already satisfied: certifi>=14.05.14 in /opt/conda/lib/python3.7/site-packages (from kubernetes->easyvvuq) (2019.11.28)\n",
      "Collecting websocket-client!=0.40.0,!=0.41.*,!=0.42.*,>=0.32.0\n",
      "  Using cached websocket_client-0.57.0-py2.py3-none-any.whl (200 kB)\n",
      "Requirement already satisfied: six>=1.9.0 in /opt/conda/lib/python3.7/site-packages (from kubernetes->easyvvuq) (1.14.0)\n",
      "Requirement already satisfied: requests in /opt/conda/lib/python3.7/site-packages (from kubernetes->easyvvuq) (2.22.0)\n",
      "Collecting requests-oauthlib\n",
      "  Using cached requests_oauthlib-1.3.0-py2.py3-none-any.whl (23 kB)\n",
      "Processing /home/jovyan/.cache/pip/wheels/0c/6a/ac/5de7ec1983d76fa1243106008b70df211dceb5ed643ad15699/bokeh-2.2.3-py3-none-any.whl\n",
      "Collecting fsspec>=0.6.0; extra == \"complete\"\n",
      "  Using cached fsspec-0.8.4-py3-none-any.whl (91 kB)\n",
      "Collecting toolz>=0.8.2; extra == \"complete\"\n",
      "  Using cached toolz-0.11.1-py3-none-any.whl (55 kB)\n",
      "Collecting partd>=0.3.10; extra == \"complete\"\n",
      "  Using cached partd-1.1.0-py3-none-any.whl (19 kB)\n",
      "Collecting py>=1.8.2\n",
      "  Using cached py-1.9.0-py2.py3-none-any.whl (99 kB)\n",
      "Collecting iniconfig\n",
      "  Using cached iniconfig-1.1.1-py2.py3-none-any.whl (5.0 kB)\n",
      "Collecting toml\n",
      "  Using cached toml-0.10.2-py2.py3-none-any.whl (16 kB)\n",
      "Collecting packaging\n",
      "  Using cached packaging-20.4-py2.py3-none-any.whl (37 kB)\n",
      "Collecting pluggy<1.0,>=0.12\n",
      "  Using cached pluggy-0.13.1-py2.py3-none-any.whl (18 kB)\n",
      "Requirement already satisfied: attrs>=17.4.0 in /opt/conda/lib/python3.7/site-packages (from pytest->easyvvuq) (19.3.0)\n",
      "Collecting matplotlib\n",
      "  Using cached matplotlib-3.3.2-cp37-cp37m-manylinux1_x86_64.whl (11.6 MB)\n",
      "Processing /home/jovyan/.cache/pip/wheels/76/fb/36/4304dce3f49d3aecf92d63f079db516641a8061a83a0b5a292/pytest_cache-1.0-py3-none-any.whl\n",
      "Collecting pep8>=1.3\n",
      "  Using cached pep8-1.7.1-py2.py3-none-any.whl (41 kB)\n",
      "Requirement already satisfied: wcwidth in /opt/conda/lib/python3.7/site-packages (from prompt-toolkit->qcg-pilotjob) (0.1.8)\n",
      "Requirement already satisfied: pyzmq in /opt/conda/lib/python3.7/site-packages (from zmq->qcg-pilotjob) (18.1.1)\n",
      "Requirement already satisfied: zipp>=0.5 in /opt/conda/lib/python3.7/site-packages (from importlib-metadata->jsonpickle->easyvvuq) (2.1.0)\n",
      "Collecting tblib>=1.6.0\n",
      "  Using cached tblib-1.7.0-py2.py3-none-any.whl (12 kB)\n",
      "Collecting zict>=0.1.3\n",
      "  Using cached zict-2.0.0-py3-none-any.whl (10 kB)\n",
      "Requirement already satisfied: tornado>=5; python_version < \"3.8\" in /opt/conda/lib/python3.7/site-packages (from distributed>=2.5.2->dask-jobqueue->easyvvuq) (6.0.3)\n",
      "Collecting msgpack>=0.6.0\n",
      "  Using cached msgpack-1.0.0-cp37-cp37m-manylinux1_x86_64.whl (275 kB)\n",
      "Processing /home/jovyan/.cache/pip/wheels/f0/4b/57/d037639271e326da3e80e0ddc37bd3d5da7bbf48b3173be557/psutil-5.7.3-cp37-cp37m-linux_x86_64.whl\n",
      "Collecting sortedcontainers!=2.0.0,!=2.0.1\n",
      "  Using cached sortedcontainers-2.2.2-py2.py3-none-any.whl (29 kB)\n",
      "Collecting cachetools<5.0,>=2.0.0\n",
      "  Using cached cachetools-4.1.1-py3-none-any.whl (10 kB)\n",
      "Collecting rsa<5,>=3.1.4; python_version >= \"3.5\"\n",
      "  Using cached rsa-4.6-py3-none-any.whl (47 kB)\n",
      "Collecting pyasn1-modules>=0.2.1\n",
      "  Using cached pyasn1_modules-0.2.8-py2.py3-none-any.whl (155 kB)\n",
      "Requirement already satisfied: idna<2.9,>=2.5 in /opt/conda/lib/python3.7/site-packages (from requests->kubernetes->easyvvuq) (2.8)\n",
      "Requirement already satisfied: chardet<3.1.0,>=3.0.2 in /opt/conda/lib/python3.7/site-packages (from requests->kubernetes->easyvvuq) (3.0.4)\n",
      "Requirement already satisfied: oauthlib>=3.0.0 in /opt/conda/lib/python3.7/site-packages (from requests-oauthlib->kubernetes->easyvvuq) (3.0.1)\n",
      "Collecting typing-extensions>=3.7.4\n",
      "  Using cached typing_extensions-3.7.4.3-py3-none-any.whl (22 kB)\n",
      "Collecting pillow>=7.1.0\n",
      "  Using cached Pillow-8.0.1-cp37-cp37m-manylinux1_x86_64.whl (2.2 MB)\n",
      "Processing /home/jovyan/.cache/pip/wheels/7d/21/ce/56f01c644a11bde5d09ecae16d9b5e9d7e988187624fd28fec/locket-0.2.0-py3-none-any.whl\n",
      "Collecting pyparsing>=2.0.2\n",
      "  Using cached pyparsing-2.4.7-py2.py3-none-any.whl (67 kB)\n",
      "Collecting cycler>=0.10\n",
      "  Using cached cycler-0.10.0-py2.py3-none-any.whl (6.5 kB)\n",
      "Collecting kiwisolver>=1.0.1\n",
      "  Using cached kiwisolver-1.3.1-cp37-cp37m-manylinux1_x86_64.whl (1.1 MB)\n",
      "Collecting execnet>=1.1.dev1\n",
      "  Using cached execnet-1.7.1-py2.py3-none-any.whl (39 kB)\n",
      "Collecting heapdict\n",
      "  Using cached HeapDict-1.0.1-py3-none-any.whl (3.9 kB)\n",
      "Collecting pyasn1>=0.1.3\n",
      "  Using cached pyasn1-0.4.8-py2.py3-none-any.whl (77 kB)\n",
      "Collecting apipkg>=1.4\n",
      "  Using cached apipkg-1.5-py2.py3-none-any.whl (4.9 kB)\n",
      "\u001b[31mERROR: matplotlib 3.3.2 has requirement certifi>=2020.06.20, but you'll have certifi 2019.11.28 which is incompatible.\u001b[0m\n",
      "Installing collected packages: pytz, numpy, pandas, jsonpickle, cerberus, pyyaml, pyparsing, packaging, typing-extensions, pillow, bokeh, fsspec, toolz, locket, partd, cloudpickle, dask, tblib, heapdict, zict, click, msgpack, psutil, sortedcontainers, distributed, dask-jobqueue, scipy, numpoly, chaospy, threadpoolctl, joblib, scikit-learn, cachetools, pyasn1, rsa, pyasn1-modules, google-auth, websocket-client, requests-oauthlib, kubernetes, py, iniconfig, toml, pluggy, pytest, cycler, kiwisolver, matplotlib, SALib, apipkg, execnet, pytest-cache, pep8, pytest-pep8, easyvvuq, zmq, qcg-pilotjob\n",
      "Successfully installed SALib-1.3.11 apipkg-1.5 bokeh-2.2.3 cachetools-4.1.1 cerberus-1.3.2 chaospy-4.0.2 click-7.1.2 cloudpickle-1.6.0 cycler-0.10.0 dask-2.30.0 dask-jobqueue-0.7.1 distributed-2.30.1 easyvvuq-0.7.1.5 execnet-1.7.1 fsspec-0.8.4 google-auth-1.23.0 heapdict-1.0.1 iniconfig-1.1.1 joblib-0.17.0 jsonpickle-1.4.1 kiwisolver-1.3.1 kubernetes-12.0.0 locket-0.2.0 matplotlib-3.3.2 msgpack-1.0.0 numpoly-1.0.8 numpy-1.19.4 packaging-20.4 pandas-1.1.4 partd-1.1.0 pep8-1.7.1 pillow-8.0.1 pluggy-0.13.1 psutil-5.7.3 py-1.9.0 pyasn1-0.4.8 pyasn1-modules-0.2.8 pyparsing-2.4.7 pytest-6.1.2 pytest-cache-1.0 pytest-pep8-1.0.6 pytz-2020.4 pyyaml-5.3.1 qcg-pilotjob-0.9.0 requests-oauthlib-1.3.0 rsa-4.6 scikit-learn-0.23.2 scipy-1.5.4 sortedcontainers-2.2.2 tblib-1.7.0 threadpoolctl-2.1.0 toml-0.10.2 toolz-0.11.1 typing-extensions-3.7.4.3 websocket-client-0.57.0 zict-2.0.0 zmq-0.0.0\n",
      "Note: you may need to restart the kernel to use updated packages.\n"
     ]
    }
   ],
   "source": [
    "pip install easyvvuq qcg-pilotjob"
   ]
  },
  {
   "cell_type": "markdown",
   "metadata": {},
   "source": [
    "The actual installation of *EasyVVUQ-QCGPJ* is also strightforward:"
   ]
  },
  {
   "cell_type": "code",
   "execution_count": 2,
   "metadata": {},
   "outputs": [
    {
     "name": "stdout",
     "output_type": "stream",
     "text": [
      "Collecting easyvvuq-qcgpj\n",
      "  Downloading easyvvuq-qcgpj-0.4.1.tar.gz (7.8 kB)\n",
      "Requirement already satisfied: pytest in /opt/conda/lib/python3.7/site-packages (from easyvvuq-qcgpj) (6.1.2)\n",
      "Collecting pytest-flake8\n",
      "  Using cached pytest_flake8-1.0.6-py2.py3-none-any.whl (6.3 kB)\n",
      "Requirement already satisfied: toml in /opt/conda/lib/python3.7/site-packages (from pytest->easyvvuq-qcgpj) (0.10.2)\n",
      "Requirement already satisfied: py>=1.8.2 in /opt/conda/lib/python3.7/site-packages (from pytest->easyvvuq-qcgpj) (1.9.0)\n",
      "Requirement already satisfied: packaging in /opt/conda/lib/python3.7/site-packages (from pytest->easyvvuq-qcgpj) (20.4)\n",
      "Requirement already satisfied: attrs>=17.4.0 in /opt/conda/lib/python3.7/site-packages (from pytest->easyvvuq-qcgpj) (19.3.0)\n",
      "Requirement already satisfied: pluggy<1.0,>=0.12 in /opt/conda/lib/python3.7/site-packages (from pytest->easyvvuq-qcgpj) (0.13.1)\n",
      "Requirement already satisfied: iniconfig in /opt/conda/lib/python3.7/site-packages (from pytest->easyvvuq-qcgpj) (1.1.1)\n",
      "Requirement already satisfied: importlib-metadata>=0.12; python_version < \"3.8\" in /opt/conda/lib/python3.7/site-packages (from pytest->easyvvuq-qcgpj) (1.5.0)\n",
      "Collecting flake8>=3.5\n",
      "  Using cached flake8-3.8.4-py2.py3-none-any.whl (72 kB)\n",
      "Requirement already satisfied: pyparsing>=2.0.2 in /opt/conda/lib/python3.7/site-packages (from packaging->pytest->easyvvuq-qcgpj) (2.4.7)\n",
      "Requirement already satisfied: six in /opt/conda/lib/python3.7/site-packages (from packaging->pytest->easyvvuq-qcgpj) (1.14.0)\n",
      "Requirement already satisfied: zipp>=0.5 in /opt/conda/lib/python3.7/site-packages (from importlib-metadata>=0.12; python_version < \"3.8\"->pytest->easyvvuq-qcgpj) (2.1.0)\n",
      "Collecting pycodestyle<2.7.0,>=2.6.0a1\n",
      "  Using cached pycodestyle-2.6.0-py2.py3-none-any.whl (41 kB)\n",
      "Collecting mccabe<0.7.0,>=0.6.0\n",
      "  Using cached mccabe-0.6.1-py2.py3-none-any.whl (8.6 kB)\n",
      "Collecting pyflakes<2.3.0,>=2.2.0\n",
      "  Using cached pyflakes-2.2.0-py2.py3-none-any.whl (66 kB)\n",
      "Building wheels for collected packages: easyvvuq-qcgpj\n",
      "  Building wheel for easyvvuq-qcgpj (setup.py) ... \u001b[?25ldone\n",
      "\u001b[?25h  Created wheel for easyvvuq-qcgpj: filename=easyvvuq_qcgpj-0.4.1-py3-none-any.whl size=10761 sha256=5fbd3f20fa682225b193d79f3ad3238491ba87c45c1348e287a7e155190722da\n",
      "  Stored in directory: /home/jovyan/.cache/pip/wheels/e4/0e/60/481a898e18830ea39ed7932c7b5a11c73e135801c5d68a08ca\n",
      "Successfully built easyvvuq-qcgpj\n",
      "Installing collected packages: pycodestyle, mccabe, pyflakes, flake8, pytest-flake8, easyvvuq-qcgpj\n",
      "Successfully installed easyvvuq-qcgpj-0.4.1 flake8-3.8.4 mccabe-0.6.1 pycodestyle-2.6.0 pyflakes-2.2.0 pytest-flake8-1.0.6\n",
      "Note: you may need to restart the kernel to use updated packages.\n"
     ]
    }
   ],
   "source": [
    "pip install easyvvuq-qcgpj"
   ]
  },
  {
   "cell_type": "markdown",
   "metadata": {},
   "source": [
    "## Getting tutorial files\n",
    "The next action is to get files that will be used in the tutorial:"
   ]
  },
  {
   "cell_type": "code",
   "execution_count": 3,
   "metadata": {},
   "outputs": [
    {
     "name": "stdout",
     "output_type": "stream",
     "text": [
      "Cloning into 'EasyVVUQ-QCGPJ'...\n",
      "remote: Enumerating objects: 368, done.\u001b[K\n",
      "remote: Counting objects: 100% (368/368), done.\u001b[K\n",
      "remote: Compressing objects: 100% (202/202), done.\u001b[K (188/202)\u001b[K\n",
      "remote: Total 924 (delta 239), reused 249 (delta 159), pack-reused 556\u001b[K\n",
      "Receiving objects: 100% (924/924), 1.41 MiB | 3.24 MiB/s, done.\n",
      "Resolving deltas: 100% (528/528), done.\n"
     ]
    }
   ],
   "source": [
    "!git clone https://github.com/vecma-project/EasyVVUQ-QCGPJ.git"
   ]
  },
  {
   "cell_type": "markdown",
   "metadata": {},
   "source": [
    "$$\n",
    "\\def\\CC{\\bf C}\n",
    "\\def\\QQ{\\bf Q}\n",
    "\\def\\RR{\\bf R}\n",
    "\\def\\ZZ{\\bf Z}\n",
    "\\def\\NN{\\bf N}\n",
    "$$\n",
    "## A Cooling Coffee Cup with Polynomial Chaos Expansion using EasyVVUQ-QCGPJ\n",
    "\n",
    "In order to keep the conformance with the basic *EasyVVUQ* tutorial we will show the same workflow as it was used in that tutorial's use-case, i.e. the scenario of Polynomial Chaos Expansion for a model of a cooling coffee cup.  \n",
    "\n",
    "### The Cooling Coffee Cup model\n",
    "\n",
    "In order to recall the idea of the scenario, let us shortly describe the physical basics. \n",
    "\n",
    "The model uses Newton's law of cooling to\n",
    "evolve the temperature, $T$, over time ($t$) in an environment at\n",
    "$T_{env}$ :\n",
    "\n",
    "$$\\frac{dT(t)}{dt} = -\\kappa (T(t) -T_{env})$$\n",
    "\n",
    "The constant $\\kappa$ characterizes the rate at which the coffee cup\n",
    "transfers heat to the environment. In this example we will analyze this\n",
    "model using the polynomial chaos expansion (PCE) UQ algorithm. We will\n",
    "use a constant initial temperature $T_0 = 95 ^\\circ\\text{C}$, and vary\n",
    "$\\kappa$ and $T_{env}$ using a uniform distribution in the ranges\n",
    "$0.025-0.075$ and $15-25$ respectively.\n",
    "\n",
    "### EasyVVUQ Script Overview\n",
    "\n",
    "As it was already said, the origin of the scenario for this tutorial is the UQ analysis of cooling cofee cup model delivered as a primary *EasyVVUQ* example. \n",
    "Once the *EasyVVUQ-QCGPJ* sources are checked-out from GitHub, the python code for the model is available in `EasyVVUQ-QCGPJ/tests/cooling/cooling_model.py` and the template used for the encoding of input for this model is available in `EasyVVUQ-QCGPJ/tests/cooling/cooling.template`. \n",
    "\n",
    "Since the approach we took to integrate *EasyVVUQ* with *QCG Pilot Job Manager* is considerably non-intrusive, the original *EasyVVUQ* workflow for the scenario (the one without *QCG-PilotJob*) requires only slight modifications to run with the *QCG-PilotJob* mechanism. The crucial ammendment introduced into the current tutorial, is the replacement of basic way of execution of *EasyVVUQ* tasks by *EasyVVUQ-QCGPJ* *encoding* and *execution* routines to perform most demanding computations using the *QCG-PilotJob* system. \n",
    "In the rest of this notebook the whole ammended workflow is presented, however in order to not disturb your attention from the main topic of this tutorial, we concentrate on the part related to *EasyVVUQ-QCGPJ* code itself. If you want to know something more about other parts of the workflow please refer to the *EasyVVUQ* documentation or to the basic *EasyVVUQ* tutorial. "
   ]
  },
  {
   "cell_type": "markdown",
   "metadata": {},
   "source": [
    "### Setup\n",
    "In the first step we need to import requied dependencies. In addition to chaospy and easyvvuq we need to import a few classes from *EasyVVUQ-QCGPJ* (`easypj` package)   "
   ]
  },
  {
   "cell_type": "code",
   "execution_count": 4,
   "metadata": {},
   "outputs": [],
   "source": [
    "import os\n",
    "import chaospy as cp\n",
    "import easyvvuq as uq\n",
    "\n",
    "from eqi import Executor, Task, TaskType, TaskRequirements, SubmitOrder"
   ]
  },
  {
   "cell_type": "markdown",
   "metadata": {},
   "source": [
    "Next we will set a couple of helper variables, which are specific for our example:"
   ]
  },
  {
   "cell_type": "markdown",
   "metadata": {},
   "source": [
    "### Campaign initialisation\n",
    "EasyVVUQ-QCGPJ doesn't alter the way how EasyVVUQ campaign is created and inited.\n",
    "The whole initialisation code from the original example can be simply reused with only a minor changes to adjust paths to a local environment. After these small modifications it looks as follows: "
   ]
  },
  {
   "cell_type": "code",
   "execution_count": 5,
   "metadata": {},
   "outputs": [
    {
     "name": "stdout",
     "output_type": "stream",
     "text": [
      "Campaign prepared\n",
      "db_location = sqlite:////home/jovyan/tutorials/VECMAtk/EasyVVUQ-QCGPJ/coffee_pce0_xb910b/campaign.db\n",
      "active_sampler_id = 1\n",
      "campaign_name = coffee_pce\n",
      "campaign_dir = /home/jovyan/tutorials/VECMAtk/EasyVVUQ-QCGPJ/coffee_pce0_xb910b\n",
      "campaign_id = 1\n",
      "log = [{'element': {'name': 'PCE_sampler', 'version': '0.5', 'category': 'sampling'}, 'info': {'num_added': 16, 'replicas': 1}}]\n",
      "\n"
     ]
    }
   ],
   "source": [
    "# Initialize Campaign\n",
    "my_campaign = uq.Campaign(name='coffee_pce')\n",
    "\n",
    "\n",
    "params = {\n",
    "    \"temp_init\": {\"type\": \"float\", \"min\": 0.0, \"max\": 100.0, \"default\": 95.0},\n",
    "    \"kappa\": {\"type\": \"float\", \"min\": 0.0, \"max\": 0.1, \"default\": 0.025},\n",
    "    \"t_env\": {\"type\": \"float\", \"min\": 0.0, \"max\": 40.0, \"default\": 15.0},\n",
    "    \"out_file\": {\"type\": \"string\", \"default\": \"output.csv\"}\n",
    "}\n",
    "\n",
    "encoder = uq.encoders.GenericEncoder(\n",
    "    template_fname=os.path.abspath('EasyVVUQ-QCGPJ/tests/cooling/cooling.template'),\n",
    "    delimiter='$',\n",
    "    target_filename=\"cooling_in.json\")\n",
    "\n",
    "decoder = uq.decoders.SimpleCSV(target_filename=\"output.csv\",\n",
    "                                output_columns=[\"te\"],\n",
    "                                header=0)\n",
    "\n",
    "collater = uq.collate.AggregateSamples(average=False)\n",
    "\n",
    "# Add the app (automatically set as current app)\n",
    "my_campaign.add_app(name=\"cooling\",\n",
    "                    params=params,\n",
    "                    encoder=encoder,\n",
    "                    decoder=decoder,\n",
    "                    collater=collater)\n",
    "\n",
    "# Setup sampler\n",
    "vary = {\n",
    "    \"kappa\": cp.Uniform(0.025, 0.075),\n",
    "    \"t_env\": cp.Uniform(15, 25)\n",
    "}\n",
    "\n",
    "my_sampler = uq.sampling.PCESampler(vary=vary, polynomial_order=3)\n",
    "my_campaign.set_sampler(my_sampler)\n",
    "\n",
    "# Draw samples\n",
    "my_campaign.draw_samples()\n",
    "\n",
    "print(\"Campaign prepared\")\n",
    "print(my_campaign)"
   ]
  },
  {
   "cell_type": "markdown",
   "metadata": {},
   "source": [
    "### EASYVVUQ-QCGPJ part\n",
    "In this place we start definitions specific for *EasyVVUQ-QCGPJ*. \n",
    "#### EasyVVUQ-QCGPJ Executor\n",
    "*EasyVVUQ-QCGPJ* provides the `Executor` class that manages the execution of potentially computationally-intensive *EasyVVUQ* operations processed on samples, in particular the encoding and model execution. The first step is to construct the `Executor` instance."
   ]
  },
  {
   "cell_type": "code",
   "execution_count": 6,
   "metadata": {},
   "outputs": [
    {
     "name": "stdout",
     "output_type": "stream",
     "text": [
      "Campaign dir:/home/jovyan/tutorials/VECMAtk/EasyVVUQ-QCGPJ/coffee_pce0_xb910b\n",
      "QCG-PJ temp dir:/home/jovyan/tutorials/VECMAtk/EasyVVUQ-QCGPJ/coffee_pce0_xb910b/.qcgpj-el1egd5w\n"
     ]
    }
   ],
   "source": [
    "qcgpjexec = Executor(my_campaign)"
   ]
  },
  {
   "cell_type": "markdown",
   "metadata": {},
   "source": [
    "#### Initialisation of QCG-PilotJob Manager\n",
    "Now the executor needs to be connected with *QCG-PilotJob Manager* instance. The easiest way is to use a dedicated method `create_manager`. In case of the execution of the workflow inside a SLURM computing job, the method could be invoked even without arguments. Here, since we are not in a regular allocation on HPC machine, we have to use *QCG-PilotJob Manager* in so called *local mode*. It means that we have to manually instruct the service how many resources (possibly virtual ones) we want to use. "
   ]
  },
  {
   "cell_type": "code",
   "execution_count": 7,
   "metadata": {},
   "outputs": [
    {
     "name": "stdout",
     "output_type": "stream",
     "text": [
      "log file set to /home/jovyan/tutorials/VECMAtk/EasyVVUQ-QCGPJ/coffee_pce0_xb910b/.qcgpj-el1egd5w/api.log\n"
     ]
    }
   ],
   "source": [
    "qcgpjexec.create_manager(resources='4')"
   ]
  },
  {
   "cell_type": "markdown",
   "metadata": {},
   "source": [
    "#### EasyVVUQ-QCGPJ Tasks\n",
    "\n",
    "The next step is the setup of tasks skeletons, that will be used to generate specific tasks for the execution of demanding *EasyVVUQ* operations inside the *QCG-PilotJob* manager. To this end the `Executor` class provides a method called `add_task` that takes `Task` as an argument. In order to create a `Task` you need to provide its type, requirements and possibly Task type specific parameters. In our example we will define two tasks: `TaskType.ENCODING` for the input parameters encoding and `TaskType.EXECUTION` for the model execution. "
   ]
  },
  {
   "cell_type": "markdown",
   "metadata": {},
   "source": [
    "##### *Encoding task*\n",
    "With the following task definition we specify that each encoding of a sample should be executed on a single core:"
   ]
  },
  {
   "cell_type": "code",
   "execution_count": 8,
   "metadata": {},
   "outputs": [],
   "source": [
    "qcgpjexec.add_task(Task(\n",
    "    TaskType.ENCODING,\n",
    "    TaskRequirements(cores=1)\n",
    "))"
   ]
  },
  {
   "cell_type": "markdown",
   "metadata": {},
   "source": [
    "##### *Model execution task*\n",
    "The task definition for a model execution is a bit more complicated. Along with the type, and requirements, we need to specify the application that will be executed for each sample. Thus the constructor for this task type takes one additional named parameter, called `application`. In this example we specify that our application is a python model that takes the encoded file (`cooling_model.py`) as an input. As you can see, for the execution of tasks of this kind we request for 4 cores.  "
   ]
  },
  {
   "cell_type": "code",
   "execution_count": 9,
   "metadata": {},
   "outputs": [],
   "source": [
    "qcgpjexec.add_task(Task(\n",
    "    TaskType.EXECUTION,\n",
    "    TaskRequirements(cores=4),\n",
    "    application='python3 ' + os.path.abspath(\"EasyVVUQ-QCGPJ/tests/cooling/cooling_model.py\") + \" cooling_in.json\"\n",
    "))"
   ]
  },
  {
   "cell_type": "markdown",
   "metadata": {},
   "source": [
    "<div style=\"color: gray; border: dotted 1px gray; padding: 8px\">\n",
    "    <b>Note:</b> there is also a third type of Task in EasyVVUQ-QCGPJ, namely TaskType.EXECUTION_ENCODING. This type of a task can be defined to enable integrated run of encoding and model execution for a sample inside a single QCG-PilotJob task.\n",
    "</div>"
   ]
  },
  {
   "cell_type": "markdown",
   "metadata": {},
   "source": [
    "#### Run encodings and executions with EasyVVUQ-QCGPJ \n",
    "Once all the above steps are completed, we can use *Executor's* `run` method to encode and execute all samples stored in a `Campaing` using *QCG-PilotJob*. The first parameter of the `run` method is the `campaing` object itself. The method gives also the possibility to select a `submit_order`'s. Here we select the `SubmitOrder.RUN_ORIENTED` scheme, which means that the tasks are submitted in a priority of RUN (sample); in other words we want to complete whole processing (encoding and execution) for a given sample as soon as possible and then go to the next sample. "
   ]
  },
  {
   "cell_type": "code",
   "execution_count": 10,
   "metadata": {},
   "outputs": [
    {
     "name": "stdout",
     "output_type": "stream",
     "text": [
      "Starting submission of tasks to QCG-PilotJob Manager\n",
      "Syncing state of campaign after execution of PJ\n"
     ]
    }
   ],
   "source": [
    "qcgpjexec.run(submit_order=SubmitOrder.RUN_ORIENTED)"
   ]
  },
  {
   "cell_type": "markdown",
   "metadata": {},
   "source": [
    "<div style=\"color: gray; border: dotted 1px gray; padding: 8px\">\n",
    "    <b>Note:</b> EasyVVUQ-QCGPJ provides a few SubmitOrder schemes, namely: RUN_ORIENTED, PHASE_ORIENTED, RUN_ORIENTED_CONDENSED or EXECUTION_ONLY. Depending on your use-case it may be more beneficial to select one scheme than the other. You can find description of the SubmitOrders at the http://easyvvuq-qcgpj.readthedocs.io. \n",
    "</div>"
   ]
  },
  {
   "cell_type": "markdown",
   "metadata": {},
   "source": [
    "#### Terminate QCG-PilotJob Manager\n",
    "When you completed the execution, the QCG-PilotJob Manager service still waits on possible further connections. The good practice is to terminate it."
   ]
  },
  {
   "cell_type": "code",
   "execution_count": 11,
   "metadata": {},
   "outputs": [],
   "source": [
    "qcgpjexec.terminate_manager()"
   ]
  },
  {
   "cell_type": "markdown",
   "metadata": {},
   "source": [
    "At this place the code specific for *EasyVVUQ-QCGPJ* ends. We can continue with the pure *EasyVVUQ* code."
   ]
  },
  {
   "cell_type": "markdown",
   "metadata": {},
   "source": [
    "### Collating data and analysis\n",
    "Now we can collate generated results and then make analysis in a typical for *EasyVVUQ* way. The code below is simply a copy from the example distributed with the *EasyVVUQ*. Therefore, if you want to get more information about the logic behind these code please go to the basic *EasyVVUQ* tutorial.  "
   ]
  },
  {
   "cell_type": "code",
   "execution_count": 12,
   "metadata": {},
   "outputs": [
    {
     "data": {
      "image/png": "[encoded data removed]",
      "text/plain": [
       "<Figure size 1152x432 with 3 Axes>"
      ]
     },
     "metadata": {
      "needs_background": "light"
     },
     "output_type": "display_data"
    }
   ],
   "source": [
    "my_campaign.collate()\n",
    "\n",
    "my_analysis = uq.analysis.PCEAnalysis(sampler=my_sampler, qoi_cols=[\"te\"])\n",
    "my_campaign.apply_analysis(my_analysis)\n",
    "\n",
    "results = my_campaign.get_last_analysis()\n",
    "stats = results['statistical_moments']['te']\n",
    "per = results['percentiles']['te']\n",
    "sobols = results['sobols_first']['te']\n",
    "\n",
    "import matplotlib.pyplot as plt\n",
    "import numpy as np\n",
    "mean = stats[\"mean\"]\n",
    "std = stats[\"std\"]\n",
    "p10 = per[\"p10\"]\n",
    "p90 = per[\"p90\"]\n",
    "\n",
    "s1_kappa = sobols[\"kappa\"]\n",
    "s1_t_env = sobols[\"t_env\"]\n",
    "\n",
    "t = np.linspace(0, 200, 150)\n",
    "\n",
    "fig, (ax1, ax2) = plt.subplots(nrows=1, ncols=2, figsize=(16,6))\n",
    "\n",
    "ax1.plot(t, mean, 'g-', alpha=0.75, label='Mean')\n",
    "ax1.plot(t,  p10, 'b-', alpha=0.25)\n",
    "ax1.plot(t,  p90, 'b-', alpha=0.25)\n",
    "ax1.fill_between(\n",
    "  t,\n",
    "  p10,\n",
    "  p90,\n",
    "  alpha=0.25,\n",
    "  label='90% prediction interval')\n",
    "ax1.set_xlabel('Time (min)')\n",
    "ax1.set_ylabel('Temperature (°C)', color='b')\n",
    "ax1.tick_params('y', colors='b')\n",
    "ax1.legend()\n",
    "\n",
    "ax1t = ax1.twinx()\n",
    "ax1t.plot(t, std, 'r-', alpha=0.5)\n",
    "ax1t.set_ylabel('Standard deviation', color='r')\n",
    "ax1t.tick_params('y', colors='r')\n",
    "\n",
    "ax1.grid()\n",
    "ax1.set_title('Statistical Moments')\n",
    "\n",
    "ax2.plot(t, s1_kappa[0], '-', color ='#248BF2', label=r'$\\kappa$')\n",
    "ax2.plot(t, s1_t_env[0], '-', color ='#9402E8', alpha=0.6,label=r'$T_{env}$')\n",
    "\n",
    "ax2.set_xlabel('Time (min)')\n",
    "ax2.set_ylabel('First-order Sobol indices')\n",
    "ax2.set_title('Sensitivity Analysis')\n",
    "ax2.grid()\n",
    "ax2.legend()\n",
    "\n",
    "plt.subplots_adjust(wspace=0.35)\n",
    "\n",
    "plt.show()"
   ]
  },
  {
   "cell_type": "markdown",
   "metadata": {},
   "source": [
    "## Clean"
   ]
  },
  {
   "cell_type": "markdown",
   "metadata": {},
   "source": [
    "### Clean outputs"
   ]
  },
  {
   "cell_type": "code",
   "execution_count": 13,
   "metadata": {},
   "outputs": [
    {
     "name": "stdout",
     "output_type": "stream",
     "text": [
      "Done\n"
     ]
    }
   ],
   "source": [
    "!rm -rf coffee_pce*\n",
    "!rm -rf .qcg*\n",
    "print(\"Done\")"
   ]
  },
  {
   "cell_type": "markdown",
   "metadata": {},
   "source": [
    "### Clean deployment"
   ]
  },
  {
   "cell_type": "code",
   "execution_count": 14,
   "metadata": {},
   "outputs": [
    {
     "name": "stdout",
     "output_type": "stream",
     "text": [
      "Done\n"
     ]
    }
   ],
   "source": [
    "!rm -rf EasyVVUQ-QCGPJ\n",
    "print(\"Done\")"
   ]
  },
  {
   "cell_type": "code",
   "execution_count": null,
   "metadata": {},
   "outputs": [],
   "source": []
  }
 ],
 "metadata": {
  "kernelspec": {
   "display_name": "Python 3",
   "language": "python",
   "name": "python3"
  },
  "language_info": {
   "codemirror_mode": {
    "name": "ipython",
    "version": 3
   },
   "file_extension": ".py",
   "mimetype": "text/x-python",
   "name": "python",
   "nbconvert_exporter": "python",
   "pygments_lexer": "ipython3",
   "version": "3.7.4"
  }
 },
 "nbformat": 4,
 "nbformat_minor": 4
}
