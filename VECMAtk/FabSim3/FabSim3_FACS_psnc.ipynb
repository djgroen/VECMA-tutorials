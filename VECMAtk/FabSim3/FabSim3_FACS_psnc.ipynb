{
 "cells": [
  {
   "cell_type": "markdown",
   "metadata": {},
   "source": [
    "# Welcome to the FabSim3 automation toolkit tutorial\n",
    "\n",
    "[FabSim3](https://fabsim3.readthedocs.io/en/latest/) is a Python-based automation toolkit for scientific simulation and data processing workflows, licensed under the BSD 3-clause license. It is a component of the [VECMA Toolkit](http://www.vecma-toolkit.eu), which is developed as a part of the [VECMA](http://www.vecma.eu) project funded by the European Union Horizon 2020 research and innovation programme.\n",
    "\n",
    "FabSim3 supports the use of simple one-liner commands to:\n",
    "\n",
    "- Organize input, output and environment information, creating a consistent log and making it possible by default to repeat/reproduce runs.\n",
    "- Establish and run coupled models using the workflow automation functionalities.\n",
    "- Perform large ensemble simulations (or replicated ones) using a one-line command.\n",
    "- Enable the execution of simulation and analysis tasks on supercomputers.\n",
    "\n",
    "Users can perform complex remote tasks from a local command-line, and run single jobs, ensembles of multiple jobs, and dynamic workflows through schedulers such as SLURM, Portable Batch System Professional (PBSPro), LoadLeveller and Quality in Cloud and Grid [(QCG)](http://www.qoscosgrid.org/trac/qcg). FabSim3 stores machine-specific configurations in the repository, and applies it to all applications run on that machine. These configurations are updated by any contributor who feels that a fix or improvement is required.\n",
    "\n",
    "- #### <p> <span style=\"color:red\"><em> <b> NOTE </b> This setup targets VECMA PSNC Jupyter Notebook platform, if you want to use this tutorial on your local PC, please use FabSim3_FASC_PC.ipynb file</em> text</span>.</p>"
   ]
  },
  {
   "cell_type": "markdown",
   "metadata": {},
   "source": [
    "## <span style=\"color:#800000\"><b> Intalling FabSim3 <b></span>\n",
    "\n",
    "To install [FabSim3](https://github.com/djgroen/FabSim3), clone the repository using:"
   ]
  },
  {
   "cell_type": "code",
   "execution_count": null,
   "metadata": {},
   "outputs": [],
   "source": [
    "%%bash\n",
    "\n",
    "if [ ! -d \"FabSim3\" ]\n",
    "then\n",
    "    git clone https://github.com/djgroen/FabSim3\n",
    "    echo \"FabSim3 rep cloned in -> \" $PWD\n",
    "else\n",
    "    git -C FabSim3 pull\n",
    "    echo \"updating FabSim3 rep cloned in -> \" $PWD\n",
    "fi"
   ]
  },
  {
   "cell_type": "markdown",
   "metadata": {},
   "source": [
    "### <span style=\"color:#800000\"><b> Setup ssh key <b></span>\n",
    "\n",
    "\n",
    "setup ssh connection for executing jobs on localhost   "
   ]
  },
  {
   "cell_type": "code",
   "execution_count": null,
   "metadata": {
    "scrolled": true
   },
   "outputs": [],
   "source": [
    "%%bash\n",
    "\n",
    "PORT=2222\n",
    "\n",
    "/usr/sbin/sshd -f /etc/ssh-jovyan/sshd_config\n",
    "rm -rf ~/.ssh\n",
    "mkdir ~/.ssh\n",
    "ssh-keygen -t rsa -N \"\" -f ~/.ssh/id_rsa\n",
    "cat ~/.ssh/id_rsa.pub >> ~/.ssh/authorized_keys\n",
    "chmod og-wx ~/.ssh/authorized_keys\n",
    "ssh-keyscan -4 -p $PORT localhost >> ~/.ssh/known_hosts\n"
   ]
  },
  {
   "cell_type": "markdown",
   "metadata": {},
   "source": [
    "### <span style=\"color:#800000\"><b> Dependencies <b></span>\n",
    "\n",
    "FabSim3 relies strongly on the following Python modules:\n",
    "\n",
    "- [Fabric](http://www.fabfile.org)\n",
    "- [PyYAML](https://pypi.org/project/PyYAML/) (any version), \n",
    "- [ruamel.yaml](https://pypi.org/project/ruamel.yaml/)\n",
    "- [numpy](https://numpy.org/install/) and\n",
    "- [cryptography](https://pypi.org/project/cryptography/).\n",
    "\n",
    "These dependencies are marked down in the `requirements.txt` file, as\n",
    "\n",
    "`fabric3==1.13.1.post1, \n",
    " pyyaml, \n",
    " pytest, \n",
    " pytest-pep8, \n",
    " ruamel.yaml, \n",
    " numpy, \n",
    " cryptography`\n",
    " \n",
    "To install requitements.txt, simply run the following:"
   ]
  },
  {
   "cell_type": "code",
   "execution_count": null,
   "metadata": {
    "scrolled": true
   },
   "outputs": [],
   "source": [
    "# Install required Python modules\n",
    "!pip install -r FabSim3/requirements.txt"
   ]
  },
  {
   "cell_type": "markdown",
   "metadata": {},
   "source": [
    "### <span style=\"color:#800000\"><b> Configure `machine_user.yml` file <b></span>\n",
    "\n",
    "To set personal configurations, copy `machines_user_example.yml` as `machines_user.yml` in the `FabSim3/deploy` folder and run the following sequence of commands, which will change `localhost:` configurations:\n"
   ]
  },
  {
   "cell_type": "code",
   "execution_count": null,
   "metadata": {},
   "outputs": [],
   "source": [
    "%%bash\n",
    "\n",
    "PORT=2222\n",
    "\n",
    "# Configure machines_user.yml\n",
    "cp FabSim3/deploy/machines_user_example.yml FabSim3/deploy/machines_user.yml\n",
    "\n",
    "# Defines your username from local configuration\n",
    "sed -i \"s/your-username/`whoami`/g\" FabSim3/deploy/machines_user.yml\n",
    "\n",
    "# Defines port number for localhost connection\n",
    "sed -i \"s#localhost:#localhost:\\n  port: $PORT#g\" FabSim3/deploy/machines_user.yml\n",
    "\n",
    "# Defines working directory for configs and results directories\n",
    "sed -i \"s#localhost:#localhost:\\n  local_configs: \\\"$PWD/FabSim3/config_files\\\"#g\" FabSim3/deploy/machines_user.yml\n",
    "sed -i \"s#localhost:#localhost:\\n  local_results: \\\"$PWD/FabSim3/results\\\"#g\" FabSim3/deploy/machines_user.yml\n",
    "\n",
    "# Defines home path for execution\n",
    "sed -i \"s#localhost:#localhost:\\n  home_path_template: \\\"$PWD/FabSim3/localhost_exe\\\"#g\" FabSim3/deploy/machines_user.yml"
   ]
  },
  {
   "cell_type": "markdown",
   "metadata": {},
   "source": [
    "To view the changes made in the `machines_user.yml` file, simply run:"
   ]
  },
  {
   "cell_type": "code",
   "execution_count": null,
   "metadata": {},
   "outputs": [],
   "source": [
    "import yaml\n",
    "\n",
    "machines_user_yml = yaml.load(open(\"FabSim3/deploy/machines_user.yml\"), Loader=yaml.FullLoader)\n",
    "print(yaml.dump({'localhost': machines_user_yml['localhost']}))"
   ]
  },
  {
   "cell_type": "markdown",
   "metadata": {},
   "source": [
    "### <span style=\"color:#800000\"><b> Add FabSim3 to your PATH and PYTHONPATH <b></span>\n",
    "\n",
    "Add FabSim3 executable file to system `PATH` and setup `PYTHONPATH`"
   ]
  },
  {
   "cell_type": "code",
   "execution_count": null,
   "metadata": {},
   "outputs": [],
   "source": [
    "import os\n",
    "import sys\n",
    "\n",
    "sys.path.insert(0,  r'%s/FabSim3/bin' %(os.getcwd()))\n",
    "sys.path.insert(0,  r'%s/FabSim3' %(os.getcwd()))\n",
    "os.environ['PATH']=r'%s/FabSim3/bin' %(os.getcwd())+os.pathsep+os.environ['PATH']\n",
    "\n",
    "# to test if fabsim command is availble\n",
    "!which fabsim"
   ]
  },
  {
   "cell_type": "markdown",
   "metadata": {},
   "source": [
    "## <span style=\"color:#800000\"><b> FabSim3 plugins <b></span>\n",
    "\n",
    "FabSim3 contains an integrated test infrastructure, more flexible customisation options using a plugin system and  examples to improve usability."
   ]
  },
  {
   "cell_type": "code",
   "execution_count": null,
   "metadata": {},
   "outputs": [],
   "source": [
    "%%bash\n",
    "\n",
    "cat FabSim3/deploy/plugins.yml"
   ]
  },
  {
   "cell_type": "markdown",
   "metadata": {},
   "source": [
    "These plugins will be installed in the `FabSim3/plugins` directory."
   ]
  },
  {
   "cell_type": "markdown",
   "metadata": {},
   "source": [
    "### <span style=\"color:#800000\"><b> Dummy instance - FabDummy plugin <b></span>\n",
    "\n",
    "To demonstrate the use of FabSim3 plugin, install the [FabDummy](https://github.com/djgroen/FabDummy) plugin  by running `install_plugin` command:"
   ]
  },
  {
   "cell_type": "code",
   "execution_count": null,
   "metadata": {},
   "outputs": [],
   "source": [
    "# Install FabDummy\n",
    "!fabsim localhost install_plugin:FabDummy"
   ]
  },
  {
   "cell_type": "markdown",
   "metadata": {},
   "source": [
    "#### <span style=\"color:#800000\"><b> Running FabDummy test <b></span>\n",
    "\n",
    "To test the FabDummy plugin, run a dummy job using:"
   ]
  },
  {
   "cell_type": "code",
   "execution_count": null,
   "metadata": {
    "scrolled": true
   },
   "outputs": [],
   "source": [
    "# Execute a dummy test job\n",
    "!fabsim localhost dummy:dummy_test"
   ]
  },
  {
   "cell_type": "markdown",
   "metadata": {},
   "source": [
    "## <span style=\"color:#800000\"><b> Flu And Coronavirus Simulator (FACS) - FabCovid19 plugin <b></span>\n",
    "[FACS](https://github.com/djgroen/facs) is an agent-based modelling code that models the spread of flu and coronaviruses in local regions. Up to now, we have used it to model the spread of Covid-19 in a range of London boroughs. For detailed information, see [FACS](https://facs.readthedocs.io/en/latest/) documentation.\n",
    "\n",
    "To install FACS, clone the repository by running:"
   ]
  },
  {
   "cell_type": "code",
   "execution_count": null,
   "metadata": {
    "scrolled": true
   },
   "outputs": [],
   "source": [
    "%%bash\n",
    "\n",
    "# Clone the FACS repository\n",
    "if [ ! -d \"facs\" ]\n",
    "then\n",
    "    git clone -b master https://github.com/djgroen/facs.git\n",
    "    echo \"facs rep cloned in -> \" $PWD\n",
    "else\n",
    "    git -C facs pull\n",
    "    echo \"updating facs rep cloned in -> \" $PWD\n",
    "fi"
   ]
  },
  {
   "cell_type": "markdown",
   "metadata": {},
   "source": [
    "### <span style=\"color:#800000\"><b> Install required python modules for FACS <b></span>"
   ]
  },
  {
   "cell_type": "code",
   "execution_count": null,
   "metadata": {},
   "outputs": [],
   "source": [
    "!pip install pandas matplotlib numpy chaospy easyvvuq"
   ]
  },
  {
   "cell_type": "markdown",
   "metadata": {},
   "source": [
    "### <span style=\"color:#800000\"><b> Installing FabCovid19 <b></span>\n",
    "\n",
    "A FabSim3-based FabCovid19 plugin provides an environment for researchers and organisations to construct and modify simulations, instantiate and execute multiple runs for different policy decisions, as well as to validate and visualise the obtained results against the existing data.\n",
    "\n",
    "To install FabCovid19, run `install_plugin` function using:"
   ]
  },
  {
   "cell_type": "code",
   "execution_count": null,
   "metadata": {},
   "outputs": [],
   "source": [
    "# Install FabCovid19 \n",
    "!fabsim localhost install_plugin:FabCovid19"
   ]
  },
  {
   "cell_type": "markdown",
   "metadata": {},
   "source": [
    "#### <span style=\"color:#800000\"><b> Setup FabCovid19 machine specifications <b></span>\n",
    "\n",
    "To run FACS code by FabCovid19 plugin, we need to add FACS PATH to the `machines_FabCovid19_user.yml` configuration file"
   ]
  },
  {
   "cell_type": "code",
   "execution_count": null,
   "metadata": {},
   "outputs": [],
   "source": [
    "!sed -i \"s#facs_location: \\\"<..>\\\"#facs_location : \\\"$PWD/facs\\\"#g\" FabSim3/plugins/FabCovid19/machines_FabCovid19_user.yml"
   ]
  },
  {
   "cell_type": "markdown",
   "metadata": {},
   "source": [
    "To view changes in `machines_FabCovid19_user`, simply run the following"
   ]
  },
  {
   "cell_type": "code",
   "execution_count": null,
   "metadata": {},
   "outputs": [],
   "source": [
    "machines_user_yml = yaml.load(open(\"FabSim3/plugins/FabCovid19/machines_FabCovid19_user.yml\"), Loader=yaml.FullLoader)\n",
    "\n",
    "print(yaml.dump({'localhost': machines_user_yml['localhost']}))"
   ]
  },
  {
   "cell_type": "markdown",
   "metadata": {},
   "source": [
    "#### <span style=\"color:#800000\"><b> Executing a single FACS scenario <b></span>\n",
    "\n",
    "\n",
    "To execute FabCovid19 job on a localhost, execute one of the boroughs using `FACS` code in `FabSim3/plugins/FabCovid19/config_files`, such as `brent`, `camden`, `ealing`, `hammersmith_fulham`, `harrow`, `hillingdon`, `kensington_chelsea`, `westminster`. \n",
    "\n",
    "Since that the total execution of each borough takes more that 50 minutes to be finished, for illustration purposes,  we use a `test` borough to have more faster simulation run which can be done less that 2 minutes."
   ]
  },
  {
   "cell_type": "code",
   "execution_count": null,
   "metadata": {},
   "outputs": [],
   "source": [
    "!fabsim localhost covid19:test,TS='extend-lockdown',TM=1,quicktest=True,simulation_period=60"
   ]
  },
  {
   "cell_type": "markdown",
   "metadata": {},
   "source": [
    "#### <span style=\"color:#800000\"><b> Fetching the simulation results to `FabSim3/results` directory <b></span>\n",
    "\n",
    "After the job has finished, a message will be printed indicating where the output data resides. To fetch and copy the obtained results to `FabSim3/results` directory, simply execute:"
   ]
  },
  {
   "cell_type": "code",
   "execution_count": null,
   "metadata": {},
   "outputs": [],
   "source": [
    "!fabsim localhost fetch_results"
   ]
  },
  {
   "cell_type": "markdown",
   "metadata": {},
   "source": [
    "### <span style=\"color:#800000\"><b> SA analysis of FACS <b></span>\n",
    "\n",
    "To demonstrate the added value offered by VECMAtk more concretely, we showcase one specific VVUQ procedure example, using the Flu And Coronavirus Simulator. We perform sensitivity analysis across six different input parameters of [FACS](https://github.com/djgroen/facs) to identify their sensitivity relative to our quantity of interest (QoI).\n",
    "In below table, we provide the default value for each parameter along with the range of likely values.\n",
    "\n",
    "| Parameters                | Type  | Default value | Uniform range  |\n",
    "|---------------------------|-------|---------------|----------------|\n",
    "| infection rate            | float | 0.07          | (0.0035, 0.14) |\n",
    "| mortality period          | float | 8.0           | (4.0, 16.0)    |\n",
    "| recovery period           | float | 8.0           | (4.0, 16.0)    |\n",
    "| mild recovery period      | float | 8.05          | (4.5, 12.5)    |\n",
    "| incubation period         | float | 3.0           | (2.0, 6.0)     |\n",
    "| period to hospitalisation | float | 12.0          | (8.0, 16.0     |\n",
    "\n",
    "We use the [Chaospy](https://pypi.org/project/chaospy) library in EasyVVUQ to generate samples from the input parameters. Specifically, in this example we used the stochastic collocation method with a sparse-grid sampling plan of 13 samples, which we then convert to simulation inputs using the EasyVVUQ encoder, and execute them using FabSim3.\n",
    "```python\n",
    "import chaospy as cp\n",
    "...\n",
    "...\n",
    "...\n",
    "# parameters to vary\n",
    "vary = {\n",
    "    \"infection_rate\": cp.Uniform(0.0035, 0.14),\n",
    "    \"mortality_period\": cp.Uniform(4.0, 16.0),\n",
    "    \"recovery_period\": cp.Uniform(4.0, 16.0),\n",
    "    \"mild_recovery_period\": cp.Uniform(4.5, 12.5),\n",
    "    \"incubation_period\": cp.Uniform(2.0, 6.0),\n",
    "    \"period_to_hospitalisation\": cp.Uniform(8.0, 16.0),\n",
    "}\n",
    "\n",
    "# create SCSampler (stochastic collocation)\n",
    "sampler = uq.sampling.SCSampler(vary=vary,\n",
    "                                polynomial_order=2,\n",
    "                                quadrature_rule=\"C\",\n",
    "                                sparse=True,\n",
    "                                growth=True,\n",
    "                                midpoint_level1=True\n",
    "                                )\n",
    "...\n",
    "...\n",
    "...\n",
    "```    \n",
    "\n",
    "\n"
   ]
  },
  {
   "cell_type": "markdown",
   "metadata": {},
   "source": [
    "#### <span style=\"color:#800000\"><b> Run SA FabCovid19  <b></span>\n",
    "\n",
    "To execute SA analysis of FACS using FabCovid19 plugin, simply run the following.\n"
   ]
  },
  {
   "cell_type": "code",
   "execution_count": null,
   "metadata": {},
   "outputs": [],
   "source": [
    "!fabsim localhost covid19_init_SC:test,TS='extend-lockdown',TM=1,quicktest=True,simulation_period=60"
   ]
  },
  {
   "cell_type": "markdown",
   "metadata": {},
   "source": [
    "#### <span style=\"color:#800000\"><b> Analysis output results   <b></span>\n",
    "\n",
    "Once execution has concluded, we then decode and collate the results and perform a Sobol sensitivity analysis relative to our QoI (number of deaths over time)."
   ]
  },
  {
   "cell_type": "markdown",
   "metadata": {},
   "source": [
    "##### <span style=\"color:#800000\"><b> Fetching results   <b></span>"
   ]
  },
  {
   "cell_type": "code",
   "execution_count": null,
   "metadata": {},
   "outputs": [],
   "source": [
    "# Fetching results\n",
    "!fabsim localhost fetch_results"
   ]
  },
  {
   "cell_type": "markdown",
   "metadata": {},
   "source": [
    "##### <span style=\"color:#800000\"><b> Run SA Analysis   <b></span>\n",
    "    \n",
    "The output generated files and figures will be placed in `FabSim3/plugins/FabCovid19/covid19_test_easyvvuq_SCSampler` folder."
   ]
  },
  {
   "cell_type": "code",
   "execution_count": null,
   "metadata": {},
   "outputs": [],
   "source": [
    "!fabsim localhost covid19_analyse_SC:test"
   ]
  },
  {
   "cell_type": "markdown",
   "metadata": {},
   "source": [
    "To view generated plots, simply run:"
   ]
  },
  {
   "cell_type": "code",
   "execution_count": null,
   "metadata": {},
   "outputs": [],
   "source": [
    "from IPython.display import Image \n",
    "Image('FabSim3/plugins/FabCovid19/covid19_test_easyvvuq_SCSampler/plot_first_order_sobol_index[dead].png',width = 800)"
   ]
  },
  {
   "cell_type": "code",
   "execution_count": null,
   "metadata": {},
   "outputs": [],
   "source": []
  }
 ],
 "metadata": {
  "kernelspec": {
   "display_name": "Python 3",
   "language": "python",
   "name": "python3"
  },
  "language_info": {
   "codemirror_mode": {
    "name": "ipython",
    "version": 3
   },
   "file_extension": ".py",
   "mimetype": "text/x-python",
   "name": "python",
   "nbconvert_exporter": "python",
   "pygments_lexer": "ipython3",
   "version": "3.7.4"
  }
 },
 "nbformat": 4,
 "nbformat_minor": 4
}
