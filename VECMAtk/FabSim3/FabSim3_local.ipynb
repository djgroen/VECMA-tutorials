{
 "cells": [
  {
   "cell_type": "markdown",
   "metadata": {},
   "source": [
    "# Welcome to the FabSim3 automation toolkit tutorial\n",
    "\n",
    "[FabSim3](https://fabsim3.readthedocs.io/en/latest/) is a Python-based automation toolkit for scientific simulation and data processing workflows, licensed under the BSD 3-clause license. It is a component of the [VECMA Toolkit](http://www.vecma-toolkit.eu), which is developed as a part of the [VECMA](http://www.vecma.eu) project funded by the European Union Horizon 2020 research and innovation programme.\n",
    "\n",
    "FabSim3 supports the use of simple one-liner commands to:\n",
    "\n",
    "- Organize input, output and environment information, creating a consistent log and making it possible by default to repeat/reproduce runs.\n",
    "- Establish and run coupled models using the workflow automation functionalities.\n",
    "- Perform large ensemble simulations (or replicated ones) using a one-line command.\n",
    "- Enable the execution of simulation and analysis tasks on supercomputers.\n",
    "\n",
    "Users can perform complex remote tasks from a local command-line, and run single jobs, ensembles of multiple jobs, and dynamic workflows through schedulers such as SLURM, Portable Batch System Professional (PBSPro), LoadLeveller and Quality in Cloud and Grid [(QCG)](http://www.qoscosgrid.org/trac/qcg). FabSim3 stores machine-specific configurations in the repository, and applies it to all applications run on that machine. These configurations are updated by any contributor who feels that a fix or improvement is required."
   ]
  },
  {
   "cell_type": "markdown",
   "metadata": {},
   "source": [
    "## Intalling FabSim3 \n",
    "\n",
    "To install [FabSim3](https://github.com/djgroen/FabSim3), clone the repository using:"
   ]
  },
  {
   "cell_type": "code",
   "execution_count": null,
   "metadata": {},
   "outputs": [],
   "source": [
    "%%bash\n",
    "\n",
    "if [ ! -d \"FabSim3\" ]\n",
    "then\n",
    "    git clone https://github.com/djgroen/FabSim3\n",
    "    echo \"FabSim3 rep cloned in -> \" $PWD\n",
    "else\n",
    "    git -C FabSim3 pull\n",
    "    echo \"updating FabSim3 rep cloned in -> \" $PWD\n",
    "fi"
   ]
  },
  {
   "cell_type": "markdown",
   "metadata": {},
   "source": [
    "### Setup ssh key\n",
    "\n",
    "To setup ssh connection for executing jobs on localhost, simply run:"
   ]
  },
  {
   "cell_type": "code",
   "execution_count": null,
   "metadata": {
    "scrolled": true
   },
   "outputs": [],
   "source": [
    "%%bash\n",
    "\n",
    "if [ ! -f ~/.ssh/id_rsa ]; then\n",
    "    ssh-keygen -t rsa -N \"\" -f ~/.ssh/id_rsa\n",
    "else\n",
    "    echo \"SSH key already exists\"\n",
    "fi\n",
    "cat ~/.ssh/id_rsa.pub >> ~/.ssh/authorized_keys\n",
    "chmod og-wx ~/.ssh/authorized_keys\n",
    "ssh-keyscan -H localhost >> ~/.ssh/known_hosts"
   ]
  },
  {
   "cell_type": "markdown",
   "metadata": {},
   "source": [
    "### Dependencies\n",
    "\n",
    "FabSim3 relies strongly on the following Python modules:\n",
    "\n",
    "- [Fabric](http://www.fabfile.org) (shown to work with versions 1.5.3 and 1.10.0), \n",
    "- [PyYAML](https://pypi.org/project/PyYAML/) (any version), \n",
    "- [ruamel.yaml](https://pypi.org/project/ruamel.yaml/)\n",
    "- [numpy](https://numpy.org/install/) and\n",
    "- [cryptography](https://pypi.org/project/cryptography/).\n",
    "\n",
    "These dependencies are marked down in the `requirements.txt` file, as\n",
    "\n",
    "`fabric3==1.13.1.post1, \n",
    " pyyaml, \n",
    " pytest, \n",
    " pytest-pep8, \n",
    " ruamel.yaml, \n",
    " numpy, \n",
    " cryptography`\n",
    " \n",
    "To install requitements.txt, simply run the following:"
   ]
  },
  {
   "cell_type": "code",
   "execution_count": null,
   "metadata": {
    "scrolled": true
   },
   "outputs": [],
   "source": [
    "%%bash\n",
    "\n",
    "# Install required Python modules\n",
    "pip install -r FabSim3/requirements.txt"
   ]
  },
  {
   "cell_type": "markdown",
   "metadata": {},
   "source": [
    "### Configure `machine_user.yml` file\n",
    "\n",
    "To set personal configurations, copy `machines_user_example.yml` as `machines_user.yml` in the `FabSim3/deploy` folder and run the following sequence of commands, which will change `localhost:` configurations:\n"
   ]
  },
  {
   "cell_type": "code",
   "execution_count": null,
   "metadata": {},
   "outputs": [],
   "source": [
    "%%bash\n",
    "\n",
    "PORT=22\n",
    "\n",
    "# Configure machines_user.yml\n",
    "cp FabSim3/deploy/machines_user_example.yml FabSim3/deploy/machines_user.yml\n",
    "\n",
    "# Defines your username from local configuration\n",
    "sed -i \"s/your-username/`whoami`/g\" FabSim3/deploy/machines_user.yml\n",
    "\n",
    "# Defines port number for localhost connection\n",
    "sed -i \"s#localhost:#localhost:\\n  port: $PORT#g\" FabSim3/deploy/machines_user.yml\n",
    "\n",
    "# Defines working directory for configs and results directories\n",
    "sed -i \"s#localhost:#localhost:\\n  local_configs: \\\"$PWD/FabSim3/config_files\\\"#g\" FabSim3/deploy/machines_user.yml\n",
    "sed -i \"s#localhost:#localhost:\\n  local_results: \\\"$PWD/FabSim3/results\\\"#g\" FabSim3/deploy/machines_user.yml\n",
    "\n",
    "# Defines home path for execution\n",
    "sed -i \"s#localhost:#localhost:\\n  home_path_template: \\\"$PWD/FabSim3/localhost_exe\\\"#g\" FabSim3/deploy/machines_user.yml"
   ]
  },
  {
   "cell_type": "markdown",
   "metadata": {},
   "source": [
    "To view the changes made in the `machines_user.yml` file, simply run:"
   ]
  },
  {
   "cell_type": "code",
   "execution_count": null,
   "metadata": {},
   "outputs": [],
   "source": [
    "import yaml\n",
    "\n",
    "machines_user_yml = yaml.load(open(\"FabSim3/deploy/machines_user.yml\"), Loader=yaml.FullLoader)\n",
    "print(yaml.dump({'localhost': machines_user_yml['localhost']}))"
   ]
  },
  {
   "cell_type": "markdown",
   "metadata": {},
   "source": [
    "### Add FabSim3 to your PATH and PYTHONPATH\n",
    "\n",
    "To add FabSim3 executable file to system `PATH` and setup `PYTHONPATH`:"
   ]
  },
  {
   "cell_type": "code",
   "execution_count": null,
   "metadata": {},
   "outputs": [],
   "source": [
    "import os\n",
    "import sys\n",
    "\n",
    "# print(os.environ['PATH'])\n",
    "sys.path.insert(0,  r'%s/FabSim3/bin' %(os.getcwd()))\n",
    "sys.path.insert(0,  r'%s/FabSim3' %(os.getcwd()))\n",
    "os.environ['PATH']=r'%s/FabSim3/bin' %(os.getcwd())+os.pathsep+os.environ['PATH']\n",
    "\n",
    "# Test if fabsim command is availble\n",
    "!which fabsim"
   ]
  },
  {
   "cell_type": "markdown",
   "metadata": {},
   "source": [
    "## FabSim3 plugins\n",
    "\n",
    "FabSim3 contains an integrated test infrastructure, more flexible customisation options using a plugin system and  examples to improve usability. These plugins will be installed in the `FabSim3/plugins` directory."
   ]
  },
  {
   "cell_type": "markdown",
   "metadata": {},
   "source": [
    "### Dummy instance - FabDummy plugin\n",
    "\n",
    "To demonstrate the use of FabSim3 plugin, install the [FabDummy](https://github.com/djgroen/FabDummy) plugin  by running `install_plugin` command:"
   ]
  },
  {
   "cell_type": "code",
   "execution_count": null,
   "metadata": {},
   "outputs": [],
   "source": [
    "%%bash\n",
    "\n",
    "cd FabSim3\n",
    "\n",
    "# Install FabDummy\n",
    "fabsim localhost install_plugin:FabDummy"
   ]
  },
  {
   "cell_type": "markdown",
   "metadata": {},
   "source": [
    "#### Running FabDummy test\n",
    "\n",
    "To test the FabDummy plugin, run a dummy job using:"
   ]
  },
  {
   "cell_type": "code",
   "execution_count": null,
   "metadata": {
    "scrolled": true
   },
   "outputs": [],
   "source": [
    "%%bash\n",
    "\n",
    "cd FabSim3\n",
    "\n",
    "# Execute a dummy test job\n",
    "fabsim localhost dummy:dummy_test"
   ]
  },
  {
   "cell_type": "markdown",
   "metadata": {},
   "source": [
    "### Migration Modelling - FabFlee plugin\n",
    "\n",
    "The [FabFlee](https://github.com/djgroen/FabFlee) plugin  aims to automate the construction, execution and analysis of Flee, which is an agent-based modelling toolkit purpose-built for simulating the movement of individuals across geographical locations. An agent-based Flee simulation code is written in Python. For detailed information, see [Flee](https://flee.readthedocs.io/en/latest/index.html#) documentation.\n",
    "\n",
    "To install Flee, clone the repository by running:"
   ]
  },
  {
   "cell_type": "code",
   "execution_count": null,
   "metadata": {
    "scrolled": true
   },
   "outputs": [],
   "source": [
    "%%bash\n",
    "\n",
    "# Clone the Flee repository\n",
    "if [ ! -d \"flee\" ]\n",
    "then\n",
    "    git clone -b master https://github.com/djgroen/flee.git\n",
    "    echo \"flee rep cloned in -> \" $PWD\n",
    "else\n",
    "    git -C flee pull\n",
    "    echo \"updating flee rep cloned in -> \" $PWD\n",
    "fi"
   ]
  },
  {
   "cell_type": "markdown",
   "metadata": {},
   "source": [
    "#### Installing required python modules for Flee \n",
    "\n",
    "To install all required Python packages, simply install:"
   ]
  },
  {
   "cell_type": "code",
   "execution_count": null,
   "metadata": {},
   "outputs": [],
   "source": [
    "!pip install pandas matplotlib numpy mpi4py"
   ]
  },
  {
   "cell_type": "markdown",
   "metadata": {},
   "source": [
    "#### Installing FabFlee\n",
    "\n",
    "A FabSim3-based FabFlee plugin provides an environment for researchers and organisations to construct and modify simulations, instantiate and execute multiple runs for different policy decisions, as well as to validate and visualise the obtained results against the existing data.\n",
    "\n",
    "To install FabFlee, run `install_plugin` function using:"
   ]
  },
  {
   "cell_type": "code",
   "execution_count": null,
   "metadata": {},
   "outputs": [],
   "source": [
    "%%bash\n",
    "\n",
    "cd FabSim3\n",
    "\n",
    "# Install FabFlee \n",
    "fabsim localhost install_plugin:FabFlee"
   ]
  },
  {
   "cell_type": "markdown",
   "metadata": {},
   "source": [
    "#### Adding the Flee directory location to your machine_user.yml file\n",
    "\n",
    "Since FabFlee is a plugin for the Flee simulation code, add the current location of the Flee directory to the `machines_user.yml` configuration file:"
   ]
  },
  {
   "cell_type": "code",
   "execution_count": null,
   "metadata": {},
   "outputs": [],
   "source": [
    "!sed -i  \"s#<PATH_TO_FLEE>#$PWD/flee#g\" FabSim3/plugins/FabFlee/machines_FabFlee_user.yml"
   ]
  },
  {
   "cell_type": "markdown",
   "metadata": {},
   "source": [
    "To view changes in `machines_user.yml`, simply run the following"
   ]
  },
  {
   "cell_type": "code",
   "execution_count": null,
   "metadata": {},
   "outputs": [],
   "source": [
    "machines_user_yml = yaml.load(open(\"FabSim3/plugins/FabFlee/machines_FabFlee_user.yml\"), Loader=yaml.FullLoader)\n",
    "\n",
    "print(yaml.dump({'localhost': machines_user_yml['localhost']}))"
   ]
  },
  {
   "cell_type": "markdown",
   "metadata": {},
   "source": [
    "#### Executing a migration conflict scenario\n",
    "\n",
    "To execute FabFlee job on a localhost, execute one of the conflict instances using `flee` function in `FabSim3/plugins/FabFlee/config_files`, such as Mali (mali, simulation period of 300 days), Burundi (burundi, simulation period of 396 days), South Sudan (ssudan, simulation period of 604 days) and Central African Republic (car, simulation period of 820 days). \n",
    "\n",
    "For illustration purposes, the conflict scenario of Mali is executed to obtain the simulation output for a simulation period of 50 days, which can be changed up to 300 days."
   ]
  },
  {
   "cell_type": "code",
   "execution_count": null,
   "metadata": {},
   "outputs": [],
   "source": [
    "%%bash\n",
    "\n",
    "cd FabSim3\n",
    "\n",
    "fabsim localhost flee:mali,simulation_period=50"
   ]
  },
  {
   "cell_type": "markdown",
   "metadata": {},
   "source": [
    "#### Fetching the simulation results to `FabSim3/results` directory\n",
    "\n",
    "After the job has finished, a message will be printed indicating where the output data resides. To fetch and copy the obtained results to `FabSim3/results` directory, simply execute:"
   ]
  },
  {
   "cell_type": "code",
   "execution_count": null,
   "metadata": {
    "scrolled": true
   },
   "outputs": [],
   "source": [
    "%%bash\n",
    "\n",
    "cd FabSim3\n",
    "\n",
    "fabsim localhost fetch_results"
   ]
  },
  {
   "cell_type": "markdown",
   "metadata": {},
   "source": [
    "#### Plotting the simulation output\n",
    "\n",
    "After fetching the simulation results, analyse and interpret simulation output by plotting graphs for individual camps comparing simulation output and UNHCR data, as well as average relative difference graph for the simulated conflict situation."
   ]
  },
  {
   "cell_type": "code",
   "execution_count": null,
   "metadata": {},
   "outputs": [],
   "source": [
    "%%bash\n",
    "\n",
    "cd FabSim3\n",
    "\n",
    "fabsim localhost plot_output:mali_localhost_16,out"
   ]
  },
  {
   "cell_type": "markdown",
   "metadata": {},
   "source": [
    "To list generated plots, run the following command"
   ]
  },
  {
   "cell_type": "code",
   "execution_count": null,
   "metadata": {},
   "outputs": [],
   "source": [
    "%%bash\n",
    "\n",
    "cd FabSim3/results/mali_localhost_16\n",
    "ls"
   ]
  },
  {
   "cell_type": "markdown",
   "metadata": {},
   "source": [
    "To view generated plots, simply run:"
   ]
  },
  {
   "cell_type": "code",
   "execution_count": null,
   "metadata": {},
   "outputs": [],
   "source": [
    "from IPython.display import Image \n",
    "Image('FabSim3/results/mali_localhost_16/out/camps/Abala.png')"
   ]
  },
  {
   "cell_type": "code",
   "execution_count": null,
   "metadata": {},
   "outputs": [],
   "source": [
    "from IPython.display import Image \n",
    "Image('FabSim3/results/mali_localhost_16/out/errors/error.png')"
   ]
  },
  {
   "cell_type": "markdown",
   "metadata": {},
   "source": [
    "### Sensitivity analysis on input parameters of Flee\n",
    "\n",
    "Sensitivity analysis (SA) is a well-established approachto analyse the influence of changes in assumptions used inmodelling and simulation research\n",
    "\n",
    "For forced migration sensitivity analysis, we use Fab-Sim3 and EasyVVUQ components of VECMAtk, which pro-vide an automated execution environment to achieve highlytransparent and customised simulations by simplifying andaccelerating key task activities"
   ]
  },
  {
   "cell_type": "markdown",
   "metadata": {},
   "source": [
    "#### EasyVVUQ Installation\n",
    "\n",
    "EasyVVUQ is a Python library and build upon existinglibraries, such as Chaospy, for statistical functionalities. Itprovides several sampling methods for UQ analysis, such asStochastic Collocation, Polynomial Chaos Expansion, MonteCarlo and Markov-Chain Monte Carlo techniques. To installEasyVVUQ, simply type"
   ]
  },
  {
   "cell_type": "code",
   "execution_count": null,
   "metadata": {},
   "outputs": [],
   "source": [
    "%%bash\n",
    "\n",
    "pip install easyvvuq\n",
    "# pip show easyvvuq"
   ]
  },
  {
   "cell_type": "markdown",
   "metadata": {},
   "source": [
    "#### Parameter Exploration\n",
    "\n",
    "To perform sensitivity analysis on input parameters of Flee, we mainly focus on two sampler examples, namely (a) SCSampler (Stochastic Collocation sampler) and (b) PCESampler (Polynomial Chaos Expansion sampler), that are available in EasyVVUQ. The configuration for SA can be set in `flee_SA_config.yml` located in `FabSim3/plugin/FabFlee` directory. All required configurations for FabFlee SA, such as sampler name, varying input parameters, and the number of polynomial order, are loaded from `flee_SA_config.yml` file. To illustrate, we present an example of two `config` parameters below, namely (`max_move_speed` and `max_walk_speed`):\n"
   ]
  },
  {
   "cell_type": "code",
   "execution_count": null,
   "metadata": {},
   "outputs": [],
   "source": [
    "import yaml\n",
    "\n",
    "flee_SA_config = yaml.load(open(\"FabSim3/plugins/FabFlee/flee_SA_config.yml\"), Loader=yaml.FullLoader)\n",
    "print(yaml.dump({\n",
    "    'selected_vary_parameters': flee_SA_config['selected_vary_parameters'],\n",
    "    'distribution_type': flee_SA_config['distribution_type'],\n",
    "    'distribution_type': flee_SA_config['distribution_type'],\n",
    "    'polynomial_order': flee_SA_config['polynomial_order'],\n",
    "    'sampler_name': flee_SA_config['sampler_name']    \n",
    "}))"
   ]
  },
  {
   "cell_type": "markdown",
   "metadata": {},
   "source": [
    "#### Execution\n",
    "\n",
    "To execute sensitivity analysis on your local PC, usingFabFlee, simply run:"
   ]
  },
  {
   "cell_type": "code",
   "execution_count": null,
   "metadata": {},
   "outputs": [],
   "source": [
    "%%bash\n",
    "\n",
    "fabsim localhost flee_init_SA:mali,simulation_period=30"
   ]
  },
  {
   "cell_type": "markdown",
   "metadata": {},
   "source": [
    "After the job has finished, the terminal becomes avail-able again, and a message is printed indicating where theoutput data resides. Run the following command to copyback results from the localhost results directory (or remotemachine):"
   ]
  },
  {
   "cell_type": "code",
   "execution_count": null,
   "metadata": {},
   "outputs": [],
   "source": [
    "%%bash\n",
    "\n",
    "fabsim localhost fetch_results"
   ]
  },
  {
   "cell_type": "markdown",
   "metadata": {},
   "source": [
    "The results will then be in `FabSim3/results` directory"
   ]
  },
  {
   "cell_type": "markdown",
   "metadata": {},
   "source": [
    "#### Results and analysis\n",
    "To analyse and plot the obtained results, simply type:"
   ]
  },
  {
   "cell_type": "code",
   "execution_count": null,
   "metadata": {},
   "outputs": [],
   "source": [
    "%%bash\n",
    "\n",
    "fabsim localhost flee_analyse_SA:mali"
   ]
  },
  {
   "cell_type": "markdown",
   "metadata": {},
   "source": [
    " If you set `sampler_name: SCSample` in `flee_SA_config.yml`file, the target folder name will be `flee_SA_SCSampler`. All output results will be saved in `FabSim3/plugins/FabFlee/flee_SA_SCSampler`. We will also find two figures automatically created from the obtained results. \n",
    " \n",
    "To illustrate, Figure bellow is the first-order Sobol sensitivity indices for the selected parameter set in `flee_SA_config.yml` file."
   ]
  },
  {
   "cell_type": "code",
   "execution_count": null,
   "metadata": {},
   "outputs": [],
   "source": [
    "from IPython.display import Image \n",
    "Image('FabSim3/plugins/FabFlee/flee_SA_SCSampler/plot_sobols_first[Total error].png')"
   ]
  },
  {
   "cell_type": "markdown",
   "metadata": {},
   "source": [
    "And this figure is the mean and the standard deviation of total error over the simulation period.\n"
   ]
  },
  {
   "cell_type": "code",
   "execution_count": null,
   "metadata": {},
   "outputs": [],
   "source": [
    "from IPython.display import Image \n",
    "Image('FabSim3/plugins/FabFlee/flee_SA_SCSampler/plot_statistical_moments[Total error].png')"
   ]
  },
  {
   "cell_type": "code",
   "execution_count": null,
   "metadata": {},
   "outputs": [],
   "source": []
  }
 ],
 "metadata": {
  "kernelspec": {
   "display_name": "Python 3",
   "language": "python",
   "name": "python3"
  },
  "language_info": {
   "codemirror_mode": {
    "name": "ipython",
    "version": 3
   },
   "file_extension": ".py",
   "mimetype": "text/x-python",
   "name": "python",
   "nbconvert_exporter": "python",
   "pygments_lexer": "ipython3",
   "version": "3.8.5"
  }
 },
 "nbformat": 4,
 "nbformat_minor": 4
}
