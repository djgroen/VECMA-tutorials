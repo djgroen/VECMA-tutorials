{
 "cells": [
  {
   "cell_type": "markdown",
   "metadata": {},
   "source": [
    "# Welcome to the FabSim3 automation toolkit tutorial\n",
    "\n",
    "[FabSim3](https://fabsim3.readthedocs.io/en/latest/) is a Python-based automation toolkit for scientific simulation and data processing workflows, licensed under the BSD 3-clause license. It is a component of the [VECMA Toolkit](http://www.vecma-toolkit.eu), which is developed as a part of the [VECMA](http://www.vecma.eu) project funded by the European Union Horizon 2020 research and innovation programme.\n",
    "\n",
    "FabSim3 supports the use of simple one-liner commands to:\n",
    "\n",
    "- Organize input, output and environment information, creating a consistent log and making it possible by default to repeat/reproduce runs.\n",
    "- Establish and run coupled models using the workflow automation functionalities.\n",
    "- Perform large ensemble simulations (or replicated ones) using a one-line command.\n",
    "- Enable the execution of simulation and analysis tasks on supercomputers.\n",
    "\n",
    "Users can perform complex remote tasks from a local command-line, and run single jobs, ensembles of multiple jobs, and dynamic workflows through schedulers such as SLURM, Portable Batch System Professional (PBSPro), LoadLeveller and Quality in Cloud and Grid [(QCG)](http://www.qoscosgrid.org/trac/qcg). FabSim3 stores machine-specific configurations in the repository, and applies it to all applications run on that machine. These configurations are updated by any contributor who feels that a fix or improvement is required."
   ]
  },
  {
   "cell_type": "markdown",
   "metadata": {},
   "source": [
    "## Intalling FabSim3 \n",
    "\n",
    "To install [FabSim3](https://github.com/djgroen/FabSim3), clone the repository using:"
   ]
  },
  {
   "cell_type": "code",
   "execution_count": 1,
   "metadata": {},
   "outputs": [
    {
     "name": "stdout",
     "output_type": "stream",
     "text": [
      "Already up-to-date.\n",
      "updating FabSim3 rep cloned in ->  /home/csstdds/Codes/VECMA-tutorials/FabSim3\n"
     ]
    }
   ],
   "source": [
    "%%bash\n",
    "\n",
    "if [ ! -d \"FabSim3\" ]\n",
    "then\n",
    "    git clone https://github.com/djgroen/FabSim3\n",
    "    echo \"FabSim3 rep cloned in -> \" $PWD\n",
    "else\n",
    "    git -C FabSim3 pull\n",
    "    echo \"updating FabSim3 rep cloned in -> \" $PWD\n",
    "fi"
   ]
  },
  {
   "cell_type": "markdown",
   "metadata": {},
   "source": [
    "### Setup ssh key\n",
    "\n",
    "To setup ssh connection for executing jobs on localhost, simply run:"
   ]
  },
  {
   "cell_type": "code",
   "execution_count": 2,
   "metadata": {
    "scrolled": true
   },
   "outputs": [
    {
     "name": "stdout",
     "output_type": "stream",
     "text": [
      "SSH key already exists\n"
     ]
    },
    {
     "name": "stderr",
     "output_type": "stream",
     "text": [
      "# localhost:22 SSH-2.0-OpenSSH_7.6p1 Ubuntu-4ubuntu0.5\n",
      "# localhost:22 SSH-2.0-OpenSSH_7.6p1 Ubuntu-4ubuntu0.5\n",
      "# localhost:22 SSH-2.0-OpenSSH_7.6p1 Ubuntu-4ubuntu0.5\n"
     ]
    }
   ],
   "source": [
    "%%bash\n",
    "\n",
    "if [ ! -f ~/.ssh/id_rsa ]; then\n",
    "    ssh-keygen -t rsa -N \"\" -f ~/.ssh/id_rsa\n",
    "else\n",
    "    echo \"SSH key already exists\"\n",
    "fi\n",
    "cat ~/.ssh/id_rsa.pub >> ~/.ssh/authorized_keys\n",
    "chmod og-wx ~/.ssh/authorized_keys\n",
    "ssh-keyscan -H localhost >> ~/.ssh/known_hosts"
   ]
  },
  {
   "cell_type": "markdown",
   "metadata": {},
   "source": [
    "### Dependencies\n",
    "\n",
    "FabSim3 relies strongly on the following Python modules:\n",
    "\n",
    "- [Fabric](http://www.fabfile.org) (shown to work with versions 1.5.3 and 1.10.0), \n",
    "- [PyYAML](https://pypi.org/project/PyYAML/) (any version), \n",
    "- [ruamel.yaml](https://pypi.org/project/ruamel.yaml/)\n",
    "- [numpy](https://numpy.org/install/) and\n",
    "- [cryptography](https://pypi.org/project/cryptography/).\n",
    "\n",
    "These dependencies are marked down in the `requirements.txt` file, as\n",
    "\n",
    "`fabric3==1.13.1.post1, \n",
    " pyyaml, \n",
    " pytest, \n",
    " pytest-pep8, \n",
    " ruamel.yaml, \n",
    " numpy, \n",
    " cryptography`\n",
    " \n",
    "To install requitements.txt, simply run the following:"
   ]
  },
  {
   "cell_type": "code",
   "execution_count": 3,
   "metadata": {
    "scrolled": true
   },
   "outputs": [
    {
     "name": "stdout",
     "output_type": "stream",
     "text": [
      "Defaulting to user installation because normal site-packages is not writeable\n",
      "Requirement already satisfied: rich in /home/csstdds/.local/lib/python3.8/site-packages (from -r FabSim3/requirements.txt (line 1)) (10.12.0)\n",
      "Requirement already satisfied: fabric2 in /home/csstdds/.local/lib/python3.8/site-packages (from -r FabSim3/requirements.txt (line 2)) (2.6.0)\n",
      "Requirement already satisfied: pyyaml in /home/csstdds/.local/lib/python3.8/site-packages (from -r FabSim3/requirements.txt (line 3)) (6.0)\n",
      "Requirement already satisfied: pytest in /home/csstdds/.local/lib/python3.8/site-packages (from -r FabSim3/requirements.txt (line 4)) (6.2.5)\n",
      "Requirement already satisfied: pytest-pep8 in /home/csstdds/.local/lib/python3.8/site-packages (from -r FabSim3/requirements.txt (line 5)) (1.0.6)\n",
      "Requirement already satisfied: ruamel.yaml in /home/csstdds/.local/lib/python3.8/site-packages (from -r FabSim3/requirements.txt (line 6)) (0.16.12)\n",
      "Requirement already satisfied: numpy in /home/csstdds/.local/lib/python3.8/site-packages (from -r FabSim3/requirements.txt (line 7)) (1.19.5)\n",
      "Requirement already satisfied: beartype in /home/csstdds/.local/lib/python3.8/site-packages (from -r FabSim3/requirements.txt (line 8)) (0.9.0)\n",
      "Requirement already satisfied: colorama<0.5.0,>=0.4.0 in /home/csstdds/.local/lib/python3.8/site-packages (from rich->-r FabSim3/requirements.txt (line 1)) (0.4.4)\n",
      "Requirement already satisfied: commonmark<0.10.0,>=0.9.0 in /home/csstdds/.local/lib/python3.8/site-packages (from rich->-r FabSim3/requirements.txt (line 1)) (0.9.1)\n",
      "Requirement already satisfied: pygments<3.0.0,>=2.6.0 in /home/csstdds/.local/lib/python3.8/site-packages (from rich->-r FabSim3/requirements.txt (line 1)) (2.10.0)\n",
      "Requirement already satisfied: paramiko>=2.4 in /home/csstdds/.local/lib/python3.8/site-packages (from fabric2->-r FabSim3/requirements.txt (line 2)) (2.8.0)\n",
      "Requirement already satisfied: pathlib2 in /home/csstdds/.local/lib/python3.8/site-packages (from fabric2->-r FabSim3/requirements.txt (line 2)) (2.3.6)\n",
      "Requirement already satisfied: invoke<2.0,>=1.3 in /home/csstdds/.local/lib/python3.8/site-packages (from fabric2->-r FabSim3/requirements.txt (line 2)) (1.6.0)\n",
      "Requirement already satisfied: attrs>=19.2.0 in /home/csstdds/.local/lib/python3.8/site-packages (from pytest->-r FabSim3/requirements.txt (line 4)) (21.2.0)\n",
      "Requirement already satisfied: toml in /home/csstdds/.local/lib/python3.8/site-packages (from pytest->-r FabSim3/requirements.txt (line 4)) (0.10.2)\n",
      "Requirement already satisfied: py>=1.8.2 in /home/csstdds/.local/lib/python3.8/site-packages (from pytest->-r FabSim3/requirements.txt (line 4)) (1.10.0)\n",
      "Requirement already satisfied: pluggy<2.0,>=0.12 in /home/csstdds/.local/lib/python3.8/site-packages (from pytest->-r FabSim3/requirements.txt (line 4)) (1.0.0)\n",
      "Requirement already satisfied: iniconfig in /home/csstdds/.local/lib/python3.8/site-packages (from pytest->-r FabSim3/requirements.txt (line 4)) (1.1.1)\n",
      "Requirement already satisfied: packaging in /home/csstdds/.local/lib/python3.8/site-packages (from pytest->-r FabSim3/requirements.txt (line 4)) (21.2)\n",
      "Requirement already satisfied: pep8>=1.3 in /home/csstdds/.local/lib/python3.8/site-packages (from pytest-pep8->-r FabSim3/requirements.txt (line 5)) (1.7.1)\n",
      "Requirement already satisfied: pytest-cache in /home/csstdds/.local/lib/python3.8/site-packages (from pytest-pep8->-r FabSim3/requirements.txt (line 5)) (1.0)\n",
      "Requirement already satisfied: ruamel.yaml.clib>=0.1.2 in /home/csstdds/.local/lib/python3.8/site-packages (from ruamel.yaml->-r FabSim3/requirements.txt (line 6)) (0.2.6)\n",
      "Requirement already satisfied: cryptography>=2.5 in /home/csstdds/.local/lib/python3.8/site-packages (from paramiko>=2.4->fabric2->-r FabSim3/requirements.txt (line 2)) (35.0.0)\n",
      "Requirement already satisfied: bcrypt>=3.1.3 in /home/csstdds/.local/lib/python3.8/site-packages (from paramiko>=2.4->fabric2->-r FabSim3/requirements.txt (line 2)) (3.2.0)\n",
      "Requirement already satisfied: pynacl>=1.0.1 in /home/csstdds/.local/lib/python3.8/site-packages (from paramiko>=2.4->fabric2->-r FabSim3/requirements.txt (line 2)) (1.4.0)\n",
      "Requirement already satisfied: pyparsing<3,>=2.0.2 in /home/csstdds/.local/lib/python3.8/site-packages (from packaging->pytest->-r FabSim3/requirements.txt (line 4)) (2.4.7)\n",
      "Requirement already satisfied: six in /home/csstdds/.local/lib/python3.8/site-packages (from pathlib2->fabric2->-r FabSim3/requirements.txt (line 2)) (1.16.0)\n",
      "Requirement already satisfied: execnet>=1.1.dev1 in /home/csstdds/.local/lib/python3.8/site-packages (from pytest-cache->pytest-pep8->-r FabSim3/requirements.txt (line 5)) (1.9.0)\n",
      "Requirement already satisfied: cffi>=1.1 in /home/csstdds/.local/lib/python3.8/site-packages (from bcrypt>=3.1.3->paramiko>=2.4->fabric2->-r FabSim3/requirements.txt (line 2)) (1.15.0)\n",
      "Requirement already satisfied: pycparser in /home/csstdds/.local/lib/python3.8/site-packages (from cffi>=1.1->bcrypt>=3.1.3->paramiko>=2.4->fabric2->-r FabSim3/requirements.txt (line 2)) (2.20)\n"
     ]
    },
    {
     "name": "stderr",
     "output_type": "stream",
     "text": [
      "WARNING: You are using pip version 21.3.1; however, version 22.0.2 is available.\n",
      "You should consider upgrading via the '/usr/bin/python3 -m pip install --upgrade pip' command.\n"
     ]
    }
   ],
   "source": [
    "%%bash\n",
    "\n",
    "# Install required Python modules\n",
    "pip install -r FabSim3/requirements.txt"
   ]
  },
  {
   "cell_type": "markdown",
   "metadata": {},
   "source": [
    "### Configure `machine_user.yml` file\n",
    "\n",
    "To set personal configurations, copy `machines_user_example.yml` as `machines_user.yml` in the `FabSim3/deploy` folder and run the following sequence of commands, which will change `localhost:` configurations:\n"
   ]
  },
  {
   "cell_type": "code",
   "execution_count": 4,
   "metadata": {},
   "outputs": [],
   "source": [
    "%%bash\n",
    "\n",
    "PORT=22\n",
    "\n",
    "# Configure machines_user.yml\n",
    "cp FabSim3/fabsim/deploy/machines_user_example.yml FabSim3/fabsim/deploy/machines_user.yml\n",
    "\n",
    "# Defines your username from local configuration\n",
    "sed -i \"s/your-username/`whoami`/g\" FabSim3/fabsim/deploy/machines_user.yml\n",
    "\n",
    "# Defines port number for localhost connection\n",
    "sed -i \"s#localhost:#localhost:\\n  port: $PORT#g\" FabSim3/fabsim/deploy/machines_user.yml\n",
    "\n",
    "# Defines working directory for configs and results directories\n",
    "sed -i \"s#localhost:#localhost:\\n  local_configs: \\\"$PWD/FabSim3/config_files\\\"#g\" FabSim3/fabsim/deploy/machines_user.yml\n",
    "sed -i \"s#localhost:#localhost:\\n  local_results: \\\"$PWD/FabSim3/results\\\"#g\" FabSim3/fabsim/deploy/machines_user.yml\n",
    "\n",
    "# Defines home path for execution\n",
    "sed -i \"s#localhost:#localhost:\\n  home_path_template: \\\"$PWD/FabSim3/localhost_exe\\\"#g\" FabSim3/fabsim/deploy/machines_user.yml"
   ]
  },
  {
   "cell_type": "markdown",
   "metadata": {},
   "source": [
    "To view the changes made in the `machines_user.yml` file, simply run:"
   ]
  },
  {
   "cell_type": "code",
   "execution_count": 5,
   "metadata": {},
   "outputs": [
    {
     "name": "stdout",
     "output_type": "stream",
     "text": [
      "localhost:\n",
      "  home_path_template: /home/csstdds/Codes/VECMA-tutorials/FabSim3/FabSim3/localhost_exe\n",
      "  local_configs: /home/csstdds/Codes/VECMA-tutorials/FabSim3/FabSim3/config_files\n",
      "  local_results: /home/csstdds/Codes/VECMA-tutorials/FabSim3/FabSim3/results\n",
      "  port: 22\n",
      "  username: csstdds\n",
      "\n"
     ]
    }
   ],
   "source": [
    "import yaml\n",
    "\n",
    "machines_user_yml = yaml.load(open(\"FabSim3/fabsim/deploy/machines_user.yml\"), Loader=yaml.FullLoader)\n",
    "print(yaml.dump({'localhost': machines_user_yml['localhost']}))\n"
   ]
  },
  {
   "cell_type": "markdown",
   "metadata": {},
   "source": [
    "### Add FabSim3 to your PATH and PYTHONPATH\n",
    "\n",
    "To add FabSim3 executable file to system `PATH` and setup `PYTHONPATH`:"
   ]
  },
  {
   "cell_type": "code",
   "execution_count": 6,
   "metadata": {},
   "outputs": [
    {
     "name": "stdout",
     "output_type": "stream",
     "text": [
      "/home/csstdds/Codes/VECMA-tutorials/FabSim3/FabSim3/fabsim/bin/fabsim\r\n"
     ]
    }
   ],
   "source": [
    "import os\n",
    "import sys\n",
    "\n",
    "# print(os.environ['PATH'])\n",
    "sys.path.insert(0,  r'%s/FabSim3/fabsim/bin' %(os.getcwd()))\n",
    "sys.path.insert(0,  r'%s/FabSim3/fabsim/' %(os.getcwd()))\n",
    "os.environ['PATH']=r'%s/FabSim3/fabsim/bin' %(os.getcwd())+os.pathsep+os.environ['PATH']\n",
    "\n",
    "# Test if fabsim command is availble\n",
    "!which fabsim"
   ]
  },
  {
   "cell_type": "markdown",
   "metadata": {},
   "source": [
    "## FabSim3 plugins\n",
    "\n",
    "FabSim3 contains an integrated test infrastructure, more flexible customisation options using a plugin system and  examples to improve usability. These plugins will be installed in the `FabSim3/plugins` directory."
   ]
  },
  {
   "cell_type": "markdown",
   "metadata": {},
   "source": [
    "### Dummy instance - FabDummy plugin\n",
    "\n",
    "To demonstrate the use of FabSim3 plugin, install the [FabDummy](https://github.com/djgroen/FabDummy) plugin  by running `install_plugin` command:"
   ]
  },
  {
   "cell_type": "code",
   "execution_count": 7,
   "metadata": {},
   "outputs": [
    {
     "name": "stdout",
     "output_type": "stream",
     "text": [
      "\u001b[38;5;28m[loading plugin]\u001b[0;0m FabFlee ...\n",
      "Error: failed to import settings module flee_SA\n",
      "<class 'ModuleNotFoundError'>\n",
      "ModuleNotFoundError(\"No module named 'chaospy'\")\n",
      "The FabFlee flee_SA functionalities are not imported as a result.\n",
      "Error: failed to import settings module flee_vvp\n",
      "<class 'ModuleNotFoundError'>\n",
      "ModuleNotFoundError(\"No module named 'easyvvuq'\")\n",
      "The FabFlee flee_vvp functionalities are not imported as a result.\n",
      "\u001b[38;5;28m[loading plugin]\u001b[0;0m FabDummy ...\n",
      "\u001b[38;5;196m[Executing task]\u001b[0;0m install_plugin\n",
      "\n",
      "\n",
      "╭─────────────────────────── WARNING ───────────────────────────╮\n",
      "│ The FabDummy plugin directory is already exists.              │\n",
      "│ To keep your previous folder, we rename it to: FabDummy_RBJF3 │\n",
      "╰───────────────────────────────────────────────────────────────╯\n",
      "\n",
      "\n",
      "\u001b[38;5;196m[local]\u001b[0;0m mkdir -p /home/csstdds/Codes/VECMA-tutorials/FabSim3/FabSim3/plugins\n",
      "\u001b[38;5;196m[local]\u001b[0;0m rm -rf /home/csstdds/Codes/VECMA-tutorials/FabSim3/FabSim3/plugins/FabDummy\n",
      "\u001b[38;5;196m[local]\u001b[0;0m git clone https://github.com/djgroen/FabDummy.git /home/csstdds/Codes/VECMA-tutorials/FabSim3/FabSim3/plugins/FabDummy\n",
      "FabDummy plugin installed...\n"
     ]
    },
    {
     "name": "stderr",
     "output_type": "stream",
     "text": [
      "Cloning into '/home/csstdds/Codes/VECMA-tutorials/FabSim3/FabSim3/plugins/FabDummy'...\n",
      "  File \"/home/csstdds/Codes/VECMA-tutorials/FabSim3/FabSim3/plugins/FabFlee/FabFlee.py\", line 1415, in <module>\n",
      "    from plugins.FabFlee.SA.flee_SA import flee_init_SA\n",
      "  File \"/home/csstdds/Codes/VECMA-tutorials/FabSim3/FabSim3/plugins/FabFlee/SA/flee_SA.py\", line 6, in <module>\n",
      "    import chaospy as cp\n",
      "  File \"/home/csstdds/Codes/VECMA-tutorials/FabSim3/FabSim3/plugins/FabFlee/FabFlee.py\", line 1429, in <module>\n",
      "    from plugins.FabFlee.VVP.flee_vvp import flee_init_vvp_LoR\n",
      "  File \"/home/csstdds/Codes/VECMA-tutorials/FabSim3/FabSim3/plugins/FabFlee/VVP/flee_vvp.py\", line 21, in <module>\n",
      "    import easyvvuq as uq\n"
     ]
    }
   ],
   "source": [
    "%%bash\n",
    "\n",
    "cd FabSim3\n",
    "\n",
    "# Install FabDummy\n",
    "fabsim localhost install_plugin:FabDummy"
   ]
  },
  {
   "cell_type": "markdown",
   "metadata": {},
   "source": [
    "#### Running FabDummy test\n",
    "\n",
    "To test the FabDummy plugin, run a dummy job using:"
   ]
  },
  {
   "cell_type": "code",
   "execution_count": 8,
   "metadata": {
    "scrolled": true
   },
   "outputs": [
    {
     "name": "stdout",
     "output_type": "stream",
     "text": [
      "sending incremental file list\n",
      "./\n",
      "dummy.txt\n",
      "SWEEP/\n",
      "SWEEP/d1/\n",
      "SWEEP/d1/dummy.txt\n",
      "SWEEP/d2/\n",
      "SWEEP/d2/dummy.txt\n",
      "SWEEP/d3/\n",
      "SWEEP/d3/dummy.txt\n",
      "\n",
      "sent 390 bytes  received 143 bytes  1.07K bytes/sec\n",
      "total size is 242  speedup is 0.45\n",
      "\u001b[38;5;28m[loading plugin]\u001b[0;0m FabFlee ...\n",
      "Error: failed to import settings module flee_SA\n",
      "<class 'ModuleNotFoundError'>\n",
      "ModuleNotFoundError(\"No module named 'chaospy'\")\n",
      "The FabFlee flee_SA functionalities are not imported as a result.\n",
      "Error: failed to import settings module flee_vvp\n",
      "<class 'ModuleNotFoundError'>\n",
      "ModuleNotFoundError(\"No module named 'easyvvuq'\")\n",
      "The FabFlee flee_vvp functionalities are not imported as a result.\n",
      "\u001b[38;5;28m[loading plugin]\u001b[0;0m FabDummy ...\n",
      "\u001b[38;5;196m[Executing task]\u001b[0;0m dummy\n",
      "\u001b[38;5;196m[local]\u001b[0;0m ssh -Y -p 22 csstdds@localhost 'mkdir -p /home/csstdds/Codes/VECMA-tutorials/FabSim3/FabSim3/localhost_exe/FabSim/config_files; mkdir -p /home/csstdds/Codes/VECMA-tutorials/FabSim3/FabSim3/localhost_exe/FabSim/results; mkdir -p /home/csstdds/Codes/VECMA-tutorials/FabSim3/FabSim3/localhost_exe/FabSim/scripts; mkdir -p /home/csstdds/Codes/VECMA-tutorials/FabSim3/FabSim3/localhost_exe/FabSim/config_files/dummy_test'\n",
      "\u001b[38;5;196m[rsync_project]\u001b[0;0m rsync  --exclude={'file1.txt','dir1/*','dir2'} -pthrvz --rsh='ssh -p 22 ' /home/csstdds/Codes/VECMA-tutorials/FabSim3/FabSim3/plugins/FabDummy/config_files/dummy_test/ csstdds@localhost:/home/csstdds/Codes/VECMA-tutorials/FabSim3/FabSim3/localhost_exe/FabSim/config_files/dummy_test/\n",
      "\u001b[38;5;196m[local]\u001b[0;0m rsync  --exclude={'file1.txt','dir1/*','dir2'} -pthrvz --rsh='ssh -p 22 ' /home/csstdds/Codes/VECMA-tutorials/FabSim3/FabSim3/plugins/FabDummy/config_files/dummy_test/ csstdds@localhost:/home/csstdds/Codes/VECMA-tutorials/FabSim3/FabSim3/localhost_exe/FabSim/config_files/dummy_test/\n",
      "╭──────── job preparation phase ────────╮\n",
      "│ tmp_work_path = /tmp/69ajl3dz/FabSim3 │\n",
      "╰───────────────────────────────────────╯\n",
      "[MultiProcessingPool] Starting Process child : Name = ForkPoolWorker-1 Process-1:1 , PID = 21880,  parentPID = 21694 Max PoolSize = 11 requested PoolSize = 1\n",
      "({'memory': '2G', 'script': 'dummy', 'wall_time': '0:15:0'},)\n",
      "Submit tasks to multiprocessingPool : start ...\n",
      "Submit tasks to multiprocessingPool : done ...\n",
      "Waiting for tasks to be completed ...\n",
      "All tasks are finished ...\n",
      "╭─────────────────────────── job transmission phase ───────────────────────────╮\n",
      "│ Copy all generated files/folder from                                         │\n",
      "│ tmp_work_path = /tmp/69ajl3dz/FabSim3                                        │\n",
      "│ to                                                                           │\n",
      "│ work_path =                                                                  │\n",
      "│ /home/csstdds/Codes/VECMA-tutorials/FabSim3/FabSim3/localhost_exe/FabSim     │\n",
      "╰──────────────────────────────────────────────────────────────────────────────╯\n",
      "sending incremental file list\n",
      "./\n",
      "dummy_test_localhost_16.sh\n",
      "\n",
      "sent 123 bytes  received 44 bytes  111.33 bytes/sec\n",
      "total size is 484  speedup is 2.90\n",
      "sending incremental file list\n",
      "./\n",
      "dummy_test_localhost_16/\n",
      "dummy_test_localhost_16/dummy_test_localhost_16.sh\n",
      "dummy_test_localhost_16/env.yml\n",
      "\n",
      "sent 2.09K bytes  received 143 bytes  4.47K bytes/sec\n",
      "total size is 12.44K  speedup is 5.56\n",
      "\u001b[38;5;196m[rsync_project]\u001b[0;0m rsync   -pthrvz --rsh='ssh -p 22 ' /tmp/69ajl3dz/FabSim3/scripts/ csstdds@localhost:/home/csstdds/Codes/VECMA-tutorials/FabSim3/FabSim3/localhost_exe/FabSim/scripts/\n",
      "\u001b[38;5;196m[local]\u001b[0;0m rsync   -pthrvz --rsh='ssh -p 22 ' /tmp/69ajl3dz/FabSim3/scripts/ csstdds@localhost:/home/csstdds/Codes/VECMA-tutorials/FabSim3/FabSim3/localhost_exe/FabSim/scripts/\n",
      "\u001b[38;5;196m[rsync_project]\u001b[0;0m rsync   -pthrvz --rsh='ssh -p 22 ' /tmp/69ajl3dz/FabSim3/results/ csstdds@localhost:/home/csstdds/Codes/VECMA-tutorials/FabSim3/FabSim3/localhost_exe/FabSim/results/\n",
      "\u001b[38;5;196m[local]\u001b[0;0m rsync   -pthrvz --rsh='ssh -p 22 ' /tmp/69ajl3dz/FabSim3/results/ csstdds@localhost:/home/csstdds/Codes/VECMA-tutorials/FabSim3/FabSim3/localhost_exe/FabSim/results/\n",
      "╭──────────────────── job submission phase ─────────────────────╮\n",
      "│ Submit all generated job scripts to the target remote machine │\n",
      "╰───────────────────────────────────────────────────────────────╯\n",
      "sending incremental file list\n",
      "dummy.txt\n",
      "\n",
      "sent 145 bytes  received 35 bytes  360.00 bytes/sec\n",
      "total size is 55  speedup is 0.31\n",
      "Starting dummy job, which will print the contents of dummy.txt.\n",
      "This dummy test has been concluded with great success.\n",
      "\u001b[38;5;196m[local]\u001b[0;0m ssh -Y -p 22 csstdds@localhost '/bin/true || true &&  /home/csstdds/Codes/VECMA-tutorials/FabSim3/FabSim3/localhost_exe/FabSim/results/dummy_test_localhost_16/dummy_test_localhost_16.sh'\n",
      "Use \u001b[31mfabsim localhost fetch_results\u001b[0m to copy the results back to local machine!\n",
      "submitted job script = \n",
      "['/home/csstdds/Codes/VECMA-tutorials/FabSim3/FabSim3/localhost_exe/FabSim/results/dummy_test_localhost_16/dummy_test_localhost_16.sh']\n"
     ]
    },
    {
     "name": "stderr",
     "output_type": "stream",
     "text": [
      "  File \"/home/csstdds/Codes/VECMA-tutorials/FabSim3/FabSim3/plugins/FabFlee/FabFlee.py\", line 1415, in <module>\n",
      "    from plugins.FabFlee.SA.flee_SA import flee_init_SA\n",
      "  File \"/home/csstdds/Codes/VECMA-tutorials/FabSim3/FabSim3/plugins/FabFlee/SA/flee_SA.py\", line 6, in <module>\n",
      "    import chaospy as cp\n",
      "  File \"/home/csstdds/Codes/VECMA-tutorials/FabSim3/FabSim3/plugins/FabFlee/FabFlee.py\", line 1429, in <module>\n",
      "    from plugins.FabFlee.VVP.flee_vvp import flee_init_vvp_LoR\n",
      "  File \"/home/csstdds/Codes/VECMA-tutorials/FabSim3/FabSim3/plugins/FabFlee/VVP/flee_vvp.py\", line 21, in <module>\n",
      "    import easyvvuq as uq\n"
     ]
    }
   ],
   "source": [
    "%%bash\n",
    "\n",
    "cd FabSim3\n",
    "\n",
    "# Execute a dummy test job\n",
    "fabsim localhost dummy:dummy_test"
   ]
  },
  {
   "cell_type": "markdown",
   "metadata": {},
   "source": [
    "### Migration Modelling - FabFlee plugin\n",
    "\n",
    "The [FabFlee](https://github.com/djgroen/FabFlee) plugin  aims to automate the construction, execution and analysis of Flee, which is an agent-based modelling toolkit purpose-built for simulating the movement of individuals across geographical locations. An agent-based Flee simulation code is written in Python. For detailed information, see [Flee](https://flee.readthedocs.io/en/latest/index.html#) documentation.\n",
    "\n",
    "To install Flee, clone the repository by running:"
   ]
  },
  {
   "cell_type": "code",
   "execution_count": 9,
   "metadata": {
    "scrolled": true
   },
   "outputs": [
    {
     "name": "stdout",
     "output_type": "stream",
     "text": [
      "Already up-to-date.\n",
      "updating flee rep cloned in ->  /home/csstdds/Codes/VECMA-tutorials/FabSim3\n"
     ]
    }
   ],
   "source": [
    "%%bash\n",
    "\n",
    "# Clone the Flee repository\n",
    "if [ ! -d \"flee\" ]\n",
    "then\n",
    "    git clone -b master https://github.com/djgroen/flee.git\n",
    "    echo \"flee rep cloned in -> \" $PWD\n",
    "else\n",
    "    git -C flee pull\n",
    "    echo \"updating flee rep cloned in -> \" $PWD\n",
    "fi"
   ]
  },
  {
   "cell_type": "markdown",
   "metadata": {},
   "source": [
    "#### Installing required python modules for Flee \n",
    "\n",
    "To install all required Python packages, simply install:"
   ]
  },
  {
   "cell_type": "code",
   "execution_count": 10,
   "metadata": {},
   "outputs": [
    {
     "name": "stdout",
     "output_type": "stream",
     "text": [
      "Defaulting to user installation because normal site-packages is not writeable\n",
      "Requirement already satisfied: pandas in /home/csstdds/.local/lib/python3.8/site-packages (1.3.4)\n",
      "Requirement already satisfied: matplotlib in /home/csstdds/.local/lib/python3.8/site-packages (3.4.3)\n",
      "Requirement already satisfied: numpy in /home/csstdds/.local/lib/python3.8/site-packages (1.19.5)\n",
      "Requirement already satisfied: mpi4py in /home/csstdds/.local/lib/python3.8/site-packages (3.1.2)\n",
      "Requirement already satisfied: python-dateutil>=2.7.3 in /home/csstdds/.local/lib/python3.8/site-packages (from pandas) (2.8.2)\n",
      "Requirement already satisfied: pytz>=2017.3 in /usr/lib/python3/dist-packages (from pandas) (2018.3)\n",
      "Requirement already satisfied: cycler>=0.10 in /usr/lib/python3/dist-packages (from matplotlib) (0.10.0)\n",
      "Requirement already satisfied: pyparsing>=2.2.1 in /home/csstdds/.local/lib/python3.8/site-packages (from matplotlib) (2.4.7)\n",
      "Requirement already satisfied: kiwisolver>=1.0.1 in /home/csstdds/.local/lib/python3.8/site-packages (from matplotlib) (1.3.2)\n",
      "Requirement already satisfied: pillow>=6.2.0 in /home/csstdds/.local/lib/python3.8/site-packages (from matplotlib) (8.4.0)\n",
      "Requirement already satisfied: six>=1.5 in /home/csstdds/.local/lib/python3.8/site-packages (from python-dateutil>=2.7.3->pandas) (1.16.0)\n",
      "\u001b[33mWARNING: You are using pip version 21.3.1; however, version 22.0.2 is available.\n",
      "You should consider upgrading via the '/usr/bin/python3 -m pip install --upgrade pip' command.\u001b[0m\n"
     ]
    }
   ],
   "source": [
    "!pip install pandas matplotlib numpy mpi4py"
   ]
  },
  {
   "cell_type": "markdown",
   "metadata": {},
   "source": [
    "#### Installing FabFlee\n",
    "\n",
    "A FabSim3-based FabFlee plugin provides an environment for researchers and organisations to construct and modify simulations, instantiate and execute multiple runs for different policy decisions, as well as to validate and visualise the obtained results against the existing data.\n",
    "\n",
    "To install FabFlee, run `install_plugin` function using:"
   ]
  },
  {
   "cell_type": "code",
   "execution_count": 11,
   "metadata": {},
   "outputs": [
    {
     "name": "stdout",
     "output_type": "stream",
     "text": [
      "\u001b[38;5;28m[loading plugin]\u001b[0;0m FabFlee ...\n",
      "Error: failed to import settings module flee_SA\n",
      "<class 'ModuleNotFoundError'>\n",
      "ModuleNotFoundError(\"No module named 'chaospy'\")\n",
      "The FabFlee flee_SA functionalities are not imported as a result.\n",
      "Error: failed to import settings module flee_vvp\n",
      "<class 'ModuleNotFoundError'>\n",
      "ModuleNotFoundError(\"No module named 'easyvvuq'\")\n",
      "The FabFlee flee_vvp functionalities are not imported as a result.\n",
      "\u001b[38;5;28m[loading plugin]\u001b[0;0m FabDummy ...\n",
      "\u001b[38;5;196m[Executing task]\u001b[0;0m install_plugin\n",
      "\n",
      "\n",
      "╭────────────────────────── WARNING ───────────────────────────╮\n",
      "│ The FabFlee plugin directory is already exists.              │\n",
      "│ To keep your previous folder, we rename it to: FabFlee_BC753 │\n",
      "╰──────────────────────────────────────────────────────────────╯\n",
      "\n",
      "\n",
      "\u001b[38;5;196m[local]\u001b[0;0m mkdir -p /home/csstdds/Codes/VECMA-tutorials/FabSim3/FabSim3/plugins\n",
      "\u001b[38;5;196m[local]\u001b[0;0m rm -rf /home/csstdds/Codes/VECMA-tutorials/FabSim3/FabSim3/plugins/FabFlee\n",
      "\u001b[38;5;196m[local]\u001b[0;0m git clone https://github.com/djgroen/FabFlee.git /home/csstdds/Codes/VECMA-tutorials/FabSim3/FabSim3/plugins/FabFlee\n",
      "FabFlee plugin installed...\n"
     ]
    },
    {
     "name": "stderr",
     "output_type": "stream",
     "text": [
      "Cloning into '/home/csstdds/Codes/VECMA-tutorials/FabSim3/FabSim3/plugins/FabFlee'...\n",
      "Checking out files:  30% (322/1053)   \r",
      "Checking out files:  31% (327/1053)   \r",
      "Checking out files:  32% (337/1053)   \r",
      "Checking out files:  33% (348/1053)   \r",
      "Checking out files:  34% (359/1053)   \r",
      "Checking out files:  35% (369/1053)   \r",
      "Checking out files:  36% (380/1053)   \r",
      "Checking out files:  37% (390/1053)   \r",
      "Checking out files:  38% (401/1053)   \r",
      "Checking out files:  39% (411/1053)   \r",
      "Checking out files:  40% (422/1053)   \r",
      "Checking out files:  41% (432/1053)   \r",
      "Checking out files:  42% (443/1053)   \r",
      "Checking out files:  43% (453/1053)   \r",
      "Checking out files:  44% (464/1053)   \r",
      "Checking out files:  45% (474/1053)   \r",
      "Checking out files:  46% (485/1053)   \r",
      "Checking out files:  47% (495/1053)   \r",
      "Checking out files:  48% (506/1053)   \r",
      "Checking out files:  49% (516/1053)   \r",
      "Checking out files:  50% (527/1053)   \r",
      "Checking out files:  51% (538/1053)   \r",
      "Checking out files:  52% (548/1053)   \r",
      "Checking out files:  53% (559/1053)   \r",
      "Checking out files:  54% (569/1053)   \r",
      "Checking out files:  55% (580/1053)   \r",
      "Checking out files:  56% (590/1053)   \r",
      "Checking out files:  57% (601/1053)   \r",
      "Checking out files:  58% (611/1053)   \r",
      "Checking out files:  59% (622/1053)   \r",
      "Checking out files:  60% (632/1053)   \r",
      "Checking out files:  61% (643/1053)   \r",
      "Checking out files:  62% (653/1053)   \r",
      "Checking out files:  63% (664/1053)   \r",
      "Checking out files:  64% (674/1053)   \r",
      "Checking out files:  65% (685/1053)   \r",
      "Checking out files:  66% (695/1053)   \r",
      "Checking out files:  67% (706/1053)   \r",
      "Checking out files:  68% (717/1053)   \r",
      "Checking out files:  69% (727/1053)   \r",
      "Checking out files:  70% (738/1053)   \r",
      "Checking out files:  71% (748/1053)   \r",
      "Checking out files:  72% (759/1053)   \r",
      "Checking out files:  73% (769/1053)   \r",
      "Checking out files:  74% (780/1053)   \r",
      "Checking out files:  75% (790/1053)   \r",
      "Checking out files:  76% (801/1053)   \r",
      "Checking out files:  77% (811/1053)   \r",
      "Checking out files:  78% (822/1053)   \r",
      "Checking out files:  79% (832/1053)   \r",
      "Checking out files:  80% (843/1053)   \r",
      "Checking out files:  81% (853/1053)   \r",
      "Checking out files:  82% (864/1053)   \r",
      "Checking out files:  83% (874/1053)   \r",
      "Checking out files:  84% (885/1053)   \r",
      "Checking out files:  85% (896/1053)   \r",
      "Checking out files:  86% (906/1053)   \r",
      "Checking out files:  87% (917/1053)   \r",
      "Checking out files:  88% (927/1053)   \r",
      "Checking out files:  89% (938/1053)   \r",
      "Checking out files:  90% (948/1053)   \r",
      "Checking out files:  91% (959/1053)   \r",
      "Checking out files:  92% (969/1053)   \r",
      "Checking out files:  93% (980/1053)   \r",
      "Checking out files:  94% (990/1053)   \r",
      "Checking out files:  95% (1001/1053)   \r",
      "Checking out files:  96% (1011/1053)   \r",
      "Checking out files:  97% (1022/1053)   \r",
      "Checking out files:  98% (1032/1053)   \r",
      "Checking out files:  99% (1043/1053)   \r",
      "Checking out files: 100% (1053/1053)   \r",
      "Checking out files: 100% (1053/1053), done.\n",
      "  File \"/home/csstdds/Codes/VECMA-tutorials/FabSim3/FabSim3/plugins/FabFlee/FabFlee.py\", line 1415, in <module>\n",
      "    from plugins.FabFlee.SA.flee_SA import flee_init_SA\n",
      "  File \"/home/csstdds/Codes/VECMA-tutorials/FabSim3/FabSim3/plugins/FabFlee/SA/flee_SA.py\", line 6, in <module>\n",
      "    import chaospy as cp\n",
      "  File \"/home/csstdds/Codes/VECMA-tutorials/FabSim3/FabSim3/plugins/FabFlee/FabFlee.py\", line 1429, in <module>\n",
      "    from plugins.FabFlee.VVP.flee_vvp import flee_init_vvp_LoR\n",
      "  File \"/home/csstdds/Codes/VECMA-tutorials/FabSim3/FabSim3/plugins/FabFlee/VVP/flee_vvp.py\", line 21, in <module>\n",
      "    import easyvvuq as uq\n"
     ]
    }
   ],
   "source": [
    "%%bash\n",
    "\n",
    "cd FabSim3\n",
    "\n",
    "# Install FabFlee \n",
    "fabsim localhost install_plugin:FabFlee"
   ]
  },
  {
   "cell_type": "markdown",
   "metadata": {},
   "source": [
    "#### Adding the Flee directory location to your machine_user.yml file\n",
    "\n",
    "Since FabFlee is a plugin for the Flee simulation code, add the current location of the Flee directory to the `machines_user.yml` configuration file:"
   ]
  },
  {
   "cell_type": "code",
   "execution_count": 12,
   "metadata": {},
   "outputs": [],
   "source": [
    "%%bash\n",
    "\n",
    "PORT=22\n",
    "\n",
    "# Configure machines_FabFlee_user.yml\n",
    "cp FabSim3/plugins/FabFlee/machines_FabFlee_user_example.yml FabSim3/plugins/FabFlee/machines_FabFlee_user.yml"
   ]
  },
  {
   "cell_type": "code",
   "execution_count": 13,
   "metadata": {},
   "outputs": [],
   "source": [
    "!sed -i  \"s#<PATH_TO_FLEE>#$PWD/flee#g\" FabSim3/plugins/FabFlee/machines_FabFlee_user.yml"
   ]
  },
  {
   "cell_type": "markdown",
   "metadata": {},
   "source": [
    "To view changes in `machines_user.yml`, simply run the following"
   ]
  },
  {
   "cell_type": "code",
   "execution_count": 14,
   "metadata": {},
   "outputs": [
    {
     "name": "stdout",
     "output_type": "stream",
     "text": [
      "localhost:\n",
      "  FLEE_TYPE_CHECK: false\n",
      "  cityGraph_API_KEY: 5b3ce3597851110001cf62481fe17f28d29945ecb2ca9d2f51f12738\n",
      "  cityGraph_CITIES_LIMIT: ''\n",
      "  cityGraph_COUNTRY_CODE: ''\n",
      "  cityGraph_POPULATION_LIMIT: ''\n",
      "  cityGraph_location: ~/Codes/citygraph\n",
      "  flare_location: <PATH_TO_FLARE>\n",
      "  flee_location: /home/csstdds/Codes/VECMA-tutorials/FabSim3/flee\n",
      "\n"
     ]
    }
   ],
   "source": [
    "machines_user_yml = yaml.load(open(\"FabSim3/plugins/FabFlee/machines_FabFlee_user.yml\"), Loader=yaml.FullLoader)\n",
    "\n",
    "print(yaml.dump({'localhost': machines_user_yml['localhost']}))\n"
   ]
  },
  {
   "cell_type": "markdown",
   "metadata": {},
   "source": [
    "#### Executing a migration conflict scenario\n",
    "\n",
    "To execute FabFlee job on a localhost, execute one of the conflict instances using `flee` function in `FabSim3/plugins/FabFlee/config_files`, such as Mali (mali, simulation period of 300 days), Burundi (burundi, simulation period of 396 days), South Sudan (ssudan, simulation period of 604 days) and Central African Republic (car, simulation period of 820 days). \n",
    "\n",
    "For illustration purposes, the conflict scenario of Mali is executed to obtain the simulation output for a simulation period of 50 days, which can be changed up to 300 days."
   ]
  },
  {
   "cell_type": "code",
   "execution_count": 15,
   "metadata": {},
   "outputs": [
    {
     "name": "stdout",
     "output_type": "stream",
     "text": [
      "\u001b[38;5;28m[loading plugin]\u001b[0;0m FabFlee ...\n",
      "Error: failed to import settings module flee_SA\n",
      "<class 'ModuleNotFoundError'>\n",
      "ModuleNotFoundError(\"No module named 'chaospy'\")\n",
      "The FabFlee flee_SA functionalities are not imported as a result.\n",
      "Error: failed to import settings module flee_vvp\n",
      "<class 'ModuleNotFoundError'>\n",
      "ModuleNotFoundError(\"No module named 'easyvvuq'\")\n",
      "The FabFlee flee_vvp functionalities are not imported as a result.\n",
      "\u001b[38;5;28m[loading plugin]\u001b[0;0m FabDummy ...\n",
      "\u001b[38;5;196m[Executing task]\u001b[0;0m flee\n",
      "calling task flee from plugin FabFlee\n",
      "╭─ New/Updated environment variables from FabFlee plugin ─╮\n",
      "│ env :                                                   │\n",
      "│   +++ UNHCR_uncertainty is a new added key              │\n",
      "│ env :                                                   │\n",
      "│   +++ FLEE_TYPE_CHECK is a new added key                │\n",
      "│ env :                                                   │\n",
      "│   +++ flee_location is a new added key                  │\n",
      "│ env :                                                   │\n",
      "│   +++ flare_location is a new added key                 │\n",
      "│ env :                                                   │\n",
      "│   +++ cityGraph_location is a new added key             │\n",
      "│ env :                                                   │\n",
      "│   +++ cityGraph_API_KEY is a new added key              │\n",
      "│ env :                                                   │\n",
      "│   +++ cityGraph_COUNTRY_CODE is a new added key         │\n",
      "│ env :                                                   │\n",
      "│   +++ cityGraph_POPULATION_LIMIT is a new added key     │\n",
      "│ env :                                                   │\n",
      "│   +++ cityGraph_CITIES_LIMIT is a new added key         │\n",
      "╰─────────────────────────────────────────────────────────╯\n",
      "sending incremental file list\n",
      "./\n",
      "acled.csv\n",
      "run.py\n",
      "run_UNHCR_uncertainty.py\n",
      "run_par.py\n",
      "simsetting.csv\n",
      "example_sweepdir/\n",
      "example_sweepdir/100/\n",
      "example_sweepdir/100/simsetting.csv\n",
      "example_sweepdir/200/\n",
      "example_sweepdir/200/simsetting.csv\n",
      "example_sweepdir/400/\n",
      "example_sweepdir/400/simsetting.csv\n",
      "input_csv/\n",
      "input_csv/closures.csv\n",
      "input_csv/conflict_period.csv\n",
      "input_csv/conflicts.csv\n",
      "input_csv/locations.csv\n",
      "input_csv/registration_corrections.csv\n",
      "input_csv/routes.csv\n",
      "source_data/\n",
      "source_data/bf-bobo.csv\n",
      "source_data/bf-goudoubo.csv\n",
      "source_data/bf-mentao.csv\n",
      "source_data/bf-ouagadougou.csv\n",
      "source_data/camp_issues.md\n",
      "source_data/data_layout.csv\n",
      "source_data/mau-fassala-mbera.csv\n",
      "source_data/mau-fassala.csv\n",
      "source_data/mau-mbera.csv\n",
      "source_data/nig-abala.csv\n",
      "source_data/nig-intikane.csv\n",
      "source_data/nig-mangaize.csv\n",
      "source_data/nig-niamey.csv\n",
      "source_data/nig-tabareybarey.csv\n",
      "source_data/refugees.csv\n",
      "source_data/religion.csv\n",
      "source_data/source-data-unhcr-pdf-reports.txt\n",
      "source_data/tribes.csv\n",
      "\n",
      "sent 2.31K bytes  received 2.17K bytes  8.95K bytes/sec\n",
      "total size is 160.35K  speedup is 35.82\n",
      "\u001b[38;5;196m[local]\u001b[0;0m ssh -Y -p 22 csstdds@localhost 'mkdir -p /home/csstdds/Codes/VECMA-tutorials/FabSim3/FabSim3/localhost_exe/FabSim/config_files; mkdir -p /home/csstdds/Codes/VECMA-tutorials/FabSim3/FabSim3/localhost_exe/FabSim/results; mkdir -p /home/csstdds/Codes/VECMA-tutorials/FabSim3/FabSim3/localhost_exe/FabSim/scripts; mkdir -p /home/csstdds/Codes/VECMA-tutorials/FabSim3/FabSim3/localhost_exe/FabSim/config_files/mali'\n",
      "\u001b[38;5;196m[rsync_project]\u001b[0;0m rsync  --exclude={'file1.txt','dir1/*','dir2'} -pthrvz --rsh='ssh -p 22 ' /home/csstdds/Codes/VECMA-tutorials/FabSim3/FabSim3/plugins/FabFlee/config_files/mali/ csstdds@localhost:/home/csstdds/Codes/VECMA-tutorials/FabSim3/FabSim3/localhost_exe/FabSim/config_files/mali/\n",
      "\u001b[38;5;196m[local]\u001b[0;0m rsync  --exclude={'file1.txt','dir1/*','dir2'} -pthrvz --rsh='ssh -p 22 ' /home/csstdds/Codes/VECMA-tutorials/FabSim3/FabSim3/plugins/FabFlee/config_files/mali/ csstdds@localhost:/home/csstdds/Codes/VECMA-tutorials/FabSim3/FabSim3/localhost_exe/FabSim/config_files/mali/\n",
      "╭──────── job preparation phase ────────╮\n",
      "│ tmp_work_path = /tmp/yjl3tbz5/FabSim3 │\n",
      "╰───────────────────────────────────────╯\n",
      "[MultiProcessingPool] Starting Process child : Name = ForkPoolWorker-1 Process-1:1 , PID = 22245,  parentPID = 22119 Max PoolSize = 11 requested PoolSize = 1\n",
      "({'memory': '2G', 'script': 'flee', 'wall_time': '0:15:0'},)\n",
      "Submit tasks to multiprocessingPool : start ...\n",
      "Submit tasks to multiprocessingPool : done ...\n",
      "Waiting for tasks to be completed ...\n",
      "All tasks are finished ...\n",
      "╭─────────────────────────── job transmission phase ───────────────────────────╮\n",
      "│ Copy all generated files/folder from                                         │\n",
      "│ tmp_work_path = /tmp/yjl3tbz5/FabSim3                                        │\n",
      "│ to                                                                           │\n",
      "│ work_path =                                                                  │\n",
      "│ /home/csstdds/Codes/VECMA-tutorials/FabSim3/FabSim3/localhost_exe/FabSim     │\n",
      "╰──────────────────────────────────────────────────────────────────────────────╯\n",
      "sending incremental file list\n",
      "./\n",
      "mali_localhost_16.sh\n",
      "\n",
      "sent 119 bytes  received 50 bytes  112.67 bytes/sec\n",
      "total size is 961  speedup is 5.69\n",
      "sending incremental file list\n",
      "./\n",
      "mali_localhost_16/\n",
      "mali_localhost_16/env.yml\n",
      "mali_localhost_16/mali_localhost_16.sh\n",
      "\n",
      "sent 345 bytes  received 185 bytes  1.06K bytes/sec\n",
      "total size is 13.22K  speedup is 24.95\n",
      "\u001b[38;5;196m[rsync_project]\u001b[0;0m rsync   -pthrvz --rsh='ssh -p 22 ' /tmp/yjl3tbz5/FabSim3/scripts/ csstdds@localhost:/home/csstdds/Codes/VECMA-tutorials/FabSim3/FabSim3/localhost_exe/FabSim/scripts/\n",
      "\u001b[38;5;196m[local]\u001b[0;0m rsync   -pthrvz --rsh='ssh -p 22 ' /tmp/yjl3tbz5/FabSim3/scripts/ csstdds@localhost:/home/csstdds/Codes/VECMA-tutorials/FabSim3/FabSim3/localhost_exe/FabSim/scripts/\n",
      "\u001b[38;5;196m[rsync_project]\u001b[0;0m rsync   -pthrvz --rsh='ssh -p 22 ' /tmp/yjl3tbz5/FabSim3/results/ csstdds@localhost:/home/csstdds/Codes/VECMA-tutorials/FabSim3/FabSim3/localhost_exe/FabSim/results/\n",
      "\u001b[38;5;196m[local]\u001b[0;0m rsync   -pthrvz --rsh='ssh -p 22 ' /tmp/yjl3tbz5/FabSim3/results/ csstdds@localhost:/home/csstdds/Codes/VECMA-tutorials/FabSim3/FabSim3/localhost_exe/FabSim/results/\n",
      "╭──────────────────── job submission phase ─────────────────────╮\n",
      "│ Submit all generated job scripts to the target remote machine │\n",
      "╰───────────────────────────────────────────────────────────────╯\n",
      "sending incremental file list\n",
      "acled.csv\n",
      "run.py\n",
      "run_UNHCR_uncertainty.py\n",
      "run_par.py\n",
      "simsetting.csv\n",
      "example_sweepdir/\n",
      "example_sweepdir/100/\n",
      "example_sweepdir/100/simsetting.csv\n",
      "example_sweepdir/200/\n",
      "example_sweepdir/200/simsetting.csv\n",
      "example_sweepdir/400/\n",
      "example_sweepdir/400/simsetting.csv\n",
      "input_csv/\n",
      "input_csv/closures.csv\n",
      "input_csv/conflict_period.csv\n",
      "input_csv/conflicts.csv\n",
      "input_csv/locations.csv\n",
      "input_csv/registration_corrections.csv\n",
      "input_csv/routes.csv\n",
      "source_data/\n",
      "source_data/bf-bobo.csv\n",
      "source_data/bf-goudoubo.csv\n",
      "source_data/bf-mentao.csv\n",
      "source_data/bf-ouagadougou.csv\n",
      "source_data/camp_issues.md\n",
      "source_data/data_layout.csv\n",
      "source_data/mau-fassala-mbera.csv\n",
      "source_data/mau-fassala.csv\n",
      "source_data/mau-mbera.csv\n",
      "source_data/nig-abala.csv\n",
      "source_data/nig-intikane.csv\n",
      "source_data/nig-mangaize.csv\n",
      "source_data/nig-niamey.csv\n",
      "source_data/nig-tabareybarey.csv\n",
      "source_data/refugees.csv\n",
      "source_data/religion.csv\n",
      "source_data/source-data-unhcr-pdf-reports.txt\n",
      "source_data/tribes.csv\n",
      "\n",
      "sent 36.15K bytes  received 656 bytes  73.61K bytes/sec\n",
      "total size is 160.35K  speedup is 4.36\n",
      "\u001b[38;5;196m[local]\u001b[0;0m ssh -Y -p 22 csstdds@localhost '/bin/true || true &&  /home/csstdds/Codes/VECMA-tutorials/FabSim3/FabSim3/localhost_exe/FabSim/results/mali_localhost_16/mali_localhost_16.sh'\n",
      "Use \u001b[31mfabsim localhost fetch_results\u001b[0m to copy the results back to local machine!\n",
      "submitted job script = \n",
      "['/home/csstdds/Codes/VECMA-tutorials/FabSim3/FabSim3/localhost_exe/FabSim/results/mali_localhost_16/mali_localhost_16.sh']\n"
     ]
    },
    {
     "name": "stderr",
     "output_type": "stream",
     "text": [
      "  File \"/home/csstdds/Codes/VECMA-tutorials/FabSim3/FabSim3/plugins/FabFlee/FabFlee.py\", line 1415, in <module>\n",
      "    from plugins.FabFlee.SA.flee_SA import flee_init_SA\n",
      "  File \"/home/csstdds/Codes/VECMA-tutorials/FabSim3/FabSim3/plugins/FabFlee/SA/flee_SA.py\", line 6, in <module>\n",
      "    import chaospy as cp\n",
      "  File \"/home/csstdds/Codes/VECMA-tutorials/FabSim3/FabSim3/plugins/FabFlee/FabFlee.py\", line 1429, in <module>\n",
      "    from plugins.FabFlee.VVP.flee_vvp import flee_init_vvp_LoR\n",
      "  File \"/home/csstdds/Codes/VECMA-tutorials/FabSim3/FabSim3/plugins/FabFlee/VVP/flee_vvp.py\", line 21, in <module>\n",
      "    import easyvvuq as uq\n",
      "Location name: Kidal, X: 18.444305, Y: 1.401523, movechance: 1.0, cap: -1, pop: 25617, country: Mali, conflict? True, camp? False\n",
      "Location name: Timbuktu, X: 16.78026, Y: -3.00159, movechance: 1.0, cap: -1, pop: 54453, country: Mali, conflict? True, camp? False\n",
      "Location name: Niafounke, X: 15.9316, Y: -3.9908, movechance: 1.0, cap: -1, pop: 1000, country: Mali, conflict? True, camp? False\n",
      "Location name: Menaka, X: 15.9191, Y: 2.3991, movechance: 0.3, cap: -1, pop: 20702, country: Mali, conflict? False, camp? False\n",
      "Location name: Tenenkou, X: 14.5004532, Y: -4.8748448, movechance: 0.3, cap: -1, pop: 11310, country: Mali, conflict? False, camp? False\n",
      "Location name: Dire, X: 16.268, Y: -3.397, movechance: 0.3, cap: -1, pop: 22365, country: Mali, conflict? False, camp? False\n",
      "Location name: Gao, X: 16.27091, Y: -0.04021, movechance: 0.3, cap: -1, pop: 86633, country: Mali, conflict? False, camp? False\n",
      "Location name: Bourem, X: 16.958, Y: -0.3462, movechance: 0.3, cap: -1, pop: 27486, country: Mali, conflict? False, camp? False\n",
      "Location name: Ansongo, X: 15.6639, Y: 0.5067, movechance: 0.3, cap: -1, pop: 32709, country: Mali, conflict? False, camp? False\n",
      "Location name: Bamako, X: 12.6494, Y: -8.0005, movechance: 0.3, cap: -1, pop: 1809106, country: Mali, conflict? False, camp? False\n",
      "Location name: Douentza, X: 15.0071, Y: -2.953, movechance: 0.3, cap: -1, pop: 28005, country: Mali, conflict? False, camp? False\n",
      "Location name: Lere, X: 14.2116, Y: -3.0654, movechance: 0.3, cap: -1, pop: 16072, country: Mali, conflict? False, camp? False\n",
      "Location name: Mopti, X: 14.4877, Y: -4.1887, movechance: 0.3, cap: -1, pop: 148456, country: Mali, conflict? False, camp? False\n",
      "Location name: Konna, X: 14.944, Y: -3.8904, movechance: 0.3, cap: -1, pop: 36767, country: Mali, conflict? False, camp? False\n",
      "Location name: Segou, X: 13.4427, Y: -6.2687, movechance: 0.3, cap: -1, pop: 130690, country: Mali, conflict? False, camp? False\n",
      "Location name: Goundam, X: 16.417, Y: -3.6639, movechance: 0.3, cap: -1, pop: 16253, country: Mali, conflict? False, camp? False\n",
      "Location name: Fassala-Mbera, X: 15.639012, Y: -5.751422, movechance: 0.001, cap: 75882, pop: 0, country: Mauritania, conflict? False, camp? True\n",
      "Location name: Mentao, X: 13.953801, Y: -1.6743223, movechance: 0.001, cap: 6905, pop: 0, country: Burkina_Faso, conflict? False, camp? True\n",
      "Location name: Bobo-Dioulasso, X: 11.1757, Y: -4.297, movechance: 0.001, cap: 1926, pop: 0, country: Burkina_Faso, conflict? False, camp? True\n",
      "Location name: Abala, X: 14.9502, Y: 5.0835, movechance: 0.001, cap: 11387, pop: 0, country: Niger, conflict? False, camp? True\n",
      "Location name: Mangaize, X: 14.6836, Y: 1.9535, movechance: 0.001, cap: 3435, pop: 0, country: Niger, conflict? False, camp? True\n",
      "Location name: Niamey, X: 13.5285, Y: 2.1156, movechance: 0.001, cap: 6327, pop: 0, country: Niger, conflict? False, camp? True\n",
      "Location name: Tabareybarey, X: 14.7786, Y: 0.9508, movechance: 0.001, cap: 6198, pop: 0, country: Niger, conflict? False, camp? True\n",
      "Time = 0. Adding a new conflict zone [Kidal]\n",
      "Time = 0. Adding a new conflict zone [Timbuktu]\n",
      "Time = 0. Adding a new conflict zone [Niafounke]\n",
      "Time = 1. Adding a new conflict zone [Menaka]\n",
      "Time = 2. Adding a new conflict zone [Tenenkou]\n",
      "Time = 13. Adding a new conflict zone [Dire]\n",
      "Time = 23. Adding a new conflict zone [Gao]\n",
      "Time = 30. Adding a new conflict zone [Bourem]\n",
      "Time = 30. Adding a new conflict zone [Ansongo]\n"
     ]
    }
   ],
   "source": [
    "%%bash\n",
    "\n",
    "cd FabSim3\n",
    "\n",
    "fabsim localhost flee:mali,simulation_period=50"
   ]
  },
  {
   "cell_type": "markdown",
   "metadata": {},
   "source": [
    "#### Fetching the simulation results to `FabSim3/results` directory\n",
    "\n",
    "After the job has finished, a message will be printed indicating where the output data resides. To fetch and copy the obtained results to `FabSim3/results` directory, simply execute:"
   ]
  },
  {
   "cell_type": "code",
   "execution_count": 16,
   "metadata": {
    "scrolled": true
   },
   "outputs": [
    {
     "name": "stdout",
     "output_type": "stream",
     "text": [
      "receiving incremental file list\n",
      "./\n",
      "dummy_test_localhost_16/\n",
      "dummy_test_localhost_16/dummy.txt\n",
      "dummy_test_localhost_16/dummy_test_localhost_16.sh\n",
      "dummy_test_localhost_16/env.log\n",
      "dummy_test_localhost_16/env.yml\n",
      "mali_localhost_16/\n",
      "mali_localhost_16/acled.csv\n",
      "mali_localhost_16/env.log\n",
      "mali_localhost_16/env.yml\n",
      "mali_localhost_16/mali_localhost_16.sh\n",
      "mali_localhost_16/out.csv\n",
      "mali_localhost_16/run.py\n",
      "mali_localhost_16/run_UNHCR_uncertainty.py\n",
      "mali_localhost_16/run_par.py\n",
      "mali_localhost_16/simsetting.csv\n",
      "mali_localhost_16/example_sweepdir/\n",
      "mali_localhost_16/example_sweepdir/100/\n",
      "mali_localhost_16/example_sweepdir/100/simsetting.csv\n",
      "mali_localhost_16/example_sweepdir/200/\n",
      "mali_localhost_16/example_sweepdir/200/simsetting.csv\n",
      "mali_localhost_16/example_sweepdir/400/\n",
      "mali_localhost_16/example_sweepdir/400/simsetting.csv\n",
      "mali_localhost_16/input_csv/\n",
      "mali_localhost_16/input_csv/closures.csv\n",
      "mali_localhost_16/input_csv/conflict_period.csv\n",
      "mali_localhost_16/input_csv/conflicts.csv\n",
      "mali_localhost_16/input_csv/locations.csv\n",
      "mali_localhost_16/input_csv/registration_corrections.csv\n",
      "mali_localhost_16/input_csv/routes.csv\n",
      "mali_localhost_16/source_data/\n",
      "mali_localhost_16/source_data/bf-bobo.csv\n",
      "mali_localhost_16/source_data/bf-goudoubo.csv\n",
      "mali_localhost_16/source_data/bf-mentao.csv\n",
      "mali_localhost_16/source_data/bf-ouagadougou.csv\n",
      "mali_localhost_16/source_data/camp_issues.md\n",
      "mali_localhost_16/source_data/data_layout.csv\n",
      "mali_localhost_16/source_data/mau-fassala-mbera.csv\n",
      "mali_localhost_16/source_data/mau-fassala.csv\n",
      "mali_localhost_16/source_data/mau-mbera.csv\n",
      "mali_localhost_16/source_data/nig-abala.csv\n",
      "mali_localhost_16/source_data/nig-intikane.csv\n",
      "mali_localhost_16/source_data/nig-mangaize.csv\n",
      "mali_localhost_16/source_data/nig-niamey.csv\n",
      "mali_localhost_16/source_data/nig-tabareybarey.csv\n",
      "mali_localhost_16/source_data/refugees.csv\n",
      "mali_localhost_16/source_data/religion.csv\n",
      "mali_localhost_16/source_data/source-data-unhcr-pdf-reports.txt\n",
      "mali_localhost_16/source_data/tribes.csv\n",
      "validation_localhost_4/RUNS/burundi2015/\n",
      "validation_localhost_4/RUNS/car2013/\n",
      "validation_localhost_4/RUNS/ethiopia2020/\n",
      "validation_localhost_4/RUNS/mali2012/\n",
      "validation_localhost_4/RUNS/nigeria2016/\n",
      "validation_localhost_4/RUNS/ssudan2013/\n",
      "validation_localhost_4/RUNS/ssudan2016/\n",
      "validation_localhost_4/RUNS/syria2013/\n",
      "\n",
      "sent 2.67K bytes  received 16.08K bytes  12.50K bytes/sec\n",
      "total size is 2.55M  speedup is 135.83\n",
      "\u001b[38;5;28m[loading plugin]\u001b[0;0m FabFlee ...\n",
      "Error: failed to import settings module flee_SA\n",
      "<class 'ModuleNotFoundError'>\n",
      "ModuleNotFoundError(\"No module named 'chaospy'\")\n",
      "The FabFlee flee_SA functionalities are not imported as a result.\n",
      "Error: failed to import settings module flee_vvp\n",
      "<class 'ModuleNotFoundError'>\n",
      "ModuleNotFoundError(\"No module named 'easyvvuq'\")\n",
      "The FabFlee flee_vvp functionalities are not imported as a result.\n",
      "\u001b[38;5;28m[loading plugin]\u001b[0;0m FabDummy ...\n",
      "\u001b[38;5;196m[Executing task]\u001b[0;0m fetch_results\n",
      "\u001b[38;5;196m[local]\u001b[0;0m rsync -pthrvz -e 'ssh -p 22' csstdds@localhost:/home/csstdds/Codes/VECMA-tutorials/FabSim3/FabSim3/localhost_exe/FabSim/results// /home/csstdds/Codes/VECMA-tutorials/FabSim3/FabSim3/results/\n"
     ]
    },
    {
     "name": "stderr",
     "output_type": "stream",
     "text": [
      "  File \"/home/csstdds/Codes/VECMA-tutorials/FabSim3/FabSim3/plugins/FabFlee/FabFlee.py\", line 1415, in <module>\n",
      "    from plugins.FabFlee.SA.flee_SA import flee_init_SA\n",
      "  File \"/home/csstdds/Codes/VECMA-tutorials/FabSim3/FabSim3/plugins/FabFlee/SA/flee_SA.py\", line 6, in <module>\n",
      "    import chaospy as cp\n",
      "  File \"/home/csstdds/Codes/VECMA-tutorials/FabSim3/FabSim3/plugins/FabFlee/FabFlee.py\", line 1429, in <module>\n",
      "    from plugins.FabFlee.VVP.flee_vvp import flee_init_vvp_LoR\n",
      "  File \"/home/csstdds/Codes/VECMA-tutorials/FabSim3/FabSim3/plugins/FabFlee/VVP/flee_vvp.py\", line 21, in <module>\n",
      "    import easyvvuq as uq\n"
     ]
    }
   ],
   "source": [
    "%%bash\n",
    "\n",
    "cd FabSim3\n",
    "\n",
    "fabsim localhost fetch_results"
   ]
  },
  {
   "cell_type": "markdown",
   "metadata": {},
   "source": [
    "#### Plotting the simulation output\n",
    "\n",
    "After fetching the simulation results, analyse and interpret simulation output by plotting graphs for individual camps comparing simulation output and UNHCR data, as well as average relative difference graph for the simulated conflict situation."
   ]
  },
  {
   "cell_type": "code",
   "execution_count": 17,
   "metadata": {},
   "outputs": [
    {
     "name": "stdout",
     "output_type": "stream",
     "text": [
      "\u001b[38;5;28m[loading plugin]\u001b[0;0m FabFlee ...\n",
      "Error: failed to import settings module flee_SA\n",
      "<class 'ModuleNotFoundError'>\n",
      "ModuleNotFoundError(\"No module named 'chaospy'\")\n",
      "The FabFlee flee_SA functionalities are not imported as a result.\n",
      "Error: failed to import settings module flee_vvp\n",
      "<class 'ModuleNotFoundError'>\n",
      "ModuleNotFoundError(\"No module named 'easyvvuq'\")\n",
      "The FabFlee flee_vvp functionalities are not imported as a result.\n",
      "\u001b[38;5;28m[loading plugin]\u001b[0;0m FabDummy ...\n",
      "\u001b[38;5;196m[Executing task]\u001b[0;0m plot_output\n",
      "calling task plot_output from plugin FabFlee\n",
      "╭─ New/Updated environment variables from FabFlee plugin ─╮\n",
      "│ env :                                                   │\n",
      "│   +++ UNHCR_uncertainty is a new added key              │\n",
      "│ env :                                                   │\n",
      "│   +++ FLEE_TYPE_CHECK is a new added key                │\n",
      "│ env :                                                   │\n",
      "│   +++ flee_location is a new added key                  │\n",
      "│ env :                                                   │\n",
      "│   +++ flare_location is a new added key                 │\n",
      "│ env :                                                   │\n",
      "│   +++ cityGraph_location is a new added key             │\n",
      "│ env :                                                   │\n",
      "│   +++ cityGraph_API_KEY is a new added key              │\n",
      "│ env :                                                   │\n",
      "│   +++ cityGraph_COUNTRY_CODE is a new added key         │\n",
      "│ env :                                                   │\n",
      "│   +++ cityGraph_POPULATION_LIMIT is a new added key     │\n",
      "│ env :                                                   │\n",
      "│   +++ cityGraph_CITIES_LIMIT is a new added key         │\n",
      "╰─────────────────────────────────────────────────────────╯\n",
      "\u001b[38;5;196m[local]\u001b[0;0m mkdir -p /home/csstdds/Codes/VECMA-tutorials/FabSim3/FabSim3/results/mali_localhost_16/out\n",
      "mali - single-scale model: Averaged error normal:  0.42815812339101433 , rescaled:  0.22795084596951054 , len:  50\n",
      "The results of Serial mode simulation are stored in /home/csstdds/Codes/VECMA-tutorials/FabSim3/FabSim3/results/mali_localhost_16/out directory.\n"
     ]
    },
    {
     "name": "stderr",
     "output_type": "stream",
     "text": [
      "  File \"/home/csstdds/Codes/VECMA-tutorials/FabSim3/FabSim3/plugins/FabFlee/FabFlee.py\", line 1415, in <module>\n",
      "    from plugins.FabFlee.SA.flee_SA import flee_init_SA\n",
      "  File \"/home/csstdds/Codes/VECMA-tutorials/FabSim3/FabSim3/plugins/FabFlee/SA/flee_SA.py\", line 6, in <module>\n",
      "    import chaospy as cp\n",
      "  File \"/home/csstdds/Codes/VECMA-tutorials/FabSim3/FabSim3/plugins/FabFlee/FabFlee.py\", line 1429, in <module>\n",
      "    from plugins.FabFlee.VVP.flee_vvp import flee_init_vvp_LoR\n",
      "  File \"/home/csstdds/Codes/VECMA-tutorials/FabSim3/FabSim3/plugins/FabFlee/VVP/flee_vvp.py\", line 21, in <module>\n",
      "    import easyvvuq as uq\n"
     ]
    }
   ],
   "source": [
    "%%bash\n",
    "\n",
    "cd FabSim3\n",
    "\n",
    "fabsim localhost plot_output:mali_localhost_16,out"
   ]
  },
  {
   "cell_type": "markdown",
   "metadata": {},
   "source": [
    "To list generated plots, run the following command:"
   ]
  },
  {
   "cell_type": "code",
   "execution_count": 18,
   "metadata": {},
   "outputs": [
    {
     "name": "stdout",
     "output_type": "stream",
     "text": [
      "acled.csv\n",
      "env.log\n",
      "env.yml\n",
      "example_sweepdir\n",
      "input_csv\n",
      "mali_localhost_16.sh\n",
      "out\n",
      "out.csv\n",
      "run_par.py\n",
      "run.py\n",
      "run_UNHCR_uncertainty.py\n",
      "simsetting.csv\n",
      "source_data\n"
     ]
    }
   ],
   "source": [
    "%%bash\n",
    "\n",
    "cd FabSim3/results/mali_localhost_16\n",
    "ls"
   ]
  },
  {
   "cell_type": "markdown",
   "metadata": {},
   "source": [
    "To view generated plots, simply run:"
   ]
  },
  {
   "cell_type": "code",
   "execution_count": 19,
   "metadata": {},
   "outputs": [
    {
     "data": {
      "image/png": "[encoded data removed]",
      "text/plain": [
       "<IPython.core.display.Image object>"
      ]
     },
     "execution_count": 19,
     "metadata": {},
     "output_type": "execute_result"
    }
   ],
   "source": [
    "from IPython.display import Image \n",
    "Image('FabSim3/results/mali_localhost_16/out/camps/Abala.png')"
   ]
  },
  {
   "cell_type": "code",
   "execution_count": 20,
   "metadata": {},
   "outputs": [
    {
     "data": {
      "image/png": "[encoded data removed]",
      "text/plain": [
       "<IPython.core.display.Image object>"
      ]
     },
     "execution_count": 20,
     "metadata": {},
     "output_type": "execute_result"
    }
   ],
   "source": [
    "from IPython.display import Image \n",
    "Image('FabSim3/results/mali_localhost_16/out/errors/error.png')"
   ]
  },
  {
   "cell_type": "markdown",
   "metadata": {},
   "source": [
    "## Autovalidator\n",
    "\n",
    "There are several simulation instances including different conflict countries and simulation periods in `FabFlee/config_files`. These instances can be executed, analysed and validated using FabFlee (as shown in the previous steps). Importantly, multiple conflict scenarios can be also executed at once for validation purposes. To perform autovalidation on constructed conflict models, simply go to `FabFlee/config_files/validation/SWEEP` directory and list existing conflicts:"
   ]
  },
  {
   "cell_type": "code",
   "execution_count": 21,
   "metadata": {},
   "outputs": [
    {
     "name": "stdout",
     "output_type": "stream",
     "text": [
      "burundi2015\n",
      "car2013\n",
      "ethiopia2020\n",
      "mali2012\n",
      "nigeria2016\n",
      "ssudan2013\n",
      "ssudan2016\n",
      "syria2013\n"
     ]
    }
   ],
   "source": [
    "%%bash\n",
    "\n",
    "cd FabSim3/plugins/FabFlee/config_files/validation/SWEEP\n",
    "\n",
    "ls"
   ]
  },
  {
   "cell_type": "markdown",
   "metadata": {},
   "source": [
    "Each conflict scenario contains `input_csv` (input data), `source_data` (data for comparing simulation results and UNHCR historical data) and `run.py`/`run_par.py` execution scripts. "
   ]
  },
  {
   "cell_type": "code",
   "execution_count": 22,
   "metadata": {},
   "outputs": [
    {
     "name": "stdout",
     "output_type": "stream",
     "text": [
      "input_csv\n",
      "run_par.py\n",
      "run.py\n",
      "source_data\n"
     ]
    }
   ],
   "source": [
    "%%bash\n",
    "\n",
    "cd FabSim3/plugins/FabFlee/config_files/validation/SWEEP/burundi2015\n",
    "\n",
    "ls"
   ]
  },
  {
   "cell_type": "markdown",
   "metadata": {},
   "source": [
    "Since these simulation instances are sizeable to execute, we scale down the number of agents by factor of 100. Specifically, `simsetting.csv` file allows to perform this:"
   ]
  },
  {
   "cell_type": "code",
   "execution_count": 23,
   "metadata": {},
   "outputs": [
    {
     "name": "stdout",
     "output_type": "stream",
     "text": [
      "PopulationScaledownFactor,100\n"
     ]
    }
   ],
   "source": [
    "%%bash\n",
    "\n",
    "cat FabSim3/plugins/FabFlee/config_files/validation/simsetting.csv"
   ]
  },
  {
   "cell_type": "markdown",
   "metadata": {},
   "source": [
    "To execute these conflict scenarios at once, simply run the `validate_flee` function as follows"
   ]
  },
  {
   "cell_type": "code",
   "execution_count": null,
   "metadata": {},
   "outputs": [],
   "source": [
    "%%bash\n",
    "\n",
    "cd FabSim3\n",
    "\n",
    "fabsim localhost validate_flee"
   ]
  },
  {
   "cell_type": "markdown",
   "metadata": {},
   "source": [
    "After simulations are completed, validation values of these conflict instances are calculated and printed in the output. Alternatively, the command below can be executed after completion of simulations to observe the validation outputs for each conflict instance."
   ]
  },
  {
   "cell_type": "code",
   "execution_count": null,
   "metadata": {},
   "outputs": [],
   "source": [
    "%%bash\n",
    "\n",
    "cd FabSim3\n",
    "\n",
    "fabsim localhost validate_flee_output:validation_localhost_4"
   ]
  }
 ],
 "metadata": {
  "kernelspec": {
   "display_name": "Python 3 (ipykernel)",
   "language": "python",
   "name": "python3"
  },
  "language_info": {
   "codemirror_mode": {
    "name": "ipython",
    "version": 3
   },
   "file_extension": ".py",
   "mimetype": "text/x-python",
   "name": "python",
   "nbconvert_exporter": "python",
   "pygments_lexer": "ipython3",
   "version": "3.8.0"
  }
 },
 "nbformat": 4,
 "nbformat_minor": 4
}
